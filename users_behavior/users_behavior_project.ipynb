{
  "cells": [
    {
      "cell_type": "markdown",
      "metadata": {
        "id": "o8J5pvUOulnZ"
      },
      "source": [
        "## Введение\n",
        "\n",
        "Стартапу, продающему продукты питания, нужно разобраться в поведении пользователей мобильного приложения.\n",
        "\n",
        "Для этого сначала построим воронку продаж и узнаем, как пользователи доходят до покупки, на каких шагах у них могут происходить затруднения.\n",
        "\n",
        "Далее с помощью А/А/В-теста проверим, повлияло ли на пользователей изменения шрифтов в приложении. В тесте участвуют 2 контрольные группы и одна экспериментальная. Чтобы убедиться в точности проведенного теста сравним между собой контрольные группы - их результаты должны быть одинаковы, в таком случае результаты теста признаются корректными. После чего будем попарно сравнивать контрольные и экспериментальную группы.\n",
        "\n",
        "Для анализа у нас имеются данные с логами пользователей. \n",
        "\n",
        "**Исследование пройдет в несколько этапов:**\n",
        "* предобработка данных (приведение типов данных, проверка на пропуски и дубликаты)\n",
        "* исследовательский анализ (проверка данных на полноту и корректность)\n",
        "* построение и анализ воронки событий\n",
        "* анализ результатов А/А/В-теста с помощью статистических критериев"
      ]
    },
    {
      "cell_type": "markdown",
      "metadata": {
        "id": "zxTtqMH2ulnb"
      },
      "source": [
        "## Предобработка данных"
      ]
    },
    {
      "cell_type": "code",
      "source": [
        "pip install -U kaleido"
      ],
      "metadata": {
        "colab": {
          "base_uri": "https://localhost:8080/"
        },
        "id": "PQ3nyg44LNvE",
        "outputId": "b2042917-f6a6-4892-d162-0d608f15dba7"
      },
      "execution_count": 66,
      "outputs": [
        {
          "output_type": "stream",
          "name": "stdout",
          "text": [
            "Looking in indexes: https://pypi.org/simple, https://us-python.pkg.dev/colab-wheels/public/simple/\n",
            "Requirement already satisfied: kaleido in /usr/local/lib/python3.9/dist-packages (0.2.1)\n"
          ]
        }
      ]
    },
    {
      "cell_type": "code",
      "execution_count": 67,
      "metadata": {
        "id": "rm-N00bAulnb"
      },
      "outputs": [],
      "source": [
        "import pandas as pd\n",
        "import matplotlib.pyplot as plt\n",
        "from datetime import datetime, timedelta\n",
        "from scipy import stats as st\n",
        "import numpy as np\n",
        "import math as mth\n",
        "import plotly.express as px\n",
        "import warnings\n",
        "warnings.filterwarnings('ignore')"
      ]
    },
    {
      "cell_type": "code",
      "execution_count": 68,
      "metadata": {
        "colab": {
          "base_uri": "https://localhost:8080/",
          "height": 363
        },
        "id": "PM8S9TuRulnc",
        "outputId": "77fc8a26-eeea-43e2-f4cc-a605d0948b1e"
      },
      "outputs": [
        {
          "output_type": "execute_result",
          "data": {
            "text/plain": [
              "                 EventName         DeviceIDHash  EventTimestamp  ExpId\n",
              "0         MainScreenAppear  4575588528974610257      1564029816    246\n",
              "1         MainScreenAppear  7416695313311560658      1564053102    246\n",
              "2  PaymentScreenSuccessful  3518123091307005509      1564054127    248\n",
              "3         CartScreenAppear  3518123091307005509      1564054127    248\n",
              "4  PaymentScreenSuccessful  6217807653094995999      1564055322    248\n",
              "5         CartScreenAppear  6217807653094995999      1564055323    248\n",
              "6       OffersScreenAppear  8351860793733343758      1564066242    246\n",
              "7         MainScreenAppear  5682100281902512875      1564085677    246\n",
              "8         MainScreenAppear  1850981295691852772      1564086702    247\n",
              "9         MainScreenAppear  5407636962369102641      1564112112    246"
            ],
            "text/html": [
              "\n",
              "  <div id=\"df-a629d2af-efb2-482e-bf6f-ecef9279b0c4\">\n",
              "    <div class=\"colab-df-container\">\n",
              "      <div>\n",
              "<style scoped>\n",
              "    .dataframe tbody tr th:only-of-type {\n",
              "        vertical-align: middle;\n",
              "    }\n",
              "\n",
              "    .dataframe tbody tr th {\n",
              "        vertical-align: top;\n",
              "    }\n",
              "\n",
              "    .dataframe thead th {\n",
              "        text-align: right;\n",
              "    }\n",
              "</style>\n",
              "<table border=\"1\" class=\"dataframe\">\n",
              "  <thead>\n",
              "    <tr style=\"text-align: right;\">\n",
              "      <th></th>\n",
              "      <th>EventName</th>\n",
              "      <th>DeviceIDHash</th>\n",
              "      <th>EventTimestamp</th>\n",
              "      <th>ExpId</th>\n",
              "    </tr>\n",
              "  </thead>\n",
              "  <tbody>\n",
              "    <tr>\n",
              "      <th>0</th>\n",
              "      <td>MainScreenAppear</td>\n",
              "      <td>4575588528974610257</td>\n",
              "      <td>1564029816</td>\n",
              "      <td>246</td>\n",
              "    </tr>\n",
              "    <tr>\n",
              "      <th>1</th>\n",
              "      <td>MainScreenAppear</td>\n",
              "      <td>7416695313311560658</td>\n",
              "      <td>1564053102</td>\n",
              "      <td>246</td>\n",
              "    </tr>\n",
              "    <tr>\n",
              "      <th>2</th>\n",
              "      <td>PaymentScreenSuccessful</td>\n",
              "      <td>3518123091307005509</td>\n",
              "      <td>1564054127</td>\n",
              "      <td>248</td>\n",
              "    </tr>\n",
              "    <tr>\n",
              "      <th>3</th>\n",
              "      <td>CartScreenAppear</td>\n",
              "      <td>3518123091307005509</td>\n",
              "      <td>1564054127</td>\n",
              "      <td>248</td>\n",
              "    </tr>\n",
              "    <tr>\n",
              "      <th>4</th>\n",
              "      <td>PaymentScreenSuccessful</td>\n",
              "      <td>6217807653094995999</td>\n",
              "      <td>1564055322</td>\n",
              "      <td>248</td>\n",
              "    </tr>\n",
              "    <tr>\n",
              "      <th>5</th>\n",
              "      <td>CartScreenAppear</td>\n",
              "      <td>6217807653094995999</td>\n",
              "      <td>1564055323</td>\n",
              "      <td>248</td>\n",
              "    </tr>\n",
              "    <tr>\n",
              "      <th>6</th>\n",
              "      <td>OffersScreenAppear</td>\n",
              "      <td>8351860793733343758</td>\n",
              "      <td>1564066242</td>\n",
              "      <td>246</td>\n",
              "    </tr>\n",
              "    <tr>\n",
              "      <th>7</th>\n",
              "      <td>MainScreenAppear</td>\n",
              "      <td>5682100281902512875</td>\n",
              "      <td>1564085677</td>\n",
              "      <td>246</td>\n",
              "    </tr>\n",
              "    <tr>\n",
              "      <th>8</th>\n",
              "      <td>MainScreenAppear</td>\n",
              "      <td>1850981295691852772</td>\n",
              "      <td>1564086702</td>\n",
              "      <td>247</td>\n",
              "    </tr>\n",
              "    <tr>\n",
              "      <th>9</th>\n",
              "      <td>MainScreenAppear</td>\n",
              "      <td>5407636962369102641</td>\n",
              "      <td>1564112112</td>\n",
              "      <td>246</td>\n",
              "    </tr>\n",
              "  </tbody>\n",
              "</table>\n",
              "</div>\n",
              "      <button class=\"colab-df-convert\" onclick=\"convertToInteractive('df-a629d2af-efb2-482e-bf6f-ecef9279b0c4')\"\n",
              "              title=\"Convert this dataframe to an interactive table.\"\n",
              "              style=\"display:none;\">\n",
              "        \n",
              "  <svg xmlns=\"http://www.w3.org/2000/svg\" height=\"24px\"viewBox=\"0 0 24 24\"\n",
              "       width=\"24px\">\n",
              "    <path d=\"M0 0h24v24H0V0z\" fill=\"none\"/>\n",
              "    <path d=\"M18.56 5.44l.94 2.06.94-2.06 2.06-.94-2.06-.94-.94-2.06-.94 2.06-2.06.94zm-11 1L8.5 8.5l.94-2.06 2.06-.94-2.06-.94L8.5 2.5l-.94 2.06-2.06.94zm10 10l.94 2.06.94-2.06 2.06-.94-2.06-.94-.94-2.06-.94 2.06-2.06.94z\"/><path d=\"M17.41 7.96l-1.37-1.37c-.4-.4-.92-.59-1.43-.59-.52 0-1.04.2-1.43.59L10.3 9.45l-7.72 7.72c-.78.78-.78 2.05 0 2.83L4 21.41c.39.39.9.59 1.41.59.51 0 1.02-.2 1.41-.59l7.78-7.78 2.81-2.81c.8-.78.8-2.07 0-2.86zM5.41 20L4 18.59l7.72-7.72 1.47 1.35L5.41 20z\"/>\n",
              "  </svg>\n",
              "      </button>\n",
              "      \n",
              "  <style>\n",
              "    .colab-df-container {\n",
              "      display:flex;\n",
              "      flex-wrap:wrap;\n",
              "      gap: 12px;\n",
              "    }\n",
              "\n",
              "    .colab-df-convert {\n",
              "      background-color: #E8F0FE;\n",
              "      border: none;\n",
              "      border-radius: 50%;\n",
              "      cursor: pointer;\n",
              "      display: none;\n",
              "      fill: #1967D2;\n",
              "      height: 32px;\n",
              "      padding: 0 0 0 0;\n",
              "      width: 32px;\n",
              "    }\n",
              "\n",
              "    .colab-df-convert:hover {\n",
              "      background-color: #E2EBFA;\n",
              "      box-shadow: 0px 1px 2px rgba(60, 64, 67, 0.3), 0px 1px 3px 1px rgba(60, 64, 67, 0.15);\n",
              "      fill: #174EA6;\n",
              "    }\n",
              "\n",
              "    [theme=dark] .colab-df-convert {\n",
              "      background-color: #3B4455;\n",
              "      fill: #D2E3FC;\n",
              "    }\n",
              "\n",
              "    [theme=dark] .colab-df-convert:hover {\n",
              "      background-color: #434B5C;\n",
              "      box-shadow: 0px 1px 3px 1px rgba(0, 0, 0, 0.15);\n",
              "      filter: drop-shadow(0px 1px 2px rgba(0, 0, 0, 0.3));\n",
              "      fill: #FFFFFF;\n",
              "    }\n",
              "  </style>\n",
              "\n",
              "      <script>\n",
              "        const buttonEl =\n",
              "          document.querySelector('#df-a629d2af-efb2-482e-bf6f-ecef9279b0c4 button.colab-df-convert');\n",
              "        buttonEl.style.display =\n",
              "          google.colab.kernel.accessAllowed ? 'block' : 'none';\n",
              "\n",
              "        async function convertToInteractive(key) {\n",
              "          const element = document.querySelector('#df-a629d2af-efb2-482e-bf6f-ecef9279b0c4');\n",
              "          const dataTable =\n",
              "            await google.colab.kernel.invokeFunction('convertToInteractive',\n",
              "                                                     [key], {});\n",
              "          if (!dataTable) return;\n",
              "\n",
              "          const docLinkHtml = 'Like what you see? Visit the ' +\n",
              "            '<a target=\"_blank\" href=https://colab.research.google.com/notebooks/data_table.ipynb>data table notebook</a>'\n",
              "            + ' to learn more about interactive tables.';\n",
              "          element.innerHTML = '';\n",
              "          dataTable['output_type'] = 'display_data';\n",
              "          await google.colab.output.renderOutput(dataTable, element);\n",
              "          const docLink = document.createElement('div');\n",
              "          docLink.innerHTML = docLinkHtml;\n",
              "          element.appendChild(docLink);\n",
              "        }\n",
              "      </script>\n",
              "    </div>\n",
              "  </div>\n",
              "  "
            ]
          },
          "metadata": {},
          "execution_count": 68
        }
      ],
      "source": [
        "data = pd.read_csv('https://code.s3.yandex.net/datasets/logs_exp.csv', sep='\\t')\n",
        "data.head(10)"
      ]
    },
    {
      "cell_type": "code",
      "execution_count": 69,
      "metadata": {
        "colab": {
          "base_uri": "https://localhost:8080/"
        },
        "id": "o-CUk513ulnd",
        "outputId": "4af7b6ba-13ec-4a1c-cb17-af4eb1785041"
      },
      "outputs": [
        {
          "output_type": "stream",
          "name": "stdout",
          "text": [
            "<class 'pandas.core.frame.DataFrame'>\n",
            "RangeIndex: 244126 entries, 0 to 244125\n",
            "Data columns (total 4 columns):\n",
            " #   Column          Non-Null Count   Dtype \n",
            "---  ------          --------------   ----- \n",
            " 0   EventName       244126 non-null  object\n",
            " 1   DeviceIDHash    244126 non-null  int64 \n",
            " 2   EventTimestamp  244126 non-null  int64 \n",
            " 3   ExpId           244126 non-null  int64 \n",
            "dtypes: int64(3), object(1)\n",
            "memory usage: 7.5+ MB\n"
          ]
        }
      ],
      "source": [
        "data.info()"
      ]
    },
    {
      "cell_type": "code",
      "execution_count": 70,
      "metadata": {
        "id": "UzVNYs0qulne"
      },
      "outputs": [],
      "source": [
        "# Переименуем колонки.\n",
        "data.columns = ['event_name', 'user_id', 'timestamp', 'group']"
      ]
    },
    {
      "cell_type": "code",
      "execution_count": 71,
      "metadata": {
        "colab": {
          "base_uri": "https://localhost:8080/"
        },
        "id": "oV4h-67Wulne",
        "outputId": "b48b6e62-349a-4a94-f0bf-fe600a102cbd"
      },
      "outputs": [
        {
          "output_type": "execute_result",
          "data": {
            "text/plain": [
              "event_name    0\n",
              "user_id       0\n",
              "timestamp     0\n",
              "group         0\n",
              "dtype: int64"
            ]
          },
          "metadata": {},
          "execution_count": 71
        }
      ],
      "source": [
        "# Проверим на пропуски.\n",
        "data.isna().sum()"
      ]
    },
    {
      "cell_type": "code",
      "execution_count": 72,
      "metadata": {
        "colab": {
          "base_uri": "https://localhost:8080/"
        },
        "id": "VeU96juTulnf",
        "outputId": "d762a221-d2d7-4f51-d176-f7e4e207eeb6"
      },
      "outputs": [
        {
          "output_type": "execute_result",
          "data": {
            "text/plain": [
              "413"
            ]
          },
          "metadata": {},
          "execution_count": 72
        }
      ],
      "source": [
        "# Проверим на дубликаты.\n",
        "data.duplicated().sum()"
      ]
    },
    {
      "cell_type": "code",
      "execution_count": 73,
      "metadata": {
        "id": "ItJZSH3-ulng"
      },
      "outputs": [],
      "source": [
        "# Удалим дубликаты\n",
        "data = data.drop_duplicates()"
      ]
    },
    {
      "cell_type": "code",
      "execution_count": 74,
      "metadata": {
        "id": "dPR849yGulng"
      },
      "outputs": [],
      "source": [
        "# Добавим столбец даты и времени, а также отдельный столбец с датой.\n",
        "data['event_dt'] = pd.to_datetime(data['timestamp'], unit='s')\n",
        "data['event_date'] = data['event_dt'].dt.date"
      ]
    },
    {
      "cell_type": "code",
      "execution_count": 75,
      "metadata": {
        "colab": {
          "base_uri": "https://localhost:8080/",
          "height": 363
        },
        "id": "IRG5RS3Iulng",
        "outputId": "57f059de-f914-4618-ee59-1011e3b60972"
      },
      "outputs": [
        {
          "output_type": "execute_result",
          "data": {
            "text/plain": [
              "                     event_name              user_id   timestamp  group  \\\n",
              "70638          CartScreenAppear   538346255722523869  1564772718    246   \n",
              "97709   PaymentScreenSuccessful  7715390689016577607  1564845831    248   \n",
              "83097          MainScreenAppear  8640044487307646984  1564823820    246   \n",
              "126764         MainScreenAppear   663948373672770349  1564926662    247   \n",
              "66402          CartScreenAppear  1056436874470887468  1564764492    247   \n",
              "11531          MainScreenAppear  5438224639833325893  1564650559    248   \n",
              "217411         MainScreenAppear  1582082792444414628  1565159627    248   \n",
              "32614   PaymentScreenSuccessful  7947548393357958796  1564681967    248   \n",
              "158806         CartScreenAppear  2956202147249516728  1565010920    248   \n",
              "121723       OffersScreenAppear  7716166848354963661  1564918872    246   \n",
              "\n",
              "                  event_dt  event_date  \n",
              "70638  2019-08-02 19:05:18  2019-08-02  \n",
              "97709  2019-08-03 15:23:51  2019-08-03  \n",
              "83097  2019-08-03 09:17:00  2019-08-03  \n",
              "126764 2019-08-04 13:51:02  2019-08-04  \n",
              "66402  2019-08-02 16:48:12  2019-08-02  \n",
              "11531  2019-08-01 09:09:19  2019-08-01  \n",
              "217411 2019-08-07 06:33:47  2019-08-07  \n",
              "32614  2019-08-01 17:52:47  2019-08-01  \n",
              "158806 2019-08-05 13:15:20  2019-08-05  \n",
              "121723 2019-08-04 11:41:12  2019-08-04  "
            ],
            "text/html": [
              "\n",
              "  <div id=\"df-f04c973a-4162-4806-bee5-a86c4c2543a0\">\n",
              "    <div class=\"colab-df-container\">\n",
              "      <div>\n",
              "<style scoped>\n",
              "    .dataframe tbody tr th:only-of-type {\n",
              "        vertical-align: middle;\n",
              "    }\n",
              "\n",
              "    .dataframe tbody tr th {\n",
              "        vertical-align: top;\n",
              "    }\n",
              "\n",
              "    .dataframe thead th {\n",
              "        text-align: right;\n",
              "    }\n",
              "</style>\n",
              "<table border=\"1\" class=\"dataframe\">\n",
              "  <thead>\n",
              "    <tr style=\"text-align: right;\">\n",
              "      <th></th>\n",
              "      <th>event_name</th>\n",
              "      <th>user_id</th>\n",
              "      <th>timestamp</th>\n",
              "      <th>group</th>\n",
              "      <th>event_dt</th>\n",
              "      <th>event_date</th>\n",
              "    </tr>\n",
              "  </thead>\n",
              "  <tbody>\n",
              "    <tr>\n",
              "      <th>70638</th>\n",
              "      <td>CartScreenAppear</td>\n",
              "      <td>538346255722523869</td>\n",
              "      <td>1564772718</td>\n",
              "      <td>246</td>\n",
              "      <td>2019-08-02 19:05:18</td>\n",
              "      <td>2019-08-02</td>\n",
              "    </tr>\n",
              "    <tr>\n",
              "      <th>97709</th>\n",
              "      <td>PaymentScreenSuccessful</td>\n",
              "      <td>7715390689016577607</td>\n",
              "      <td>1564845831</td>\n",
              "      <td>248</td>\n",
              "      <td>2019-08-03 15:23:51</td>\n",
              "      <td>2019-08-03</td>\n",
              "    </tr>\n",
              "    <tr>\n",
              "      <th>83097</th>\n",
              "      <td>MainScreenAppear</td>\n",
              "      <td>8640044487307646984</td>\n",
              "      <td>1564823820</td>\n",
              "      <td>246</td>\n",
              "      <td>2019-08-03 09:17:00</td>\n",
              "      <td>2019-08-03</td>\n",
              "    </tr>\n",
              "    <tr>\n",
              "      <th>126764</th>\n",
              "      <td>MainScreenAppear</td>\n",
              "      <td>663948373672770349</td>\n",
              "      <td>1564926662</td>\n",
              "      <td>247</td>\n",
              "      <td>2019-08-04 13:51:02</td>\n",
              "      <td>2019-08-04</td>\n",
              "    </tr>\n",
              "    <tr>\n",
              "      <th>66402</th>\n",
              "      <td>CartScreenAppear</td>\n",
              "      <td>1056436874470887468</td>\n",
              "      <td>1564764492</td>\n",
              "      <td>247</td>\n",
              "      <td>2019-08-02 16:48:12</td>\n",
              "      <td>2019-08-02</td>\n",
              "    </tr>\n",
              "    <tr>\n",
              "      <th>11531</th>\n",
              "      <td>MainScreenAppear</td>\n",
              "      <td>5438224639833325893</td>\n",
              "      <td>1564650559</td>\n",
              "      <td>248</td>\n",
              "      <td>2019-08-01 09:09:19</td>\n",
              "      <td>2019-08-01</td>\n",
              "    </tr>\n",
              "    <tr>\n",
              "      <th>217411</th>\n",
              "      <td>MainScreenAppear</td>\n",
              "      <td>1582082792444414628</td>\n",
              "      <td>1565159627</td>\n",
              "      <td>248</td>\n",
              "      <td>2019-08-07 06:33:47</td>\n",
              "      <td>2019-08-07</td>\n",
              "    </tr>\n",
              "    <tr>\n",
              "      <th>32614</th>\n",
              "      <td>PaymentScreenSuccessful</td>\n",
              "      <td>7947548393357958796</td>\n",
              "      <td>1564681967</td>\n",
              "      <td>248</td>\n",
              "      <td>2019-08-01 17:52:47</td>\n",
              "      <td>2019-08-01</td>\n",
              "    </tr>\n",
              "    <tr>\n",
              "      <th>158806</th>\n",
              "      <td>CartScreenAppear</td>\n",
              "      <td>2956202147249516728</td>\n",
              "      <td>1565010920</td>\n",
              "      <td>248</td>\n",
              "      <td>2019-08-05 13:15:20</td>\n",
              "      <td>2019-08-05</td>\n",
              "    </tr>\n",
              "    <tr>\n",
              "      <th>121723</th>\n",
              "      <td>OffersScreenAppear</td>\n",
              "      <td>7716166848354963661</td>\n",
              "      <td>1564918872</td>\n",
              "      <td>246</td>\n",
              "      <td>2019-08-04 11:41:12</td>\n",
              "      <td>2019-08-04</td>\n",
              "    </tr>\n",
              "  </tbody>\n",
              "</table>\n",
              "</div>\n",
              "      <button class=\"colab-df-convert\" onclick=\"convertToInteractive('df-f04c973a-4162-4806-bee5-a86c4c2543a0')\"\n",
              "              title=\"Convert this dataframe to an interactive table.\"\n",
              "              style=\"display:none;\">\n",
              "        \n",
              "  <svg xmlns=\"http://www.w3.org/2000/svg\" height=\"24px\"viewBox=\"0 0 24 24\"\n",
              "       width=\"24px\">\n",
              "    <path d=\"M0 0h24v24H0V0z\" fill=\"none\"/>\n",
              "    <path d=\"M18.56 5.44l.94 2.06.94-2.06 2.06-.94-2.06-.94-.94-2.06-.94 2.06-2.06.94zm-11 1L8.5 8.5l.94-2.06 2.06-.94-2.06-.94L8.5 2.5l-.94 2.06-2.06.94zm10 10l.94 2.06.94-2.06 2.06-.94-2.06-.94-.94-2.06-.94 2.06-2.06.94z\"/><path d=\"M17.41 7.96l-1.37-1.37c-.4-.4-.92-.59-1.43-.59-.52 0-1.04.2-1.43.59L10.3 9.45l-7.72 7.72c-.78.78-.78 2.05 0 2.83L4 21.41c.39.39.9.59 1.41.59.51 0 1.02-.2 1.41-.59l7.78-7.78 2.81-2.81c.8-.78.8-2.07 0-2.86zM5.41 20L4 18.59l7.72-7.72 1.47 1.35L5.41 20z\"/>\n",
              "  </svg>\n",
              "      </button>\n",
              "      \n",
              "  <style>\n",
              "    .colab-df-container {\n",
              "      display:flex;\n",
              "      flex-wrap:wrap;\n",
              "      gap: 12px;\n",
              "    }\n",
              "\n",
              "    .colab-df-convert {\n",
              "      background-color: #E8F0FE;\n",
              "      border: none;\n",
              "      border-radius: 50%;\n",
              "      cursor: pointer;\n",
              "      display: none;\n",
              "      fill: #1967D2;\n",
              "      height: 32px;\n",
              "      padding: 0 0 0 0;\n",
              "      width: 32px;\n",
              "    }\n",
              "\n",
              "    .colab-df-convert:hover {\n",
              "      background-color: #E2EBFA;\n",
              "      box-shadow: 0px 1px 2px rgba(60, 64, 67, 0.3), 0px 1px 3px 1px rgba(60, 64, 67, 0.15);\n",
              "      fill: #174EA6;\n",
              "    }\n",
              "\n",
              "    [theme=dark] .colab-df-convert {\n",
              "      background-color: #3B4455;\n",
              "      fill: #D2E3FC;\n",
              "    }\n",
              "\n",
              "    [theme=dark] .colab-df-convert:hover {\n",
              "      background-color: #434B5C;\n",
              "      box-shadow: 0px 1px 3px 1px rgba(0, 0, 0, 0.15);\n",
              "      filter: drop-shadow(0px 1px 2px rgba(0, 0, 0, 0.3));\n",
              "      fill: #FFFFFF;\n",
              "    }\n",
              "  </style>\n",
              "\n",
              "      <script>\n",
              "        const buttonEl =\n",
              "          document.querySelector('#df-f04c973a-4162-4806-bee5-a86c4c2543a0 button.colab-df-convert');\n",
              "        buttonEl.style.display =\n",
              "          google.colab.kernel.accessAllowed ? 'block' : 'none';\n",
              "\n",
              "        async function convertToInteractive(key) {\n",
              "          const element = document.querySelector('#df-f04c973a-4162-4806-bee5-a86c4c2543a0');\n",
              "          const dataTable =\n",
              "            await google.colab.kernel.invokeFunction('convertToInteractive',\n",
              "                                                     [key], {});\n",
              "          if (!dataTable) return;\n",
              "\n",
              "          const docLinkHtml = 'Like what you see? Visit the ' +\n",
              "            '<a target=\"_blank\" href=https://colab.research.google.com/notebooks/data_table.ipynb>data table notebook</a>'\n",
              "            + ' to learn more about interactive tables.';\n",
              "          element.innerHTML = '';\n",
              "          dataTable['output_type'] = 'display_data';\n",
              "          await google.colab.output.renderOutput(dataTable, element);\n",
              "          const docLink = document.createElement('div');\n",
              "          docLink.innerHTML = docLinkHtml;\n",
              "          element.appendChild(docLink);\n",
              "        }\n",
              "      </script>\n",
              "    </div>\n",
              "  </div>\n",
              "  "
            ]
          },
          "metadata": {},
          "execution_count": 75
        }
      ],
      "source": [
        "# Посмотрим, что получилось.\n",
        "data.sample(10)"
      ]
    },
    {
      "cell_type": "code",
      "execution_count": 76,
      "metadata": {
        "colab": {
          "base_uri": "https://localhost:8080/"
        },
        "id": "_3wBDOSNulnh",
        "outputId": "402ee923-cf20-43be-dae7-1c17e4f0aca0"
      },
      "outputs": [
        {
          "output_type": "stream",
          "name": "stdout",
          "text": [
            "<class 'pandas.core.frame.DataFrame'>\n",
            "Int64Index: 243713 entries, 0 to 244125\n",
            "Data columns (total 6 columns):\n",
            " #   Column      Non-Null Count   Dtype         \n",
            "---  ------      --------------   -----         \n",
            " 0   event_name  243713 non-null  object        \n",
            " 1   user_id     243713 non-null  int64         \n",
            " 2   timestamp   243713 non-null  int64         \n",
            " 3   group       243713 non-null  int64         \n",
            " 4   event_dt    243713 non-null  datetime64[ns]\n",
            " 5   event_date  243713 non-null  object        \n",
            "dtypes: datetime64[ns](1), int64(3), object(2)\n",
            "memory usage: 13.0+ MB\n"
          ]
        }
      ],
      "source": [
        "data.info()"
      ]
    },
    {
      "cell_type": "markdown",
      "metadata": {
        "id": "cQyD4ivsulnh"
      },
      "source": [
        "## Исследовательский анализ данных"
      ]
    },
    {
      "cell_type": "code",
      "execution_count": 77,
      "metadata": {
        "colab": {
          "base_uri": "https://localhost:8080/"
        },
        "id": "yWYynxBvulni",
        "outputId": "019f6de3-a639-4ad1-bb06-bf92cf8701c5"
      },
      "outputs": [
        {
          "output_type": "stream",
          "name": "stdout",
          "text": [
            "Всего событий в логе 243713\n"
          ]
        }
      ],
      "source": [
        "# Посмотрим, сколько всего событий. Одна строка соответствует одному событию.\n",
        "print(f'Всего событий в логе {len(data)}')"
      ]
    },
    {
      "cell_type": "code",
      "execution_count": 78,
      "metadata": {
        "colab": {
          "base_uri": "https://localhost:8080/"
        },
        "id": "HCPDCYj3ulni",
        "outputId": "2bd746ba-e9d7-4e83-c502-3006dd18af80"
      },
      "outputs": [
        {
          "output_type": "stream",
          "name": "stdout",
          "text": [
            "Всего событий в логе 7551\n"
          ]
        }
      ],
      "source": [
        "# Посмотрим количество уникальных пользователей\n",
        "print('Всего событий в логе', len(data['user_id'].unique()))\n",
        "\n",
        "# Почему-то не сработала f-строка, выдает ошибку 'unmatched ['"
      ]
    },
    {
      "cell_type": "code",
      "execution_count": 79,
      "metadata": {
        "colab": {
          "base_uri": "https://localhost:8080/"
        },
        "id": "G8_nmgTeulni",
        "outputId": "ed807095-6189-40e3-f71f-821b7a859117"
      },
      "outputs": [
        {
          "output_type": "stream",
          "name": "stdout",
          "text": [
            "В среднем событий на одного пользователя 32\n"
          ]
        }
      ],
      "source": [
        "# Посчитаем, сколько приходится событий в среднем на одного пользователя.\n",
        "print('В среднем событий на одного пользователя', round(len(data) / len(data['user_id'].unique())))"
      ]
    },
    {
      "cell_type": "code",
      "execution_count": 80,
      "metadata": {
        "colab": {
          "base_uri": "https://localhost:8080/"
        },
        "id": "_SNYjfbCulnj",
        "outputId": "1566f6b6-03b7-49e4-c008-066ec87f9b27"
      },
      "outputs": [
        {
          "output_type": "stream",
          "name": "stdout",
          "text": [
            "Минимальная дата: 2019-07-25\n",
            "Максимальная дата: 2019-08-07\n"
          ]
        }
      ],
      "source": [
        "# Определим минимальную и максимальную даты.\n",
        "print('Минимальная дата:', data['event_date'].min())\n",
        "print('Максимальная дата:', data['event_date'].max())"
      ]
    },
    {
      "cell_type": "code",
      "execution_count": 81,
      "metadata": {
        "colab": {
          "base_uri": "https://localhost:8080/",
          "height": 334
        },
        "id": "G0lCJXYsulnj",
        "outputId": "47612d41-cd78-4654-e1e8-0bb36ee08402"
      },
      "outputs": [
        {
          "output_type": "display_data",
          "data": {
            "text/plain": [
              "<Figure size 432x288 with 1 Axes>"
            ],
            "image/png": "[encoded data removed]"
          },
          "metadata": {
            "needs_background": "light"
          }
        }
      ],
      "source": [
        "# Посмотрим, как данные распределены по времени.\n",
        "data['event_date'].hist(bins=14)\n",
        "plt.xticks(rotation=45)\n",
        "plt.title('Гистограмма распределения событий по датам')\n",
        "plt.xlabel('Дата')\n",
        "plt.ylabel('Количество событий')\n",
        "plt.show()"
      ]
    },
    {
      "cell_type": "markdown",
      "metadata": {
        "id": "LbwtBAzmulnk"
      },
      "source": [
        "На гистограмме распределения видно, что абсолютное большинство данных приходится на период с 1 августа по 7 августа 2019 года. Оставим для анализа только данные этого периода."
      ]
    },
    {
      "cell_type": "code",
      "execution_count": 82,
      "metadata": {
        "colab": {
          "base_uri": "https://localhost:8080/",
          "height": 520
        },
        "id": "zqKJeZxBulnk",
        "outputId": "cc2ed5e0-fe3c-4a87-dd82-57d437583708"
      },
      "outputs": [
        {
          "output_type": "execute_result",
          "data": {
            "text/plain": [
              "            event_name\n",
              "event_date            \n",
              "2019-07-25           9\n",
              "2019-07-26          31\n",
              "2019-07-27          55\n",
              "2019-07-28         105\n",
              "2019-07-29         184\n",
              "2019-07-30         412\n",
              "2019-07-31        2030\n",
              "2019-08-01       36141\n",
              "2019-08-02       35554\n",
              "2019-08-03       33282\n",
              "2019-08-04       32968\n",
              "2019-08-05       36058\n",
              "2019-08-06       35788\n",
              "2019-08-07       31096"
            ],
            "text/html": [
              "\n",
              "  <div id=\"df-dd51a707-fb80-4a8b-9dc4-9ec5adfcc1c5\">\n",
              "    <div class=\"colab-df-container\">\n",
              "      <div>\n",
              "<style scoped>\n",
              "    .dataframe tbody tr th:only-of-type {\n",
              "        vertical-align: middle;\n",
              "    }\n",
              "\n",
              "    .dataframe tbody tr th {\n",
              "        vertical-align: top;\n",
              "    }\n",
              "\n",
              "    .dataframe thead th {\n",
              "        text-align: right;\n",
              "    }\n",
              "</style>\n",
              "<table border=\"1\" class=\"dataframe\">\n",
              "  <thead>\n",
              "    <tr style=\"text-align: right;\">\n",
              "      <th></th>\n",
              "      <th>event_name</th>\n",
              "    </tr>\n",
              "    <tr>\n",
              "      <th>event_date</th>\n",
              "      <th></th>\n",
              "    </tr>\n",
              "  </thead>\n",
              "  <tbody>\n",
              "    <tr>\n",
              "      <th>2019-07-25</th>\n",
              "      <td>9</td>\n",
              "    </tr>\n",
              "    <tr>\n",
              "      <th>2019-07-26</th>\n",
              "      <td>31</td>\n",
              "    </tr>\n",
              "    <tr>\n",
              "      <th>2019-07-27</th>\n",
              "      <td>55</td>\n",
              "    </tr>\n",
              "    <tr>\n",
              "      <th>2019-07-28</th>\n",
              "      <td>105</td>\n",
              "    </tr>\n",
              "    <tr>\n",
              "      <th>2019-07-29</th>\n",
              "      <td>184</td>\n",
              "    </tr>\n",
              "    <tr>\n",
              "      <th>2019-07-30</th>\n",
              "      <td>412</td>\n",
              "    </tr>\n",
              "    <tr>\n",
              "      <th>2019-07-31</th>\n",
              "      <td>2030</td>\n",
              "    </tr>\n",
              "    <tr>\n",
              "      <th>2019-08-01</th>\n",
              "      <td>36141</td>\n",
              "    </tr>\n",
              "    <tr>\n",
              "      <th>2019-08-02</th>\n",
              "      <td>35554</td>\n",
              "    </tr>\n",
              "    <tr>\n",
              "      <th>2019-08-03</th>\n",
              "      <td>33282</td>\n",
              "    </tr>\n",
              "    <tr>\n",
              "      <th>2019-08-04</th>\n",
              "      <td>32968</td>\n",
              "    </tr>\n",
              "    <tr>\n",
              "      <th>2019-08-05</th>\n",
              "      <td>36058</td>\n",
              "    </tr>\n",
              "    <tr>\n",
              "      <th>2019-08-06</th>\n",
              "      <td>35788</td>\n",
              "    </tr>\n",
              "    <tr>\n",
              "      <th>2019-08-07</th>\n",
              "      <td>31096</td>\n",
              "    </tr>\n",
              "  </tbody>\n",
              "</table>\n",
              "</div>\n",
              "      <button class=\"colab-df-convert\" onclick=\"convertToInteractive('df-dd51a707-fb80-4a8b-9dc4-9ec5adfcc1c5')\"\n",
              "              title=\"Convert this dataframe to an interactive table.\"\n",
              "              style=\"display:none;\">\n",
              "        \n",
              "  <svg xmlns=\"http://www.w3.org/2000/svg\" height=\"24px\"viewBox=\"0 0 24 24\"\n",
              "       width=\"24px\">\n",
              "    <path d=\"M0 0h24v24H0V0z\" fill=\"none\"/>\n",
              "    <path d=\"M18.56 5.44l.94 2.06.94-2.06 2.06-.94-2.06-.94-.94-2.06-.94 2.06-2.06.94zm-11 1L8.5 8.5l.94-2.06 2.06-.94-2.06-.94L8.5 2.5l-.94 2.06-2.06.94zm10 10l.94 2.06.94-2.06 2.06-.94-2.06-.94-.94-2.06-.94 2.06-2.06.94z\"/><path d=\"M17.41 7.96l-1.37-1.37c-.4-.4-.92-.59-1.43-.59-.52 0-1.04.2-1.43.59L10.3 9.45l-7.72 7.72c-.78.78-.78 2.05 0 2.83L4 21.41c.39.39.9.59 1.41.59.51 0 1.02-.2 1.41-.59l7.78-7.78 2.81-2.81c.8-.78.8-2.07 0-2.86zM5.41 20L4 18.59l7.72-7.72 1.47 1.35L5.41 20z\"/>\n",
              "  </svg>\n",
              "      </button>\n",
              "      \n",
              "  <style>\n",
              "    .colab-df-container {\n",
              "      display:flex;\n",
              "      flex-wrap:wrap;\n",
              "      gap: 12px;\n",
              "    }\n",
              "\n",
              "    .colab-df-convert {\n",
              "      background-color: #E8F0FE;\n",
              "      border: none;\n",
              "      border-radius: 50%;\n",
              "      cursor: pointer;\n",
              "      display: none;\n",
              "      fill: #1967D2;\n",
              "      height: 32px;\n",
              "      padding: 0 0 0 0;\n",
              "      width: 32px;\n",
              "    }\n",
              "\n",
              "    .colab-df-convert:hover {\n",
              "      background-color: #E2EBFA;\n",
              "      box-shadow: 0px 1px 2px rgba(60, 64, 67, 0.3), 0px 1px 3px 1px rgba(60, 64, 67, 0.15);\n",
              "      fill: #174EA6;\n",
              "    }\n",
              "\n",
              "    [theme=dark] .colab-df-convert {\n",
              "      background-color: #3B4455;\n",
              "      fill: #D2E3FC;\n",
              "    }\n",
              "\n",
              "    [theme=dark] .colab-df-convert:hover {\n",
              "      background-color: #434B5C;\n",
              "      box-shadow: 0px 1px 3px 1px rgba(0, 0, 0, 0.15);\n",
              "      filter: drop-shadow(0px 1px 2px rgba(0, 0, 0, 0.3));\n",
              "      fill: #FFFFFF;\n",
              "    }\n",
              "  </style>\n",
              "\n",
              "      <script>\n",
              "        const buttonEl =\n",
              "          document.querySelector('#df-dd51a707-fb80-4a8b-9dc4-9ec5adfcc1c5 button.colab-df-convert');\n",
              "        buttonEl.style.display =\n",
              "          google.colab.kernel.accessAllowed ? 'block' : 'none';\n",
              "\n",
              "        async function convertToInteractive(key) {\n",
              "          const element = document.querySelector('#df-dd51a707-fb80-4a8b-9dc4-9ec5adfcc1c5');\n",
              "          const dataTable =\n",
              "            await google.colab.kernel.invokeFunction('convertToInteractive',\n",
              "                                                     [key], {});\n",
              "          if (!dataTable) return;\n",
              "\n",
              "          const docLinkHtml = 'Like what you see? Visit the ' +\n",
              "            '<a target=\"_blank\" href=https://colab.research.google.com/notebooks/data_table.ipynb>data table notebook</a>'\n",
              "            + ' to learn more about interactive tables.';\n",
              "          element.innerHTML = '';\n",
              "          dataTable['output_type'] = 'display_data';\n",
              "          await google.colab.output.renderOutput(dataTable, element);\n",
              "          const docLink = document.createElement('div');\n",
              "          docLink.innerHTML = docLinkHtml;\n",
              "          element.appendChild(docLink);\n",
              "        }\n",
              "      </script>\n",
              "    </div>\n",
              "  </div>\n",
              "  "
            ]
          },
          "metadata": {},
          "execution_count": 82
        }
      ],
      "source": [
        "# Убедимся еще раз.\n",
        "data.groupby('event_date').agg({'event_name':'count'}).sort_values(by='event_date')"
      ]
    },
    {
      "cell_type": "code",
      "execution_count": 83,
      "metadata": {
        "id": "0FAQBJ0Fulnk"
      },
      "outputs": [],
      "source": [
        "# Оставим для анализа только даты с 1 по 7 августа 2019 года.\n",
        "data_new = data[data['event_date'] > datetime(2019, 7, 31).date()]"
      ]
    },
    {
      "cell_type": "code",
      "execution_count": 84,
      "metadata": {
        "colab": {
          "base_uri": "https://localhost:8080/"
        },
        "id": "OvUCW1S0ulnk",
        "outputId": "9409e7e8-41f0-46ea-953c-cf21babaea1e"
      },
      "outputs": [
        {
          "output_type": "execute_result",
          "data": {
            "text/plain": [
              "0.012"
            ]
          },
          "metadata": {},
          "execution_count": 84
        }
      ],
      "source": [
        "# Посмотрим, какое количество событий мы потеряли. Одна строка в датафрейме соответствует одному событию.\n",
        "round(1 - len(data_new)/len(data), 3)"
      ]
    },
    {
      "cell_type": "code",
      "execution_count": 85,
      "metadata": {
        "colab": {
          "base_uri": "https://localhost:8080/"
        },
        "id": "f_XxbgbJulnl",
        "outputId": "bf715baf-18d7-4916-fe62-3e464ac2a593"
      },
      "outputs": [
        {
          "output_type": "execute_result",
          "data": {
            "text/plain": [
              "0.002"
            ]
          },
          "metadata": {},
          "execution_count": 85
        }
      ],
      "source": [
        "# Посмотрим, какое количество уникальных пользователей мы потеряли.\n",
        "round(1 - len(data_new['user_id'].unique()) / len(data['user_id'].unique()), 3)\n"
      ]
    },
    {
      "cell_type": "markdown",
      "metadata": {
        "id": "ezaY1xnFulnl"
      },
      "source": [
        "Мы отбросили всего лишь 1,2% всех данных, это допустимое количество. Что касается уникальных пользователей, то их количество осталось пратически без изменений - отброшено 0,2%."
      ]
    },
    {
      "cell_type": "code",
      "execution_count": 86,
      "metadata": {
        "colab": {
          "base_uri": "https://localhost:8080/",
          "height": 333
        },
        "id": "kzmf7QnNulnl",
        "outputId": "6f46a537-d1b9-4830-d172-b16accd168f2"
      },
      "outputs": [
        {
          "output_type": "display_data",
          "data": {
            "text/plain": [
              "<Figure size 432x288 with 1 Axes>"
            ],
            "image/png": "[encoded data removed]"
          },
          "metadata": {
            "needs_background": "light"
          }
        }
      ],
      "source": [
        "# Посмотрим на новое распределение.\n",
        "data_new['event_date'].hist(bins=7)\n",
        "plt.xticks(rotation=45)\n",
        "plt.title('Гистограмма распределения событий по датам')\n",
        "plt.xlabel('Дата')\n",
        "plt.ylabel('Количество событий')\n",
        "plt.show()"
      ]
    },
    {
      "cell_type": "code",
      "execution_count": 87,
      "metadata": {
        "colab": {
          "base_uri": "https://localhost:8080/"
        },
        "id": "_aNTv5Doulnm",
        "outputId": "c72acd98-8e49-49ff-c600-5f4907c58928"
      },
      "outputs": [
        {
          "output_type": "execute_result",
          "data": {
            "text/plain": [
              "array([246, 247, 248])"
            ]
          },
          "metadata": {},
          "execution_count": 87
        }
      ],
      "source": [
        "# Проверим, что в новых данных присутствуют пользователи из всех трех групп.\n",
        "data_new['group'].unique()"
      ]
    },
    {
      "cell_type": "markdown",
      "metadata": {
        "id": "NMuACmmOulnm"
      },
      "source": [
        "Все в порядке, данные распределены равномерно, пользователи из всех групп присутствуют в новых данных. Переходим к анализу."
      ]
    },
    {
      "cell_type": "markdown",
      "metadata": {
        "id": "6vxTyCclulnm"
      },
      "source": [
        "## Изучение воронки событий"
      ]
    },
    {
      "cell_type": "code",
      "execution_count": 88,
      "metadata": {
        "colab": {
          "base_uri": "https://localhost:8080/",
          "height": 206
        },
        "id": "ZpANr7Vrulnm",
        "outputId": "a19dd9bb-2e35-4799-e3bc-a478569fba73"
      },
      "outputs": [
        {
          "output_type": "execute_result",
          "data": {
            "text/plain": [
              "                event_name  event_count  user_count  user_percentage\n",
              "0         MainScreenAppear       117328        7419             98.5\n",
              "1       OffersScreenAppear        46333        4593             61.0\n",
              "2         CartScreenAppear        42303        3734             49.6\n",
              "3  PaymentScreenSuccessful        33918        3539             47.0\n",
              "4                 Tutorial         1005         840             11.1"
            ],
            "text/html": [
              "\n",
              "  <div id=\"df-564ab4dd-102d-4382-b33c-b070a36e8eec\">\n",
              "    <div class=\"colab-df-container\">\n",
              "      <div>\n",
              "<style scoped>\n",
              "    .dataframe tbody tr th:only-of-type {\n",
              "        vertical-align: middle;\n",
              "    }\n",
              "\n",
              "    .dataframe tbody tr th {\n",
              "        vertical-align: top;\n",
              "    }\n",
              "\n",
              "    .dataframe thead th {\n",
              "        text-align: right;\n",
              "    }\n",
              "</style>\n",
              "<table border=\"1\" class=\"dataframe\">\n",
              "  <thead>\n",
              "    <tr style=\"text-align: right;\">\n",
              "      <th></th>\n",
              "      <th>event_name</th>\n",
              "      <th>event_count</th>\n",
              "      <th>user_count</th>\n",
              "      <th>user_percentage</th>\n",
              "    </tr>\n",
              "  </thead>\n",
              "  <tbody>\n",
              "    <tr>\n",
              "      <th>0</th>\n",
              "      <td>MainScreenAppear</td>\n",
              "      <td>117328</td>\n",
              "      <td>7419</td>\n",
              "      <td>98.5</td>\n",
              "    </tr>\n",
              "    <tr>\n",
              "      <th>1</th>\n",
              "      <td>OffersScreenAppear</td>\n",
              "      <td>46333</td>\n",
              "      <td>4593</td>\n",
              "      <td>61.0</td>\n",
              "    </tr>\n",
              "    <tr>\n",
              "      <th>2</th>\n",
              "      <td>CartScreenAppear</td>\n",
              "      <td>42303</td>\n",
              "      <td>3734</td>\n",
              "      <td>49.6</td>\n",
              "    </tr>\n",
              "    <tr>\n",
              "      <th>3</th>\n",
              "      <td>PaymentScreenSuccessful</td>\n",
              "      <td>33918</td>\n",
              "      <td>3539</td>\n",
              "      <td>47.0</td>\n",
              "    </tr>\n",
              "    <tr>\n",
              "      <th>4</th>\n",
              "      <td>Tutorial</td>\n",
              "      <td>1005</td>\n",
              "      <td>840</td>\n",
              "      <td>11.1</td>\n",
              "    </tr>\n",
              "  </tbody>\n",
              "</table>\n",
              "</div>\n",
              "      <button class=\"colab-df-convert\" onclick=\"convertToInteractive('df-564ab4dd-102d-4382-b33c-b070a36e8eec')\"\n",
              "              title=\"Convert this dataframe to an interactive table.\"\n",
              "              style=\"display:none;\">\n",
              "        \n",
              "  <svg xmlns=\"http://www.w3.org/2000/svg\" height=\"24px\"viewBox=\"0 0 24 24\"\n",
              "       width=\"24px\">\n",
              "    <path d=\"M0 0h24v24H0V0z\" fill=\"none\"/>\n",
              "    <path d=\"M18.56 5.44l.94 2.06.94-2.06 2.06-.94-2.06-.94-.94-2.06-.94 2.06-2.06.94zm-11 1L8.5 8.5l.94-2.06 2.06-.94-2.06-.94L8.5 2.5l-.94 2.06-2.06.94zm10 10l.94 2.06.94-2.06 2.06-.94-2.06-.94-.94-2.06-.94 2.06-2.06.94z\"/><path d=\"M17.41 7.96l-1.37-1.37c-.4-.4-.92-.59-1.43-.59-.52 0-1.04.2-1.43.59L10.3 9.45l-7.72 7.72c-.78.78-.78 2.05 0 2.83L4 21.41c.39.39.9.59 1.41.59.51 0 1.02-.2 1.41-.59l7.78-7.78 2.81-2.81c.8-.78.8-2.07 0-2.86zM5.41 20L4 18.59l7.72-7.72 1.47 1.35L5.41 20z\"/>\n",
              "  </svg>\n",
              "      </button>\n",
              "      \n",
              "  <style>\n",
              "    .colab-df-container {\n",
              "      display:flex;\n",
              "      flex-wrap:wrap;\n",
              "      gap: 12px;\n",
              "    }\n",
              "\n",
              "    .colab-df-convert {\n",
              "      background-color: #E8F0FE;\n",
              "      border: none;\n",
              "      border-radius: 50%;\n",
              "      cursor: pointer;\n",
              "      display: none;\n",
              "      fill: #1967D2;\n",
              "      height: 32px;\n",
              "      padding: 0 0 0 0;\n",
              "      width: 32px;\n",
              "    }\n",
              "\n",
              "    .colab-df-convert:hover {\n",
              "      background-color: #E2EBFA;\n",
              "      box-shadow: 0px 1px 2px rgba(60, 64, 67, 0.3), 0px 1px 3px 1px rgba(60, 64, 67, 0.15);\n",
              "      fill: #174EA6;\n",
              "    }\n",
              "\n",
              "    [theme=dark] .colab-df-convert {\n",
              "      background-color: #3B4455;\n",
              "      fill: #D2E3FC;\n",
              "    }\n",
              "\n",
              "    [theme=dark] .colab-df-convert:hover {\n",
              "      background-color: #434B5C;\n",
              "      box-shadow: 0px 1px 3px 1px rgba(0, 0, 0, 0.15);\n",
              "      filter: drop-shadow(0px 1px 2px rgba(0, 0, 0, 0.3));\n",
              "      fill: #FFFFFF;\n",
              "    }\n",
              "  </style>\n",
              "\n",
              "      <script>\n",
              "        const buttonEl =\n",
              "          document.querySelector('#df-564ab4dd-102d-4382-b33c-b070a36e8eec button.colab-df-convert');\n",
              "        buttonEl.style.display =\n",
              "          google.colab.kernel.accessAllowed ? 'block' : 'none';\n",
              "\n",
              "        async function convertToInteractive(key) {\n",
              "          const element = document.querySelector('#df-564ab4dd-102d-4382-b33c-b070a36e8eec');\n",
              "          const dataTable =\n",
              "            await google.colab.kernel.invokeFunction('convertToInteractive',\n",
              "                                                     [key], {});\n",
              "          if (!dataTable) return;\n",
              "\n",
              "          const docLinkHtml = 'Like what you see? Visit the ' +\n",
              "            '<a target=\"_blank\" href=https://colab.research.google.com/notebooks/data_table.ipynb>data table notebook</a>'\n",
              "            + ' to learn more about interactive tables.';\n",
              "          element.innerHTML = '';\n",
              "          dataTable['output_type'] = 'display_data';\n",
              "          await google.colab.output.renderOutput(dataTable, element);\n",
              "          const docLink = document.createElement('div');\n",
              "          docLink.innerHTML = docLinkHtml;\n",
              "          element.appendChild(docLink);\n",
              "        }\n",
              "      </script>\n",
              "    </div>\n",
              "  </div>\n",
              "  "
            ]
          },
          "metadata": {},
          "execution_count": 88
        }
      ],
      "source": [
        "# Сгруппируем данные по событию и посмотрим, как часто случаются события, какое количество пользователей совершают данное\n",
        "# событие и какова их доля от общего количества пользователей.\n",
        "funnel = (data_new.groupby('event_name')\n",
        "          .agg({'event_name':'count', 'user_id':'nunique'})\n",
        "          .rename(columns={'event_name':'event_count', 'user_id':'user_count'})\n",
        "          \n",
        "          .sort_values(by='user_count', ascending=False)\n",
        "         .reset_index())\n",
        "funnel['user_percentage'] = round(funnel['user_count'] / len(data_new['user_id'].unique()) * 100, 1)\n",
        "funnel"
      ]
    },
    {
      "cell_type": "markdown",
      "metadata": {
        "id": "wRRNIh0dulnn"
      },
      "source": [
        "Предположим последовательность событий:\n",
        "* обучение (Tutorial)\n",
        "* просмотр главного экрана (MainScreenAppear)\n",
        "* просмотр экрана с товаром (OffersScreenAppear)\n",
        "* просмотр корзины (CartScreenAppear)\n",
        "* просмотр экрана с успешной оплатой (PaymentScreenSuccessful)\n",
        "\n",
        "Заметим, что обучение проходят всего 11% пользователей, остальные пропускают этот шаг. \n",
        "\n",
        "До успешной оплаты доходят только 17,6% пользователей.\n",
        "\n",
        "Т.к. шаг Tutorial выбивается из воронки, не будем его учитывать."
      ]
    },
    {
      "cell_type": "code",
      "execution_count": 89,
      "metadata": {
        "id": "UlW6JJTnulnn"
      },
      "outputs": [],
      "source": [
        "funnel = funnel.query('event_name != \"Tutorial\"')\n"
      ]
    },
    {
      "cell_type": "code",
      "execution_count": 90,
      "metadata": {
        "id": "piWY9Hhrulnn"
      },
      "outputs": [],
      "source": [
        "# Посчитаем конверсию из одного шага в другой и общую конверсию\n",
        "next_step_conversion =[]\n",
        "conversion = []\n",
        "for i in range(len(funnel['user_count'])):\n",
        "    if i == 0:\n",
        "        next_step_conversion.append(round(funnel['user_count'][i] / funnel['user_count'][i] * 100, 1))\n",
        "    else:\n",
        "        next_step_conversion.append(round(funnel['user_count'][i] / funnel['user_count'][i - 1] * 100, 1))\n",
        "    conversion.append(round(funnel['user_count'][i] / funnel['user_count'][0] * 100, 1))"
      ]
    },
    {
      "cell_type": "code",
      "execution_count": 91,
      "metadata": {
        "colab": {
          "base_uri": "https://localhost:8080/",
          "height": 175
        },
        "id": "UVzwNcXsulnn",
        "outputId": "77d9baa7-48dc-4e6a-a1ca-7c560f2e7cfd"
      },
      "outputs": [
        {
          "output_type": "execute_result",
          "data": {
            "text/plain": [
              "                event_name  event_count  user_count  user_percentage  \\\n",
              "0         MainScreenAppear       117328        7419             98.5   \n",
              "1       OffersScreenAppear        46333        4593             61.0   \n",
              "2         CartScreenAppear        42303        3734             49.6   \n",
              "3  PaymentScreenSuccessful        33918        3539             47.0   \n",
              "\n",
              "   next_step_conversion  conversion  \n",
              "0                 100.0       100.0  \n",
              "1                  61.9        61.9  \n",
              "2                  81.3        50.3  \n",
              "3                  94.8        47.7  "
            ],
            "text/html": [
              "\n",
              "  <div id=\"df-5807828f-49f5-4ded-b082-e0a4949a984a\">\n",
              "    <div class=\"colab-df-container\">\n",
              "      <div>\n",
              "<style scoped>\n",
              "    .dataframe tbody tr th:only-of-type {\n",
              "        vertical-align: middle;\n",
              "    }\n",
              "\n",
              "    .dataframe tbody tr th {\n",
              "        vertical-align: top;\n",
              "    }\n",
              "\n",
              "    .dataframe thead th {\n",
              "        text-align: right;\n",
              "    }\n",
              "</style>\n",
              "<table border=\"1\" class=\"dataframe\">\n",
              "  <thead>\n",
              "    <tr style=\"text-align: right;\">\n",
              "      <th></th>\n",
              "      <th>event_name</th>\n",
              "      <th>event_count</th>\n",
              "      <th>user_count</th>\n",
              "      <th>user_percentage</th>\n",
              "      <th>next_step_conversion</th>\n",
              "      <th>conversion</th>\n",
              "    </tr>\n",
              "  </thead>\n",
              "  <tbody>\n",
              "    <tr>\n",
              "      <th>0</th>\n",
              "      <td>MainScreenAppear</td>\n",
              "      <td>117328</td>\n",
              "      <td>7419</td>\n",
              "      <td>98.5</td>\n",
              "      <td>100.0</td>\n",
              "      <td>100.0</td>\n",
              "    </tr>\n",
              "    <tr>\n",
              "      <th>1</th>\n",
              "      <td>OffersScreenAppear</td>\n",
              "      <td>46333</td>\n",
              "      <td>4593</td>\n",
              "      <td>61.0</td>\n",
              "      <td>61.9</td>\n",
              "      <td>61.9</td>\n",
              "    </tr>\n",
              "    <tr>\n",
              "      <th>2</th>\n",
              "      <td>CartScreenAppear</td>\n",
              "      <td>42303</td>\n",
              "      <td>3734</td>\n",
              "      <td>49.6</td>\n",
              "      <td>81.3</td>\n",
              "      <td>50.3</td>\n",
              "    </tr>\n",
              "    <tr>\n",
              "      <th>3</th>\n",
              "      <td>PaymentScreenSuccessful</td>\n",
              "      <td>33918</td>\n",
              "      <td>3539</td>\n",
              "      <td>47.0</td>\n",
              "      <td>94.8</td>\n",
              "      <td>47.7</td>\n",
              "    </tr>\n",
              "  </tbody>\n",
              "</table>\n",
              "</div>\n",
              "      <button class=\"colab-df-convert\" onclick=\"convertToInteractive('df-5807828f-49f5-4ded-b082-e0a4949a984a')\"\n",
              "              title=\"Convert this dataframe to an interactive table.\"\n",
              "              style=\"display:none;\">\n",
              "        \n",
              "  <svg xmlns=\"http://www.w3.org/2000/svg\" height=\"24px\"viewBox=\"0 0 24 24\"\n",
              "       width=\"24px\">\n",
              "    <path d=\"M0 0h24v24H0V0z\" fill=\"none\"/>\n",
              "    <path d=\"M18.56 5.44l.94 2.06.94-2.06 2.06-.94-2.06-.94-.94-2.06-.94 2.06-2.06.94zm-11 1L8.5 8.5l.94-2.06 2.06-.94-2.06-.94L8.5 2.5l-.94 2.06-2.06.94zm10 10l.94 2.06.94-2.06 2.06-.94-2.06-.94-.94-2.06-.94 2.06-2.06.94z\"/><path d=\"M17.41 7.96l-1.37-1.37c-.4-.4-.92-.59-1.43-.59-.52 0-1.04.2-1.43.59L10.3 9.45l-7.72 7.72c-.78.78-.78 2.05 0 2.83L4 21.41c.39.39.9.59 1.41.59.51 0 1.02-.2 1.41-.59l7.78-7.78 2.81-2.81c.8-.78.8-2.07 0-2.86zM5.41 20L4 18.59l7.72-7.72 1.47 1.35L5.41 20z\"/>\n",
              "  </svg>\n",
              "      </button>\n",
              "      \n",
              "  <style>\n",
              "    .colab-df-container {\n",
              "      display:flex;\n",
              "      flex-wrap:wrap;\n",
              "      gap: 12px;\n",
              "    }\n",
              "\n",
              "    .colab-df-convert {\n",
              "      background-color: #E8F0FE;\n",
              "      border: none;\n",
              "      border-radius: 50%;\n",
              "      cursor: pointer;\n",
              "      display: none;\n",
              "      fill: #1967D2;\n",
              "      height: 32px;\n",
              "      padding: 0 0 0 0;\n",
              "      width: 32px;\n",
              "    }\n",
              "\n",
              "    .colab-df-convert:hover {\n",
              "      background-color: #E2EBFA;\n",
              "      box-shadow: 0px 1px 2px rgba(60, 64, 67, 0.3), 0px 1px 3px 1px rgba(60, 64, 67, 0.15);\n",
              "      fill: #174EA6;\n",
              "    }\n",
              "\n",
              "    [theme=dark] .colab-df-convert {\n",
              "      background-color: #3B4455;\n",
              "      fill: #D2E3FC;\n",
              "    }\n",
              "\n",
              "    [theme=dark] .colab-df-convert:hover {\n",
              "      background-color: #434B5C;\n",
              "      box-shadow: 0px 1px 3px 1px rgba(0, 0, 0, 0.15);\n",
              "      filter: drop-shadow(0px 1px 2px rgba(0, 0, 0, 0.3));\n",
              "      fill: #FFFFFF;\n",
              "    }\n",
              "  </style>\n",
              "\n",
              "      <script>\n",
              "        const buttonEl =\n",
              "          document.querySelector('#df-5807828f-49f5-4ded-b082-e0a4949a984a button.colab-df-convert');\n",
              "        buttonEl.style.display =\n",
              "          google.colab.kernel.accessAllowed ? 'block' : 'none';\n",
              "\n",
              "        async function convertToInteractive(key) {\n",
              "          const element = document.querySelector('#df-5807828f-49f5-4ded-b082-e0a4949a984a');\n",
              "          const dataTable =\n",
              "            await google.colab.kernel.invokeFunction('convertToInteractive',\n",
              "                                                     [key], {});\n",
              "          if (!dataTable) return;\n",
              "\n",
              "          const docLinkHtml = 'Like what you see? Visit the ' +\n",
              "            '<a target=\"_blank\" href=https://colab.research.google.com/notebooks/data_table.ipynb>data table notebook</a>'\n",
              "            + ' to learn more about interactive tables.';\n",
              "          element.innerHTML = '';\n",
              "          dataTable['output_type'] = 'display_data';\n",
              "          await google.colab.output.renderOutput(dataTable, element);\n",
              "          const docLink = document.createElement('div');\n",
              "          docLink.innerHTML = docLinkHtml;\n",
              "          element.appendChild(docLink);\n",
              "        }\n",
              "      </script>\n",
              "    </div>\n",
              "  </div>\n",
              "  "
            ]
          },
          "metadata": {},
          "execution_count": 91
        }
      ],
      "source": [
        "# Добавим столбцы с конверсиями в таблицу\n",
        "funnel['next_step_conversion'] = next_step_conversion\n",
        "funnel['conversion'] = conversion\n",
        "funnel"
      ]
    },
    {
      "cell_type": "markdown",
      "metadata": {
        "id": "j2fhxa8sulno"
      },
      "source": [
        "Больше всего пользователей теряется на при переходе с главного экрана на экран товара.\n",
        "\n",
        "От первого события до оплаты доходят 47,7% пользователей."
      ]
    },
    {
      "cell_type": "code",
      "execution_count": 92,
      "metadata": {
        "colab": {
          "base_uri": "https://localhost:8080/",
          "height": 521
        },
        "id": "l2NOOAg3ulno",
        "outputId": "c9ca3b71-8886-4171-95b6-b1856d01c693"
      },
      "outputs": [
        {
          "output_type": "display_data",
          "data": {
            "image/svg+xml": "<svg class=\"main-svg\" xmlns=\"http://www.w3.org/2000/svg\" xmlns:xlink=\"http://www.w3.org/1999/xlink\" width=\"700\" height=\"500\" style=\"\" viewBox=\"0 0 700 500\"><rect x=\"0\" y=\"0\" width=\"700\" height=\"500\" style=\"fill: rgb(255, 255, 255); fill-opacity: 1;\"/><defs id=\"defs-07da43\"><g class=\"clips\"><clipPath id=\"clip07da43xyplot\" class=\"plotclip\"><rect width=\"439\" height=\"360\"/></clipPath><clipPath class=\"axesclip\" id=\"clip07da43x\"><rect x=\"181\" y=\"0\" width=\"439\" height=\"500\"/></clipPath><clipPath class=\"axesclip\" id=\"clip07da43y\"><rect x=\"0\" y=\"60\" width=\"700\" height=\"360\"/></clipPath><clipPath class=\"axesclip\" id=\"clip07da43xy\"><rect x=\"181\" y=\"60\" width=\"439\" height=\"360\"/></clipPath></g><g class=\"gradients\"/><g class=\"patterns\"/></defs><g class=\"bglayer\"><rect class=\"bg\" x=\"181\" y=\"60\" width=\"439\" height=\"360\" style=\"fill: rgb(229, 236, 246); fill-opacity: 1; stroke-width: 0;\"/></g><g class=\"layer-below\"><g class=\"imagelayer\"/><g class=\"shapelayer\"/></g><g class=\"cartesianlayer\"><g class=\"subplot xy\"><g class=\"layer-subplot\"><g class=\"shapelayer\"/><g class=\"imagelayer\"/></g><g class=\"minor-gridlayer\"><g class=\"x\"/><g class=\"y\"/></g><g class=\"gridlayer\"><g class=\"x\"/><g class=\"y\"/></g><g class=\"zerolinelayer\"/><path class=\"xlines-below\"/><path class=\"ylines-below\"/><g class=\"overlines-below\"/><g class=\"xaxislayer-below\"/><g class=\"yaxislayer-below\"/><g class=\"overaxes-below\"/><g class=\"plot\" transform=\"translate(181,60)\" clip-path=\"url(#clip07da43xyplot)\"><g class=\"funnellayer mlayer\"><g class=\"trace bars\" style=\"opacity: 1;\"><g class=\"regions\"><g class=\"region\"><path d=\"M21.95,81L97.22,99H341.78L417.05,81Z\" style=\"stroke-width: 0; fill: rgb(99, 110, 250); fill-opacity: 0.5;\"/></g><g class=\"region\"><path d=\"M97.22,171L120.13,189H318.87L341.78,171Z\" style=\"stroke-width: 0; fill: rgb(99, 110, 250); fill-opacity: 0.5;\"/></g><g class=\"region\"><path d=\"M120.13,261L125.27,279H313.73L318.87,261Z\" style=\"stroke-width: 0; fill: rgb(99, 110, 250); fill-opacity: 0.5;\"/></g><g class=\"region\"><path d=\"M0,0Z\" style=\"stroke-width: 0; fill: rgb(99, 110, 250); fill-opacity: 0.5;\"/></g></g><g class=\"points\"><g class=\"point\"><path d=\"M21.95,9V81H417.05V9Z\" style=\"vector-effect: none; fill: rgb(99, 110, 250); fill-opacity: 1; stroke: rgb(68, 68, 68); stroke-opacity: 1; stroke-width: 0px; opacity: 1;\"/><text class=\"bartext bartext-inside\" text-anchor=\"middle\" data-notex=\"1\" x=\"0\" y=\"0\" style=\"font-family: 'Open Sans', verdana, arial, sans-serif; font-size: 12px; fill: rgb(255, 255, 255); fill-opacity: 1; white-space: pre;\" transform=\"translate(219.3359375,49)\">100</text></g><g class=\"point\"><path d=\"M97.22,99V171H341.78V99Z\" style=\"vector-effect: none; fill: rgb(99, 110, 250); fill-opacity: 1; stroke: rgb(68, 68, 68); stroke-opacity: 1; stroke-width: 0px; opacity: 1;\"/><text class=\"bartext bartext-inside\" text-anchor=\"middle\" data-notex=\"1\" x=\"0\" y=\"0\" style=\"font-family: 'Open Sans', verdana, arial, sans-serif; font-size: 12px; fill: rgb(255, 255, 255); fill-opacity: 1; white-space: pre;\" transform=\"translate(219.3359375,139)\">61.9</text></g><g class=\"point\"><path d=\"M120.13,189V261H318.87V189Z\" style=\"vector-effect: none; fill: rgb(99, 110, 250); fill-opacity: 1; stroke: rgb(68, 68, 68); stroke-opacity: 1; stroke-width: 0px; opacity: 1;\"/><text class=\"bartext bartext-inside\" text-anchor=\"middle\" data-notex=\"1\" x=\"0\" y=\"0\" style=\"font-family: 'Open Sans', verdana, arial, sans-serif; font-size: 12px; fill: rgb(255, 255, 255); fill-opacity: 1; white-space: pre;\" transform=\"translate(219.3359375,229)\">50.3</text></g><g class=\"point\"><path d=\"M125.27,279V351H313.73V279Z\" style=\"vector-effect: none; fill: rgb(99, 110, 250); fill-opacity: 1; stroke: rgb(68, 68, 68); stroke-opacity: 1; stroke-width: 0px; opacity: 1;\"/><text class=\"bartext bartext-inside\" text-anchor=\"middle\" data-notex=\"1\" x=\"0\" y=\"0\" style=\"font-family: 'Open Sans', verdana, arial, sans-serif; font-size: 12px; fill: rgb(255, 255, 255); fill-opacity: 1; white-space: pre;\" transform=\"translate(219.3359375,319)\">47.7</text></g></g></g></g></g><g class=\"overplot\"/><path class=\"xlines-above crisp\" d=\"M0,0\" style=\"fill: none;\"/><path class=\"ylines-above crisp\" d=\"M0,0\" style=\"fill: none;\"/><g class=\"overlines-above\"/><g class=\"xaxislayer-above\"/><g class=\"yaxislayer-above\"><g class=\"ytick\"><text text-anchor=\"end\" x=\"180\" y=\"4.199999999999999\" transform=\"translate(0,375)\" style=\"font-family: 'Open Sans', verdana, arial, sans-serif; font-size: 12px; fill: rgb(42, 63, 95); fill-opacity: 1; white-space: pre; opacity: 1;\">PaymentScreenSuccessful</text></g><g class=\"ytick\"><text text-anchor=\"end\" x=\"180\" y=\"4.199999999999999\" transform=\"translate(0,285)\" style=\"font-family: 'Open Sans', verdana, arial, sans-serif; font-size: 12px; fill: rgb(42, 63, 95); fill-opacity: 1; white-space: pre; opacity: 1;\">CartScreenAppear</text></g><g class=\"ytick\"><text text-anchor=\"end\" x=\"180\" y=\"4.199999999999999\" transform=\"translate(0,195)\" style=\"font-family: 'Open Sans', verdana, arial, sans-serif; font-size: 12px; fill: rgb(42, 63, 95); fill-opacity: 1; white-space: pre; opacity: 1;\">OffersScreenAppear</text></g><g class=\"ytick\"><text text-anchor=\"end\" x=\"180\" y=\"4.199999999999999\" transform=\"translate(0,105)\" style=\"font-family: 'Open Sans', verdana, arial, sans-serif; font-size: 12px; fill: rgb(42, 63, 95); fill-opacity: 1; white-space: pre; opacity: 1;\">MainScreenAppear</text></g></g><g class=\"overaxes-above\"/></g></g><g class=\"polarlayer\"/><g class=\"smithlayer\"/><g class=\"ternarylayer\"/><g class=\"geolayer\"/><g class=\"funnelarealayer\"/><g class=\"pielayer\"/><g class=\"iciclelayer\"/><g class=\"treemaplayer\"/><g class=\"sunburstlayer\"/><g class=\"glimages\"/><defs id=\"topdefs-07da43\"><g class=\"clips\"/></defs><g class=\"layer-above\"><g class=\"imagelayer\"/><g class=\"shapelayer\"/></g><g class=\"infolayer\"><g class=\"g-gtitle\"/><g class=\"g-ytitle\" transform=\"translate(0.7060546875,0)\"><text class=\"ytitle\" transform=\"rotate(-90,12.293749999999989,240)\" x=\"12.293749999999989\" y=\"240\" text-anchor=\"middle\" style=\"font-family: 'Open Sans', verdana, arial, sans-serif; font-size: 14px; fill: rgb(42, 63, 95); opacity: 1; font-weight: normal; white-space: pre;\">event_name</text></g></g></svg>"
          },
          "metadata": {}
        }
      ],
      "source": [
        "fig = px.funnel(funnel, x='conversion', y='event_name')\n",
        "fig.show('svg')"
      ]
    },
    {
      "cell_type": "markdown",
      "metadata": {
        "id": "8vEtReE5ulnp"
      },
      "source": [
        "## Анализ А/А/В-теста"
      ]
    },
    {
      "cell_type": "code",
      "execution_count": 93,
      "metadata": {
        "id": "HqihCgoculnp"
      },
      "outputs": [],
      "source": [
        "# Также уберем событие Tutorial из данных.\n",
        "data_new = data_new.query('event_name != \"Tutorial\"')"
      ]
    },
    {
      "cell_type": "code",
      "execution_count": 94,
      "metadata": {
        "colab": {
          "base_uri": "https://localhost:8080/",
          "height": 175
        },
        "id": "mJ5VtPjxulnp",
        "outputId": "d27316f2-316b-4976-d5e9-55ab28c81524"
      },
      "outputs": [
        {
          "output_type": "execute_result",
          "data": {
            "text/plain": [
              "       user_id\n",
              "group         \n",
              "246       2483\n",
              "247       2512\n",
              "248       2535"
            ],
            "text/html": [
              "\n",
              "  <div id=\"df-3771fa8a-f5c7-42a3-9e6a-b9fd11a096c5\">\n",
              "    <div class=\"colab-df-container\">\n",
              "      <div>\n",
              "<style scoped>\n",
              "    .dataframe tbody tr th:only-of-type {\n",
              "        vertical-align: middle;\n",
              "    }\n",
              "\n",
              "    .dataframe tbody tr th {\n",
              "        vertical-align: top;\n",
              "    }\n",
              "\n",
              "    .dataframe thead th {\n",
              "        text-align: right;\n",
              "    }\n",
              "</style>\n",
              "<table border=\"1\" class=\"dataframe\">\n",
              "  <thead>\n",
              "    <tr style=\"text-align: right;\">\n",
              "      <th></th>\n",
              "      <th>user_id</th>\n",
              "    </tr>\n",
              "    <tr>\n",
              "      <th>group</th>\n",
              "      <th></th>\n",
              "    </tr>\n",
              "  </thead>\n",
              "  <tbody>\n",
              "    <tr>\n",
              "      <th>246</th>\n",
              "      <td>2483</td>\n",
              "    </tr>\n",
              "    <tr>\n",
              "      <th>247</th>\n",
              "      <td>2512</td>\n",
              "    </tr>\n",
              "    <tr>\n",
              "      <th>248</th>\n",
              "      <td>2535</td>\n",
              "    </tr>\n",
              "  </tbody>\n",
              "</table>\n",
              "</div>\n",
              "      <button class=\"colab-df-convert\" onclick=\"convertToInteractive('df-3771fa8a-f5c7-42a3-9e6a-b9fd11a096c5')\"\n",
              "              title=\"Convert this dataframe to an interactive table.\"\n",
              "              style=\"display:none;\">\n",
              "        \n",
              "  <svg xmlns=\"http://www.w3.org/2000/svg\" height=\"24px\"viewBox=\"0 0 24 24\"\n",
              "       width=\"24px\">\n",
              "    <path d=\"M0 0h24v24H0V0z\" fill=\"none\"/>\n",
              "    <path d=\"M18.56 5.44l.94 2.06.94-2.06 2.06-.94-2.06-.94-.94-2.06-.94 2.06-2.06.94zm-11 1L8.5 8.5l.94-2.06 2.06-.94-2.06-.94L8.5 2.5l-.94 2.06-2.06.94zm10 10l.94 2.06.94-2.06 2.06-.94-2.06-.94-.94-2.06-.94 2.06-2.06.94z\"/><path d=\"M17.41 7.96l-1.37-1.37c-.4-.4-.92-.59-1.43-.59-.52 0-1.04.2-1.43.59L10.3 9.45l-7.72 7.72c-.78.78-.78 2.05 0 2.83L4 21.41c.39.39.9.59 1.41.59.51 0 1.02-.2 1.41-.59l7.78-7.78 2.81-2.81c.8-.78.8-2.07 0-2.86zM5.41 20L4 18.59l7.72-7.72 1.47 1.35L5.41 20z\"/>\n",
              "  </svg>\n",
              "      </button>\n",
              "      \n",
              "  <style>\n",
              "    .colab-df-container {\n",
              "      display:flex;\n",
              "      flex-wrap:wrap;\n",
              "      gap: 12px;\n",
              "    }\n",
              "\n",
              "    .colab-df-convert {\n",
              "      background-color: #E8F0FE;\n",
              "      border: none;\n",
              "      border-radius: 50%;\n",
              "      cursor: pointer;\n",
              "      display: none;\n",
              "      fill: #1967D2;\n",
              "      height: 32px;\n",
              "      padding: 0 0 0 0;\n",
              "      width: 32px;\n",
              "    }\n",
              "\n",
              "    .colab-df-convert:hover {\n",
              "      background-color: #E2EBFA;\n",
              "      box-shadow: 0px 1px 2px rgba(60, 64, 67, 0.3), 0px 1px 3px 1px rgba(60, 64, 67, 0.15);\n",
              "      fill: #174EA6;\n",
              "    }\n",
              "\n",
              "    [theme=dark] .colab-df-convert {\n",
              "      background-color: #3B4455;\n",
              "      fill: #D2E3FC;\n",
              "    }\n",
              "\n",
              "    [theme=dark] .colab-df-convert:hover {\n",
              "      background-color: #434B5C;\n",
              "      box-shadow: 0px 1px 3px 1px rgba(0, 0, 0, 0.15);\n",
              "      filter: drop-shadow(0px 1px 2px rgba(0, 0, 0, 0.3));\n",
              "      fill: #FFFFFF;\n",
              "    }\n",
              "  </style>\n",
              "\n",
              "      <script>\n",
              "        const buttonEl =\n",
              "          document.querySelector('#df-3771fa8a-f5c7-42a3-9e6a-b9fd11a096c5 button.colab-df-convert');\n",
              "        buttonEl.style.display =\n",
              "          google.colab.kernel.accessAllowed ? 'block' : 'none';\n",
              "\n",
              "        async function convertToInteractive(key) {\n",
              "          const element = document.querySelector('#df-3771fa8a-f5c7-42a3-9e6a-b9fd11a096c5');\n",
              "          const dataTable =\n",
              "            await google.colab.kernel.invokeFunction('convertToInteractive',\n",
              "                                                     [key], {});\n",
              "          if (!dataTable) return;\n",
              "\n",
              "          const docLinkHtml = 'Like what you see? Visit the ' +\n",
              "            '<a target=\"_blank\" href=https://colab.research.google.com/notebooks/data_table.ipynb>data table notebook</a>'\n",
              "            + ' to learn more about interactive tables.';\n",
              "          element.innerHTML = '';\n",
              "          dataTable['output_type'] = 'display_data';\n",
              "          await google.colab.output.renderOutput(dataTable, element);\n",
              "          const docLink = document.createElement('div');\n",
              "          docLink.innerHTML = docLinkHtml;\n",
              "          element.appendChild(docLink);\n",
              "        }\n",
              "      </script>\n",
              "    </div>\n",
              "  </div>\n",
              "  "
            ]
          },
          "metadata": {},
          "execution_count": 94
        }
      ],
      "source": [
        "# Посмотрим, как распределены пользователи по группам.\n",
        "data_new.groupby('group').agg({'user_id':'nunique'})"
      ]
    },
    {
      "cell_type": "code",
      "execution_count": 95,
      "metadata": {
        "colab": {
          "base_uri": "https://localhost:8080/",
          "height": 175
        },
        "id": "ELodPrwSulnp",
        "outputId": "f8d4d878-0dca-4661-c661-d9717c8a8a5e"
      },
      "outputs": [
        {
          "output_type": "execute_result",
          "data": {
            "text/plain": [
              "group               event_name   246   247   248\n",
              "0             MainScreenAppear  2450  2476  2493\n",
              "1           OffersScreenAppear  1542  1520  1531\n",
              "2             CartScreenAppear  1266  1238  1230\n",
              "3      PaymentScreenSuccessful  1200  1158  1181"
            ],
            "text/html": [
              "\n",
              "  <div id=\"df-df2b9750-d534-4fc9-a8d8-6f8cfdeab8f6\">\n",
              "    <div class=\"colab-df-container\">\n",
              "      <div>\n",
              "<style scoped>\n",
              "    .dataframe tbody tr th:only-of-type {\n",
              "        vertical-align: middle;\n",
              "    }\n",
              "\n",
              "    .dataframe tbody tr th {\n",
              "        vertical-align: top;\n",
              "    }\n",
              "\n",
              "    .dataframe thead th {\n",
              "        text-align: right;\n",
              "    }\n",
              "</style>\n",
              "<table border=\"1\" class=\"dataframe\">\n",
              "  <thead>\n",
              "    <tr style=\"text-align: right;\">\n",
              "      <th>group</th>\n",
              "      <th>event_name</th>\n",
              "      <th>246</th>\n",
              "      <th>247</th>\n",
              "      <th>248</th>\n",
              "    </tr>\n",
              "  </thead>\n",
              "  <tbody>\n",
              "    <tr>\n",
              "      <th>0</th>\n",
              "      <td>MainScreenAppear</td>\n",
              "      <td>2450</td>\n",
              "      <td>2476</td>\n",
              "      <td>2493</td>\n",
              "    </tr>\n",
              "    <tr>\n",
              "      <th>1</th>\n",
              "      <td>OffersScreenAppear</td>\n",
              "      <td>1542</td>\n",
              "      <td>1520</td>\n",
              "      <td>1531</td>\n",
              "    </tr>\n",
              "    <tr>\n",
              "      <th>2</th>\n",
              "      <td>CartScreenAppear</td>\n",
              "      <td>1266</td>\n",
              "      <td>1238</td>\n",
              "      <td>1230</td>\n",
              "    </tr>\n",
              "    <tr>\n",
              "      <th>3</th>\n",
              "      <td>PaymentScreenSuccessful</td>\n",
              "      <td>1200</td>\n",
              "      <td>1158</td>\n",
              "      <td>1181</td>\n",
              "    </tr>\n",
              "  </tbody>\n",
              "</table>\n",
              "</div>\n",
              "      <button class=\"colab-df-convert\" onclick=\"convertToInteractive('df-df2b9750-d534-4fc9-a8d8-6f8cfdeab8f6')\"\n",
              "              title=\"Convert this dataframe to an interactive table.\"\n",
              "              style=\"display:none;\">\n",
              "        \n",
              "  <svg xmlns=\"http://www.w3.org/2000/svg\" height=\"24px\"viewBox=\"0 0 24 24\"\n",
              "       width=\"24px\">\n",
              "    <path d=\"M0 0h24v24H0V0z\" fill=\"none\"/>\n",
              "    <path d=\"M18.56 5.44l.94 2.06.94-2.06 2.06-.94-2.06-.94-.94-2.06-.94 2.06-2.06.94zm-11 1L8.5 8.5l.94-2.06 2.06-.94-2.06-.94L8.5 2.5l-.94 2.06-2.06.94zm10 10l.94 2.06.94-2.06 2.06-.94-2.06-.94-.94-2.06-.94 2.06-2.06.94z\"/><path d=\"M17.41 7.96l-1.37-1.37c-.4-.4-.92-.59-1.43-.59-.52 0-1.04.2-1.43.59L10.3 9.45l-7.72 7.72c-.78.78-.78 2.05 0 2.83L4 21.41c.39.39.9.59 1.41.59.51 0 1.02-.2 1.41-.59l7.78-7.78 2.81-2.81c.8-.78.8-2.07 0-2.86zM5.41 20L4 18.59l7.72-7.72 1.47 1.35L5.41 20z\"/>\n",
              "  </svg>\n",
              "      </button>\n",
              "      \n",
              "  <style>\n",
              "    .colab-df-container {\n",
              "      display:flex;\n",
              "      flex-wrap:wrap;\n",
              "      gap: 12px;\n",
              "    }\n",
              "\n",
              "    .colab-df-convert {\n",
              "      background-color: #E8F0FE;\n",
              "      border: none;\n",
              "      border-radius: 50%;\n",
              "      cursor: pointer;\n",
              "      display: none;\n",
              "      fill: #1967D2;\n",
              "      height: 32px;\n",
              "      padding: 0 0 0 0;\n",
              "      width: 32px;\n",
              "    }\n",
              "\n",
              "    .colab-df-convert:hover {\n",
              "      background-color: #E2EBFA;\n",
              "      box-shadow: 0px 1px 2px rgba(60, 64, 67, 0.3), 0px 1px 3px 1px rgba(60, 64, 67, 0.15);\n",
              "      fill: #174EA6;\n",
              "    }\n",
              "\n",
              "    [theme=dark] .colab-df-convert {\n",
              "      background-color: #3B4455;\n",
              "      fill: #D2E3FC;\n",
              "    }\n",
              "\n",
              "    [theme=dark] .colab-df-convert:hover {\n",
              "      background-color: #434B5C;\n",
              "      box-shadow: 0px 1px 3px 1px rgba(0, 0, 0, 0.15);\n",
              "      filter: drop-shadow(0px 1px 2px rgba(0, 0, 0, 0.3));\n",
              "      fill: #FFFFFF;\n",
              "    }\n",
              "  </style>\n",
              "\n",
              "      <script>\n",
              "        const buttonEl =\n",
              "          document.querySelector('#df-df2b9750-d534-4fc9-a8d8-6f8cfdeab8f6 button.colab-df-convert');\n",
              "        buttonEl.style.display =\n",
              "          google.colab.kernel.accessAllowed ? 'block' : 'none';\n",
              "\n",
              "        async function convertToInteractive(key) {\n",
              "          const element = document.querySelector('#df-df2b9750-d534-4fc9-a8d8-6f8cfdeab8f6');\n",
              "          const dataTable =\n",
              "            await google.colab.kernel.invokeFunction('convertToInteractive',\n",
              "                                                     [key], {});\n",
              "          if (!dataTable) return;\n",
              "\n",
              "          const docLinkHtml = 'Like what you see? Visit the ' +\n",
              "            '<a target=\"_blank\" href=https://colab.research.google.com/notebooks/data_table.ipynb>data table notebook</a>'\n",
              "            + ' to learn more about interactive tables.';\n",
              "          element.innerHTML = '';\n",
              "          dataTable['output_type'] = 'display_data';\n",
              "          await google.colab.output.renderOutput(dataTable, element);\n",
              "          const docLink = document.createElement('div');\n",
              "          docLink.innerHTML = docLinkHtml;\n",
              "          element.appendChild(docLink);\n",
              "        }\n",
              "      </script>\n",
              "    </div>\n",
              "  </div>\n",
              "  "
            ]
          },
          "metadata": {},
          "execution_count": 95
        }
      ],
      "source": [
        "# Посмотрим, количество пользователей по группам и событиям.\n",
        "groups_users = (data_new \n",
        "  .pivot_table(index='event_name', columns='group', values='user_id', aggfunc='nunique')\n",
        "  .sort_values(by=246, ascending=False)\n",
        "  .reset_index()\n",
        "  )\n",
        "groups_users"
      ]
    },
    {
      "cell_type": "markdown",
      "metadata": {
        "id": "kdXTTaH6ulnq"
      },
      "source": [
        "Перейдем к проверке наличия статистически значимых различий между группами. Для этого сформулируем гипотезы и напишем функцию, которая будет применять z-критерий к 2 группам по определенному событию.\n",
        "\n",
        "**Н0:** нет различий в конверсии между выборками.\n",
        "\n",
        "**Н1:** есть различия в конверсии между выборками."
      ]
    },
    {
      "cell_type": "code",
      "execution_count": 96,
      "metadata": {
        "id": "03iU8HA_ulnq"
      },
      "outputs": [],
      "source": [
        "# Функция для определения статистической достоверности различия долей в группах\n",
        "\n",
        "def get_z(df, event, group1, group2, alpha):\n",
        "    event = event\n",
        "    \n",
        "# Сначала сформируем таблицу с количеством пользователей по группам по выбранному событию\n",
        "    events_by_groups = (df\n",
        "                    .query('event_name == @event')\n",
        "                    .groupby('group')\n",
        "                    .agg({'user_id':'nunique'})\n",
        "                    .rename(columns={'user_id':'user_count'}))\n",
        "    \n",
        "# Добавим общее количество пользователей в группах   \n",
        "    events_by_groups = (events_by_groups\n",
        "                    .merge(df.groupby('group')\n",
        "                                   .agg({'user_id':'nunique'})\n",
        "                                   .rename(columns={'user_id':'total_users'}), \n",
        "                           on='group'))\n",
        "    \n",
        "# Добавим столбец с конверсией    \n",
        "    events_by_groups['conversion'] = round(events_by_groups['user_count'] / events_by_groups['total_users'], 4)\n",
        "    \n",
        "# Определим уровень значимости   \n",
        "    alpha = alpha\n",
        "    \n",
        "# Подготовим данные к расчету z-критерия\n",
        "    p1 = events_by_groups['conversion'][group1]\n",
        "    p2 = events_by_groups['conversion'][group2]\n",
        "    p_combined = ((events_by_groups['user_count'][group1] + events_by_groups['user_count'][group2]) / \n",
        "            (events_by_groups['total_users'][group1] + events_by_groups['total_users'][group2]))\n",
        "    diff = p1 - p2\n",
        "    \n",
        "# Посчитаем z_value   \n",
        "    z_value = diff / mth.sqrt(p_combined * (1 - p_combined)\n",
        "                          * (1/events_by_groups['total_users'][group1] + 1/events_by_groups['total_users'][group2]))\n",
        "    \n",
        "# Зададим нормальное распределение   \n",
        "    distr = st.norm(0, 1)\n",
        "    \n",
        "# Посчитаем p_value    \n",
        "    p_value = (1 - distr.cdf(abs(z_value))) * 2\n",
        "    \n",
        "    print(f'Событие {c} в группах {group1} и {group2}')\n",
        "    if p_value < alpha:\n",
        "        print('Отвергаем нулевую гипотезу, между долями есть значимая разница')\n",
        "    else:\n",
        "        print('Не получилось отвергнуть нулевую гипотезу, нет оснований считать доли разными')\n",
        "    print()"
      ]
    },
    {
      "cell_type": "code",
      "execution_count": 97,
      "metadata": {
        "colab": {
          "base_uri": "https://localhost:8080/"
        },
        "id": "mConDR2Uulnq",
        "outputId": "f7db6cb8-f148-41c0-ea7c-65f637cd6974"
      },
      "outputs": [
        {
          "output_type": "stream",
          "name": "stdout",
          "text": [
            "Событие MainScreenAppear в группах 246 и 247\n",
            "Не получилось отвергнуть нулевую гипотезу, нет оснований считать доли разными\n",
            "\n",
            "Событие OffersScreenAppear в группах 246 и 247\n",
            "Не получилось отвергнуть нулевую гипотезу, нет оснований считать доли разными\n",
            "\n",
            "Событие CartScreenAppear в группах 246 и 247\n",
            "Не получилось отвергнуть нулевую гипотезу, нет оснований считать доли разными\n",
            "\n",
            "Событие PaymentScreenSuccessful в группах 246 и 247\n",
            "Не получилось отвергнуть нулевую гипотезу, нет оснований считать доли разными\n",
            "\n"
          ]
        }
      ],
      "source": [
        "# Проверим, есть ли различия между контрольными группами.\n",
        "for c in data_new['event_name'].unique():\n",
        "    get_z(data_new, c, 246, 247, 0.05)"
      ]
    },
    {
      "cell_type": "markdown",
      "metadata": {
        "id": "56UCIxrJulnr"
      },
      "source": [
        "Наличие статистически значимых различий между двумя контрольными группами не обнаружено. Из этого можно заключить, что тестирование проведено точно.\n",
        "\n",
        "Проверим, отличаются ли контрольные группы от экспериментальной."
      ]
    },
    {
      "cell_type": "code",
      "execution_count": 98,
      "metadata": {
        "colab": {
          "base_uri": "https://localhost:8080/"
        },
        "id": "zECvJLQSulnr",
        "outputId": "29becd05-e0e4-46a5-fea0-3adad84581dd"
      },
      "outputs": [
        {
          "output_type": "stream",
          "name": "stdout",
          "text": [
            "Событие MainScreenAppear в группах 246 и 248\n",
            "Не получилось отвергнуть нулевую гипотезу, нет оснований считать доли разными\n",
            "\n",
            "Событие OffersScreenAppear в группах 246 и 248\n",
            "Не получилось отвергнуть нулевую гипотезу, нет оснований считать доли разными\n",
            "\n",
            "Событие CartScreenAppear в группах 246 и 248\n",
            "Не получилось отвергнуть нулевую гипотезу, нет оснований считать доли разными\n",
            "\n",
            "Событие PaymentScreenSuccessful в группах 246 и 248\n",
            "Не получилось отвергнуть нулевую гипотезу, нет оснований считать доли разными\n",
            "\n"
          ]
        }
      ],
      "source": [
        "# Проверим, есть ли различия между первой контрольной группой и экспериментальной.\n",
        "for c in data_new['event_name'].unique():\n",
        "    get_z(data_new, c, 246, 248, 0.05)"
      ]
    },
    {
      "cell_type": "code",
      "execution_count": 99,
      "metadata": {
        "colab": {
          "base_uri": "https://localhost:8080/"
        },
        "id": "2yH2wEkiulnr",
        "outputId": "5eda882e-216d-4bdc-8c0b-da365fcb185a"
      },
      "outputs": [
        {
          "output_type": "stream",
          "name": "stdout",
          "text": [
            "Событие MainScreenAppear в группах 247 и 248\n",
            "Не получилось отвергнуть нулевую гипотезу, нет оснований считать доли разными\n",
            "\n",
            "Событие OffersScreenAppear в группах 247 и 248\n",
            "Не получилось отвергнуть нулевую гипотезу, нет оснований считать доли разными\n",
            "\n",
            "Событие CartScreenAppear в группах 247 и 248\n",
            "Не получилось отвергнуть нулевую гипотезу, нет оснований считать доли разными\n",
            "\n",
            "Событие PaymentScreenSuccessful в группах 247 и 248\n",
            "Не получилось отвергнуть нулевую гипотезу, нет оснований считать доли разными\n",
            "\n"
          ]
        }
      ],
      "source": [
        "# Проверим, есть ли различия между второй контрольной группой и экспериментальной.\n",
        "for c in data_new['event_name'].unique():\n",
        "    get_z(data_new, c, 247, 248, 0.05)"
      ]
    },
    {
      "cell_type": "markdown",
      "metadata": {
        "id": "vQhC8KGyulnr"
      },
      "source": [
        "Статистически значимых различий между контрольными и экспериментальной группой также не обнаружено. Кажется, изменение шрифтов в приложении не оказало никакого влияния на пользователей.\n",
        "\n",
        "На всякий случай проверим, есть ли различия между объединенной контрольной группой и экспериментальной."
      ]
    },
    {
      "cell_type": "code",
      "execution_count": 100,
      "metadata": {
        "colab": {
          "base_uri": "https://localhost:8080/"
        },
        "id": "kEKMxvL7ulnr",
        "outputId": "bd7bdb63-84ed-44b1-bbe1-0c6c7c0bd652"
      },
      "outputs": [
        {
          "output_type": "execute_result",
          "data": {
            "text/plain": [
              "array([246, 247, 248])"
            ]
          },
          "metadata": {},
          "execution_count": 100
        }
      ],
      "source": [
        "data_new['group'].unique()"
      ]
    },
    {
      "cell_type": "code",
      "execution_count": 101,
      "metadata": {
        "colab": {
          "base_uri": "https://localhost:8080/",
          "height": 143
        },
        "id": "8voJVABGulns",
        "outputId": "e706fa4f-6efe-4630-95f7-a2ae6db069a1"
      },
      "outputs": [
        {
          "output_type": "execute_result",
          "data": {
            "text/plain": [
              "       user_id\n",
              "group         \n",
              "246       4995\n",
              "248       2535"
            ],
            "text/html": [
              "\n",
              "  <div id=\"df-b4c7ea94-4a45-4244-b9f2-a6a25d6c56b7\">\n",
              "    <div class=\"colab-df-container\">\n",
              "      <div>\n",
              "<style scoped>\n",
              "    .dataframe tbody tr th:only-of-type {\n",
              "        vertical-align: middle;\n",
              "    }\n",
              "\n",
              "    .dataframe tbody tr th {\n",
              "        vertical-align: top;\n",
              "    }\n",
              "\n",
              "    .dataframe thead th {\n",
              "        text-align: right;\n",
              "    }\n",
              "</style>\n",
              "<table border=\"1\" class=\"dataframe\">\n",
              "  <thead>\n",
              "    <tr style=\"text-align: right;\">\n",
              "      <th></th>\n",
              "      <th>user_id</th>\n",
              "    </tr>\n",
              "    <tr>\n",
              "      <th>group</th>\n",
              "      <th></th>\n",
              "    </tr>\n",
              "  </thead>\n",
              "  <tbody>\n",
              "    <tr>\n",
              "      <th>246</th>\n",
              "      <td>4995</td>\n",
              "    </tr>\n",
              "    <tr>\n",
              "      <th>248</th>\n",
              "      <td>2535</td>\n",
              "    </tr>\n",
              "  </tbody>\n",
              "</table>\n",
              "</div>\n",
              "      <button class=\"colab-df-convert\" onclick=\"convertToInteractive('df-b4c7ea94-4a45-4244-b9f2-a6a25d6c56b7')\"\n",
              "              title=\"Convert this dataframe to an interactive table.\"\n",
              "              style=\"display:none;\">\n",
              "        \n",
              "  <svg xmlns=\"http://www.w3.org/2000/svg\" height=\"24px\"viewBox=\"0 0 24 24\"\n",
              "       width=\"24px\">\n",
              "    <path d=\"M0 0h24v24H0V0z\" fill=\"none\"/>\n",
              "    <path d=\"M18.56 5.44l.94 2.06.94-2.06 2.06-.94-2.06-.94-.94-2.06-.94 2.06-2.06.94zm-11 1L8.5 8.5l.94-2.06 2.06-.94-2.06-.94L8.5 2.5l-.94 2.06-2.06.94zm10 10l.94 2.06.94-2.06 2.06-.94-2.06-.94-.94-2.06-.94 2.06-2.06.94z\"/><path d=\"M17.41 7.96l-1.37-1.37c-.4-.4-.92-.59-1.43-.59-.52 0-1.04.2-1.43.59L10.3 9.45l-7.72 7.72c-.78.78-.78 2.05 0 2.83L4 21.41c.39.39.9.59 1.41.59.51 0 1.02-.2 1.41-.59l7.78-7.78 2.81-2.81c.8-.78.8-2.07 0-2.86zM5.41 20L4 18.59l7.72-7.72 1.47 1.35L5.41 20z\"/>\n",
              "  </svg>\n",
              "      </button>\n",
              "      \n",
              "  <style>\n",
              "    .colab-df-container {\n",
              "      display:flex;\n",
              "      flex-wrap:wrap;\n",
              "      gap: 12px;\n",
              "    }\n",
              "\n",
              "    .colab-df-convert {\n",
              "      background-color: #E8F0FE;\n",
              "      border: none;\n",
              "      border-radius: 50%;\n",
              "      cursor: pointer;\n",
              "      display: none;\n",
              "      fill: #1967D2;\n",
              "      height: 32px;\n",
              "      padding: 0 0 0 0;\n",
              "      width: 32px;\n",
              "    }\n",
              "\n",
              "    .colab-df-convert:hover {\n",
              "      background-color: #E2EBFA;\n",
              "      box-shadow: 0px 1px 2px rgba(60, 64, 67, 0.3), 0px 1px 3px 1px rgba(60, 64, 67, 0.15);\n",
              "      fill: #174EA6;\n",
              "    }\n",
              "\n",
              "    [theme=dark] .colab-df-convert {\n",
              "      background-color: #3B4455;\n",
              "      fill: #D2E3FC;\n",
              "    }\n",
              "\n",
              "    [theme=dark] .colab-df-convert:hover {\n",
              "      background-color: #434B5C;\n",
              "      box-shadow: 0px 1px 3px 1px rgba(0, 0, 0, 0.15);\n",
              "      filter: drop-shadow(0px 1px 2px rgba(0, 0, 0, 0.3));\n",
              "      fill: #FFFFFF;\n",
              "    }\n",
              "  </style>\n",
              "\n",
              "      <script>\n",
              "        const buttonEl =\n",
              "          document.querySelector('#df-b4c7ea94-4a45-4244-b9f2-a6a25d6c56b7 button.colab-df-convert');\n",
              "        buttonEl.style.display =\n",
              "          google.colab.kernel.accessAllowed ? 'block' : 'none';\n",
              "\n",
              "        async function convertToInteractive(key) {\n",
              "          const element = document.querySelector('#df-b4c7ea94-4a45-4244-b9f2-a6a25d6c56b7');\n",
              "          const dataTable =\n",
              "            await google.colab.kernel.invokeFunction('convertToInteractive',\n",
              "                                                     [key], {});\n",
              "          if (!dataTable) return;\n",
              "\n",
              "          const docLinkHtml = 'Like what you see? Visit the ' +\n",
              "            '<a target=\"_blank\" href=https://colab.research.google.com/notebooks/data_table.ipynb>data table notebook</a>'\n",
              "            + ' to learn more about interactive tables.';\n",
              "          element.innerHTML = '';\n",
              "          dataTable['output_type'] = 'display_data';\n",
              "          await google.colab.output.renderOutput(dataTable, element);\n",
              "          const docLink = document.createElement('div');\n",
              "          docLink.innerHTML = docLinkHtml;\n",
              "          element.appendChild(docLink);\n",
              "        }\n",
              "      </script>\n",
              "    </div>\n",
              "  </div>\n",
              "  "
            ]
          },
          "metadata": {},
          "execution_count": 101
        }
      ],
      "source": [
        "# Создадим новый датафрейм, где объединим конрольные группы.\n",
        "data_AB = data_new.copy()\n",
        "data_AB['group'] = data_AB['group'].replace(247, 246)\n",
        "data_AB.groupby('group').agg({'user_id':'nunique'})"
      ]
    },
    {
      "cell_type": "code",
      "execution_count": 102,
      "metadata": {
        "colab": {
          "base_uri": "https://localhost:8080/"
        },
        "id": "oK4hfhkvulns",
        "outputId": "7d0ad9b3-10c0-4f4e-e48c-7a042b7a8cdb"
      },
      "outputs": [
        {
          "output_type": "stream",
          "name": "stdout",
          "text": [
            "Событие MainScreenAppear в группах 246 и 248\n",
            "Не получилось отвергнуть нулевую гипотезу, нет оснований считать доли разными\n",
            "\n",
            "Событие OffersScreenAppear в группах 246 и 248\n",
            "Не получилось отвергнуть нулевую гипотезу, нет оснований считать доли разными\n",
            "\n",
            "Событие CartScreenAppear в группах 246 и 248\n",
            "Не получилось отвергнуть нулевую гипотезу, нет оснований считать доли разными\n",
            "\n",
            "Событие PaymentScreenSuccessful в группах 246 и 248\n",
            "Не получилось отвергнуть нулевую гипотезу, нет оснований считать доли разными\n",
            "\n"
          ]
        }
      ],
      "source": [
        "# Проверим, есть ли различия между объединенными контрольными группами и экспериментальной.\n",
        "for c in data_new['event_name'].unique():\n",
        "    get_z(data_AB, c, 246, 248, 0.05)"
      ]
    },
    {
      "cell_type": "markdown",
      "metadata": {
        "id": "tif9MMPEulns"
      },
      "source": [
        "Различий между объединенными группами так же нет."
      ]
    },
    {
      "cell_type": "markdown",
      "metadata": {
        "id": "q1im46l0ulns"
      },
      "source": [
        "Для проверки z-критерия был выбран уровень значимости 0,05. При таком уровне значимости каждый двадцатый раз можно получить ложный результат. Мы провели в общей сложности 20 проверок, т.е. есть вероятность, что один из результатов ложный. Попробуем взять уровень значимости 0,01 и посмотреть, что получится."
      ]
    },
    {
      "cell_type": "code",
      "execution_count": 103,
      "metadata": {
        "colab": {
          "base_uri": "https://localhost:8080/"
        },
        "id": "UgmnIJ6Fulns",
        "outputId": "b5d55981-5fec-4f41-adc5-6e7815081dc3"
      },
      "outputs": [
        {
          "output_type": "stream",
          "name": "stdout",
          "text": [
            "Событие MainScreenAppear в группах 246 и 247\n",
            "Не получилось отвергнуть нулевую гипотезу, нет оснований считать доли разными\n",
            "\n",
            "Событие OffersScreenAppear в группах 246 и 247\n",
            "Не получилось отвергнуть нулевую гипотезу, нет оснований считать доли разными\n",
            "\n",
            "Событие CartScreenAppear в группах 246 и 247\n",
            "Не получилось отвергнуть нулевую гипотезу, нет оснований считать доли разными\n",
            "\n",
            "Событие PaymentScreenSuccessful в группах 246 и 247\n",
            "Не получилось отвергнуть нулевую гипотезу, нет оснований считать доли разными\n",
            "\n"
          ]
        }
      ],
      "source": [
        "for c in data_new['event_name'].unique():\n",
        "    get_z(data_new, c, 246, 247, 0.01)"
      ]
    },
    {
      "cell_type": "code",
      "execution_count": 104,
      "metadata": {
        "colab": {
          "base_uri": "https://localhost:8080/"
        },
        "id": "_1k_6Bczulnt",
        "outputId": "3fa1fc80-dd78-4275-d35e-8c46587c35a8"
      },
      "outputs": [
        {
          "output_type": "stream",
          "name": "stdout",
          "text": [
            "Событие MainScreenAppear в группах 246 и 248\n",
            "Не получилось отвергнуть нулевую гипотезу, нет оснований считать доли разными\n",
            "\n",
            "Событие OffersScreenAppear в группах 246 и 248\n",
            "Не получилось отвергнуть нулевую гипотезу, нет оснований считать доли разными\n",
            "\n",
            "Событие CartScreenAppear в группах 246 и 248\n",
            "Не получилось отвергнуть нулевую гипотезу, нет оснований считать доли разными\n",
            "\n",
            "Событие PaymentScreenSuccessful в группах 246 и 248\n",
            "Не получилось отвергнуть нулевую гипотезу, нет оснований считать доли разными\n",
            "\n"
          ]
        }
      ],
      "source": [
        "for c in data_new['event_name'].unique():\n",
        "    get_z(data_new, c, 246, 248, 0.01)"
      ]
    },
    {
      "cell_type": "code",
      "execution_count": 105,
      "metadata": {
        "colab": {
          "base_uri": "https://localhost:8080/"
        },
        "id": "mf7JyI8Tulnt",
        "outputId": "110042d1-6b9f-487d-d3bb-304106b1c8b3"
      },
      "outputs": [
        {
          "output_type": "stream",
          "name": "stdout",
          "text": [
            "Событие MainScreenAppear в группах 247 и 248\n",
            "Не получилось отвергнуть нулевую гипотезу, нет оснований считать доли разными\n",
            "\n",
            "Событие OffersScreenAppear в группах 247 и 248\n",
            "Не получилось отвергнуть нулевую гипотезу, нет оснований считать доли разными\n",
            "\n",
            "Событие CartScreenAppear в группах 247 и 248\n",
            "Не получилось отвергнуть нулевую гипотезу, нет оснований считать доли разными\n",
            "\n",
            "Событие PaymentScreenSuccessful в группах 247 и 248\n",
            "Не получилось отвергнуть нулевую гипотезу, нет оснований считать доли разными\n",
            "\n"
          ]
        }
      ],
      "source": [
        "for c in data_new['event_name'].unique():\n",
        "    get_z(data_new, c, 247, 248, 0.01)"
      ]
    },
    {
      "cell_type": "code",
      "execution_count": 106,
      "metadata": {
        "colab": {
          "base_uri": "https://localhost:8080/"
        },
        "id": "CYsWJj9Hulnt",
        "outputId": "da1d1e1a-d63a-4ffe-c804-4c91b3ab6db5"
      },
      "outputs": [
        {
          "output_type": "stream",
          "name": "stdout",
          "text": [
            "Событие MainScreenAppear в группах 246 и 248\n",
            "Не получилось отвергнуть нулевую гипотезу, нет оснований считать доли разными\n",
            "\n",
            "Событие OffersScreenAppear в группах 246 и 248\n",
            "Не получилось отвергнуть нулевую гипотезу, нет оснований считать доли разными\n",
            "\n",
            "Событие CartScreenAppear в группах 246 и 248\n",
            "Не получилось отвергнуть нулевую гипотезу, нет оснований считать доли разными\n",
            "\n",
            "Событие PaymentScreenSuccessful в группах 246 и 248\n",
            "Не получилось отвергнуть нулевую гипотезу, нет оснований считать доли разными\n",
            "\n"
          ]
        }
      ],
      "source": [
        "for c in data_new['event_name'].unique():\n",
        "    get_z(data_AB, c, 246, 248, 0.01)"
      ]
    },
    {
      "cell_type": "markdown",
      "metadata": {
        "id": "ZppeVHp3ulnt"
      },
      "source": [
        "При уровне значимости 0.01 также не выявлено никаких различий."
      ]
    },
    {
      "cell_type": "markdown",
      "metadata": {
        "id": "ddV2k2uPulnu"
      },
      "source": [
        "## Общий вывод\n",
        "\n",
        "\n",
        "**Воронка событий.**\n",
        "\n",
        "Получилась следующая воронка событий:\n",
        "* просмотр главного экрана (MainScreenAppear)\n",
        "* просмотр экрана с товаром (OffersScreenAppear)\n",
        "* просмотр корзины (CartScreenAppear)\n",
        "* просмотр экрана с успешной оплатой (PaymentScreenSuccessful)\n",
        "\n",
        "Шаг Tutorial был отброшен, т.к. его проходят всего лишь 11,1% пользователей. Далее обнаружилось, что больше всего пользователей теряется при переходе с главного экрана на страницу с товаров - 38,1% не доходит до этого шага. Это большое количество пользователей, возможно существует какая-то техническая проблема с приложением на их устройствах. До этапа корзины доходит 50,3% пользователей и совершают оплату 47,7% пользователей. Разница в количестве пользователей между этими шагами незначительная, поэтому не стоит говорить от проблемах в приложении, возможно, пользователям по какой-то причине становится неактуальна покупка.\n",
        "\n",
        "**А/А/В-тест.**\n",
        "\n",
        "Тесты проведенные с уровнями значимости 0,05 и 0,01 не выявили никаких значимых статистических различий между контрольными и экспериментальной группами ни на одном шаге. Можно заключить, что изменение шрифтов никак не сказалось на пользователях.\n"
      ]
    },
    {
      "cell_type": "code",
      "execution_count": 106,
      "metadata": {
        "id": "mAEEjGmjulnu"
      },
      "outputs": [],
      "source": []
    }
  ],
  "metadata": {
    "ExecuteTimeLog": [
      {
        "duration": 407,
        "start_time": "2022-12-26T08:20:46.273Z"
      },
      {
        "duration": 756,
        "start_time": "2022-12-26T08:21:21.385Z"
      },
      {
        "duration": 335,
        "start_time": "2022-12-26T08:21:33.360Z"
      },
      {
        "duration": 70,
        "start_time": "2022-12-26T08:21:45.081Z"
      },
      {
        "duration": 303,
        "start_time": "2022-12-26T08:22:11.600Z"
      },
      {
        "duration": 66,
        "start_time": "2022-12-26T08:22:29.225Z"
      },
      {
        "duration": 278,
        "start_time": "2022-12-26T08:22:48.608Z"
      },
      {
        "duration": 84,
        "start_time": "2022-12-26T08:25:06.839Z"
      },
      {
        "duration": 139,
        "start_time": "2022-12-26T08:25:13.046Z"
      },
      {
        "duration": 19,
        "start_time": "2022-12-26T08:25:31.391Z"
      },
      {
        "duration": 35,
        "start_time": "2022-12-26T08:26:25.511Z"
      },
      {
        "duration": 11,
        "start_time": "2022-12-26T08:26:28.550Z"
      },
      {
        "duration": 390,
        "start_time": "2022-12-26T08:30:00.115Z"
      },
      {
        "duration": 155,
        "start_time": "2022-12-26T08:30:00.507Z"
      },
      {
        "duration": 23,
        "start_time": "2022-12-26T08:30:00.664Z"
      },
      {
        "duration": 69,
        "start_time": "2022-12-26T08:31:26.972Z"
      },
      {
        "duration": 3,
        "start_time": "2022-12-26T08:31:39.100Z"
      },
      {
        "duration": 11,
        "start_time": "2022-12-26T08:31:43.140Z"
      },
      {
        "duration": 3,
        "start_time": "2022-12-26T08:31:51.700Z"
      },
      {
        "duration": 10,
        "start_time": "2022-12-26T08:31:54.909Z"
      },
      {
        "duration": 15,
        "start_time": "2022-12-26T08:32:18.820Z"
      },
      {
        "duration": 14,
        "start_time": "2022-12-26T08:32:27.875Z"
      },
      {
        "duration": 59,
        "start_time": "2022-12-26T08:32:38.379Z"
      },
      {
        "duration": 60,
        "start_time": "2022-12-26T08:32:48.219Z"
      },
      {
        "duration": 58,
        "start_time": "2022-12-26T08:32:56.195Z"
      },
      {
        "duration": 124,
        "start_time": "2022-12-26T08:34:14.234Z"
      },
      {
        "duration": 55,
        "start_time": "2022-12-26T08:34:41.650Z"
      },
      {
        "duration": 74,
        "start_time": "2022-12-26T08:34:57.458Z"
      },
      {
        "duration": 60,
        "start_time": "2022-12-26T08:35:03.818Z"
      },
      {
        "duration": 9,
        "start_time": "2022-12-26T08:38:14.769Z"
      },
      {
        "duration": 18,
        "start_time": "2022-12-26T08:38:23.953Z"
      },
      {
        "duration": 32,
        "start_time": "2022-12-26T08:39:05.848Z"
      },
      {
        "duration": 11,
        "start_time": "2022-12-26T08:39:08.266Z"
      },
      {
        "duration": 339,
        "start_time": "2022-12-26T08:39:43.055Z"
      },
      {
        "duration": 33,
        "start_time": "2022-12-26T08:41:02.264Z"
      },
      {
        "duration": 11,
        "start_time": "2022-12-26T08:41:04.912Z"
      },
      {
        "duration": 7,
        "start_time": "2022-12-26T08:41:19.911Z"
      },
      {
        "duration": 8,
        "start_time": "2022-12-26T08:41:25.496Z"
      },
      {
        "duration": 14,
        "start_time": "2022-12-26T08:41:27.895Z"
      },
      {
        "duration": 14,
        "start_time": "2022-12-26T08:42:16.239Z"
      },
      {
        "duration": 14,
        "start_time": "2022-12-26T08:43:05.366Z"
      },
      {
        "duration": 70,
        "start_time": "2022-12-26T08:43:10.030Z"
      },
      {
        "duration": 14,
        "start_time": "2022-12-26T08:43:14.207Z"
      },
      {
        "duration": 12,
        "start_time": "2022-12-26T08:43:24.072Z"
      },
      {
        "duration": 8,
        "start_time": "2022-12-26T08:45:32.965Z"
      },
      {
        "duration": 28,
        "start_time": "2022-12-26T08:45:51.725Z"
      },
      {
        "duration": 14,
        "start_time": "2022-12-26T08:46:13.130Z"
      },
      {
        "duration": 18,
        "start_time": "2022-12-26T08:49:04.828Z"
      },
      {
        "duration": 11,
        "start_time": "2022-12-26T08:49:32.355Z"
      },
      {
        "duration": 9,
        "start_time": "2022-12-26T08:49:38.581Z"
      },
      {
        "duration": 5,
        "start_time": "2022-12-26T08:49:46.092Z"
      },
      {
        "duration": 8,
        "start_time": "2022-12-26T08:50:42.466Z"
      },
      {
        "duration": 18,
        "start_time": "2022-12-26T08:52:30.337Z"
      },
      {
        "duration": 24,
        "start_time": "2022-12-26T08:54:38.353Z"
      },
      {
        "duration": 820,
        "start_time": "2022-12-26T08:55:17.479Z"
      },
      {
        "duration": 394,
        "start_time": "2022-12-26T08:55:37.624Z"
      },
      {
        "duration": 401,
        "start_time": "2022-12-26T08:56:06.680Z"
      },
      {
        "duration": 2,
        "start_time": "2022-12-26T08:56:23.864Z"
      },
      {
        "duration": 152,
        "start_time": "2022-12-26T08:56:28.407Z"
      },
      {
        "duration": 18,
        "start_time": "2022-12-26T08:56:28.847Z"
      },
      {
        "duration": 4,
        "start_time": "2022-12-26T08:56:29.454Z"
      },
      {
        "duration": 14,
        "start_time": "2022-12-26T08:56:29.951Z"
      },
      {
        "duration": 56,
        "start_time": "2022-12-26T08:56:30.448Z"
      },
      {
        "duration": 60,
        "start_time": "2022-12-26T08:56:30.951Z"
      },
      {
        "duration": 68,
        "start_time": "2022-12-26T08:56:31.480Z"
      },
      {
        "duration": 83,
        "start_time": "2022-12-26T08:56:31.991Z"
      },
      {
        "duration": 18,
        "start_time": "2022-12-26T08:56:33.111Z"
      },
      {
        "duration": 6,
        "start_time": "2022-12-26T08:56:33.752Z"
      },
      {
        "duration": 8,
        "start_time": "2022-12-26T08:56:34.311Z"
      },
      {
        "duration": 26,
        "start_time": "2022-12-26T08:56:35.047Z"
      },
      {
        "duration": 389,
        "start_time": "2022-12-26T08:56:36.000Z"
      },
      {
        "duration": 386,
        "start_time": "2022-12-26T08:56:46.287Z"
      },
      {
        "duration": 397,
        "start_time": "2022-12-26T10:35:01.710Z"
      },
      {
        "duration": 346,
        "start_time": "2022-12-26T10:36:05.426Z"
      },
      {
        "duration": 287,
        "start_time": "2022-12-26T10:38:16.413Z"
      },
      {
        "duration": 8,
        "start_time": "2022-12-26T10:40:18.499Z"
      },
      {
        "duration": 3,
        "start_time": "2022-12-26T10:40:48.730Z"
      },
      {
        "duration": 11,
        "start_time": "2022-12-26T10:40:52.835Z"
      },
      {
        "duration": 163,
        "start_time": "2022-12-26T10:43:41.659Z"
      },
      {
        "duration": 22,
        "start_time": "2022-12-26T10:43:51.584Z"
      },
      {
        "duration": 462,
        "start_time": "2022-12-26T10:43:52.751Z"
      },
      {
        "duration": 19,
        "start_time": "2022-12-26T10:46:13.466Z"
      },
      {
        "duration": 394,
        "start_time": "2022-12-26T10:46:14.009Z"
      },
      {
        "duration": 363,
        "start_time": "2022-12-26T10:46:26.366Z"
      },
      {
        "duration": 362,
        "start_time": "2022-12-26T10:46:33.271Z"
      },
      {
        "duration": 23,
        "start_time": "2022-12-26T10:46:41.750Z"
      },
      {
        "duration": 357,
        "start_time": "2022-12-26T10:46:42.214Z"
      },
      {
        "duration": 413,
        "start_time": "2022-12-26T10:46:53.478Z"
      },
      {
        "duration": 19,
        "start_time": "2022-12-26T10:46:58.080Z"
      },
      {
        "duration": 407,
        "start_time": "2022-12-26T10:46:58.485Z"
      },
      {
        "duration": 479,
        "start_time": "2022-12-26T10:50:10.935Z"
      },
      {
        "duration": 11,
        "start_time": "2022-12-26T10:52:08.875Z"
      },
      {
        "duration": 35,
        "start_time": "2022-12-26T10:52:22.291Z"
      },
      {
        "duration": 28,
        "start_time": "2022-12-26T10:52:42.291Z"
      },
      {
        "duration": 4,
        "start_time": "2022-12-26T10:53:42.489Z"
      },
      {
        "duration": 72,
        "start_time": "2022-12-26T10:56:40.133Z"
      },
      {
        "duration": 8,
        "start_time": "2022-12-26T10:56:47.800Z"
      },
      {
        "duration": 4,
        "start_time": "2022-12-26T10:57:11.193Z"
      },
      {
        "duration": 6,
        "start_time": "2022-12-26T10:58:17.840Z"
      },
      {
        "duration": 6,
        "start_time": "2022-12-26T10:58:32.951Z"
      },
      {
        "duration": 406,
        "start_time": "2022-12-26T10:59:30.835Z"
      },
      {
        "duration": 18,
        "start_time": "2022-12-26T11:00:24.910Z"
      },
      {
        "duration": 18,
        "start_time": "2022-12-26T11:00:55.855Z"
      },
      {
        "duration": 28,
        "start_time": "2022-12-26T11:03:46.949Z"
      },
      {
        "duration": 26,
        "start_time": "2022-12-26T11:04:17.269Z"
      },
      {
        "duration": 50,
        "start_time": "2022-12-26T11:05:07.087Z"
      },
      {
        "duration": 51,
        "start_time": "2022-12-26T11:07:36.454Z"
      },
      {
        "duration": 51,
        "start_time": "2022-12-26T11:07:41.298Z"
      },
      {
        "duration": 65,
        "start_time": "2022-12-26T11:12:52.209Z"
      },
      {
        "duration": 67,
        "start_time": "2022-12-26T11:12:57.971Z"
      },
      {
        "duration": 58,
        "start_time": "2022-12-26T11:14:15.512Z"
      },
      {
        "duration": 66,
        "start_time": "2022-12-26T11:15:23.095Z"
      },
      {
        "duration": 738,
        "start_time": "2022-12-26T11:15:52.905Z"
      },
      {
        "duration": 195,
        "start_time": "2022-12-26T11:15:53.646Z"
      },
      {
        "duration": 34,
        "start_time": "2022-12-26T11:15:53.844Z"
      },
      {
        "duration": 4,
        "start_time": "2022-12-26T11:15:53.883Z"
      },
      {
        "duration": 78,
        "start_time": "2022-12-26T11:15:53.891Z"
      },
      {
        "duration": 111,
        "start_time": "2022-12-26T11:15:53.972Z"
      },
      {
        "duration": 111,
        "start_time": "2022-12-26T11:15:54.086Z"
      },
      {
        "duration": 102,
        "start_time": "2022-12-26T11:15:54.199Z"
      },
      {
        "duration": 38,
        "start_time": "2022-12-26T11:15:54.303Z"
      },
      {
        "duration": 39,
        "start_time": "2022-12-26T11:15:54.344Z"
      },
      {
        "duration": 10,
        "start_time": "2022-12-26T11:15:54.385Z"
      },
      {
        "duration": 12,
        "start_time": "2022-12-26T11:15:54.397Z"
      },
      {
        "duration": 31,
        "start_time": "2022-12-26T11:15:54.411Z"
      },
      {
        "duration": 581,
        "start_time": "2022-12-26T11:15:54.479Z"
      },
      {
        "duration": 41,
        "start_time": "2022-12-26T11:15:55.062Z"
      },
      {
        "duration": 23,
        "start_time": "2022-12-26T11:15:55.104Z"
      },
      {
        "duration": 16,
        "start_time": "2022-12-26T11:15:55.129Z"
      },
      {
        "duration": 496,
        "start_time": "2022-12-26T11:15:55.147Z"
      },
      {
        "duration": 38,
        "start_time": "2022-12-26T11:15:55.645Z"
      },
      {
        "duration": 167,
        "start_time": "2022-12-26T11:15:55.686Z"
      },
      {
        "duration": 0,
        "start_time": "2022-12-26T11:15:55.855Z"
      },
      {
        "duration": 0,
        "start_time": "2022-12-26T11:15:55.856Z"
      },
      {
        "duration": 67,
        "start_time": "2022-12-26T11:16:12.182Z"
      },
      {
        "duration": 57,
        "start_time": "2022-12-26T11:16:38.652Z"
      },
      {
        "duration": 100,
        "start_time": "2022-12-26T11:17:04.113Z"
      },
      {
        "duration": 69,
        "start_time": "2022-12-26T11:20:09.917Z"
      },
      {
        "duration": 105,
        "start_time": "2022-12-26T11:20:22.260Z"
      },
      {
        "duration": 66,
        "start_time": "2022-12-26T11:20:26.792Z"
      },
      {
        "duration": 61,
        "start_time": "2022-12-26T11:28:50.963Z"
      },
      {
        "duration": 3,
        "start_time": "2022-12-26T11:35:29.451Z"
      },
      {
        "duration": 5,
        "start_time": "2022-12-26T11:35:32.372Z"
      },
      {
        "duration": 3,
        "start_time": "2022-12-26T11:37:46.803Z"
      },
      {
        "duration": 3,
        "start_time": "2022-12-26T11:39:00.915Z"
      },
      {
        "duration": 4,
        "start_time": "2022-12-26T11:39:25.434Z"
      },
      {
        "duration": 9,
        "start_time": "2022-12-26T11:39:28.818Z"
      },
      {
        "duration": 4,
        "start_time": "2022-12-26T11:40:24.367Z"
      },
      {
        "duration": 3,
        "start_time": "2022-12-26T11:40:25.067Z"
      },
      {
        "duration": 9,
        "start_time": "2022-12-26T11:40:25.612Z"
      },
      {
        "duration": 10,
        "start_time": "2022-12-26T11:40:43.963Z"
      },
      {
        "duration": 7,
        "start_time": "2022-12-26T11:42:16.063Z"
      },
      {
        "duration": 4,
        "start_time": "2022-12-26T11:42:17.200Z"
      },
      {
        "duration": 9,
        "start_time": "2022-12-26T11:42:18.468Z"
      },
      {
        "duration": 660,
        "start_time": "2022-12-26T11:42:39.765Z"
      },
      {
        "duration": 165,
        "start_time": "2022-12-26T11:42:40.427Z"
      },
      {
        "duration": 21,
        "start_time": "2022-12-26T11:42:40.594Z"
      },
      {
        "duration": 11,
        "start_time": "2022-12-26T11:42:40.618Z"
      },
      {
        "duration": 23,
        "start_time": "2022-12-26T11:42:40.631Z"
      },
      {
        "duration": 78,
        "start_time": "2022-12-26T11:42:40.656Z"
      },
      {
        "duration": 84,
        "start_time": "2022-12-26T11:42:40.736Z"
      },
      {
        "duration": 73,
        "start_time": "2022-12-26T11:42:40.822Z"
      },
      {
        "duration": 28,
        "start_time": "2022-12-26T11:42:40.897Z"
      },
      {
        "duration": 18,
        "start_time": "2022-12-26T11:42:40.927Z"
      },
      {
        "duration": 5,
        "start_time": "2022-12-26T11:42:40.947Z"
      },
      {
        "duration": 34,
        "start_time": "2022-12-26T11:42:40.953Z"
      },
      {
        "duration": 28,
        "start_time": "2022-12-26T11:42:40.989Z"
      },
      {
        "duration": 485,
        "start_time": "2022-12-26T11:42:41.019Z"
      },
      {
        "duration": 35,
        "start_time": "2022-12-26T11:42:41.506Z"
      },
      {
        "duration": 36,
        "start_time": "2022-12-26T11:42:41.542Z"
      },
      {
        "duration": 4,
        "start_time": "2022-12-26T11:42:41.580Z"
      },
      {
        "duration": 378,
        "start_time": "2022-12-26T11:42:41.586Z"
      },
      {
        "duration": 24,
        "start_time": "2022-12-26T11:42:41.966Z"
      },
      {
        "duration": 66,
        "start_time": "2022-12-26T11:42:41.991Z"
      },
      {
        "duration": 19,
        "start_time": "2022-12-26T11:42:42.059Z"
      },
      {
        "duration": 4,
        "start_time": "2022-12-26T11:42:42.079Z"
      },
      {
        "duration": 16,
        "start_time": "2022-12-26T11:42:42.084Z"
      },
      {
        "duration": 74,
        "start_time": "2022-12-26T11:57:37.640Z"
      },
      {
        "duration": 6,
        "start_time": "2022-12-26T11:57:47.481Z"
      },
      {
        "duration": 12,
        "start_time": "2022-12-26T11:57:48.182Z"
      },
      {
        "duration": 10,
        "start_time": "2022-12-26T11:58:03.146Z"
      },
      {
        "duration": 668,
        "start_time": "2022-12-26T11:58:14.251Z"
      },
      {
        "duration": 176,
        "start_time": "2022-12-26T11:58:14.922Z"
      },
      {
        "duration": 18,
        "start_time": "2022-12-26T11:58:15.100Z"
      },
      {
        "duration": 3,
        "start_time": "2022-12-26T11:58:15.119Z"
      },
      {
        "duration": 17,
        "start_time": "2022-12-26T11:58:15.124Z"
      },
      {
        "duration": 87,
        "start_time": "2022-12-26T11:58:15.142Z"
      },
      {
        "duration": 80,
        "start_time": "2022-12-26T11:58:15.231Z"
      },
      {
        "duration": 76,
        "start_time": "2022-12-26T11:58:15.313Z"
      },
      {
        "duration": 30,
        "start_time": "2022-12-26T11:58:15.391Z"
      },
      {
        "duration": 16,
        "start_time": "2022-12-26T11:58:15.423Z"
      },
      {
        "duration": 5,
        "start_time": "2022-12-26T11:58:15.441Z"
      },
      {
        "duration": 7,
        "start_time": "2022-12-26T11:58:15.448Z"
      },
      {
        "duration": 55,
        "start_time": "2022-12-26T11:58:15.457Z"
      },
      {
        "duration": 553,
        "start_time": "2022-12-26T11:58:15.514Z"
      },
      {
        "duration": 55,
        "start_time": "2022-12-26T11:58:16.069Z"
      },
      {
        "duration": 31,
        "start_time": "2022-12-26T11:58:16.126Z"
      },
      {
        "duration": 4,
        "start_time": "2022-12-26T11:58:16.159Z"
      },
      {
        "duration": 408,
        "start_time": "2022-12-26T11:58:16.165Z"
      },
      {
        "duration": 24,
        "start_time": "2022-12-26T11:58:16.575Z"
      },
      {
        "duration": 81,
        "start_time": "2022-12-26T11:58:16.601Z"
      },
      {
        "duration": 8,
        "start_time": "2022-12-26T11:58:16.684Z"
      },
      {
        "duration": 20,
        "start_time": "2022-12-26T11:58:16.694Z"
      },
      {
        "duration": 13,
        "start_time": "2022-12-26T11:58:16.716Z"
      },
      {
        "duration": 5,
        "start_time": "2022-12-26T12:13:10.742Z"
      },
      {
        "duration": 10,
        "start_time": "2022-12-26T12:13:30.055Z"
      },
      {
        "duration": 33,
        "start_time": "2022-12-26T12:25:28.098Z"
      },
      {
        "duration": 5,
        "start_time": "2022-12-26T12:27:21.851Z"
      },
      {
        "duration": 36,
        "start_time": "2022-12-26T12:27:51.638Z"
      },
      {
        "duration": 73,
        "start_time": "2022-12-26T12:44:22.747Z"
      },
      {
        "duration": 70,
        "start_time": "2022-12-26T12:44:46.587Z"
      },
      {
        "duration": 83,
        "start_time": "2022-12-26T12:44:53.495Z"
      },
      {
        "duration": 106,
        "start_time": "2022-12-26T12:45:53.392Z"
      },
      {
        "duration": 100,
        "start_time": "2022-12-26T12:47:25.070Z"
      },
      {
        "duration": 100,
        "start_time": "2022-12-26T12:47:35.182Z"
      },
      {
        "duration": 111,
        "start_time": "2022-12-26T12:47:45.669Z"
      },
      {
        "duration": 105,
        "start_time": "2022-12-26T12:47:53.557Z"
      },
      {
        "duration": 97,
        "start_time": "2022-12-26T12:48:00.641Z"
      },
      {
        "duration": 76,
        "start_time": "2022-12-26T12:51:07.960Z"
      },
      {
        "duration": 70,
        "start_time": "2022-12-26T12:51:27.292Z"
      },
      {
        "duration": 500,
        "start_time": "2022-12-26T12:57:19.787Z"
      },
      {
        "duration": 90,
        "start_time": "2022-12-26T12:57:25.683Z"
      },
      {
        "duration": 33,
        "start_time": "2022-12-26T12:57:31.771Z"
      },
      {
        "duration": 2,
        "start_time": "2022-12-26T12:58:17.275Z"
      },
      {
        "duration": 10,
        "start_time": "2022-12-26T12:58:27.091Z"
      },
      {
        "duration": 1157,
        "start_time": "2022-12-26T13:00:03.751Z"
      },
      {
        "duration": 174,
        "start_time": "2022-12-26T13:00:04.909Z"
      },
      {
        "duration": 20,
        "start_time": "2022-12-26T13:00:05.085Z"
      },
      {
        "duration": 3,
        "start_time": "2022-12-26T13:00:05.108Z"
      },
      {
        "duration": 20,
        "start_time": "2022-12-26T13:00:05.113Z"
      },
      {
        "duration": 79,
        "start_time": "2022-12-26T13:00:05.135Z"
      },
      {
        "duration": 84,
        "start_time": "2022-12-26T13:00:05.215Z"
      },
      {
        "duration": 69,
        "start_time": "2022-12-26T13:00:05.301Z"
      },
      {
        "duration": 30,
        "start_time": "2022-12-26T13:00:05.377Z"
      },
      {
        "duration": 18,
        "start_time": "2022-12-26T13:00:05.409Z"
      },
      {
        "duration": 10,
        "start_time": "2022-12-26T13:00:05.428Z"
      },
      {
        "duration": 5,
        "start_time": "2022-12-26T13:00:05.440Z"
      },
      {
        "duration": 49,
        "start_time": "2022-12-26T13:00:05.447Z"
      },
      {
        "duration": 519,
        "start_time": "2022-12-26T13:00:05.497Z"
      },
      {
        "duration": 34,
        "start_time": "2022-12-26T13:00:06.018Z"
      },
      {
        "duration": 30,
        "start_time": "2022-12-26T13:00:06.054Z"
      },
      {
        "duration": 4,
        "start_time": "2022-12-26T13:00:06.086Z"
      },
      {
        "duration": 398,
        "start_time": "2022-12-26T13:00:06.092Z"
      },
      {
        "duration": 5,
        "start_time": "2022-12-26T13:00:06.492Z"
      },
      {
        "duration": 80,
        "start_time": "2022-12-26T13:00:06.498Z"
      },
      {
        "duration": 5,
        "start_time": "2022-12-26T13:00:06.580Z"
      },
      {
        "duration": 13,
        "start_time": "2022-12-26T13:00:06.586Z"
      },
      {
        "duration": 17,
        "start_time": "2022-12-26T13:00:06.601Z"
      },
      {
        "duration": 36,
        "start_time": "2022-12-26T13:00:06.619Z"
      },
      {
        "duration": 96,
        "start_time": "2022-12-26T13:00:06.656Z"
      },
      {
        "duration": 99,
        "start_time": "2022-12-26T13:00:06.753Z"
      },
      {
        "duration": 3,
        "start_time": "2022-12-26T13:02:06.663Z"
      },
      {
        "duration": 10,
        "start_time": "2022-12-26T13:02:13.297Z"
      },
      {
        "duration": 10,
        "start_time": "2022-12-26T13:04:09.521Z"
      },
      {
        "duration": 1088,
        "start_time": "2022-12-26T13:10:17.826Z"
      },
      {
        "duration": 174,
        "start_time": "2022-12-26T13:10:18.916Z"
      },
      {
        "duration": 23,
        "start_time": "2022-12-26T13:10:19.092Z"
      },
      {
        "duration": 4,
        "start_time": "2022-12-26T13:10:19.117Z"
      },
      {
        "duration": 21,
        "start_time": "2022-12-26T13:10:19.122Z"
      },
      {
        "duration": 88,
        "start_time": "2022-12-26T13:10:19.145Z"
      },
      {
        "duration": 75,
        "start_time": "2022-12-26T13:10:19.234Z"
      },
      {
        "duration": 81,
        "start_time": "2022-12-26T13:10:19.311Z"
      },
      {
        "duration": 36,
        "start_time": "2022-12-26T13:10:19.394Z"
      },
      {
        "duration": 20,
        "start_time": "2022-12-26T13:10:19.433Z"
      },
      {
        "duration": 25,
        "start_time": "2022-12-26T13:10:19.455Z"
      },
      {
        "duration": 6,
        "start_time": "2022-12-26T13:10:19.481Z"
      },
      {
        "duration": 35,
        "start_time": "2022-12-26T13:10:19.488Z"
      },
      {
        "duration": 525,
        "start_time": "2022-12-26T13:10:19.525Z"
      },
      {
        "duration": 42,
        "start_time": "2022-12-26T13:10:20.052Z"
      },
      {
        "duration": 21,
        "start_time": "2022-12-26T13:10:20.097Z"
      },
      {
        "duration": 4,
        "start_time": "2022-12-26T13:10:20.120Z"
      },
      {
        "duration": 446,
        "start_time": "2022-12-26T13:10:20.126Z"
      },
      {
        "duration": 8,
        "start_time": "2022-12-26T13:10:20.574Z"
      },
      {
        "duration": 74,
        "start_time": "2022-12-26T13:10:20.584Z"
      },
      {
        "duration": 20,
        "start_time": "2022-12-26T13:10:20.659Z"
      },
      {
        "duration": 111,
        "start_time": "2022-12-26T13:10:20.681Z"
      },
      {
        "duration": 0,
        "start_time": "2022-12-26T13:10:20.793Z"
      },
      {
        "duration": 0,
        "start_time": "2022-12-26T13:10:20.795Z"
      },
      {
        "duration": 0,
        "start_time": "2022-12-26T13:10:20.796Z"
      },
      {
        "duration": 0,
        "start_time": "2022-12-26T13:10:20.797Z"
      },
      {
        "duration": 5,
        "start_time": "2022-12-26T13:11:44.057Z"
      },
      {
        "duration": 12,
        "start_time": "2022-12-26T13:11:44.966Z"
      },
      {
        "duration": 34,
        "start_time": "2022-12-26T13:14:37.762Z"
      },
      {
        "duration": 94,
        "start_time": "2022-12-26T13:14:40.723Z"
      },
      {
        "duration": 76,
        "start_time": "2022-12-26T13:15:15.353Z"
      },
      {
        "duration": 19,
        "start_time": "2022-12-26T13:15:32.780Z"
      },
      {
        "duration": 17,
        "start_time": "2022-12-26T13:15:40.924Z"
      },
      {
        "duration": 21,
        "start_time": "2022-12-26T13:15:51.779Z"
      },
      {
        "duration": 40,
        "start_time": "2022-12-26T13:16:17.068Z"
      },
      {
        "duration": 34,
        "start_time": "2022-12-26T13:17:34.873Z"
      },
      {
        "duration": 46,
        "start_time": "2022-12-26T13:18:53.202Z"
      },
      {
        "duration": 64,
        "start_time": "2022-12-26T13:19:20.348Z"
      },
      {
        "duration": 64,
        "start_time": "2022-12-26T13:19:36.653Z"
      },
      {
        "duration": 61,
        "start_time": "2022-12-26T13:20:03.284Z"
      },
      {
        "duration": 58,
        "start_time": "2022-12-26T13:21:10.729Z"
      },
      {
        "duration": 65,
        "start_time": "2022-12-26T13:21:15.425Z"
      },
      {
        "duration": 65,
        "start_time": "2022-12-26T13:21:31.495Z"
      },
      {
        "duration": 4,
        "start_time": "2022-12-26T13:22:09.972Z"
      },
      {
        "duration": 3,
        "start_time": "2022-12-26T13:23:41.337Z"
      },
      {
        "duration": 4,
        "start_time": "2022-12-26T13:23:45.477Z"
      },
      {
        "duration": 3,
        "start_time": "2022-12-26T13:23:59.872Z"
      },
      {
        "duration": 3,
        "start_time": "2022-12-26T13:24:02.920Z"
      },
      {
        "duration": 74,
        "start_time": "2022-12-26T13:26:26.988Z"
      },
      {
        "duration": 72,
        "start_time": "2022-12-26T13:26:40.788Z"
      },
      {
        "duration": 68,
        "start_time": "2022-12-26T13:26:49.917Z"
      },
      {
        "duration": 66,
        "start_time": "2022-12-26T13:27:01.117Z"
      },
      {
        "duration": 108,
        "start_time": "2022-12-26T13:29:13.988Z"
      },
      {
        "duration": 10,
        "start_time": "2022-12-26T13:29:49.559Z"
      },
      {
        "duration": 4,
        "start_time": "2022-12-26T13:31:01.571Z"
      },
      {
        "duration": 4,
        "start_time": "2022-12-26T13:31:08.198Z"
      },
      {
        "duration": 88,
        "start_time": "2022-12-26T13:31:30.065Z"
      },
      {
        "duration": 4,
        "start_time": "2022-12-26T13:31:37.321Z"
      },
      {
        "duration": 4,
        "start_time": "2022-12-26T13:33:22.943Z"
      },
      {
        "duration": 4,
        "start_time": "2022-12-26T13:33:29.800Z"
      },
      {
        "duration": 4,
        "start_time": "2022-12-26T13:33:49.824Z"
      },
      {
        "duration": 4,
        "start_time": "2022-12-26T13:34:26.376Z"
      },
      {
        "duration": 5,
        "start_time": "2022-12-26T13:34:58.328Z"
      },
      {
        "duration": 4,
        "start_time": "2022-12-26T13:34:59.288Z"
      },
      {
        "duration": 6,
        "start_time": "2022-12-26T13:36:36.327Z"
      },
      {
        "duration": 6,
        "start_time": "2022-12-26T13:36:47.408Z"
      },
      {
        "duration": 285,
        "start_time": "2022-12-26T13:38:20.362Z"
      },
      {
        "duration": 252,
        "start_time": "2022-12-26T13:38:49.684Z"
      },
      {
        "duration": 259,
        "start_time": "2022-12-26T13:39:05.005Z"
      },
      {
        "duration": 271,
        "start_time": "2022-12-26T13:39:12.975Z"
      },
      {
        "duration": 277,
        "start_time": "2022-12-26T13:39:32.643Z"
      },
      {
        "duration": 10,
        "start_time": "2022-12-26T13:41:27.133Z"
      },
      {
        "duration": 69,
        "start_time": "2022-12-26T13:42:18.200Z"
      },
      {
        "duration": 290,
        "start_time": "2022-12-26T13:42:31.190Z"
      },
      {
        "duration": 24,
        "start_time": "2022-12-26T13:45:06.227Z"
      },
      {
        "duration": 6,
        "start_time": "2022-12-26T13:45:14.180Z"
      },
      {
        "duration": 269,
        "start_time": "2022-12-26T13:45:15.097Z"
      },
      {
        "duration": 6,
        "start_time": "2022-12-26T13:46:56.166Z"
      },
      {
        "duration": 262,
        "start_time": "2022-12-26T13:46:57.261Z"
      },
      {
        "duration": 262,
        "start_time": "2022-12-26T13:47:05.832Z"
      },
      {
        "duration": 249,
        "start_time": "2022-12-26T13:47:37.253Z"
      },
      {
        "duration": 10,
        "start_time": "2022-12-26T14:24:55.434Z"
      },
      {
        "duration": 12,
        "start_time": "2022-12-26T14:27:28.454Z"
      },
      {
        "duration": 9,
        "start_time": "2022-12-26T14:29:51.004Z"
      },
      {
        "duration": 9,
        "start_time": "2022-12-26T14:30:07.532Z"
      },
      {
        "duration": 9,
        "start_time": "2022-12-26T14:30:39.483Z"
      },
      {
        "duration": 1295,
        "start_time": "2022-12-26T14:30:54.201Z"
      },
      {
        "duration": 190,
        "start_time": "2022-12-26T14:30:55.498Z"
      },
      {
        "duration": 22,
        "start_time": "2022-12-26T14:30:55.689Z"
      },
      {
        "duration": 30,
        "start_time": "2022-12-26T14:30:55.713Z"
      },
      {
        "duration": 51,
        "start_time": "2022-12-26T14:30:55.746Z"
      },
      {
        "duration": 109,
        "start_time": "2022-12-26T14:30:55.799Z"
      },
      {
        "duration": 78,
        "start_time": "2022-12-26T14:30:55.910Z"
      },
      {
        "duration": 89,
        "start_time": "2022-12-26T14:30:55.990Z"
      },
      {
        "duration": 33,
        "start_time": "2022-12-26T14:30:56.080Z"
      },
      {
        "duration": 18,
        "start_time": "2022-12-26T14:30:56.116Z"
      },
      {
        "duration": 31,
        "start_time": "2022-12-26T14:30:56.136Z"
      },
      {
        "duration": 32,
        "start_time": "2022-12-26T14:30:56.169Z"
      },
      {
        "duration": 44,
        "start_time": "2022-12-26T14:30:56.203Z"
      },
      {
        "duration": 511,
        "start_time": "2022-12-26T14:30:56.248Z"
      },
      {
        "duration": 37,
        "start_time": "2022-12-26T14:30:56.760Z"
      },
      {
        "duration": 33,
        "start_time": "2022-12-26T14:30:56.799Z"
      },
      {
        "duration": 47,
        "start_time": "2022-12-26T14:30:56.834Z"
      },
      {
        "duration": 424,
        "start_time": "2022-12-26T14:30:56.882Z"
      },
      {
        "duration": 5,
        "start_time": "2022-12-26T14:30:57.308Z"
      },
      {
        "duration": 102,
        "start_time": "2022-12-26T14:30:57.315Z"
      },
      {
        "duration": 5,
        "start_time": "2022-12-26T14:30:57.419Z"
      },
      {
        "duration": 41,
        "start_time": "2022-12-26T14:30:57.425Z"
      },
      {
        "duration": 53,
        "start_time": "2022-12-26T14:30:57.468Z"
      },
      {
        "duration": 61,
        "start_time": "2022-12-26T14:30:57.522Z"
      },
      {
        "duration": 90,
        "start_time": "2022-12-26T14:30:57.585Z"
      },
      {
        "duration": 87,
        "start_time": "2022-12-26T14:30:57.677Z"
      },
      {
        "duration": 0,
        "start_time": "2022-12-26T14:30:57.765Z"
      },
      {
        "duration": 1,
        "start_time": "2022-12-26T14:30:57.766Z"
      },
      {
        "duration": 0,
        "start_time": "2022-12-26T14:30:57.778Z"
      },
      {
        "duration": 0,
        "start_time": "2022-12-26T14:30:57.780Z"
      },
      {
        "duration": 0,
        "start_time": "2022-12-26T14:30:57.781Z"
      },
      {
        "duration": 7,
        "start_time": "2022-12-26T14:31:09.835Z"
      },
      {
        "duration": 295,
        "start_time": "2022-12-26T14:31:10.827Z"
      },
      {
        "duration": 312,
        "start_time": "2022-12-26T14:31:11.883Z"
      },
      {
        "duration": 365,
        "start_time": "2022-12-26T14:31:12.795Z"
      },
      {
        "duration": 26,
        "start_time": "2022-12-26T14:31:13.931Z"
      },
      {
        "duration": 25,
        "start_time": "2022-12-26T14:31:35.100Z"
      },
      {
        "duration": 13,
        "start_time": "2022-12-26T14:31:42.291Z"
      },
      {
        "duration": 11,
        "start_time": "2022-12-26T14:31:47.043Z"
      },
      {
        "duration": 288,
        "start_time": "2022-12-26T14:32:10.771Z"
      },
      {
        "duration": 0,
        "start_time": "2022-12-26T14:40:11.822Z"
      },
      {
        "duration": 1175,
        "start_time": "2022-12-26T14:40:19.994Z"
      },
      {
        "duration": 170,
        "start_time": "2022-12-26T14:40:21.177Z"
      },
      {
        "duration": 19,
        "start_time": "2022-12-26T14:40:21.349Z"
      },
      {
        "duration": 46,
        "start_time": "2022-12-26T14:40:21.378Z"
      },
      {
        "duration": 65,
        "start_time": "2022-12-26T14:40:21.426Z"
      },
      {
        "duration": 98,
        "start_time": "2022-12-26T14:40:21.493Z"
      },
      {
        "duration": 76,
        "start_time": "2022-12-26T14:40:21.592Z"
      },
      {
        "duration": 79,
        "start_time": "2022-12-26T14:40:21.670Z"
      },
      {
        "duration": 41,
        "start_time": "2022-12-26T14:40:21.751Z"
      },
      {
        "duration": 90,
        "start_time": "2022-12-26T14:40:21.796Z"
      },
      {
        "duration": 45,
        "start_time": "2022-12-26T14:40:21.888Z"
      },
      {
        "duration": 42,
        "start_time": "2022-12-26T14:40:21.935Z"
      },
      {
        "duration": 56,
        "start_time": "2022-12-26T14:40:21.979Z"
      },
      {
        "duration": 547,
        "start_time": "2022-12-26T14:40:22.037Z"
      },
      {
        "duration": 39,
        "start_time": "2022-12-26T14:40:22.585Z"
      },
      {
        "duration": 35,
        "start_time": "2022-12-26T14:40:22.625Z"
      },
      {
        "duration": 27,
        "start_time": "2022-12-26T14:40:22.661Z"
      },
      {
        "duration": 391,
        "start_time": "2022-12-26T14:40:22.689Z"
      },
      {
        "duration": 5,
        "start_time": "2022-12-26T14:40:23.081Z"
      },
      {
        "duration": 71,
        "start_time": "2022-12-26T14:40:23.088Z"
      },
      {
        "duration": 5,
        "start_time": "2022-12-26T14:40:23.161Z"
      },
      {
        "duration": 30,
        "start_time": "2022-12-26T14:40:23.178Z"
      },
      {
        "duration": 59,
        "start_time": "2022-12-26T14:40:23.210Z"
      },
      {
        "duration": 67,
        "start_time": "2022-12-26T14:40:23.271Z"
      },
      {
        "duration": 72,
        "start_time": "2022-12-26T14:40:23.340Z"
      },
      {
        "duration": 6,
        "start_time": "2022-12-26T14:40:23.413Z"
      },
      {
        "duration": 288,
        "start_time": "2022-12-26T14:40:23.421Z"
      },
      {
        "duration": 306,
        "start_time": "2022-12-26T14:40:23.713Z"
      },
      {
        "duration": 324,
        "start_time": "2022-12-26T14:40:24.021Z"
      },
      {
        "duration": 1698,
        "start_time": "2022-12-26T14:40:24.346Z"
      },
      {
        "duration": 0,
        "start_time": "2022-12-26T14:40:26.046Z"
      },
      {
        "duration": 0,
        "start_time": "2022-12-26T14:40:26.047Z"
      },
      {
        "duration": 4,
        "start_time": "2022-12-26T14:47:41.677Z"
      },
      {
        "duration": 12,
        "start_time": "2022-12-26T14:47:57.532Z"
      },
      {
        "duration": 87,
        "start_time": "2022-12-26T14:49:20.285Z"
      },
      {
        "duration": 46,
        "start_time": "2022-12-27T07:08:35.434Z"
      },
      {
        "duration": 1214,
        "start_time": "2022-12-27T07:08:52.021Z"
      },
      {
        "duration": 503,
        "start_time": "2022-12-27T07:08:53.237Z"
      },
      {
        "duration": 19,
        "start_time": "2022-12-27T07:08:53.742Z"
      },
      {
        "duration": 2,
        "start_time": "2022-12-27T07:08:53.763Z"
      },
      {
        "duration": 16,
        "start_time": "2022-12-27T07:08:53.767Z"
      },
      {
        "duration": 68,
        "start_time": "2022-12-27T07:08:53.785Z"
      },
      {
        "duration": 81,
        "start_time": "2022-12-27T07:08:53.855Z"
      },
      {
        "duration": 78,
        "start_time": "2022-12-27T07:08:53.938Z"
      },
      {
        "duration": 28,
        "start_time": "2022-12-27T07:08:54.018Z"
      },
      {
        "duration": 16,
        "start_time": "2022-12-27T07:08:54.049Z"
      },
      {
        "duration": 10,
        "start_time": "2022-12-27T07:08:54.066Z"
      },
      {
        "duration": 24,
        "start_time": "2022-12-27T07:08:54.077Z"
      },
      {
        "duration": 28,
        "start_time": "2022-12-27T07:08:54.103Z"
      },
      {
        "duration": 523,
        "start_time": "2022-12-27T07:08:54.133Z"
      },
      {
        "duration": 49,
        "start_time": "2022-12-27T07:08:54.658Z"
      },
      {
        "duration": 24,
        "start_time": "2022-12-27T07:08:54.709Z"
      },
      {
        "duration": 13,
        "start_time": "2022-12-27T07:08:54.735Z"
      },
      {
        "duration": 421,
        "start_time": "2022-12-27T07:08:54.750Z"
      },
      {
        "duration": 5,
        "start_time": "2022-12-27T07:08:55.174Z"
      },
      {
        "duration": 83,
        "start_time": "2022-12-27T07:08:55.180Z"
      },
      {
        "duration": 5,
        "start_time": "2022-12-27T07:08:55.264Z"
      },
      {
        "duration": 14,
        "start_time": "2022-12-27T07:08:55.270Z"
      },
      {
        "duration": 22,
        "start_time": "2022-12-27T07:08:55.286Z"
      },
      {
        "duration": 32,
        "start_time": "2022-12-27T07:08:55.310Z"
      },
      {
        "duration": 83,
        "start_time": "2022-12-27T07:08:55.343Z"
      },
      {
        "duration": 35,
        "start_time": "2022-12-27T07:08:55.428Z"
      },
      {
        "duration": 6,
        "start_time": "2022-12-27T07:08:55.465Z"
      },
      {
        "duration": 283,
        "start_time": "2022-12-27T07:08:55.474Z"
      },
      {
        "duration": 280,
        "start_time": "2022-12-27T07:08:55.758Z"
      },
      {
        "duration": 282,
        "start_time": "2022-12-27T07:08:56.040Z"
      },
      {
        "duration": 1293,
        "start_time": "2022-12-27T07:08:56.323Z"
      },
      {
        "duration": 0,
        "start_time": "2022-12-27T07:08:57.617Z"
      },
      {
        "duration": 0,
        "start_time": "2022-12-27T07:08:57.618Z"
      },
      {
        "duration": 8,
        "start_time": "2022-12-27T07:12:09.653Z"
      },
      {
        "duration": 7,
        "start_time": "2022-12-27T07:12:13.239Z"
      },
      {
        "duration": 70,
        "start_time": "2022-12-27T07:12:14.231Z"
      },
      {
        "duration": 67,
        "start_time": "2022-12-27T07:12:43.399Z"
      },
      {
        "duration": 62,
        "start_time": "2022-12-27T07:13:06.695Z"
      },
      {
        "duration": 31,
        "start_time": "2022-12-27T07:13:41.311Z"
      },
      {
        "duration": 72,
        "start_time": "2022-12-27T07:14:12.369Z"
      },
      {
        "duration": 69,
        "start_time": "2022-12-27T07:14:28.639Z"
      },
      {
        "duration": 53,
        "start_time": "2022-12-27T07:16:59.523Z"
      },
      {
        "duration": 6,
        "start_time": "2022-12-27T07:17:36.797Z"
      },
      {
        "duration": 72,
        "start_time": "2022-12-27T07:17:48.173Z"
      },
      {
        "duration": 52,
        "start_time": "2022-12-27T07:19:25.396Z"
      },
      {
        "duration": 9,
        "start_time": "2022-12-27T07:20:45.932Z"
      },
      {
        "duration": 274,
        "start_time": "2022-12-27T07:20:56.227Z"
      },
      {
        "duration": 27,
        "start_time": "2022-12-27T07:21:04.565Z"
      },
      {
        "duration": 21,
        "start_time": "2022-12-27T07:21:12.404Z"
      },
      {
        "duration": 279,
        "start_time": "2022-12-27T07:21:22.619Z"
      },
      {
        "duration": 270,
        "start_time": "2022-12-27T07:21:29.339Z"
      },
      {
        "duration": 7,
        "start_time": "2022-12-27T07:22:13.299Z"
      },
      {
        "duration": 10,
        "start_time": "2022-12-27T07:22:18.930Z"
      },
      {
        "duration": 9,
        "start_time": "2022-12-27T07:22:26.506Z"
      },
      {
        "duration": 21,
        "start_time": "2022-12-27T07:22:42.787Z"
      },
      {
        "duration": 34,
        "start_time": "2022-12-27T07:22:47.378Z"
      },
      {
        "duration": 37,
        "start_time": "2022-12-27T07:23:10.011Z"
      },
      {
        "duration": 6,
        "start_time": "2022-12-27T07:23:44.482Z"
      },
      {
        "duration": 7,
        "start_time": "2022-12-27T07:23:45.786Z"
      },
      {
        "duration": 267,
        "start_time": "2022-12-27T07:23:46.666Z"
      },
      {
        "duration": 274,
        "start_time": "2022-12-27T07:23:48.594Z"
      },
      {
        "duration": 268,
        "start_time": "2022-12-27T07:23:50.330Z"
      },
      {
        "duration": 7,
        "start_time": "2022-12-27T07:23:51.362Z"
      },
      {
        "duration": 33,
        "start_time": "2022-12-27T07:23:52.882Z"
      },
      {
        "duration": 5,
        "start_time": "2022-12-27T07:24:50.802Z"
      },
      {
        "duration": 74,
        "start_time": "2022-12-27T07:24:54.234Z"
      },
      {
        "duration": 13,
        "start_time": "2022-12-27T07:26:35.050Z"
      },
      {
        "duration": 1020,
        "start_time": "2022-12-27T07:27:11.713Z"
      },
      {
        "duration": 161,
        "start_time": "2022-12-27T07:27:12.735Z"
      },
      {
        "duration": 19,
        "start_time": "2022-12-27T07:27:12.898Z"
      },
      {
        "duration": 3,
        "start_time": "2022-12-27T07:27:12.919Z"
      },
      {
        "duration": 16,
        "start_time": "2022-12-27T07:27:12.923Z"
      },
      {
        "duration": 78,
        "start_time": "2022-12-27T07:27:12.940Z"
      },
      {
        "duration": 62,
        "start_time": "2022-12-27T07:27:13.019Z"
      },
      {
        "duration": 79,
        "start_time": "2022-12-27T07:27:13.082Z"
      },
      {
        "duration": 36,
        "start_time": "2022-12-27T07:27:13.162Z"
      },
      {
        "duration": 16,
        "start_time": "2022-12-27T07:27:13.200Z"
      },
      {
        "duration": 5,
        "start_time": "2022-12-27T07:27:13.218Z"
      },
      {
        "duration": 5,
        "start_time": "2022-12-27T07:27:13.224Z"
      },
      {
        "duration": 28,
        "start_time": "2022-12-27T07:27:13.231Z"
      },
      {
        "duration": 508,
        "start_time": "2022-12-27T07:27:13.260Z"
      },
      {
        "duration": 40,
        "start_time": "2022-12-27T07:27:13.770Z"
      },
      {
        "duration": 21,
        "start_time": "2022-12-27T07:27:13.812Z"
      },
      {
        "duration": 6,
        "start_time": "2022-12-27T07:27:13.834Z"
      },
      {
        "duration": 397,
        "start_time": "2022-12-27T07:27:13.842Z"
      },
      {
        "duration": 5,
        "start_time": "2022-12-27T07:27:14.240Z"
      },
      {
        "duration": 79,
        "start_time": "2022-12-27T07:27:14.246Z"
      },
      {
        "duration": 5,
        "start_time": "2022-12-27T07:27:14.326Z"
      },
      {
        "duration": 27,
        "start_time": "2022-12-27T07:27:14.332Z"
      },
      {
        "duration": 19,
        "start_time": "2022-12-27T07:27:14.361Z"
      },
      {
        "duration": 56,
        "start_time": "2022-12-27T07:27:14.381Z"
      },
      {
        "duration": 95,
        "start_time": "2022-12-27T07:27:14.438Z"
      },
      {
        "duration": 3,
        "start_time": "2022-12-27T07:27:14.535Z"
      },
      {
        "duration": 18,
        "start_time": "2022-12-27T07:27:14.540Z"
      },
      {
        "duration": 293,
        "start_time": "2022-12-27T07:27:14.562Z"
      },
      {
        "duration": 262,
        "start_time": "2022-12-27T07:27:14.857Z"
      },
      {
        "duration": 264,
        "start_time": "2022-12-27T07:27:15.121Z"
      },
      {
        "duration": 11,
        "start_time": "2022-12-27T07:27:15.386Z"
      },
      {
        "duration": 161,
        "start_time": "2022-12-27T07:27:15.399Z"
      },
      {
        "duration": 54,
        "start_time": "2022-12-27T07:28:54.833Z"
      },
      {
        "duration": 27,
        "start_time": "2022-12-27T07:47:01.551Z"
      },
      {
        "duration": 3,
        "start_time": "2022-12-27T07:48:47.903Z"
      },
      {
        "duration": 74,
        "start_time": "2022-12-27T07:49:57.278Z"
      },
      {
        "duration": 60,
        "start_time": "2022-12-27T07:50:03.630Z"
      },
      {
        "duration": 43,
        "start_time": "2022-12-27T07:50:24.782Z"
      },
      {
        "duration": 44,
        "start_time": "2022-12-27T07:50:33.838Z"
      },
      {
        "duration": 6,
        "start_time": "2022-12-27T07:50:35.653Z"
      },
      {
        "duration": 27,
        "start_time": "2022-12-27T07:50:37.301Z"
      },
      {
        "duration": 48,
        "start_time": "2022-12-27T07:51:04.150Z"
      },
      {
        "duration": 39,
        "start_time": "2022-12-27T07:51:23.646Z"
      },
      {
        "duration": 6,
        "start_time": "2022-12-27T07:51:37.190Z"
      },
      {
        "duration": 4,
        "start_time": "2022-12-27T07:52:04.205Z"
      },
      {
        "duration": 55,
        "start_time": "2022-12-27T07:53:32.484Z"
      },
      {
        "duration": 5,
        "start_time": "2022-12-27T07:53:44.942Z"
      },
      {
        "duration": 131,
        "start_time": "2022-12-27T07:53:59.996Z"
      },
      {
        "duration": 5,
        "start_time": "2022-12-27T07:54:08.644Z"
      },
      {
        "duration": 6,
        "start_time": "2022-12-27T07:55:15.123Z"
      },
      {
        "duration": 4,
        "start_time": "2022-12-27T07:55:22.283Z"
      },
      {
        "duration": 4,
        "start_time": "2022-12-27T07:55:39.548Z"
      },
      {
        "duration": 4,
        "start_time": "2022-12-27T07:55:43.483Z"
      },
      {
        "duration": 4,
        "start_time": "2022-12-27T07:55:56.267Z"
      },
      {
        "duration": 7,
        "start_time": "2022-12-27T07:58:00.954Z"
      },
      {
        "duration": 4,
        "start_time": "2022-12-27T07:58:02.474Z"
      },
      {
        "duration": 64,
        "start_time": "2022-12-27T07:59:30.936Z"
      },
      {
        "duration": 4,
        "start_time": "2022-12-27T08:00:34.913Z"
      },
      {
        "duration": 5,
        "start_time": "2022-12-27T08:00:35.440Z"
      },
      {
        "duration": 246,
        "start_time": "2022-12-27T08:04:07.543Z"
      },
      {
        "duration": 235,
        "start_time": "2022-12-27T08:04:44.946Z"
      },
      {
        "duration": 33,
        "start_time": "2022-12-27T08:10:30.800Z"
      },
      {
        "duration": 7,
        "start_time": "2022-12-27T08:10:37.429Z"
      },
      {
        "duration": 224,
        "start_time": "2022-12-27T08:10:38.148Z"
      },
      {
        "duration": 236,
        "start_time": "2022-12-27T08:10:39.997Z"
      },
      {
        "duration": 226,
        "start_time": "2022-12-27T08:10:41.316Z"
      },
      {
        "duration": 21,
        "start_time": "2022-12-27T08:11:14.820Z"
      },
      {
        "duration": 6,
        "start_time": "2022-12-27T08:11:16.897Z"
      },
      {
        "duration": 232,
        "start_time": "2022-12-27T08:11:17.475Z"
      },
      {
        "duration": 246,
        "start_time": "2022-12-27T08:11:25.540Z"
      },
      {
        "duration": 235,
        "start_time": "2022-12-27T08:11:31.955Z"
      },
      {
        "duration": 6,
        "start_time": "2022-12-27T08:12:57.379Z"
      },
      {
        "duration": 14,
        "start_time": "2022-12-27T08:13:09.283Z"
      },
      {
        "duration": 1070,
        "start_time": "2022-12-27T08:13:26.568Z"
      },
      {
        "duration": 158,
        "start_time": "2022-12-27T08:13:27.640Z"
      },
      {
        "duration": 18,
        "start_time": "2022-12-27T08:13:27.799Z"
      },
      {
        "duration": 3,
        "start_time": "2022-12-27T08:13:27.819Z"
      },
      {
        "duration": 16,
        "start_time": "2022-12-27T08:13:27.823Z"
      },
      {
        "duration": 76,
        "start_time": "2022-12-27T08:13:27.840Z"
      },
      {
        "duration": 80,
        "start_time": "2022-12-27T08:13:27.917Z"
      },
      {
        "duration": 70,
        "start_time": "2022-12-27T08:13:27.999Z"
      },
      {
        "duration": 39,
        "start_time": "2022-12-27T08:13:28.071Z"
      },
      {
        "duration": 40,
        "start_time": "2022-12-27T08:13:28.113Z"
      },
      {
        "duration": 3,
        "start_time": "2022-12-27T08:13:28.155Z"
      },
      {
        "duration": 8,
        "start_time": "2022-12-27T08:13:28.160Z"
      },
      {
        "duration": 9,
        "start_time": "2022-12-27T08:13:28.170Z"
      },
      {
        "duration": 36,
        "start_time": "2022-12-27T08:13:28.181Z"
      },
      {
        "duration": 482,
        "start_time": "2022-12-27T08:13:28.219Z"
      },
      {
        "duration": 38,
        "start_time": "2022-12-27T08:13:28.703Z"
      },
      {
        "duration": 20,
        "start_time": "2022-12-27T08:13:28.742Z"
      },
      {
        "duration": 10,
        "start_time": "2022-12-27T08:13:28.763Z"
      },
      {
        "duration": 408,
        "start_time": "2022-12-27T08:13:28.774Z"
      },
      {
        "duration": 4,
        "start_time": "2022-12-27T08:13:29.184Z"
      },
      {
        "duration": 65,
        "start_time": "2022-12-27T08:13:29.197Z"
      },
      {
        "duration": 5,
        "start_time": "2022-12-27T08:13:29.263Z"
      },
      {
        "duration": 10,
        "start_time": "2022-12-27T08:13:29.270Z"
      },
      {
        "duration": 23,
        "start_time": "2022-12-27T08:13:29.281Z"
      },
      {
        "duration": 37,
        "start_time": "2022-12-27T08:13:29.306Z"
      },
      {
        "duration": 104,
        "start_time": "2022-12-27T08:13:29.345Z"
      },
      {
        "duration": 6,
        "start_time": "2022-12-27T08:13:29.451Z"
      },
      {
        "duration": 287,
        "start_time": "2022-12-27T08:13:29.460Z"
      },
      {
        "duration": 270,
        "start_time": "2022-12-27T08:13:29.750Z"
      },
      {
        "duration": 298,
        "start_time": "2022-12-27T08:13:30.022Z"
      },
      {
        "duration": 15,
        "start_time": "2022-12-27T08:13:30.322Z"
      },
      {
        "duration": 149,
        "start_time": "2022-12-27T08:13:30.338Z"
      },
      {
        "duration": 33,
        "start_time": "2022-12-27T08:14:13.006Z"
      },
      {
        "duration": 249,
        "start_time": "2022-12-27T08:14:40.977Z"
      },
      {
        "duration": 34,
        "start_time": "2022-12-27T08:16:12.721Z"
      },
      {
        "duration": 268,
        "start_time": "2022-12-27T08:19:52.574Z"
      },
      {
        "duration": 2095,
        "start_time": "2022-12-27T08:20:01.487Z"
      },
      {
        "duration": 1408,
        "start_time": "2022-12-27T08:20:03.766Z"
      },
      {
        "duration": 977,
        "start_time": "2022-12-27T08:20:05.263Z"
      },
      {
        "duration": 1053,
        "start_time": "2022-12-27T08:20:33.499Z"
      },
      {
        "duration": 211,
        "start_time": "2022-12-27T08:20:34.554Z"
      },
      {
        "duration": 36,
        "start_time": "2022-12-27T08:20:34.767Z"
      },
      {
        "duration": 6,
        "start_time": "2022-12-27T08:20:34.805Z"
      },
      {
        "duration": 26,
        "start_time": "2022-12-27T08:20:34.812Z"
      },
      {
        "duration": 71,
        "start_time": "2022-12-27T08:20:34.840Z"
      },
      {
        "duration": 63,
        "start_time": "2022-12-27T08:20:34.913Z"
      },
      {
        "duration": 80,
        "start_time": "2022-12-27T08:20:34.977Z"
      },
      {
        "duration": 28,
        "start_time": "2022-12-27T08:20:35.059Z"
      },
      {
        "duration": 28,
        "start_time": "2022-12-27T08:20:35.098Z"
      },
      {
        "duration": 5,
        "start_time": "2022-12-27T08:20:35.128Z"
      },
      {
        "duration": 10,
        "start_time": "2022-12-27T08:20:35.134Z"
      },
      {
        "duration": 6,
        "start_time": "2022-12-27T08:20:35.145Z"
      },
      {
        "duration": 58,
        "start_time": "2022-12-27T08:20:35.152Z"
      },
      {
        "duration": 480,
        "start_time": "2022-12-27T08:20:35.212Z"
      },
      {
        "duration": 36,
        "start_time": "2022-12-27T08:20:35.698Z"
      },
      {
        "duration": 20,
        "start_time": "2022-12-27T08:20:35.735Z"
      },
      {
        "duration": 4,
        "start_time": "2022-12-27T08:20:35.757Z"
      },
      {
        "duration": 405,
        "start_time": "2022-12-27T08:20:35.762Z"
      },
      {
        "duration": 5,
        "start_time": "2022-12-27T08:20:36.169Z"
      },
      {
        "duration": 78,
        "start_time": "2022-12-27T08:20:36.176Z"
      },
      {
        "duration": 5,
        "start_time": "2022-12-27T08:20:36.256Z"
      },
      {
        "duration": 7,
        "start_time": "2022-12-27T08:20:36.262Z"
      },
      {
        "duration": 28,
        "start_time": "2022-12-27T08:20:36.271Z"
      },
      {
        "duration": 29,
        "start_time": "2022-12-27T08:20:36.301Z"
      },
      {
        "duration": 94,
        "start_time": "2022-12-27T08:20:36.332Z"
      },
      {
        "duration": 6,
        "start_time": "2022-12-27T08:20:36.428Z"
      },
      {
        "duration": 261,
        "start_time": "2022-12-27T08:20:36.437Z"
      },
      {
        "duration": 265,
        "start_time": "2022-12-27T08:20:36.700Z"
      },
      {
        "duration": 281,
        "start_time": "2022-12-27T08:20:36.967Z"
      },
      {
        "duration": 48,
        "start_time": "2022-12-27T08:20:37.250Z"
      },
      {
        "duration": 313,
        "start_time": "2022-12-27T08:20:37.300Z"
      },
      {
        "duration": 288,
        "start_time": "2022-12-27T08:20:37.615Z"
      },
      {
        "duration": 940,
        "start_time": "2022-12-27T08:20:37.904Z"
      },
      {
        "duration": 5,
        "start_time": "2022-12-27T08:21:45.791Z"
      },
      {
        "duration": 5,
        "start_time": "2022-12-27T08:23:27.005Z"
      },
      {
        "duration": 1024,
        "start_time": "2022-12-27T08:23:34.118Z"
      },
      {
        "duration": 161,
        "start_time": "2022-12-27T08:23:35.144Z"
      },
      {
        "duration": 18,
        "start_time": "2022-12-27T08:23:35.307Z"
      },
      {
        "duration": 16,
        "start_time": "2022-12-27T08:23:35.327Z"
      },
      {
        "duration": 31,
        "start_time": "2022-12-27T08:23:35.344Z"
      },
      {
        "duration": 84,
        "start_time": "2022-12-27T08:23:35.376Z"
      },
      {
        "duration": 66,
        "start_time": "2022-12-27T08:23:35.462Z"
      },
      {
        "duration": 72,
        "start_time": "2022-12-27T08:23:35.530Z"
      },
      {
        "duration": 31,
        "start_time": "2022-12-27T08:23:35.603Z"
      },
      {
        "duration": 29,
        "start_time": "2022-12-27T08:23:35.638Z"
      },
      {
        "duration": 4,
        "start_time": "2022-12-27T08:23:35.669Z"
      },
      {
        "duration": 6,
        "start_time": "2022-12-27T08:23:35.698Z"
      },
      {
        "duration": 5,
        "start_time": "2022-12-27T08:23:35.705Z"
      },
      {
        "duration": 30,
        "start_time": "2022-12-27T08:23:35.712Z"
      },
      {
        "duration": 475,
        "start_time": "2022-12-27T08:23:35.744Z"
      },
      {
        "duration": 34,
        "start_time": "2022-12-27T08:23:36.220Z"
      },
      {
        "duration": 19,
        "start_time": "2022-12-27T08:23:36.256Z"
      },
      {
        "duration": 21,
        "start_time": "2022-12-27T08:23:36.277Z"
      },
      {
        "duration": 381,
        "start_time": "2022-12-27T08:23:36.300Z"
      },
      {
        "duration": 5,
        "start_time": "2022-12-27T08:23:36.682Z"
      },
      {
        "duration": 71,
        "start_time": "2022-12-27T08:23:36.688Z"
      },
      {
        "duration": 4,
        "start_time": "2022-12-27T08:23:36.761Z"
      },
      {
        "duration": 8,
        "start_time": "2022-12-27T08:23:36.767Z"
      },
      {
        "duration": 29,
        "start_time": "2022-12-27T08:23:36.777Z"
      },
      {
        "duration": 31,
        "start_time": "2022-12-27T08:23:36.807Z"
      },
      {
        "duration": 80,
        "start_time": "2022-12-27T08:23:36.840Z"
      },
      {
        "duration": 6,
        "start_time": "2022-12-27T08:23:36.922Z"
      },
      {
        "duration": 257,
        "start_time": "2022-12-27T08:23:36.930Z"
      },
      {
        "duration": 261,
        "start_time": "2022-12-27T08:23:37.189Z"
      },
      {
        "duration": 264,
        "start_time": "2022-12-27T08:23:37.452Z"
      },
      {
        "duration": 5,
        "start_time": "2022-12-27T08:23:37.717Z"
      },
      {
        "duration": 36,
        "start_time": "2022-12-27T08:23:37.723Z"
      },
      {
        "duration": 274,
        "start_time": "2022-12-27T08:23:37.760Z"
      },
      {
        "duration": 249,
        "start_time": "2022-12-27T08:23:38.035Z"
      },
      {
        "duration": 21,
        "start_time": "2022-12-27T08:23:38.285Z"
      },
      {
        "duration": 357,
        "start_time": "2022-12-27T08:25:19.660Z"
      },
      {
        "duration": 1011,
        "start_time": "2022-12-27T08:25:26.312Z"
      },
      {
        "duration": 164,
        "start_time": "2022-12-27T08:25:27.325Z"
      },
      {
        "duration": 24,
        "start_time": "2022-12-27T08:25:27.491Z"
      },
      {
        "duration": 3,
        "start_time": "2022-12-27T08:25:27.517Z"
      },
      {
        "duration": 20,
        "start_time": "2022-12-27T08:25:27.521Z"
      },
      {
        "duration": 77,
        "start_time": "2022-12-27T08:25:27.542Z"
      },
      {
        "duration": 64,
        "start_time": "2022-12-27T08:25:27.621Z"
      },
      {
        "duration": 76,
        "start_time": "2022-12-27T08:25:27.686Z"
      },
      {
        "duration": 39,
        "start_time": "2022-12-27T08:25:27.763Z"
      },
      {
        "duration": 37,
        "start_time": "2022-12-27T08:25:27.804Z"
      },
      {
        "duration": 3,
        "start_time": "2022-12-27T08:25:27.842Z"
      },
      {
        "duration": 28,
        "start_time": "2022-12-27T08:25:27.846Z"
      },
      {
        "duration": 16,
        "start_time": "2022-12-27T08:25:27.875Z"
      },
      {
        "duration": 49,
        "start_time": "2022-12-27T08:25:27.892Z"
      },
      {
        "duration": 468,
        "start_time": "2022-12-27T08:25:27.942Z"
      },
      {
        "duration": 37,
        "start_time": "2022-12-27T08:25:28.412Z"
      },
      {
        "duration": 28,
        "start_time": "2022-12-27T08:25:28.450Z"
      },
      {
        "duration": 17,
        "start_time": "2022-12-27T08:25:28.480Z"
      },
      {
        "duration": 377,
        "start_time": "2022-12-27T08:25:28.498Z"
      },
      {
        "duration": 4,
        "start_time": "2022-12-27T08:25:28.877Z"
      },
      {
        "duration": 80,
        "start_time": "2022-12-27T08:25:28.882Z"
      },
      {
        "duration": 4,
        "start_time": "2022-12-27T08:25:28.964Z"
      },
      {
        "duration": 19,
        "start_time": "2022-12-27T08:25:28.970Z"
      },
      {
        "duration": 27,
        "start_time": "2022-12-27T08:25:28.990Z"
      },
      {
        "duration": 39,
        "start_time": "2022-12-27T08:25:29.019Z"
      },
      {
        "duration": 69,
        "start_time": "2022-12-27T08:25:29.059Z"
      },
      {
        "duration": 6,
        "start_time": "2022-12-27T08:25:29.130Z"
      },
      {
        "duration": 247,
        "start_time": "2022-12-27T08:25:29.138Z"
      },
      {
        "duration": 263,
        "start_time": "2022-12-27T08:25:29.386Z"
      },
      {
        "duration": 277,
        "start_time": "2022-12-27T08:25:29.650Z"
      },
      {
        "duration": 4,
        "start_time": "2022-12-27T08:25:29.929Z"
      },
      {
        "duration": 562,
        "start_time": "2022-12-27T08:25:29.935Z"
      },
      {
        "duration": 186,
        "start_time": "2022-12-27T08:25:30.498Z"
      },
      {
        "duration": 0,
        "start_time": "2022-12-27T08:25:30.686Z"
      },
      {
        "duration": 0,
        "start_time": "2022-12-27T08:25:30.687Z"
      },
      {
        "duration": 14,
        "start_time": "2022-12-27T08:26:42.707Z"
      },
      {
        "duration": 1004,
        "start_time": "2022-12-27T08:26:57.154Z"
      },
      {
        "duration": 167,
        "start_time": "2022-12-27T08:26:58.160Z"
      },
      {
        "duration": 19,
        "start_time": "2022-12-27T08:26:58.328Z"
      },
      {
        "duration": 3,
        "start_time": "2022-12-27T08:26:58.349Z"
      },
      {
        "duration": 22,
        "start_time": "2022-12-27T08:26:58.353Z"
      },
      {
        "duration": 76,
        "start_time": "2022-12-27T08:26:58.376Z"
      },
      {
        "duration": 82,
        "start_time": "2022-12-27T08:26:58.454Z"
      },
      {
        "duration": 76,
        "start_time": "2022-12-27T08:26:58.537Z"
      },
      {
        "duration": 31,
        "start_time": "2022-12-27T08:26:58.615Z"
      },
      {
        "duration": 30,
        "start_time": "2022-12-27T08:26:58.649Z"
      },
      {
        "duration": 4,
        "start_time": "2022-12-27T08:26:58.698Z"
      },
      {
        "duration": 11,
        "start_time": "2022-12-27T08:26:58.704Z"
      },
      {
        "duration": 7,
        "start_time": "2022-12-27T08:26:58.717Z"
      },
      {
        "duration": 34,
        "start_time": "2022-12-27T08:26:58.726Z"
      },
      {
        "duration": 515,
        "start_time": "2022-12-27T08:26:58.762Z"
      },
      {
        "duration": 47,
        "start_time": "2022-12-27T08:26:59.278Z"
      },
      {
        "duration": 22,
        "start_time": "2022-12-27T08:26:59.327Z"
      },
      {
        "duration": 4,
        "start_time": "2022-12-27T08:26:59.351Z"
      },
      {
        "duration": 406,
        "start_time": "2022-12-27T08:26:59.357Z"
      },
      {
        "duration": 5,
        "start_time": "2022-12-27T08:26:59.765Z"
      },
      {
        "duration": 116,
        "start_time": "2022-12-27T08:26:59.772Z"
      },
      {
        "duration": 5,
        "start_time": "2022-12-27T08:26:59.889Z"
      },
      {
        "duration": 23,
        "start_time": "2022-12-27T08:26:59.895Z"
      },
      {
        "duration": 19,
        "start_time": "2022-12-27T08:26:59.920Z"
      },
      {
        "duration": 34,
        "start_time": "2022-12-27T08:26:59.941Z"
      },
      {
        "duration": 82,
        "start_time": "2022-12-27T08:26:59.976Z"
      },
      {
        "duration": 6,
        "start_time": "2022-12-27T08:27:00.060Z"
      },
      {
        "duration": 318,
        "start_time": "2022-12-27T08:27:00.069Z"
      },
      {
        "duration": 314,
        "start_time": "2022-12-27T08:27:00.388Z"
      },
      {
        "duration": 308,
        "start_time": "2022-12-27T08:27:00.704Z"
      },
      {
        "duration": 5,
        "start_time": "2022-12-27T08:27:01.014Z"
      },
      {
        "duration": 110,
        "start_time": "2022-12-27T08:27:01.021Z"
      },
      {
        "duration": 323,
        "start_time": "2022-12-27T08:27:01.133Z"
      },
      {
        "duration": 293,
        "start_time": "2022-12-27T08:27:01.457Z"
      },
      {
        "duration": 5,
        "start_time": "2022-12-27T08:27:01.751Z"
      },
      {
        "duration": 13,
        "start_time": "2022-12-27T08:27:28.204Z"
      },
      {
        "duration": 23,
        "start_time": "2022-12-27T08:27:45.755Z"
      },
      {
        "duration": 27,
        "start_time": "2022-12-27T08:28:39.843Z"
      },
      {
        "duration": 20,
        "start_time": "2022-12-27T08:29:01.963Z"
      },
      {
        "duration": 32,
        "start_time": "2022-12-27T08:30:12.075Z"
      },
      {
        "duration": 1016,
        "start_time": "2022-12-27T08:30:19.043Z"
      },
      {
        "duration": 174,
        "start_time": "2022-12-27T08:30:20.061Z"
      },
      {
        "duration": 19,
        "start_time": "2022-12-27T08:30:20.237Z"
      },
      {
        "duration": 11,
        "start_time": "2022-12-27T08:30:20.258Z"
      },
      {
        "duration": 23,
        "start_time": "2022-12-27T08:30:20.270Z"
      },
      {
        "duration": 77,
        "start_time": "2022-12-27T08:30:20.297Z"
      },
      {
        "duration": 67,
        "start_time": "2022-12-27T08:30:20.376Z"
      },
      {
        "duration": 78,
        "start_time": "2022-12-27T08:30:20.445Z"
      },
      {
        "duration": 28,
        "start_time": "2022-12-27T08:30:20.524Z"
      },
      {
        "duration": 38,
        "start_time": "2022-12-27T08:30:20.555Z"
      },
      {
        "duration": 3,
        "start_time": "2022-12-27T08:30:20.597Z"
      },
      {
        "duration": 35,
        "start_time": "2022-12-27T08:30:20.602Z"
      },
      {
        "duration": 28,
        "start_time": "2022-12-27T08:30:20.638Z"
      },
      {
        "duration": 47,
        "start_time": "2022-12-27T08:30:20.667Z"
      },
      {
        "duration": 474,
        "start_time": "2022-12-27T08:30:20.716Z"
      },
      {
        "duration": 41,
        "start_time": "2022-12-27T08:30:21.191Z"
      },
      {
        "duration": 43,
        "start_time": "2022-12-27T08:30:21.234Z"
      },
      {
        "duration": 17,
        "start_time": "2022-12-27T08:30:21.278Z"
      },
      {
        "duration": 397,
        "start_time": "2022-12-27T08:30:21.296Z"
      },
      {
        "duration": 5,
        "start_time": "2022-12-27T08:30:21.697Z"
      },
      {
        "duration": 86,
        "start_time": "2022-12-27T08:30:21.703Z"
      },
      {
        "duration": 8,
        "start_time": "2022-12-27T08:30:21.790Z"
      },
      {
        "duration": 11,
        "start_time": "2022-12-27T08:30:21.799Z"
      },
      {
        "duration": 14,
        "start_time": "2022-12-27T08:30:21.812Z"
      },
      {
        "duration": 62,
        "start_time": "2022-12-27T08:30:21.828Z"
      },
      {
        "duration": 78,
        "start_time": "2022-12-27T08:30:21.891Z"
      },
      {
        "duration": 8,
        "start_time": "2022-12-27T08:30:21.971Z"
      },
      {
        "duration": 276,
        "start_time": "2022-12-27T08:30:21.997Z"
      },
      {
        "duration": 300,
        "start_time": "2022-12-27T08:30:22.274Z"
      },
      {
        "duration": 282,
        "start_time": "2022-12-27T08:30:22.575Z"
      },
      {
        "duration": 5,
        "start_time": "2022-12-27T08:30:22.859Z"
      },
      {
        "duration": 48,
        "start_time": "2022-12-27T08:30:22.865Z"
      },
      {
        "duration": 19,
        "start_time": "2022-12-27T08:30:22.915Z"
      },
      {
        "duration": 286,
        "start_time": "2022-12-27T08:30:22.935Z"
      },
      {
        "duration": 283,
        "start_time": "2022-12-27T08:30:23.222Z"
      },
      {
        "duration": 4,
        "start_time": "2022-12-27T08:30:23.507Z"
      },
      {
        "duration": 13,
        "start_time": "2022-12-27T08:30:28.402Z"
      },
      {
        "duration": 53,
        "start_time": "2022-12-27T08:31:37.578Z"
      },
      {
        "duration": 225,
        "start_time": "2022-12-27T08:31:46.600Z"
      },
      {
        "duration": 271,
        "start_time": "2022-12-27T08:31:50.201Z"
      },
      {
        "duration": 239,
        "start_time": "2022-12-27T08:32:01.858Z"
      },
      {
        "duration": 243,
        "start_time": "2022-12-27T08:32:11.257Z"
      },
      {
        "duration": 241,
        "start_time": "2022-12-27T08:32:30.049Z"
      },
      {
        "duration": 6,
        "start_time": "2022-12-27T08:36:34.807Z"
      },
      {
        "duration": 233,
        "start_time": "2022-12-27T08:36:35.247Z"
      },
      {
        "duration": 243,
        "start_time": "2022-12-27T08:36:36.247Z"
      },
      {
        "duration": 226,
        "start_time": "2022-12-27T08:36:36.608Z"
      },
      {
        "duration": 5,
        "start_time": "2022-12-27T08:36:37.318Z"
      },
      {
        "duration": 38,
        "start_time": "2022-12-27T08:36:37.655Z"
      },
      {
        "duration": 219,
        "start_time": "2022-12-27T08:36:38.080Z"
      },
      {
        "duration": 231,
        "start_time": "2022-12-27T08:36:39.318Z"
      },
      {
        "duration": 233,
        "start_time": "2022-12-27T08:36:39.670Z"
      },
      {
        "duration": 240,
        "start_time": "2022-12-27T08:36:40.063Z"
      },
      {
        "duration": 231,
        "start_time": "2022-12-27T08:36:40.393Z"
      },
      {
        "duration": 19,
        "start_time": "2022-12-27T10:44:57.599Z"
      },
      {
        "duration": 83,
        "start_time": "2022-12-27T10:46:11.507Z"
      },
      {
        "duration": 8,
        "start_time": "2022-12-27T10:47:23.250Z"
      },
      {
        "duration": 4,
        "start_time": "2022-12-27T10:47:56.906Z"
      },
      {
        "duration": 4,
        "start_time": "2022-12-27T10:48:07.585Z"
      },
      {
        "duration": 5,
        "start_time": "2022-12-27T10:48:42.738Z"
      },
      {
        "duration": 9,
        "start_time": "2022-12-27T10:48:51.841Z"
      },
      {
        "duration": 1143,
        "start_time": "2022-12-27T10:49:37.673Z"
      },
      {
        "duration": 165,
        "start_time": "2022-12-27T10:49:38.817Z"
      },
      {
        "duration": 23,
        "start_time": "2022-12-27T10:49:38.984Z"
      },
      {
        "duration": 6,
        "start_time": "2022-12-27T10:49:39.009Z"
      },
      {
        "duration": 28,
        "start_time": "2022-12-27T10:49:39.017Z"
      },
      {
        "duration": 63,
        "start_time": "2022-12-27T10:49:39.046Z"
      },
      {
        "duration": 73,
        "start_time": "2022-12-27T10:49:39.110Z"
      },
      {
        "duration": 80,
        "start_time": "2022-12-27T10:49:39.185Z"
      },
      {
        "duration": 42,
        "start_time": "2022-12-27T10:49:39.266Z"
      },
      {
        "duration": 29,
        "start_time": "2022-12-27T10:49:39.312Z"
      },
      {
        "duration": 3,
        "start_time": "2022-12-27T10:49:39.342Z"
      },
      {
        "duration": 7,
        "start_time": "2022-12-27T10:49:39.347Z"
      },
      {
        "duration": 5,
        "start_time": "2022-12-27T10:49:39.355Z"
      },
      {
        "duration": 58,
        "start_time": "2022-12-27T10:49:39.362Z"
      },
      {
        "duration": 479,
        "start_time": "2022-12-27T10:49:39.422Z"
      },
      {
        "duration": 36,
        "start_time": "2022-12-27T10:49:39.902Z"
      },
      {
        "duration": 25,
        "start_time": "2022-12-27T10:49:39.940Z"
      },
      {
        "duration": 4,
        "start_time": "2022-12-27T10:49:39.966Z"
      },
      {
        "duration": 32,
        "start_time": "2022-12-27T10:49:39.971Z"
      },
      {
        "duration": 3,
        "start_time": "2022-12-27T10:49:40.005Z"
      },
      {
        "duration": 18,
        "start_time": "2022-12-27T10:49:40.010Z"
      },
      {
        "duration": 418,
        "start_time": "2022-12-27T10:49:40.030Z"
      },
      {
        "duration": 6,
        "start_time": "2022-12-27T10:49:40.450Z"
      },
      {
        "duration": 83,
        "start_time": "2022-12-27T10:49:40.457Z"
      },
      {
        "duration": 21,
        "start_time": "2022-12-27T10:49:40.542Z"
      },
      {
        "duration": 4,
        "start_time": "2022-12-27T10:49:40.565Z"
      },
      {
        "duration": 34,
        "start_time": "2022-12-27T10:49:40.571Z"
      },
      {
        "duration": 33,
        "start_time": "2022-12-27T10:49:40.608Z"
      },
      {
        "duration": 93,
        "start_time": "2022-12-27T10:49:40.642Z"
      },
      {
        "duration": 7,
        "start_time": "2022-12-27T10:49:40.737Z"
      },
      {
        "duration": 214,
        "start_time": "2022-12-27T10:49:40.745Z"
      },
      {
        "duration": 212,
        "start_time": "2022-12-27T10:49:40.961Z"
      },
      {
        "duration": 209,
        "start_time": "2022-12-27T10:49:41.174Z"
      },
      {
        "duration": 14,
        "start_time": "2022-12-27T10:49:41.384Z"
      },
      {
        "duration": 41,
        "start_time": "2022-12-27T10:49:41.399Z"
      },
      {
        "duration": 206,
        "start_time": "2022-12-27T10:49:41.442Z"
      },
      {
        "duration": 214,
        "start_time": "2022-12-27T10:49:41.650Z"
      },
      {
        "duration": 223,
        "start_time": "2022-12-27T10:49:41.866Z"
      },
      {
        "duration": 214,
        "start_time": "2022-12-27T10:49:42.091Z"
      },
      {
        "duration": 206,
        "start_time": "2022-12-27T10:49:42.306Z"
      },
      {
        "duration": 9,
        "start_time": "2022-12-27T10:50:45.936Z"
      },
      {
        "duration": 1214,
        "start_time": "2022-12-27T10:50:53.662Z"
      },
      {
        "duration": 189,
        "start_time": "2022-12-27T10:50:54.878Z"
      },
      {
        "duration": 21,
        "start_time": "2022-12-27T10:50:55.069Z"
      },
      {
        "duration": 14,
        "start_time": "2022-12-27T10:50:55.098Z"
      },
      {
        "duration": 21,
        "start_time": "2022-12-27T10:50:55.114Z"
      },
      {
        "duration": 78,
        "start_time": "2022-12-27T10:50:55.137Z"
      },
      {
        "duration": 66,
        "start_time": "2022-12-27T10:50:55.216Z"
      },
      {
        "duration": 86,
        "start_time": "2022-12-27T10:50:55.284Z"
      },
      {
        "duration": 45,
        "start_time": "2022-12-27T10:50:55.372Z"
      },
      {
        "duration": 27,
        "start_time": "2022-12-27T10:50:55.419Z"
      },
      {
        "duration": 3,
        "start_time": "2022-12-27T10:50:55.447Z"
      },
      {
        "duration": 7,
        "start_time": "2022-12-27T10:50:55.451Z"
      },
      {
        "duration": 11,
        "start_time": "2022-12-27T10:50:55.459Z"
      },
      {
        "duration": 52,
        "start_time": "2022-12-27T10:50:55.471Z"
      },
      {
        "duration": 517,
        "start_time": "2022-12-27T10:50:55.524Z"
      },
      {
        "duration": 34,
        "start_time": "2022-12-27T10:50:56.043Z"
      },
      {
        "duration": 35,
        "start_time": "2022-12-27T10:50:56.078Z"
      },
      {
        "duration": 4,
        "start_time": "2022-12-27T10:50:56.114Z"
      },
      {
        "duration": 17,
        "start_time": "2022-12-27T10:50:56.119Z"
      },
      {
        "duration": 4,
        "start_time": "2022-12-27T10:50:56.137Z"
      },
      {
        "duration": 10,
        "start_time": "2022-12-27T10:50:56.142Z"
      },
      {
        "duration": 418,
        "start_time": "2022-12-27T10:50:56.153Z"
      },
      {
        "duration": 5,
        "start_time": "2022-12-27T10:50:56.573Z"
      },
      {
        "duration": 96,
        "start_time": "2022-12-27T10:50:56.580Z"
      },
      {
        "duration": 35,
        "start_time": "2022-12-27T10:50:56.678Z"
      },
      {
        "duration": 4,
        "start_time": "2022-12-27T10:50:56.715Z"
      },
      {
        "duration": 17,
        "start_time": "2022-12-27T10:50:56.720Z"
      },
      {
        "duration": 41,
        "start_time": "2022-12-27T10:50:56.740Z"
      },
      {
        "duration": 87,
        "start_time": "2022-12-27T10:50:56.782Z"
      },
      {
        "duration": 10,
        "start_time": "2022-12-27T10:50:56.871Z"
      },
      {
        "duration": 261,
        "start_time": "2022-12-27T10:50:56.883Z"
      },
      {
        "duration": 232,
        "start_time": "2022-12-27T10:50:57.145Z"
      },
      {
        "duration": 236,
        "start_time": "2022-12-27T10:50:57.379Z"
      },
      {
        "duration": 6,
        "start_time": "2022-12-27T10:50:57.617Z"
      },
      {
        "duration": 41,
        "start_time": "2022-12-27T10:50:57.625Z"
      },
      {
        "duration": 235,
        "start_time": "2022-12-27T10:50:57.667Z"
      },
      {
        "duration": 237,
        "start_time": "2022-12-27T10:50:57.904Z"
      },
      {
        "duration": 225,
        "start_time": "2022-12-27T10:50:58.143Z"
      },
      {
        "duration": 228,
        "start_time": "2022-12-27T10:50:58.369Z"
      },
      {
        "duration": 224,
        "start_time": "2022-12-27T10:50:58.599Z"
      },
      {
        "duration": 122,
        "start_time": "2022-12-27T11:15:42.642Z"
      },
      {
        "duration": 2,
        "start_time": "2022-12-27T11:15:53.308Z"
      },
      {
        "duration": 19,
        "start_time": "2022-12-27T11:16:00.971Z"
      },
      {
        "duration": 62,
        "start_time": "2022-12-27T11:17:06.642Z"
      },
      {
        "duration": 66,
        "start_time": "2022-12-27T11:17:36.267Z"
      },
      {
        "duration": 19,
        "start_time": "2022-12-27T11:17:44.497Z"
      },
      {
        "duration": 5,
        "start_time": "2022-12-27T11:17:45.341Z"
      },
      {
        "duration": 10,
        "start_time": "2022-12-27T11:17:46.554Z"
      },
      {
        "duration": 441,
        "start_time": "2022-12-27T11:17:50.675Z"
      },
      {
        "duration": 68,
        "start_time": "2022-12-27T11:18:46.018Z"
      },
      {
        "duration": 23,
        "start_time": "2022-12-27T11:18:50.026Z"
      },
      {
        "duration": 4,
        "start_time": "2022-12-27T11:18:50.514Z"
      },
      {
        "duration": 10,
        "start_time": "2022-12-27T11:18:51.314Z"
      },
      {
        "duration": 39,
        "start_time": "2022-12-27T11:19:00.946Z"
      },
      {
        "duration": 67,
        "start_time": "2022-12-27T11:23:56.880Z"
      },
      {
        "duration": 63,
        "start_time": "2022-12-27T11:24:41.271Z"
      },
      {
        "duration": 65,
        "start_time": "2022-12-27T11:24:48.815Z"
      },
      {
        "duration": 4,
        "start_time": "2022-12-27T11:25:12.175Z"
      },
      {
        "duration": 7,
        "start_time": "2022-12-27T11:25:55.983Z"
      },
      {
        "duration": 11,
        "start_time": "2022-12-27T11:26:06.948Z"
      },
      {
        "duration": 11,
        "start_time": "2022-12-27T11:26:48.287Z"
      },
      {
        "duration": 26,
        "start_time": "2022-12-27T11:26:53.494Z"
      },
      {
        "duration": 18,
        "start_time": "2022-12-27T11:27:57.103Z"
      },
      {
        "duration": 21,
        "start_time": "2022-12-27T11:28:20.998Z"
      },
      {
        "duration": 21,
        "start_time": "2022-12-27T11:29:25.723Z"
      },
      {
        "duration": 17,
        "start_time": "2022-12-27T11:29:57.645Z"
      },
      {
        "duration": 20,
        "start_time": "2022-12-27T11:30:22.558Z"
      },
      {
        "duration": 79,
        "start_time": "2022-12-27T11:30:54.850Z"
      },
      {
        "duration": 11,
        "start_time": "2022-12-27T11:31:18.428Z"
      },
      {
        "duration": 16,
        "start_time": "2022-12-27T11:31:22.019Z"
      },
      {
        "duration": 15,
        "start_time": "2022-12-27T11:32:04.106Z"
      },
      {
        "duration": 45,
        "start_time": "2022-12-27T11:32:10.922Z"
      },
      {
        "duration": 66,
        "start_time": "2022-12-27T11:32:55.355Z"
      },
      {
        "duration": 72,
        "start_time": "2022-12-27T11:33:00.409Z"
      },
      {
        "duration": 16,
        "start_time": "2022-12-27T11:33:01.863Z"
      },
      {
        "duration": 46,
        "start_time": "2022-12-27T11:33:03.064Z"
      },
      {
        "duration": 39,
        "start_time": "2022-12-27T11:33:25.416Z"
      },
      {
        "duration": 38,
        "start_time": "2022-12-27T11:33:44.244Z"
      },
      {
        "duration": 5,
        "start_time": "2022-12-27T11:35:14.157Z"
      },
      {
        "duration": 18,
        "start_time": "2022-12-27T11:36:27.028Z"
      },
      {
        "duration": 37,
        "start_time": "2022-12-27T11:36:27.979Z"
      },
      {
        "duration": 101,
        "start_time": "2022-12-27T11:36:28.587Z"
      },
      {
        "duration": 17,
        "start_time": "2022-12-27T11:36:29.275Z"
      },
      {
        "duration": 44,
        "start_time": "2022-12-27T11:36:30.244Z"
      },
      {
        "duration": 1064,
        "start_time": "2022-12-27T13:27:29.547Z"
      },
      {
        "duration": 168,
        "start_time": "2022-12-27T13:27:30.613Z"
      },
      {
        "duration": 22,
        "start_time": "2022-12-27T13:27:30.783Z"
      },
      {
        "duration": 31,
        "start_time": "2022-12-27T13:27:30.807Z"
      },
      {
        "duration": 37,
        "start_time": "2022-12-27T13:27:30.839Z"
      },
      {
        "duration": 97,
        "start_time": "2022-12-27T13:27:30.878Z"
      },
      {
        "duration": 72,
        "start_time": "2022-12-27T13:27:30.976Z"
      },
      {
        "duration": 80,
        "start_time": "2022-12-27T13:27:31.050Z"
      },
      {
        "duration": 28,
        "start_time": "2022-12-27T13:27:31.131Z"
      },
      {
        "duration": 43,
        "start_time": "2022-12-27T13:27:31.161Z"
      },
      {
        "duration": 2,
        "start_time": "2022-12-27T13:27:31.206Z"
      },
      {
        "duration": 17,
        "start_time": "2022-12-27T13:27:31.210Z"
      },
      {
        "duration": 5,
        "start_time": "2022-12-27T13:27:31.228Z"
      },
      {
        "duration": 66,
        "start_time": "2022-12-27T13:27:31.235Z"
      },
      {
        "duration": 544,
        "start_time": "2022-12-27T13:27:31.303Z"
      },
      {
        "duration": 36,
        "start_time": "2022-12-27T13:27:31.849Z"
      },
      {
        "duration": 23,
        "start_time": "2022-12-27T13:27:31.897Z"
      },
      {
        "duration": 5,
        "start_time": "2022-12-27T13:27:31.922Z"
      },
      {
        "duration": 15,
        "start_time": "2022-12-27T13:27:31.928Z"
      },
      {
        "duration": 446,
        "start_time": "2022-12-27T13:27:31.946Z"
      },
      {
        "duration": 6,
        "start_time": "2022-12-27T13:27:32.394Z"
      },
      {
        "duration": 119,
        "start_time": "2022-12-27T13:27:32.402Z"
      },
      {
        "duration": 6,
        "start_time": "2022-12-27T13:27:32.523Z"
      },
      {
        "duration": 6,
        "start_time": "2022-12-27T13:27:32.530Z"
      },
      {
        "duration": 19,
        "start_time": "2022-12-27T13:27:32.538Z"
      },
      {
        "duration": 409,
        "start_time": "2022-12-27T13:27:32.558Z"
      },
      {
        "duration": 34,
        "start_time": "2022-12-27T13:27:32.969Z"
      },
      {
        "duration": 38,
        "start_time": "2022-12-27T13:27:33.006Z"
      },
      {
        "duration": 80,
        "start_time": "2022-12-27T13:27:33.098Z"
      },
      {
        "duration": 18,
        "start_time": "2022-12-27T13:27:33.180Z"
      },
      {
        "duration": 225,
        "start_time": "2022-12-27T13:27:33.200Z"
      },
      {
        "duration": 248,
        "start_time": "2022-12-27T13:27:33.426Z"
      },
      {
        "duration": 214,
        "start_time": "2022-12-27T13:27:33.675Z"
      },
      {
        "duration": 9,
        "start_time": "2022-12-27T13:27:33.890Z"
      },
      {
        "duration": 45,
        "start_time": "2022-12-27T13:27:33.901Z"
      },
      {
        "duration": 228,
        "start_time": "2022-12-27T13:27:33.948Z"
      },
      {
        "duration": 214,
        "start_time": "2022-12-27T13:27:34.177Z"
      },
      {
        "duration": 206,
        "start_time": "2022-12-27T13:27:34.397Z"
      },
      {
        "duration": 244,
        "start_time": "2022-12-27T13:27:34.604Z"
      },
      {
        "duration": 224,
        "start_time": "2022-12-27T13:27:34.849Z"
      }
    ],
    "kernelspec": {
      "display_name": "Python 3 (ipykernel)",
      "language": "python",
      "name": "python3"
    },
    "language_info": {
      "codemirror_mode": {
        "name": "ipython",
        "version": 3
      },
      "file_extension": ".py",
      "mimetype": "text/x-python",
      "name": "python",
      "nbconvert_exporter": "python",
      "pygments_lexer": "ipython3",
      "version": "3.9.5"
    },
    "toc": {
      "base_numbering": 1,
      "nav_menu": {},
      "number_sections": true,
      "sideBar": true,
      "skip_h1_title": true,
      "title_cell": "Table of Contents",
      "title_sidebar": "Contents",
      "toc_cell": false,
      "toc_position": {},
      "toc_section_display": true,
      "toc_window_display": false
    },
    "colab": {
      "provenance": []
    }
  },
  "nbformat": 4,
  "nbformat_minor": 0
}