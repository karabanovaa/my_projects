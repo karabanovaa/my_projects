{
  "cells": [
    {
      "cell_type": "markdown",
      "metadata": {
        "id": "g_FS0I1eFvUM"
      },
      "source": [
        "# Мобильное приложение - выдление групп пользователей на основе поведения"
      ]
    },
    {
      "cell_type": "markdown",
      "metadata": {
        "id": "acwt8jGoFvUN"
      },
      "source": [
        "## Введение\n",
        "\n",
        "Имеются данные о событиях, совершенных в мобильном приложении \"Ненужные вещи\". В нем пользователи продают свои ненужные вещи, размещая их на доске объявлений.\n",
        "\n",
        "В датасете содержатся данные пользователей, впервые совершивших действия в приложении после 7 октября 2019 года.\n",
        "Необходимо выделить группы пользователей, которые различаются по метрикам:\n",
        "\n",
        "* retention rate,\n",
        "* время, проведённое в приложении, \n",
        "* частота действий, \n",
        "* конверсия в целевое действие — просмотр контактов.\n",
        "\n",
        "А также проверить статистические гипотезы:\n",
        "* пользователи, пришедшие из источников Yandex и Google демонстрируют разную конверсию в просмотры контактов\n",
        "* по выходным выше частота совершения событий\n",
        "\n",
        "**Цель исследования** - сегментировать пользователей и определить целевую группу для приложения, т.е. такую группу, которая имеет лучшие характеристики по удержанию, конверсии, частоте действий и времени, проведенном вприложении.  \n",
        "\n",
        "Исследование пройдет в несколько этапов:\n",
        "* предобработка данных\n",
        "* исследовательский анализ\n",
        "* сегментация пользователей\n",
        "* проверка гипотез\n",
        "\n",
        "Для анализа будут использованы библиотеки pandas, matplotlib, seaborn, stat.scipy."
      ]
    },
    {
      "cell_type": "markdown",
      "metadata": {
        "id": "EgehixX6FvUN"
      },
      "source": [
        "<div class=\"alert alert-block alert-warning\">📝\n",
        "    \n",
        "\n",
        "__Комментарий от тимлида №1__\n",
        "\n",
        "\n",
        "Цель так и не расписана\n",
        "</div>"
      ]
    },
    {
      "cell_type": "markdown",
      "metadata": {
        "id": "vtUMw2Z-FvUN"
      },
      "source": [
        "<div class=\"alert alert-info\"> <b>Комментарии студента:</b> Добавила формулировку цели.</div>"
      ]
    },
    {
      "cell_type": "markdown",
      "metadata": {
        "id": "C1eKRvcaFvUO"
      },
      "source": [
        "<div class=\"alert alert-block alert-success\">✔️\n",
        "    \n",
        "\n",
        "__Комментарий от тимлида №2__\n",
        "\n",
        "\n",
        "Отличная практика - расписывать цель и основные этапы перед началом проекта"
      ]
    },
    {
      "cell_type": "markdown",
      "metadata": {
        "id": "sQPJv6exFvUO"
      },
      "source": [
        "## Предобработка данных"
      ]
    },
    {
      "cell_type": "code",
      "execution_count": 1,
      "metadata": {
        "id": "DtpofOpYFvUO"
      },
      "outputs": [],
      "source": [
        "import pandas as pd\n",
        "import numpy as np\n",
        "import matplotlib.pyplot as plt\n",
        "from datetime import datetime, timedelta\n",
        "import seaborn as sns\n",
        "import plotly.express as px\n",
        "import scipy.stats as st\n",
        "import math as mth\n"
      ]
    },
    {
      "cell_type": "code",
      "execution_count": 2,
      "metadata": {
        "colab": {
          "base_uri": "https://localhost:8080/",
          "height": 709
        },
        "id": "uyCs7SCiFvUP",
        "outputId": "97e3f09a-b966-4c8d-9574-a130c900da0f"
      },
      "outputs": [
        {
          "output_type": "display_data",
          "data": {
            "text/plain": [
              "                                    userId  source\n",
              "2885  543f1bc6-c773-46d1-af50-a6d8eaa3a620   other\n",
              "1030  1e6d9849-f287-464c-b0db-555132d7d5c8  yandex\n",
              "905   d33704b1-1990-4463-980b-052049ec4a01   other\n",
              "162   063c0b06-6d9d-4580-8d03-f1c8f19ebfa1   other\n",
              "3868  cdfe7920-2788-4431-8645-377d8bdab8ae   other\n",
              "1305  0dc81967-5326-43f0-989a-8ca9535fd4d0  yandex\n",
              "2706  41dcb512-6f37-436a-b973-2a978f6b8e2e  google\n",
              "3036  369f958d-9749-4bd3-aa74-41d7bdee46c4  google\n",
              "352   43e3b0f3-87ac-4b10-905b-dc7b4cabca4d   other\n",
              "3206  60b03b2c-18df-42d8-af5f-ffd2c405f7fb  yandex"
            ],
            "text/html": [
              "\n",
              "  <div id=\"df-34712f7d-c0d9-4855-b54b-b722ef5aed3f\">\n",
              "    <div class=\"colab-df-container\">\n",
              "      <div>\n",
              "<style scoped>\n",
              "    .dataframe tbody tr th:only-of-type {\n",
              "        vertical-align: middle;\n",
              "    }\n",
              "\n",
              "    .dataframe tbody tr th {\n",
              "        vertical-align: top;\n",
              "    }\n",
              "\n",
              "    .dataframe thead th {\n",
              "        text-align: right;\n",
              "    }\n",
              "</style>\n",
              "<table border=\"1\" class=\"dataframe\">\n",
              "  <thead>\n",
              "    <tr style=\"text-align: right;\">\n",
              "      <th></th>\n",
              "      <th>userId</th>\n",
              "      <th>source</th>\n",
              "    </tr>\n",
              "  </thead>\n",
              "  <tbody>\n",
              "    <tr>\n",
              "      <th>2885</th>\n",
              "      <td>543f1bc6-c773-46d1-af50-a6d8eaa3a620</td>\n",
              "      <td>other</td>\n",
              "    </tr>\n",
              "    <tr>\n",
              "      <th>1030</th>\n",
              "      <td>1e6d9849-f287-464c-b0db-555132d7d5c8</td>\n",
              "      <td>yandex</td>\n",
              "    </tr>\n",
              "    <tr>\n",
              "      <th>905</th>\n",
              "      <td>d33704b1-1990-4463-980b-052049ec4a01</td>\n",
              "      <td>other</td>\n",
              "    </tr>\n",
              "    <tr>\n",
              "      <th>162</th>\n",
              "      <td>063c0b06-6d9d-4580-8d03-f1c8f19ebfa1</td>\n",
              "      <td>other</td>\n",
              "    </tr>\n",
              "    <tr>\n",
              "      <th>3868</th>\n",
              "      <td>cdfe7920-2788-4431-8645-377d8bdab8ae</td>\n",
              "      <td>other</td>\n",
              "    </tr>\n",
              "    <tr>\n",
              "      <th>1305</th>\n",
              "      <td>0dc81967-5326-43f0-989a-8ca9535fd4d0</td>\n",
              "      <td>yandex</td>\n",
              "    </tr>\n",
              "    <tr>\n",
              "      <th>2706</th>\n",
              "      <td>41dcb512-6f37-436a-b973-2a978f6b8e2e</td>\n",
              "      <td>google</td>\n",
              "    </tr>\n",
              "    <tr>\n",
              "      <th>3036</th>\n",
              "      <td>369f958d-9749-4bd3-aa74-41d7bdee46c4</td>\n",
              "      <td>google</td>\n",
              "    </tr>\n",
              "    <tr>\n",
              "      <th>352</th>\n",
              "      <td>43e3b0f3-87ac-4b10-905b-dc7b4cabca4d</td>\n",
              "      <td>other</td>\n",
              "    </tr>\n",
              "    <tr>\n",
              "      <th>3206</th>\n",
              "      <td>60b03b2c-18df-42d8-af5f-ffd2c405f7fb</td>\n",
              "      <td>yandex</td>\n",
              "    </tr>\n",
              "  </tbody>\n",
              "</table>\n",
              "</div>\n",
              "      <button class=\"colab-df-convert\" onclick=\"convertToInteractive('df-34712f7d-c0d9-4855-b54b-b722ef5aed3f')\"\n",
              "              title=\"Convert this dataframe to an interactive table.\"\n",
              "              style=\"display:none;\">\n",
              "        \n",
              "  <svg xmlns=\"http://www.w3.org/2000/svg\" height=\"24px\"viewBox=\"0 0 24 24\"\n",
              "       width=\"24px\">\n",
              "    <path d=\"M0 0h24v24H0V0z\" fill=\"none\"/>\n",
              "    <path d=\"M18.56 5.44l.94 2.06.94-2.06 2.06-.94-2.06-.94-.94-2.06-.94 2.06-2.06.94zm-11 1L8.5 8.5l.94-2.06 2.06-.94-2.06-.94L8.5 2.5l-.94 2.06-2.06.94zm10 10l.94 2.06.94-2.06 2.06-.94-2.06-.94-.94-2.06-.94 2.06-2.06.94z\"/><path d=\"M17.41 7.96l-1.37-1.37c-.4-.4-.92-.59-1.43-.59-.52 0-1.04.2-1.43.59L10.3 9.45l-7.72 7.72c-.78.78-.78 2.05 0 2.83L4 21.41c.39.39.9.59 1.41.59.51 0 1.02-.2 1.41-.59l7.78-7.78 2.81-2.81c.8-.78.8-2.07 0-2.86zM5.41 20L4 18.59l7.72-7.72 1.47 1.35L5.41 20z\"/>\n",
              "  </svg>\n",
              "      </button>\n",
              "      \n",
              "  <style>\n",
              "    .colab-df-container {\n",
              "      display:flex;\n",
              "      flex-wrap:wrap;\n",
              "      gap: 12px;\n",
              "    }\n",
              "\n",
              "    .colab-df-convert {\n",
              "      background-color: #E8F0FE;\n",
              "      border: none;\n",
              "      border-radius: 50%;\n",
              "      cursor: pointer;\n",
              "      display: none;\n",
              "      fill: #1967D2;\n",
              "      height: 32px;\n",
              "      padding: 0 0 0 0;\n",
              "      width: 32px;\n",
              "    }\n",
              "\n",
              "    .colab-df-convert:hover {\n",
              "      background-color: #E2EBFA;\n",
              "      box-shadow: 0px 1px 2px rgba(60, 64, 67, 0.3), 0px 1px 3px 1px rgba(60, 64, 67, 0.15);\n",
              "      fill: #174EA6;\n",
              "    }\n",
              "\n",
              "    [theme=dark] .colab-df-convert {\n",
              "      background-color: #3B4455;\n",
              "      fill: #D2E3FC;\n",
              "    }\n",
              "\n",
              "    [theme=dark] .colab-df-convert:hover {\n",
              "      background-color: #434B5C;\n",
              "      box-shadow: 0px 1px 3px 1px rgba(0, 0, 0, 0.15);\n",
              "      filter: drop-shadow(0px 1px 2px rgba(0, 0, 0, 0.3));\n",
              "      fill: #FFFFFF;\n",
              "    }\n",
              "  </style>\n",
              "\n",
              "      <script>\n",
              "        const buttonEl =\n",
              "          document.querySelector('#df-34712f7d-c0d9-4855-b54b-b722ef5aed3f button.colab-df-convert');\n",
              "        buttonEl.style.display =\n",
              "          google.colab.kernel.accessAllowed ? 'block' : 'none';\n",
              "\n",
              "        async function convertToInteractive(key) {\n",
              "          const element = document.querySelector('#df-34712f7d-c0d9-4855-b54b-b722ef5aed3f');\n",
              "          const dataTable =\n",
              "            await google.colab.kernel.invokeFunction('convertToInteractive',\n",
              "                                                     [key], {});\n",
              "          if (!dataTable) return;\n",
              "\n",
              "          const docLinkHtml = 'Like what you see? Visit the ' +\n",
              "            '<a target=\"_blank\" href=https://colab.research.google.com/notebooks/data_table.ipynb>data table notebook</a>'\n",
              "            + ' to learn more about interactive tables.';\n",
              "          element.innerHTML = '';\n",
              "          dataTable['output_type'] = 'display_data';\n",
              "          await google.colab.output.renderOutput(dataTable, element);\n",
              "          const docLink = document.createElement('div');\n",
              "          docLink.innerHTML = docLinkHtml;\n",
              "          element.appendChild(docLink);\n",
              "        }\n",
              "      </script>\n",
              "    </div>\n",
              "  </div>\n",
              "  "
            ]
          },
          "metadata": {}
        },
        {
          "output_type": "execute_result",
          "data": {
            "text/plain": [
              "                       event.time     event.name  \\\n",
              "48745  2019-10-25 23:00:56.662152      tips_show   \n",
              "23314  2019-10-16 17:11:02.890408  contacts_show   \n",
              "25523  2019-10-17 14:28:09.788363      tips_show   \n",
              "60586  2019-10-29 21:04:35.990212      tips_show   \n",
              "35287  2019-10-21 14:24:02.236066      tips_show   \n",
              "2343   2019-10-07 23:18:59.277959      tips_show   \n",
              "24354  2019-10-17 02:46:34.590612      tips_show   \n",
              "44691  2019-10-24 15:32:39.491636      tips_show   \n",
              "62265  2019-10-30 14:17:27.727962      tips_show   \n",
              "34841  2019-10-21 12:15:10.858578  contacts_show   \n",
              "\n",
              "                                    user.id  \n",
              "48745  cd5e284d-703b-4362-939b-9f8d945a6dd6  \n",
              "23314  7f38ea5d-ad7c-4e8a-b1e1-c63da89a4c4c  \n",
              "25523  fffb9e79-b927-4dbb-9b48-7fd09b23a62b  \n",
              "60586  fd33e787-85c8-4c53-99bd-3439f676fb40  \n",
              "35287  76d06bf1-e869-4ba1-92fb-4684fb258f9f  \n",
              "2343   764c262d-9002-4965-9988-4d47718bf1b5  \n",
              "24354  e56ce3e5-c8c5-460d-815e-457f215947da  \n",
              "44691  86c85ca1-0293-478a-8a4c-7d17b679579d  \n",
              "62265  62e054da-d871-4153-a76c-1e03093140b1  \n",
              "34841  e38cb669-7335-4d56-9de5-c8d5d2f13fd3  "
            ],
            "text/html": [
              "\n",
              "  <div id=\"df-e5e2d6ad-ccf4-4dce-a014-24b1949fe1a4\">\n",
              "    <div class=\"colab-df-container\">\n",
              "      <div>\n",
              "<style scoped>\n",
              "    .dataframe tbody tr th:only-of-type {\n",
              "        vertical-align: middle;\n",
              "    }\n",
              "\n",
              "    .dataframe tbody tr th {\n",
              "        vertical-align: top;\n",
              "    }\n",
              "\n",
              "    .dataframe thead th {\n",
              "        text-align: right;\n",
              "    }\n",
              "</style>\n",
              "<table border=\"1\" class=\"dataframe\">\n",
              "  <thead>\n",
              "    <tr style=\"text-align: right;\">\n",
              "      <th></th>\n",
              "      <th>event.time</th>\n",
              "      <th>event.name</th>\n",
              "      <th>user.id</th>\n",
              "    </tr>\n",
              "  </thead>\n",
              "  <tbody>\n",
              "    <tr>\n",
              "      <th>48745</th>\n",
              "      <td>2019-10-25 23:00:56.662152</td>\n",
              "      <td>tips_show</td>\n",
              "      <td>cd5e284d-703b-4362-939b-9f8d945a6dd6</td>\n",
              "    </tr>\n",
              "    <tr>\n",
              "      <th>23314</th>\n",
              "      <td>2019-10-16 17:11:02.890408</td>\n",
              "      <td>contacts_show</td>\n",
              "      <td>7f38ea5d-ad7c-4e8a-b1e1-c63da89a4c4c</td>\n",
              "    </tr>\n",
              "    <tr>\n",
              "      <th>25523</th>\n",
              "      <td>2019-10-17 14:28:09.788363</td>\n",
              "      <td>tips_show</td>\n",
              "      <td>fffb9e79-b927-4dbb-9b48-7fd09b23a62b</td>\n",
              "    </tr>\n",
              "    <tr>\n",
              "      <th>60586</th>\n",
              "      <td>2019-10-29 21:04:35.990212</td>\n",
              "      <td>tips_show</td>\n",
              "      <td>fd33e787-85c8-4c53-99bd-3439f676fb40</td>\n",
              "    </tr>\n",
              "    <tr>\n",
              "      <th>35287</th>\n",
              "      <td>2019-10-21 14:24:02.236066</td>\n",
              "      <td>tips_show</td>\n",
              "      <td>76d06bf1-e869-4ba1-92fb-4684fb258f9f</td>\n",
              "    </tr>\n",
              "    <tr>\n",
              "      <th>2343</th>\n",
              "      <td>2019-10-07 23:18:59.277959</td>\n",
              "      <td>tips_show</td>\n",
              "      <td>764c262d-9002-4965-9988-4d47718bf1b5</td>\n",
              "    </tr>\n",
              "    <tr>\n",
              "      <th>24354</th>\n",
              "      <td>2019-10-17 02:46:34.590612</td>\n",
              "      <td>tips_show</td>\n",
              "      <td>e56ce3e5-c8c5-460d-815e-457f215947da</td>\n",
              "    </tr>\n",
              "    <tr>\n",
              "      <th>44691</th>\n",
              "      <td>2019-10-24 15:32:39.491636</td>\n",
              "      <td>tips_show</td>\n",
              "      <td>86c85ca1-0293-478a-8a4c-7d17b679579d</td>\n",
              "    </tr>\n",
              "    <tr>\n",
              "      <th>62265</th>\n",
              "      <td>2019-10-30 14:17:27.727962</td>\n",
              "      <td>tips_show</td>\n",
              "      <td>62e054da-d871-4153-a76c-1e03093140b1</td>\n",
              "    </tr>\n",
              "    <tr>\n",
              "      <th>34841</th>\n",
              "      <td>2019-10-21 12:15:10.858578</td>\n",
              "      <td>contacts_show</td>\n",
              "      <td>e38cb669-7335-4d56-9de5-c8d5d2f13fd3</td>\n",
              "    </tr>\n",
              "  </tbody>\n",
              "</table>\n",
              "</div>\n",
              "      <button class=\"colab-df-convert\" onclick=\"convertToInteractive('df-e5e2d6ad-ccf4-4dce-a014-24b1949fe1a4')\"\n",
              "              title=\"Convert this dataframe to an interactive table.\"\n",
              "              style=\"display:none;\">\n",
              "        \n",
              "  <svg xmlns=\"http://www.w3.org/2000/svg\" height=\"24px\"viewBox=\"0 0 24 24\"\n",
              "       width=\"24px\">\n",
              "    <path d=\"M0 0h24v24H0V0z\" fill=\"none\"/>\n",
              "    <path d=\"M18.56 5.44l.94 2.06.94-2.06 2.06-.94-2.06-.94-.94-2.06-.94 2.06-2.06.94zm-11 1L8.5 8.5l.94-2.06 2.06-.94-2.06-.94L8.5 2.5l-.94 2.06-2.06.94zm10 10l.94 2.06.94-2.06 2.06-.94-2.06-.94-.94-2.06-.94 2.06-2.06.94z\"/><path d=\"M17.41 7.96l-1.37-1.37c-.4-.4-.92-.59-1.43-.59-.52 0-1.04.2-1.43.59L10.3 9.45l-7.72 7.72c-.78.78-.78 2.05 0 2.83L4 21.41c.39.39.9.59 1.41.59.51 0 1.02-.2 1.41-.59l7.78-7.78 2.81-2.81c.8-.78.8-2.07 0-2.86zM5.41 20L4 18.59l7.72-7.72 1.47 1.35L5.41 20z\"/>\n",
              "  </svg>\n",
              "      </button>\n",
              "      \n",
              "  <style>\n",
              "    .colab-df-container {\n",
              "      display:flex;\n",
              "      flex-wrap:wrap;\n",
              "      gap: 12px;\n",
              "    }\n",
              "\n",
              "    .colab-df-convert {\n",
              "      background-color: #E8F0FE;\n",
              "      border: none;\n",
              "      border-radius: 50%;\n",
              "      cursor: pointer;\n",
              "      display: none;\n",
              "      fill: #1967D2;\n",
              "      height: 32px;\n",
              "      padding: 0 0 0 0;\n",
              "      width: 32px;\n",
              "    }\n",
              "\n",
              "    .colab-df-convert:hover {\n",
              "      background-color: #E2EBFA;\n",
              "      box-shadow: 0px 1px 2px rgba(60, 64, 67, 0.3), 0px 1px 3px 1px rgba(60, 64, 67, 0.15);\n",
              "      fill: #174EA6;\n",
              "    }\n",
              "\n",
              "    [theme=dark] .colab-df-convert {\n",
              "      background-color: #3B4455;\n",
              "      fill: #D2E3FC;\n",
              "    }\n",
              "\n",
              "    [theme=dark] .colab-df-convert:hover {\n",
              "      background-color: #434B5C;\n",
              "      box-shadow: 0px 1px 3px 1px rgba(0, 0, 0, 0.15);\n",
              "      filter: drop-shadow(0px 1px 2px rgba(0, 0, 0, 0.3));\n",
              "      fill: #FFFFFF;\n",
              "    }\n",
              "  </style>\n",
              "\n",
              "      <script>\n",
              "        const buttonEl =\n",
              "          document.querySelector('#df-e5e2d6ad-ccf4-4dce-a014-24b1949fe1a4 button.colab-df-convert');\n",
              "        buttonEl.style.display =\n",
              "          google.colab.kernel.accessAllowed ? 'block' : 'none';\n",
              "\n",
              "        async function convertToInteractive(key) {\n",
              "          const element = document.querySelector('#df-e5e2d6ad-ccf4-4dce-a014-24b1949fe1a4');\n",
              "          const dataTable =\n",
              "            await google.colab.kernel.invokeFunction('convertToInteractive',\n",
              "                                                     [key], {});\n",
              "          if (!dataTable) return;\n",
              "\n",
              "          const docLinkHtml = 'Like what you see? Visit the ' +\n",
              "            '<a target=\"_blank\" href=https://colab.research.google.com/notebooks/data_table.ipynb>data table notebook</a>'\n",
              "            + ' to learn more about interactive tables.';\n",
              "          element.innerHTML = '';\n",
              "          dataTable['output_type'] = 'display_data';\n",
              "          await google.colab.output.renderOutput(dataTable, element);\n",
              "          const docLink = document.createElement('div');\n",
              "          docLink.innerHTML = docLinkHtml;\n",
              "          element.appendChild(docLink);\n",
              "        }\n",
              "      </script>\n",
              "    </div>\n",
              "  </div>\n",
              "  "
            ]
          },
          "metadata": {},
          "execution_count": 2
        }
      ],
      "source": [
        "# Загрузим данные и посмотрим на них.\n",
        "mobile_sources = pd.read_csv('https://code.s3.yandex.net/datasets/mobile_soures.csv')\n",
        "mobile_dataset = pd.read_csv('https://code.s3.yandex.net/datasets/mobile_dataset.csv')\n",
        "display(mobile_sources.sample(10))\n",
        "mobile_dataset.sample(10)"
      ]
    },
    {
      "cell_type": "code",
      "execution_count": 3,
      "metadata": {
        "colab": {
          "base_uri": "https://localhost:8080/"
        },
        "id": "5sGHNqLRFvUQ",
        "outputId": "946a835d-9bf5-402b-e160-65c242723bcc"
      },
      "outputs": [
        {
          "output_type": "stream",
          "name": "stdout",
          "text": [
            "<class 'pandas.core.frame.DataFrame'>\n",
            "RangeIndex: 4293 entries, 0 to 4292\n",
            "Data columns (total 2 columns):\n",
            " #   Column  Non-Null Count  Dtype \n",
            "---  ------  --------------  ----- \n",
            " 0   userId  4293 non-null   object\n",
            " 1   source  4293 non-null   object\n",
            "dtypes: object(2)\n",
            "memory usage: 67.2+ KB\n"
          ]
        }
      ],
      "source": [
        "mobile_sources.info()"
      ]
    },
    {
      "cell_type": "code",
      "execution_count": 4,
      "metadata": {
        "colab": {
          "base_uri": "https://localhost:8080/"
        },
        "id": "_88HJflbFvUQ",
        "outputId": "f57cb6a5-9e93-4576-9cd7-4576330e6ca3"
      },
      "outputs": [
        {
          "output_type": "execute_result",
          "data": {
            "text/plain": [
              "array(['other', 'yandex', 'google'], dtype=object)"
            ]
          },
          "metadata": {},
          "execution_count": 4
        }
      ],
      "source": [
        "# Посмотрим, какие источники есть в нашем датасете.\n",
        "mobile_sources['source'].unique()"
      ]
    },
    {
      "cell_type": "code",
      "execution_count": 5,
      "metadata": {
        "id": "lVMX05DVFvUQ"
      },
      "outputs": [],
      "source": [
        "# Для удобства переименуем столбец.\n",
        "mobile_sources = mobile_sources.rename(columns={'userId':'user_id'})"
      ]
    },
    {
      "cell_type": "code",
      "execution_count": 6,
      "metadata": {
        "colab": {
          "base_uri": "https://localhost:8080/"
        },
        "id": "sLS24EP5FvUQ",
        "outputId": "57f70233-478f-44c4-99ad-90c235a6091c"
      },
      "outputs": [
        {
          "output_type": "execute_result",
          "data": {
            "text/plain": [
              "4293"
            ]
          },
          "metadata": {},
          "execution_count": 6
        }
      ],
      "source": [
        "# Посмотрим, сколько уникальных пользователей содержится в датасете с источниками.\n",
        "len(mobile_sources['user_id'].unique())"
      ]
    },
    {
      "cell_type": "code",
      "execution_count": 7,
      "metadata": {
        "colab": {
          "base_uri": "https://localhost:8080/"
        },
        "id": "XzR0PLh7FvUR",
        "outputId": "9882f01a-7ada-46d9-fc76-98b1f9eccbbe"
      },
      "outputs": [
        {
          "output_type": "execute_result",
          "data": {
            "text/plain": [
              "0"
            ]
          },
          "metadata": {},
          "execution_count": 7
        }
      ],
      "source": [
        "# Проверим на дубликаты.\n",
        "mobile_sources.duplicated().sum()"
      ]
    },
    {
      "cell_type": "code",
      "execution_count": 8,
      "metadata": {
        "colab": {
          "base_uri": "https://localhost:8080/"
        },
        "id": "310Qs-2NFvUR",
        "outputId": "ec1f279b-8852-4102-f444-7338f404b9cf"
      },
      "outputs": [
        {
          "output_type": "stream",
          "name": "stdout",
          "text": [
            "<class 'pandas.core.frame.DataFrame'>\n",
            "RangeIndex: 74197 entries, 0 to 74196\n",
            "Data columns (total 3 columns):\n",
            " #   Column      Non-Null Count  Dtype \n",
            "---  ------      --------------  ----- \n",
            " 0   event.time  74197 non-null  object\n",
            " 1   event.name  74197 non-null  object\n",
            " 2   user.id     74197 non-null  object\n",
            "dtypes: object(3)\n",
            "memory usage: 1.7+ MB\n"
          ]
        }
      ],
      "source": [
        "mobile_dataset.info()"
      ]
    },
    {
      "cell_type": "code",
      "execution_count": 9,
      "metadata": {
        "id": "0iPKEodlFvUR"
      },
      "outputs": [],
      "source": [
        "# Также переименуем столбцы.\n",
        "mobile_dataset = mobile_dataset.rename(columns={'event.time':'event_time', 'event.name':'event_name', 'user.id':'user_id'})"
      ]
    },
    {
      "cell_type": "code",
      "execution_count": 10,
      "metadata": {
        "colab": {
          "base_uri": "https://localhost:8080/"
        },
        "id": "_z3pw0UqFvUR",
        "outputId": "16c4a6b5-b51e-4571-ddfe-561186254047"
      },
      "outputs": [
        {
          "output_type": "execute_result",
          "data": {
            "text/plain": [
              "array(['advert_open', 'tips_show', 'map', 'contacts_show', 'search_4',\n",
              "       'search_5', 'tips_click', 'photos_show', 'search_1', 'search_2',\n",
              "       'search_3', 'favorites_add', 'contacts_call', 'search_6',\n",
              "       'search_7', 'show_contacts'], dtype=object)"
            ]
          },
          "metadata": {},
          "execution_count": 10
        }
      ],
      "source": [
        "# Посмотрим на столбец названиями событий.\n",
        "mobile_dataset['event_name'].unique()"
      ]
    },
    {
      "cell_type": "code",
      "execution_count": 11,
      "metadata": {
        "id": "gQjVKvpPFvUS"
      },
      "outputs": [],
      "source": [
        "# Переименуем однотипные названия.\n",
        "mobile_dataset['event_name'] = mobile_dataset['event_name'].replace('show_contacts', 'contacts_show')\n",
        "mobile_dataset['event_name'] = (mobile_dataset['event_name']\n",
        "                                .replace(['search_1', 'search_2', 'search_3', 'search_4', 'search_5', 'search_6', 'search_7'],\n",
        "                                         'search'))"
      ]
    },
    {
      "cell_type": "code",
      "execution_count": 12,
      "metadata": {
        "id": "IGbHWR7gFvUS"
      },
      "outputs": [],
      "source": [
        "# Приведем столбец с датой и временем к соответствующему типу, так же округлим значения до секунд.\n",
        "mobile_dataset['event_time'] = pd.to_datetime(mobile_dataset['event_time']).dt.round('S')"
      ]
    },
    {
      "cell_type": "code",
      "execution_count": 13,
      "metadata": {
        "colab": {
          "base_uri": "https://localhost:8080/",
          "height": 206
        },
        "id": "aQAk9VMhFvUS",
        "outputId": "1469944b-7daa-44b4-9073-066ef170916e"
      },
      "outputs": [
        {
          "output_type": "execute_result",
          "data": {
            "text/plain": [
              "           event_time   event_name                               user_id\n",
              "0 2019-10-07 00:00:00  advert_open  020292ab-89bc-4156-9acf-68bc2783f894\n",
              "1 2019-10-07 00:00:01    tips_show  020292ab-89bc-4156-9acf-68bc2783f894\n",
              "2 2019-10-07 00:00:02    tips_show  cf7eda61-9349-469f-ac27-e5b6f5ec475c\n",
              "3 2019-10-07 00:00:07    tips_show  020292ab-89bc-4156-9acf-68bc2783f894\n",
              "4 2019-10-07 00:00:56  advert_open  cf7eda61-9349-469f-ac27-e5b6f5ec475c"
            ],
            "text/html": [
              "\n",
              "  <div id=\"df-5fa1955b-b42c-42f3-af44-6e2220fb6016\">\n",
              "    <div class=\"colab-df-container\">\n",
              "      <div>\n",
              "<style scoped>\n",
              "    .dataframe tbody tr th:only-of-type {\n",
              "        vertical-align: middle;\n",
              "    }\n",
              "\n",
              "    .dataframe tbody tr th {\n",
              "        vertical-align: top;\n",
              "    }\n",
              "\n",
              "    .dataframe thead th {\n",
              "        text-align: right;\n",
              "    }\n",
              "</style>\n",
              "<table border=\"1\" class=\"dataframe\">\n",
              "  <thead>\n",
              "    <tr style=\"text-align: right;\">\n",
              "      <th></th>\n",
              "      <th>event_time</th>\n",
              "      <th>event_name</th>\n",
              "      <th>user_id</th>\n",
              "    </tr>\n",
              "  </thead>\n",
              "  <tbody>\n",
              "    <tr>\n",
              "      <th>0</th>\n",
              "      <td>2019-10-07 00:00:00</td>\n",
              "      <td>advert_open</td>\n",
              "      <td>020292ab-89bc-4156-9acf-68bc2783f894</td>\n",
              "    </tr>\n",
              "    <tr>\n",
              "      <th>1</th>\n",
              "      <td>2019-10-07 00:00:01</td>\n",
              "      <td>tips_show</td>\n",
              "      <td>020292ab-89bc-4156-9acf-68bc2783f894</td>\n",
              "    </tr>\n",
              "    <tr>\n",
              "      <th>2</th>\n",
              "      <td>2019-10-07 00:00:02</td>\n",
              "      <td>tips_show</td>\n",
              "      <td>cf7eda61-9349-469f-ac27-e5b6f5ec475c</td>\n",
              "    </tr>\n",
              "    <tr>\n",
              "      <th>3</th>\n",
              "      <td>2019-10-07 00:00:07</td>\n",
              "      <td>tips_show</td>\n",
              "      <td>020292ab-89bc-4156-9acf-68bc2783f894</td>\n",
              "    </tr>\n",
              "    <tr>\n",
              "      <th>4</th>\n",
              "      <td>2019-10-07 00:00:56</td>\n",
              "      <td>advert_open</td>\n",
              "      <td>cf7eda61-9349-469f-ac27-e5b6f5ec475c</td>\n",
              "    </tr>\n",
              "  </tbody>\n",
              "</table>\n",
              "</div>\n",
              "      <button class=\"colab-df-convert\" onclick=\"convertToInteractive('df-5fa1955b-b42c-42f3-af44-6e2220fb6016')\"\n",
              "              title=\"Convert this dataframe to an interactive table.\"\n",
              "              style=\"display:none;\">\n",
              "        \n",
              "  <svg xmlns=\"http://www.w3.org/2000/svg\" height=\"24px\"viewBox=\"0 0 24 24\"\n",
              "       width=\"24px\">\n",
              "    <path d=\"M0 0h24v24H0V0z\" fill=\"none\"/>\n",
              "    <path d=\"M18.56 5.44l.94 2.06.94-2.06 2.06-.94-2.06-.94-.94-2.06-.94 2.06-2.06.94zm-11 1L8.5 8.5l.94-2.06 2.06-.94-2.06-.94L8.5 2.5l-.94 2.06-2.06.94zm10 10l.94 2.06.94-2.06 2.06-.94-2.06-.94-.94-2.06-.94 2.06-2.06.94z\"/><path d=\"M17.41 7.96l-1.37-1.37c-.4-.4-.92-.59-1.43-.59-.52 0-1.04.2-1.43.59L10.3 9.45l-7.72 7.72c-.78.78-.78 2.05 0 2.83L4 21.41c.39.39.9.59 1.41.59.51 0 1.02-.2 1.41-.59l7.78-7.78 2.81-2.81c.8-.78.8-2.07 0-2.86zM5.41 20L4 18.59l7.72-7.72 1.47 1.35L5.41 20z\"/>\n",
              "  </svg>\n",
              "      </button>\n",
              "      \n",
              "  <style>\n",
              "    .colab-df-container {\n",
              "      display:flex;\n",
              "      flex-wrap:wrap;\n",
              "      gap: 12px;\n",
              "    }\n",
              "\n",
              "    .colab-df-convert {\n",
              "      background-color: #E8F0FE;\n",
              "      border: none;\n",
              "      border-radius: 50%;\n",
              "      cursor: pointer;\n",
              "      display: none;\n",
              "      fill: #1967D2;\n",
              "      height: 32px;\n",
              "      padding: 0 0 0 0;\n",
              "      width: 32px;\n",
              "    }\n",
              "\n",
              "    .colab-df-convert:hover {\n",
              "      background-color: #E2EBFA;\n",
              "      box-shadow: 0px 1px 2px rgba(60, 64, 67, 0.3), 0px 1px 3px 1px rgba(60, 64, 67, 0.15);\n",
              "      fill: #174EA6;\n",
              "    }\n",
              "\n",
              "    [theme=dark] .colab-df-convert {\n",
              "      background-color: #3B4455;\n",
              "      fill: #D2E3FC;\n",
              "    }\n",
              "\n",
              "    [theme=dark] .colab-df-convert:hover {\n",
              "      background-color: #434B5C;\n",
              "      box-shadow: 0px 1px 3px 1px rgba(0, 0, 0, 0.15);\n",
              "      filter: drop-shadow(0px 1px 2px rgba(0, 0, 0, 0.3));\n",
              "      fill: #FFFFFF;\n",
              "    }\n",
              "  </style>\n",
              "\n",
              "      <script>\n",
              "        const buttonEl =\n",
              "          document.querySelector('#df-5fa1955b-b42c-42f3-af44-6e2220fb6016 button.colab-df-convert');\n",
              "        buttonEl.style.display =\n",
              "          google.colab.kernel.accessAllowed ? 'block' : 'none';\n",
              "\n",
              "        async function convertToInteractive(key) {\n",
              "          const element = document.querySelector('#df-5fa1955b-b42c-42f3-af44-6e2220fb6016');\n",
              "          const dataTable =\n",
              "            await google.colab.kernel.invokeFunction('convertToInteractive',\n",
              "                                                     [key], {});\n",
              "          if (!dataTable) return;\n",
              "\n",
              "          const docLinkHtml = 'Like what you see? Visit the ' +\n",
              "            '<a target=\"_blank\" href=https://colab.research.google.com/notebooks/data_table.ipynb>data table notebook</a>'\n",
              "            + ' to learn more about interactive tables.';\n",
              "          element.innerHTML = '';\n",
              "          dataTable['output_type'] = 'display_data';\n",
              "          await google.colab.output.renderOutput(dataTable, element);\n",
              "          const docLink = document.createElement('div');\n",
              "          docLink.innerHTML = docLinkHtml;\n",
              "          element.appendChild(docLink);\n",
              "        }\n",
              "      </script>\n",
              "    </div>\n",
              "  </div>\n",
              "  "
            ]
          },
          "metadata": {},
          "execution_count": 13
        }
      ],
      "source": [
        "mobile_dataset.head()"
      ]
    },
    {
      "cell_type": "code",
      "execution_count": 14,
      "metadata": {
        "colab": {
          "base_uri": "https://localhost:8080/"
        },
        "id": "rW2ILeBJFvUT",
        "outputId": "692eda2b-44af-4e37-99ee-2db93056a9f7"
      },
      "outputs": [
        {
          "output_type": "execute_result",
          "data": {
            "text/plain": [
              "1190"
            ]
          },
          "metadata": {},
          "execution_count": 14
        }
      ],
      "source": [
        "# Проверим датасет на дубликаты.\n",
        "mobile_dataset.duplicated().sum()"
      ]
    },
    {
      "cell_type": "code",
      "execution_count": 15,
      "metadata": {
        "id": "Fk4Azlm0FvUT"
      },
      "outputs": [],
      "source": [
        "mobile_dataset = mobile_dataset.drop_duplicates()"
      ]
    },
    {
      "cell_type": "code",
      "execution_count": 16,
      "metadata": {
        "colab": {
          "base_uri": "https://localhost:8080/"
        },
        "id": "LSsJJdtkFvUT",
        "outputId": "f5671181-48a6-4474-b30d-8733df6b334d"
      },
      "outputs": [
        {
          "output_type": "execute_result",
          "data": {
            "text/plain": [
              "4293"
            ]
          },
          "metadata": {},
          "execution_count": 16
        }
      ],
      "source": [
        "# Посморим, сколько уникальных пользователей содержится в датасете.\n",
        "len(mobile_dataset['user_id'].unique())"
      ]
    },
    {
      "cell_type": "code",
      "execution_count": 17,
      "metadata": {
        "colab": {
          "base_uri": "https://localhost:8080/"
        },
        "id": "IK3TeWsbFvUU",
        "outputId": "7214572a-e0c1-4255-dd6f-80bf64a4d953"
      },
      "outputs": [
        {
          "output_type": "stream",
          "name": "stdout",
          "text": [
            "Минимальная дата 2019-10-07 00:00:00\n",
            "Максимальная дата 2019-11-03 23:58:13\n"
          ]
        }
      ],
      "source": [
        "# Посмотрим минимальные и макисмальные даты.\n",
        "print('Минимальная дата', mobile_dataset['event_time'].min())\n",
        "print('Максимальная дата', mobile_dataset['event_time'].max())"
      ]
    },
    {
      "cell_type": "markdown",
      "metadata": {
        "id": "2Sr9GA7lFvUU"
      },
      "source": [
        "По результатам предобработки оба имеющиеся датасета проверены на пропуски и дубликаты, в mobile_dataset удалены дубликаты. В mobile_source изменен заголовок столбца. В mobile_dataset также изменены названия столбцов на более удобные, заменены значения в столбце event.name - 'show_contacts' на 'contacts_show', все названия событий, содержащие 'search' заменены на просто 'search'. Столбец с датой и временем приведен к соответствующему типу.\n",
        "\n",
        "Уникальное количество пользователей в обоих датасетах совпадает - 4293."
      ]
    },
    {
      "cell_type": "markdown",
      "metadata": {
        "id": "ExocJcsIFvUU"
      },
      "source": [
        "## Исследовательский анализ данных."
      ]
    },
    {
      "cell_type": "code",
      "execution_count": 18,
      "metadata": {
        "colab": {
          "base_uri": "https://localhost:8080/",
          "height": 206
        },
        "id": "QWiZ8mJtFvUU",
        "outputId": "7489096a-48fb-4ec9-aeef-a793526bfa0c"
      },
      "outputs": [
        {
          "output_type": "execute_result",
          "data": {
            "text/plain": [
              "               event_time event_name                               user_id  \\\n",
              "9686  2019-10-11 11:58:21  tips_show  68c94835-e896-4d48-a2c0-3c3226cec629   \n",
              "54183 2019-10-28 10:21:01        map  a83c2011-d536-4c57-8841-d1b6aefd6311   \n",
              "23350 2019-10-16 20:33:41  tips_show  8270324d-d1ec-49cf-ad44-a4d3edc40f93   \n",
              "32723 2019-10-20 17:11:55  tips_show  f7f350e6-ce05-45b3-97d1-fe9cc369f388   \n",
              "64115 2019-10-31 14:01:11  tips_show  197e9e80-cabf-44a6-ac16-ed303d665261   \n",
              "\n",
              "       source  \n",
              "9686   yandex  \n",
              "54183  yandex  \n",
              "23350  google  \n",
              "32723  yandex  \n",
              "64115  yandex  "
            ],
            "text/html": [
              "\n",
              "  <div id=\"df-ad90f644-b86c-4af6-b9fd-f1c8d86dea94\">\n",
              "    <div class=\"colab-df-container\">\n",
              "      <div>\n",
              "<style scoped>\n",
              "    .dataframe tbody tr th:only-of-type {\n",
              "        vertical-align: middle;\n",
              "    }\n",
              "\n",
              "    .dataframe tbody tr th {\n",
              "        vertical-align: top;\n",
              "    }\n",
              "\n",
              "    .dataframe thead th {\n",
              "        text-align: right;\n",
              "    }\n",
              "</style>\n",
              "<table border=\"1\" class=\"dataframe\">\n",
              "  <thead>\n",
              "    <tr style=\"text-align: right;\">\n",
              "      <th></th>\n",
              "      <th>event_time</th>\n",
              "      <th>event_name</th>\n",
              "      <th>user_id</th>\n",
              "      <th>source</th>\n",
              "    </tr>\n",
              "  </thead>\n",
              "  <tbody>\n",
              "    <tr>\n",
              "      <th>9686</th>\n",
              "      <td>2019-10-11 11:58:21</td>\n",
              "      <td>tips_show</td>\n",
              "      <td>68c94835-e896-4d48-a2c0-3c3226cec629</td>\n",
              "      <td>yandex</td>\n",
              "    </tr>\n",
              "    <tr>\n",
              "      <th>54183</th>\n",
              "      <td>2019-10-28 10:21:01</td>\n",
              "      <td>map</td>\n",
              "      <td>a83c2011-d536-4c57-8841-d1b6aefd6311</td>\n",
              "      <td>yandex</td>\n",
              "    </tr>\n",
              "    <tr>\n",
              "      <th>23350</th>\n",
              "      <td>2019-10-16 20:33:41</td>\n",
              "      <td>tips_show</td>\n",
              "      <td>8270324d-d1ec-49cf-ad44-a4d3edc40f93</td>\n",
              "      <td>google</td>\n",
              "    </tr>\n",
              "    <tr>\n",
              "      <th>32723</th>\n",
              "      <td>2019-10-20 17:11:55</td>\n",
              "      <td>tips_show</td>\n",
              "      <td>f7f350e6-ce05-45b3-97d1-fe9cc369f388</td>\n",
              "      <td>yandex</td>\n",
              "    </tr>\n",
              "    <tr>\n",
              "      <th>64115</th>\n",
              "      <td>2019-10-31 14:01:11</td>\n",
              "      <td>tips_show</td>\n",
              "      <td>197e9e80-cabf-44a6-ac16-ed303d665261</td>\n",
              "      <td>yandex</td>\n",
              "    </tr>\n",
              "  </tbody>\n",
              "</table>\n",
              "</div>\n",
              "      <button class=\"colab-df-convert\" onclick=\"convertToInteractive('df-ad90f644-b86c-4af6-b9fd-f1c8d86dea94')\"\n",
              "              title=\"Convert this dataframe to an interactive table.\"\n",
              "              style=\"display:none;\">\n",
              "        \n",
              "  <svg xmlns=\"http://www.w3.org/2000/svg\" height=\"24px\"viewBox=\"0 0 24 24\"\n",
              "       width=\"24px\">\n",
              "    <path d=\"M0 0h24v24H0V0z\" fill=\"none\"/>\n",
              "    <path d=\"M18.56 5.44l.94 2.06.94-2.06 2.06-.94-2.06-.94-.94-2.06-.94 2.06-2.06.94zm-11 1L8.5 8.5l.94-2.06 2.06-.94-2.06-.94L8.5 2.5l-.94 2.06-2.06.94zm10 10l.94 2.06.94-2.06 2.06-.94-2.06-.94-.94-2.06-.94 2.06-2.06.94z\"/><path d=\"M17.41 7.96l-1.37-1.37c-.4-.4-.92-.59-1.43-.59-.52 0-1.04.2-1.43.59L10.3 9.45l-7.72 7.72c-.78.78-.78 2.05 0 2.83L4 21.41c.39.39.9.59 1.41.59.51 0 1.02-.2 1.41-.59l7.78-7.78 2.81-2.81c.8-.78.8-2.07 0-2.86zM5.41 20L4 18.59l7.72-7.72 1.47 1.35L5.41 20z\"/>\n",
              "  </svg>\n",
              "      </button>\n",
              "      \n",
              "  <style>\n",
              "    .colab-df-container {\n",
              "      display:flex;\n",
              "      flex-wrap:wrap;\n",
              "      gap: 12px;\n",
              "    }\n",
              "\n",
              "    .colab-df-convert {\n",
              "      background-color: #E8F0FE;\n",
              "      border: none;\n",
              "      border-radius: 50%;\n",
              "      cursor: pointer;\n",
              "      display: none;\n",
              "      fill: #1967D2;\n",
              "      height: 32px;\n",
              "      padding: 0 0 0 0;\n",
              "      width: 32px;\n",
              "    }\n",
              "\n",
              "    .colab-df-convert:hover {\n",
              "      background-color: #E2EBFA;\n",
              "      box-shadow: 0px 1px 2px rgba(60, 64, 67, 0.3), 0px 1px 3px 1px rgba(60, 64, 67, 0.15);\n",
              "      fill: #174EA6;\n",
              "    }\n",
              "\n",
              "    [theme=dark] .colab-df-convert {\n",
              "      background-color: #3B4455;\n",
              "      fill: #D2E3FC;\n",
              "    }\n",
              "\n",
              "    [theme=dark] .colab-df-convert:hover {\n",
              "      background-color: #434B5C;\n",
              "      box-shadow: 0px 1px 3px 1px rgba(0, 0, 0, 0.15);\n",
              "      filter: drop-shadow(0px 1px 2px rgba(0, 0, 0, 0.3));\n",
              "      fill: #FFFFFF;\n",
              "    }\n",
              "  </style>\n",
              "\n",
              "      <script>\n",
              "        const buttonEl =\n",
              "          document.querySelector('#df-ad90f644-b86c-4af6-b9fd-f1c8d86dea94 button.colab-df-convert');\n",
              "        buttonEl.style.display =\n",
              "          google.colab.kernel.accessAllowed ? 'block' : 'none';\n",
              "\n",
              "        async function convertToInteractive(key) {\n",
              "          const element = document.querySelector('#df-ad90f644-b86c-4af6-b9fd-f1c8d86dea94');\n",
              "          const dataTable =\n",
              "            await google.colab.kernel.invokeFunction('convertToInteractive',\n",
              "                                                     [key], {});\n",
              "          if (!dataTable) return;\n",
              "\n",
              "          const docLinkHtml = 'Like what you see? Visit the ' +\n",
              "            '<a target=\"_blank\" href=https://colab.research.google.com/notebooks/data_table.ipynb>data table notebook</a>'\n",
              "            + ' to learn more about interactive tables.';\n",
              "          element.innerHTML = '';\n",
              "          dataTable['output_type'] = 'display_data';\n",
              "          await google.colab.output.renderOutput(dataTable, element);\n",
              "          const docLink = document.createElement('div');\n",
              "          docLink.innerHTML = docLinkHtml;\n",
              "          element.appendChild(docLink);\n",
              "        }\n",
              "      </script>\n",
              "    </div>\n",
              "  </div>\n",
              "  "
            ]
          },
          "metadata": {},
          "execution_count": 18
        }
      ],
      "source": [
        "# Перед началом анализа, объединим данные двух датасетов и отсортируем его по пользователю и \n",
        "# времени для корректного расчета сессий.\n",
        "data = (mobile_dataset\n",
        "        .merge(mobile_sources, on='user_id', how='left')\n",
        "        .sort_values(['user_id', 'event_time']))\n",
        "data.sample(5)"
      ]
    },
    {
      "cell_type": "markdown",
      "metadata": {
        "id": "t6dxC1DHFvUV"
      },
      "source": [
        "Для дальнейшего анализа необходимо по имеющимся данным выделить сессии пользователей. Мне кажется логичным для отделения одной сессии от другой взять период 30 минут, т.к. если пользователь не взаимодействует с приложением некоторое время, то скорее всего при следующем обращении к приложению он начнет все действия с начала."
      ]
    },
    {
      "cell_type": "code",
      "execution_count": 19,
      "metadata": {
        "colab": {
          "base_uri": "https://localhost:8080/",
          "height": 520
        },
        "id": "NP9hYJA2FvUV",
        "outputId": "dac3508a-eddb-46f0-f1a6-a3fefe6931cb"
      },
      "outputs": [
        {
          "output_type": "execute_result",
          "data": {
            "text/plain": [
              "               event_time event_name                               user_id  \\\n",
              "795   2019-10-07 13:39:46  tips_show  0001b1d5-b74a-4cbf-aeb0-7df5947bf349   \n",
              "796   2019-10-07 13:40:31  tips_show  0001b1d5-b74a-4cbf-aeb0-7df5947bf349   \n",
              "799   2019-10-07 13:41:06  tips_show  0001b1d5-b74a-4cbf-aeb0-7df5947bf349   \n",
              "810   2019-10-07 13:43:21  tips_show  0001b1d5-b74a-4cbf-aeb0-7df5947bf349   \n",
              "818   2019-10-07 13:45:31  tips_show  0001b1d5-b74a-4cbf-aeb0-7df5947bf349   \n",
              "819   2019-10-07 13:45:43  tips_show  0001b1d5-b74a-4cbf-aeb0-7df5947bf349   \n",
              "820   2019-10-07 13:46:31  tips_show  0001b1d5-b74a-4cbf-aeb0-7df5947bf349   \n",
              "824   2019-10-07 13:47:33  tips_show  0001b1d5-b74a-4cbf-aeb0-7df5947bf349   \n",
              "827   2019-10-07 13:49:42  tips_show  0001b1d5-b74a-4cbf-aeb0-7df5947bf349   \n",
              "6466  2019-10-09 18:33:56        map  0001b1d5-b74a-4cbf-aeb0-7df5947bf349   \n",
              "6471  2019-10-09 18:35:28        map  0001b1d5-b74a-4cbf-aeb0-7df5947bf349   \n",
              "6490  2019-10-09 18:40:29  tips_show  0001b1d5-b74a-4cbf-aeb0-7df5947bf349   \n",
              "6491  2019-10-09 18:42:23  tips_show  0001b1d5-b74a-4cbf-aeb0-7df5947bf349   \n",
              "35842 2019-10-21 19:52:31  tips_show  0001b1d5-b74a-4cbf-aeb0-7df5947bf349   \n",
              "35846 2019-10-21 19:53:17  tips_show  0001b1d5-b74a-4cbf-aeb0-7df5947bf349   \n",
              "\n",
              "      source  session_id  \n",
              "795    other           1  \n",
              "796    other           1  \n",
              "799    other           1  \n",
              "810    other           1  \n",
              "818    other           1  \n",
              "819    other           1  \n",
              "820    other           1  \n",
              "824    other           1  \n",
              "827    other           1  \n",
              "6466   other           2  \n",
              "6471   other           2  \n",
              "6490   other           2  \n",
              "6491   other           2  \n",
              "35842  other           3  \n",
              "35846  other           3  "
            ],
            "text/html": [
              "\n",
              "  <div id=\"df-5da16728-2954-4c13-94e1-3f03acdfb799\">\n",
              "    <div class=\"colab-df-container\">\n",
              "      <div>\n",
              "<style scoped>\n",
              "    .dataframe tbody tr th:only-of-type {\n",
              "        vertical-align: middle;\n",
              "    }\n",
              "\n",
              "    .dataframe tbody tr th {\n",
              "        vertical-align: top;\n",
              "    }\n",
              "\n",
              "    .dataframe thead th {\n",
              "        text-align: right;\n",
              "    }\n",
              "</style>\n",
              "<table border=\"1\" class=\"dataframe\">\n",
              "  <thead>\n",
              "    <tr style=\"text-align: right;\">\n",
              "      <th></th>\n",
              "      <th>event_time</th>\n",
              "      <th>event_name</th>\n",
              "      <th>user_id</th>\n",
              "      <th>source</th>\n",
              "      <th>session_id</th>\n",
              "    </tr>\n",
              "  </thead>\n",
              "  <tbody>\n",
              "    <tr>\n",
              "      <th>795</th>\n",
              "      <td>2019-10-07 13:39:46</td>\n",
              "      <td>tips_show</td>\n",
              "      <td>0001b1d5-b74a-4cbf-aeb0-7df5947bf349</td>\n",
              "      <td>other</td>\n",
              "      <td>1</td>\n",
              "    </tr>\n",
              "    <tr>\n",
              "      <th>796</th>\n",
              "      <td>2019-10-07 13:40:31</td>\n",
              "      <td>tips_show</td>\n",
              "      <td>0001b1d5-b74a-4cbf-aeb0-7df5947bf349</td>\n",
              "      <td>other</td>\n",
              "      <td>1</td>\n",
              "    </tr>\n",
              "    <tr>\n",
              "      <th>799</th>\n",
              "      <td>2019-10-07 13:41:06</td>\n",
              "      <td>tips_show</td>\n",
              "      <td>0001b1d5-b74a-4cbf-aeb0-7df5947bf349</td>\n",
              "      <td>other</td>\n",
              "      <td>1</td>\n",
              "    </tr>\n",
              "    <tr>\n",
              "      <th>810</th>\n",
              "      <td>2019-10-07 13:43:21</td>\n",
              "      <td>tips_show</td>\n",
              "      <td>0001b1d5-b74a-4cbf-aeb0-7df5947bf349</td>\n",
              "      <td>other</td>\n",
              "      <td>1</td>\n",
              "    </tr>\n",
              "    <tr>\n",
              "      <th>818</th>\n",
              "      <td>2019-10-07 13:45:31</td>\n",
              "      <td>tips_show</td>\n",
              "      <td>0001b1d5-b74a-4cbf-aeb0-7df5947bf349</td>\n",
              "      <td>other</td>\n",
              "      <td>1</td>\n",
              "    </tr>\n",
              "    <tr>\n",
              "      <th>819</th>\n",
              "      <td>2019-10-07 13:45:43</td>\n",
              "      <td>tips_show</td>\n",
              "      <td>0001b1d5-b74a-4cbf-aeb0-7df5947bf349</td>\n",
              "      <td>other</td>\n",
              "      <td>1</td>\n",
              "    </tr>\n",
              "    <tr>\n",
              "      <th>820</th>\n",
              "      <td>2019-10-07 13:46:31</td>\n",
              "      <td>tips_show</td>\n",
              "      <td>0001b1d5-b74a-4cbf-aeb0-7df5947bf349</td>\n",
              "      <td>other</td>\n",
              "      <td>1</td>\n",
              "    </tr>\n",
              "    <tr>\n",
              "      <th>824</th>\n",
              "      <td>2019-10-07 13:47:33</td>\n",
              "      <td>tips_show</td>\n",
              "      <td>0001b1d5-b74a-4cbf-aeb0-7df5947bf349</td>\n",
              "      <td>other</td>\n",
              "      <td>1</td>\n",
              "    </tr>\n",
              "    <tr>\n",
              "      <th>827</th>\n",
              "      <td>2019-10-07 13:49:42</td>\n",
              "      <td>tips_show</td>\n",
              "      <td>0001b1d5-b74a-4cbf-aeb0-7df5947bf349</td>\n",
              "      <td>other</td>\n",
              "      <td>1</td>\n",
              "    </tr>\n",
              "    <tr>\n",
              "      <th>6466</th>\n",
              "      <td>2019-10-09 18:33:56</td>\n",
              "      <td>map</td>\n",
              "      <td>0001b1d5-b74a-4cbf-aeb0-7df5947bf349</td>\n",
              "      <td>other</td>\n",
              "      <td>2</td>\n",
              "    </tr>\n",
              "    <tr>\n",
              "      <th>6471</th>\n",
              "      <td>2019-10-09 18:35:28</td>\n",
              "      <td>map</td>\n",
              "      <td>0001b1d5-b74a-4cbf-aeb0-7df5947bf349</td>\n",
              "      <td>other</td>\n",
              "      <td>2</td>\n",
              "    </tr>\n",
              "    <tr>\n",
              "      <th>6490</th>\n",
              "      <td>2019-10-09 18:40:29</td>\n",
              "      <td>tips_show</td>\n",
              "      <td>0001b1d5-b74a-4cbf-aeb0-7df5947bf349</td>\n",
              "      <td>other</td>\n",
              "      <td>2</td>\n",
              "    </tr>\n",
              "    <tr>\n",
              "      <th>6491</th>\n",
              "      <td>2019-10-09 18:42:23</td>\n",
              "      <td>tips_show</td>\n",
              "      <td>0001b1d5-b74a-4cbf-aeb0-7df5947bf349</td>\n",
              "      <td>other</td>\n",
              "      <td>2</td>\n",
              "    </tr>\n",
              "    <tr>\n",
              "      <th>35842</th>\n",
              "      <td>2019-10-21 19:52:31</td>\n",
              "      <td>tips_show</td>\n",
              "      <td>0001b1d5-b74a-4cbf-aeb0-7df5947bf349</td>\n",
              "      <td>other</td>\n",
              "      <td>3</td>\n",
              "    </tr>\n",
              "    <tr>\n",
              "      <th>35846</th>\n",
              "      <td>2019-10-21 19:53:17</td>\n",
              "      <td>tips_show</td>\n",
              "      <td>0001b1d5-b74a-4cbf-aeb0-7df5947bf349</td>\n",
              "      <td>other</td>\n",
              "      <td>3</td>\n",
              "    </tr>\n",
              "  </tbody>\n",
              "</table>\n",
              "</div>\n",
              "      <button class=\"colab-df-convert\" onclick=\"convertToInteractive('df-5da16728-2954-4c13-94e1-3f03acdfb799')\"\n",
              "              title=\"Convert this dataframe to an interactive table.\"\n",
              "              style=\"display:none;\">\n",
              "        \n",
              "  <svg xmlns=\"http://www.w3.org/2000/svg\" height=\"24px\"viewBox=\"0 0 24 24\"\n",
              "       width=\"24px\">\n",
              "    <path d=\"M0 0h24v24H0V0z\" fill=\"none\"/>\n",
              "    <path d=\"M18.56 5.44l.94 2.06.94-2.06 2.06-.94-2.06-.94-.94-2.06-.94 2.06-2.06.94zm-11 1L8.5 8.5l.94-2.06 2.06-.94-2.06-.94L8.5 2.5l-.94 2.06-2.06.94zm10 10l.94 2.06.94-2.06 2.06-.94-2.06-.94-.94-2.06-.94 2.06-2.06.94z\"/><path d=\"M17.41 7.96l-1.37-1.37c-.4-.4-.92-.59-1.43-.59-.52 0-1.04.2-1.43.59L10.3 9.45l-7.72 7.72c-.78.78-.78 2.05 0 2.83L4 21.41c.39.39.9.59 1.41.59.51 0 1.02-.2 1.41-.59l7.78-7.78 2.81-2.81c.8-.78.8-2.07 0-2.86zM5.41 20L4 18.59l7.72-7.72 1.47 1.35L5.41 20z\"/>\n",
              "  </svg>\n",
              "      </button>\n",
              "      \n",
              "  <style>\n",
              "    .colab-df-container {\n",
              "      display:flex;\n",
              "      flex-wrap:wrap;\n",
              "      gap: 12px;\n",
              "    }\n",
              "\n",
              "    .colab-df-convert {\n",
              "      background-color: #E8F0FE;\n",
              "      border: none;\n",
              "      border-radius: 50%;\n",
              "      cursor: pointer;\n",
              "      display: none;\n",
              "      fill: #1967D2;\n",
              "      height: 32px;\n",
              "      padding: 0 0 0 0;\n",
              "      width: 32px;\n",
              "    }\n",
              "\n",
              "    .colab-df-convert:hover {\n",
              "      background-color: #E2EBFA;\n",
              "      box-shadow: 0px 1px 2px rgba(60, 64, 67, 0.3), 0px 1px 3px 1px rgba(60, 64, 67, 0.15);\n",
              "      fill: #174EA6;\n",
              "    }\n",
              "\n",
              "    [theme=dark] .colab-df-convert {\n",
              "      background-color: #3B4455;\n",
              "      fill: #D2E3FC;\n",
              "    }\n",
              "\n",
              "    [theme=dark] .colab-df-convert:hover {\n",
              "      background-color: #434B5C;\n",
              "      box-shadow: 0px 1px 3px 1px rgba(0, 0, 0, 0.15);\n",
              "      filter: drop-shadow(0px 1px 2px rgba(0, 0, 0, 0.3));\n",
              "      fill: #FFFFFF;\n",
              "    }\n",
              "  </style>\n",
              "\n",
              "      <script>\n",
              "        const buttonEl =\n",
              "          document.querySelector('#df-5da16728-2954-4c13-94e1-3f03acdfb799 button.colab-df-convert');\n",
              "        buttonEl.style.display =\n",
              "          google.colab.kernel.accessAllowed ? 'block' : 'none';\n",
              "\n",
              "        async function convertToInteractive(key) {\n",
              "          const element = document.querySelector('#df-5da16728-2954-4c13-94e1-3f03acdfb799');\n",
              "          const dataTable =\n",
              "            await google.colab.kernel.invokeFunction('convertToInteractive',\n",
              "                                                     [key], {});\n",
              "          if (!dataTable) return;\n",
              "\n",
              "          const docLinkHtml = 'Like what you see? Visit the ' +\n",
              "            '<a target=\"_blank\" href=https://colab.research.google.com/notebooks/data_table.ipynb>data table notebook</a>'\n",
              "            + ' to learn more about interactive tables.';\n",
              "          element.innerHTML = '';\n",
              "          dataTable['output_type'] = 'display_data';\n",
              "          await google.colab.output.renderOutput(dataTable, element);\n",
              "          const docLink = document.createElement('div');\n",
              "          docLink.innerHTML = docLinkHtml;\n",
              "          element.appendChild(docLink);\n",
              "        }\n",
              "      </script>\n",
              "    </div>\n",
              "  </div>\n",
              "  "
            ]
          },
          "metadata": {},
          "execution_count": 19
        }
      ],
      "source": [
        "# Создадим столбец с номером id сессии, время ожидания сессии зададим 30 минут.\n",
        "g = (data.groupby('user_id')['event_time'].diff() > pd.Timedelta('30Min')).cumsum()\n",
        "data['session_id'] = data.groupby(['user_id', g], sort=False).ngroup() + 1\n",
        "data.head(15)"
      ]
    },
    {
      "cell_type": "code",
      "execution_count": 20,
      "metadata": {
        "colab": {
          "base_uri": "https://localhost:8080/"
        },
        "id": "YWzjpydGFvUV",
        "outputId": "9a76aba6-51f7-46f4-a3a4-c03cdbc522b6"
      },
      "outputs": [
        {
          "output_type": "execute_result",
          "data": {
            "text/plain": [
              "10368"
            ]
          },
          "metadata": {},
          "execution_count": 20
        }
      ],
      "source": [
        "# Посмотрим на общее количество уникальных сессий\n",
        "len(data['session_id'].unique())"
      ]
    },
    {
      "cell_type": "code",
      "execution_count": 21,
      "metadata": {
        "colab": {
          "base_uri": "https://localhost:8080/",
          "height": 206
        },
        "id": "8gEJSHPHFvUV",
        "outputId": "4aa2c484-3a38-477e-cd73-1143101521f0"
      },
      "outputs": [
        {
          "output_type": "execute_result",
          "data": {
            "text/plain": [
              "           event_time event_name                               user_id source  \\\n",
              "0 2019-10-07 13:39:46  tips_show  0001b1d5-b74a-4cbf-aeb0-7df5947bf349  other   \n",
              "1 2019-10-07 13:40:31  tips_show  0001b1d5-b74a-4cbf-aeb0-7df5947bf349  other   \n",
              "2 2019-10-07 13:41:06  tips_show  0001b1d5-b74a-4cbf-aeb0-7df5947bf349  other   \n",
              "3 2019-10-07 13:43:21  tips_show  0001b1d5-b74a-4cbf-aeb0-7df5947bf349  other   \n",
              "4 2019-10-07 13:45:31  tips_show  0001b1d5-b74a-4cbf-aeb0-7df5947bf349  other   \n",
              "\n",
              "   session_id       session_start  \n",
              "0           1 2019-10-07 13:39:46  \n",
              "1           1 2019-10-07 13:39:46  \n",
              "2           1 2019-10-07 13:39:46  \n",
              "3           1 2019-10-07 13:39:46  \n",
              "4           1 2019-10-07 13:39:46  "
            ],
            "text/html": [
              "\n",
              "  <div id=\"df-3fb34db1-05d6-437e-89b7-b9cfc6d66b16\">\n",
              "    <div class=\"colab-df-container\">\n",
              "      <div>\n",
              "<style scoped>\n",
              "    .dataframe tbody tr th:only-of-type {\n",
              "        vertical-align: middle;\n",
              "    }\n",
              "\n",
              "    .dataframe tbody tr th {\n",
              "        vertical-align: top;\n",
              "    }\n",
              "\n",
              "    .dataframe thead th {\n",
              "        text-align: right;\n",
              "    }\n",
              "</style>\n",
              "<table border=\"1\" class=\"dataframe\">\n",
              "  <thead>\n",
              "    <tr style=\"text-align: right;\">\n",
              "      <th></th>\n",
              "      <th>event_time</th>\n",
              "      <th>event_name</th>\n",
              "      <th>user_id</th>\n",
              "      <th>source</th>\n",
              "      <th>session_id</th>\n",
              "      <th>session_start</th>\n",
              "    </tr>\n",
              "  </thead>\n",
              "  <tbody>\n",
              "    <tr>\n",
              "      <th>0</th>\n",
              "      <td>2019-10-07 13:39:46</td>\n",
              "      <td>tips_show</td>\n",
              "      <td>0001b1d5-b74a-4cbf-aeb0-7df5947bf349</td>\n",
              "      <td>other</td>\n",
              "      <td>1</td>\n",
              "      <td>2019-10-07 13:39:46</td>\n",
              "    </tr>\n",
              "    <tr>\n",
              "      <th>1</th>\n",
              "      <td>2019-10-07 13:40:31</td>\n",
              "      <td>tips_show</td>\n",
              "      <td>0001b1d5-b74a-4cbf-aeb0-7df5947bf349</td>\n",
              "      <td>other</td>\n",
              "      <td>1</td>\n",
              "      <td>2019-10-07 13:39:46</td>\n",
              "    </tr>\n",
              "    <tr>\n",
              "      <th>2</th>\n",
              "      <td>2019-10-07 13:41:06</td>\n",
              "      <td>tips_show</td>\n",
              "      <td>0001b1d5-b74a-4cbf-aeb0-7df5947bf349</td>\n",
              "      <td>other</td>\n",
              "      <td>1</td>\n",
              "      <td>2019-10-07 13:39:46</td>\n",
              "    </tr>\n",
              "    <tr>\n",
              "      <th>3</th>\n",
              "      <td>2019-10-07 13:43:21</td>\n",
              "      <td>tips_show</td>\n",
              "      <td>0001b1d5-b74a-4cbf-aeb0-7df5947bf349</td>\n",
              "      <td>other</td>\n",
              "      <td>1</td>\n",
              "      <td>2019-10-07 13:39:46</td>\n",
              "    </tr>\n",
              "    <tr>\n",
              "      <th>4</th>\n",
              "      <td>2019-10-07 13:45:31</td>\n",
              "      <td>tips_show</td>\n",
              "      <td>0001b1d5-b74a-4cbf-aeb0-7df5947bf349</td>\n",
              "      <td>other</td>\n",
              "      <td>1</td>\n",
              "      <td>2019-10-07 13:39:46</td>\n",
              "    </tr>\n",
              "  </tbody>\n",
              "</table>\n",
              "</div>\n",
              "      <button class=\"colab-df-convert\" onclick=\"convertToInteractive('df-3fb34db1-05d6-437e-89b7-b9cfc6d66b16')\"\n",
              "              title=\"Convert this dataframe to an interactive table.\"\n",
              "              style=\"display:none;\">\n",
              "        \n",
              "  <svg xmlns=\"http://www.w3.org/2000/svg\" height=\"24px\"viewBox=\"0 0 24 24\"\n",
              "       width=\"24px\">\n",
              "    <path d=\"M0 0h24v24H0V0z\" fill=\"none\"/>\n",
              "    <path d=\"M18.56 5.44l.94 2.06.94-2.06 2.06-.94-2.06-.94-.94-2.06-.94 2.06-2.06.94zm-11 1L8.5 8.5l.94-2.06 2.06-.94-2.06-.94L8.5 2.5l-.94 2.06-2.06.94zm10 10l.94 2.06.94-2.06 2.06-.94-2.06-.94-.94-2.06-.94 2.06-2.06.94z\"/><path d=\"M17.41 7.96l-1.37-1.37c-.4-.4-.92-.59-1.43-.59-.52 0-1.04.2-1.43.59L10.3 9.45l-7.72 7.72c-.78.78-.78 2.05 0 2.83L4 21.41c.39.39.9.59 1.41.59.51 0 1.02-.2 1.41-.59l7.78-7.78 2.81-2.81c.8-.78.8-2.07 0-2.86zM5.41 20L4 18.59l7.72-7.72 1.47 1.35L5.41 20z\"/>\n",
              "  </svg>\n",
              "      </button>\n",
              "      \n",
              "  <style>\n",
              "    .colab-df-container {\n",
              "      display:flex;\n",
              "      flex-wrap:wrap;\n",
              "      gap: 12px;\n",
              "    }\n",
              "\n",
              "    .colab-df-convert {\n",
              "      background-color: #E8F0FE;\n",
              "      border: none;\n",
              "      border-radius: 50%;\n",
              "      cursor: pointer;\n",
              "      display: none;\n",
              "      fill: #1967D2;\n",
              "      height: 32px;\n",
              "      padding: 0 0 0 0;\n",
              "      width: 32px;\n",
              "    }\n",
              "\n",
              "    .colab-df-convert:hover {\n",
              "      background-color: #E2EBFA;\n",
              "      box-shadow: 0px 1px 2px rgba(60, 64, 67, 0.3), 0px 1px 3px 1px rgba(60, 64, 67, 0.15);\n",
              "      fill: #174EA6;\n",
              "    }\n",
              "\n",
              "    [theme=dark] .colab-df-convert {\n",
              "      background-color: #3B4455;\n",
              "      fill: #D2E3FC;\n",
              "    }\n",
              "\n",
              "    [theme=dark] .colab-df-convert:hover {\n",
              "      background-color: #434B5C;\n",
              "      box-shadow: 0px 1px 3px 1px rgba(0, 0, 0, 0.15);\n",
              "      filter: drop-shadow(0px 1px 2px rgba(0, 0, 0, 0.3));\n",
              "      fill: #FFFFFF;\n",
              "    }\n",
              "  </style>\n",
              "\n",
              "      <script>\n",
              "        const buttonEl =\n",
              "          document.querySelector('#df-3fb34db1-05d6-437e-89b7-b9cfc6d66b16 button.colab-df-convert');\n",
              "        buttonEl.style.display =\n",
              "          google.colab.kernel.accessAllowed ? 'block' : 'none';\n",
              "\n",
              "        async function convertToInteractive(key) {\n",
              "          const element = document.querySelector('#df-3fb34db1-05d6-437e-89b7-b9cfc6d66b16');\n",
              "          const dataTable =\n",
              "            await google.colab.kernel.invokeFunction('convertToInteractive',\n",
              "                                                     [key], {});\n",
              "          if (!dataTable) return;\n",
              "\n",
              "          const docLinkHtml = 'Like what you see? Visit the ' +\n",
              "            '<a target=\"_blank\" href=https://colab.research.google.com/notebooks/data_table.ipynb>data table notebook</a>'\n",
              "            + ' to learn more about interactive tables.';\n",
              "          element.innerHTML = '';\n",
              "          dataTable['output_type'] = 'display_data';\n",
              "          await google.colab.output.renderOutput(dataTable, element);\n",
              "          const docLink = document.createElement('div');\n",
              "          docLink.innerHTML = docLinkHtml;\n",
              "          element.appendChild(docLink);\n",
              "        }\n",
              "      </script>\n",
              "    </div>\n",
              "  </div>\n",
              "  "
            ]
          },
          "metadata": {},
          "execution_count": 21
        }
      ],
      "source": [
        "# Добавим столбец со временем начала каждой сессии.\n",
        "data = data.merge((data.groupby(['user_id', 'session_id'])\n",
        "                .agg({'event_time':'first'})\n",
        "                .rename(columns={'event_time':'session_start'})\n",
        "                .reset_index()), on=['user_id', 'session_id'], how='left')\n",
        "data.head()"
      ]
    },
    {
      "cell_type": "code",
      "execution_count": 22,
      "metadata": {
        "colab": {
          "base_uri": "https://localhost:8080/",
          "height": 424
        },
        "id": "PmK7wI4tFvUW",
        "outputId": "3e3594c2-9528-445f-bfcc-aa458268f418"
      },
      "outputs": [
        {
          "output_type": "execute_result",
          "data": {
            "text/plain": [
              "                                    user_id       session_start  event_name\n",
              "0      0001b1d5-b74a-4cbf-aeb0-7df5947bf349 2019-10-07 13:39:46           9\n",
              "1      0001b1d5-b74a-4cbf-aeb0-7df5947bf349 2019-10-09 18:33:56           4\n",
              "2      0001b1d5-b74a-4cbf-aeb0-7df5947bf349 2019-10-21 19:52:31          14\n",
              "3      0001b1d5-b74a-4cbf-aeb0-7df5947bf349 2019-10-22 11:18:15           8\n",
              "4      00157779-810c-4498-9e05-a1e9e3cedf93 2019-10-19 21:34:34           9\n",
              "...                                     ...                 ...         ...\n",
              "10363  fffb9e79-b927-4dbb-9b48-7fd09b23a62b 2019-11-02 01:16:49           1\n",
              "10364  fffb9e79-b927-4dbb-9b48-7fd09b23a62b 2019-11-02 18:01:27           2\n",
              "10365  fffb9e79-b927-4dbb-9b48-7fd09b23a62b 2019-11-02 19:25:54           4\n",
              "10366  fffb9e79-b927-4dbb-9b48-7fd09b23a62b 2019-11-03 14:32:56          15\n",
              "10367  fffb9e79-b927-4dbb-9b48-7fd09b23a62b 2019-11-03 15:36:01          14\n",
              "\n",
              "[10368 rows x 3 columns]"
            ],
            "text/html": [
              "\n",
              "  <div id=\"df-67481adf-382b-4f49-80cb-6246f5f8d052\">\n",
              "    <div class=\"colab-df-container\">\n",
              "      <div>\n",
              "<style scoped>\n",
              "    .dataframe tbody tr th:only-of-type {\n",
              "        vertical-align: middle;\n",
              "    }\n",
              "\n",
              "    .dataframe tbody tr th {\n",
              "        vertical-align: top;\n",
              "    }\n",
              "\n",
              "    .dataframe thead th {\n",
              "        text-align: right;\n",
              "    }\n",
              "</style>\n",
              "<table border=\"1\" class=\"dataframe\">\n",
              "  <thead>\n",
              "    <tr style=\"text-align: right;\">\n",
              "      <th></th>\n",
              "      <th>user_id</th>\n",
              "      <th>session_start</th>\n",
              "      <th>event_name</th>\n",
              "    </tr>\n",
              "  </thead>\n",
              "  <tbody>\n",
              "    <tr>\n",
              "      <th>0</th>\n",
              "      <td>0001b1d5-b74a-4cbf-aeb0-7df5947bf349</td>\n",
              "      <td>2019-10-07 13:39:46</td>\n",
              "      <td>9</td>\n",
              "    </tr>\n",
              "    <tr>\n",
              "      <th>1</th>\n",
              "      <td>0001b1d5-b74a-4cbf-aeb0-7df5947bf349</td>\n",
              "      <td>2019-10-09 18:33:56</td>\n",
              "      <td>4</td>\n",
              "    </tr>\n",
              "    <tr>\n",
              "      <th>2</th>\n",
              "      <td>0001b1d5-b74a-4cbf-aeb0-7df5947bf349</td>\n",
              "      <td>2019-10-21 19:52:31</td>\n",
              "      <td>14</td>\n",
              "    </tr>\n",
              "    <tr>\n",
              "      <th>3</th>\n",
              "      <td>0001b1d5-b74a-4cbf-aeb0-7df5947bf349</td>\n",
              "      <td>2019-10-22 11:18:15</td>\n",
              "      <td>8</td>\n",
              "    </tr>\n",
              "    <tr>\n",
              "      <th>4</th>\n",
              "      <td>00157779-810c-4498-9e05-a1e9e3cedf93</td>\n",
              "      <td>2019-10-19 21:34:34</td>\n",
              "      <td>9</td>\n",
              "    </tr>\n",
              "    <tr>\n",
              "      <th>...</th>\n",
              "      <td>...</td>\n",
              "      <td>...</td>\n",
              "      <td>...</td>\n",
              "    </tr>\n",
              "    <tr>\n",
              "      <th>10363</th>\n",
              "      <td>fffb9e79-b927-4dbb-9b48-7fd09b23a62b</td>\n",
              "      <td>2019-11-02 01:16:49</td>\n",
              "      <td>1</td>\n",
              "    </tr>\n",
              "    <tr>\n",
              "      <th>10364</th>\n",
              "      <td>fffb9e79-b927-4dbb-9b48-7fd09b23a62b</td>\n",
              "      <td>2019-11-02 18:01:27</td>\n",
              "      <td>2</td>\n",
              "    </tr>\n",
              "    <tr>\n",
              "      <th>10365</th>\n",
              "      <td>fffb9e79-b927-4dbb-9b48-7fd09b23a62b</td>\n",
              "      <td>2019-11-02 19:25:54</td>\n",
              "      <td>4</td>\n",
              "    </tr>\n",
              "    <tr>\n",
              "      <th>10366</th>\n",
              "      <td>fffb9e79-b927-4dbb-9b48-7fd09b23a62b</td>\n",
              "      <td>2019-11-03 14:32:56</td>\n",
              "      <td>15</td>\n",
              "    </tr>\n",
              "    <tr>\n",
              "      <th>10367</th>\n",
              "      <td>fffb9e79-b927-4dbb-9b48-7fd09b23a62b</td>\n",
              "      <td>2019-11-03 15:36:01</td>\n",
              "      <td>14</td>\n",
              "    </tr>\n",
              "  </tbody>\n",
              "</table>\n",
              "<p>10368 rows × 3 columns</p>\n",
              "</div>\n",
              "      <button class=\"colab-df-convert\" onclick=\"convertToInteractive('df-67481adf-382b-4f49-80cb-6246f5f8d052')\"\n",
              "              title=\"Convert this dataframe to an interactive table.\"\n",
              "              style=\"display:none;\">\n",
              "        \n",
              "  <svg xmlns=\"http://www.w3.org/2000/svg\" height=\"24px\"viewBox=\"0 0 24 24\"\n",
              "       width=\"24px\">\n",
              "    <path d=\"M0 0h24v24H0V0z\" fill=\"none\"/>\n",
              "    <path d=\"M18.56 5.44l.94 2.06.94-2.06 2.06-.94-2.06-.94-.94-2.06-.94 2.06-2.06.94zm-11 1L8.5 8.5l.94-2.06 2.06-.94-2.06-.94L8.5 2.5l-.94 2.06-2.06.94zm10 10l.94 2.06.94-2.06 2.06-.94-2.06-.94-.94-2.06-.94 2.06-2.06.94z\"/><path d=\"M17.41 7.96l-1.37-1.37c-.4-.4-.92-.59-1.43-.59-.52 0-1.04.2-1.43.59L10.3 9.45l-7.72 7.72c-.78.78-.78 2.05 0 2.83L4 21.41c.39.39.9.59 1.41.59.51 0 1.02-.2 1.41-.59l7.78-7.78 2.81-2.81c.8-.78.8-2.07 0-2.86zM5.41 20L4 18.59l7.72-7.72 1.47 1.35L5.41 20z\"/>\n",
              "  </svg>\n",
              "      </button>\n",
              "      \n",
              "  <style>\n",
              "    .colab-df-container {\n",
              "      display:flex;\n",
              "      flex-wrap:wrap;\n",
              "      gap: 12px;\n",
              "    }\n",
              "\n",
              "    .colab-df-convert {\n",
              "      background-color: #E8F0FE;\n",
              "      border: none;\n",
              "      border-radius: 50%;\n",
              "      cursor: pointer;\n",
              "      display: none;\n",
              "      fill: #1967D2;\n",
              "      height: 32px;\n",
              "      padding: 0 0 0 0;\n",
              "      width: 32px;\n",
              "    }\n",
              "\n",
              "    .colab-df-convert:hover {\n",
              "      background-color: #E2EBFA;\n",
              "      box-shadow: 0px 1px 2px rgba(60, 64, 67, 0.3), 0px 1px 3px 1px rgba(60, 64, 67, 0.15);\n",
              "      fill: #174EA6;\n",
              "    }\n",
              "\n",
              "    [theme=dark] .colab-df-convert {\n",
              "      background-color: #3B4455;\n",
              "      fill: #D2E3FC;\n",
              "    }\n",
              "\n",
              "    [theme=dark] .colab-df-convert:hover {\n",
              "      background-color: #434B5C;\n",
              "      box-shadow: 0px 1px 3px 1px rgba(0, 0, 0, 0.15);\n",
              "      filter: drop-shadow(0px 1px 2px rgba(0, 0, 0, 0.3));\n",
              "      fill: #FFFFFF;\n",
              "    }\n",
              "  </style>\n",
              "\n",
              "      <script>\n",
              "        const buttonEl =\n",
              "          document.querySelector('#df-67481adf-382b-4f49-80cb-6246f5f8d052 button.colab-df-convert');\n",
              "        buttonEl.style.display =\n",
              "          google.colab.kernel.accessAllowed ? 'block' : 'none';\n",
              "\n",
              "        async function convertToInteractive(key) {\n",
              "          const element = document.querySelector('#df-67481adf-382b-4f49-80cb-6246f5f8d052');\n",
              "          const dataTable =\n",
              "            await google.colab.kernel.invokeFunction('convertToInteractive',\n",
              "                                                     [key], {});\n",
              "          if (!dataTable) return;\n",
              "\n",
              "          const docLinkHtml = 'Like what you see? Visit the ' +\n",
              "            '<a target=\"_blank\" href=https://colab.research.google.com/notebooks/data_table.ipynb>data table notebook</a>'\n",
              "            + ' to learn more about interactive tables.';\n",
              "          element.innerHTML = '';\n",
              "          dataTable['output_type'] = 'display_data';\n",
              "          await google.colab.output.renderOutput(dataTable, element);\n",
              "          const docLink = document.createElement('div');\n",
              "          docLink.innerHTML = docLinkHtml;\n",
              "          element.appendChild(docLink);\n",
              "        }\n",
              "      </script>\n",
              "    </div>\n",
              "  </div>\n",
              "  "
            ]
          },
          "metadata": {},
          "execution_count": 22
        }
      ],
      "source": [
        "# Создадим таблицу с уникальными парами пользователь-начало сессии.\n",
        "data_sessions = data.groupby(['user_id', 'session_start'])['event_name'].count().reset_index()\n",
        "data_sessions"
      ]
    },
    {
      "cell_type": "code",
      "execution_count": 23,
      "metadata": {
        "colab": {
          "base_uri": "https://localhost:8080/"
        },
        "id": "B5e1GXsuFvUW",
        "outputId": "8eb9be12-a6a1-44fe-ab54-9ca8e798c4f2"
      },
      "outputs": [
        {
          "output_type": "stream",
          "name": "stdout",
          "text": [
            "Медианное количество действий за сессию 4.0\n",
            "Среднее количество действий за сессию 7\n",
            "Максимальное количество действий за сессию 149\n",
            "Минимльное количество действий за сессию 1\n"
          ]
        }
      ],
      "source": [
        "# Посмотрим среднее количество событий за сессию.\n",
        "print('Медианное количество действий за сессию', data_sessions['event_name'].median())\n",
        "print('Среднее количество действий за сессию', round(data_sessions['event_name'].mean()))\n",
        "print('Максимальное количество действий за сессию', data_sessions['event_name'].max())\n",
        "print('Минимльное количество действий за сессию', data_sessions['event_name'].min())"
      ]
    },
    {
      "cell_type": "code",
      "execution_count": 24,
      "metadata": {
        "colab": {
          "base_uri": "https://localhost:8080/",
          "height": 396
        },
        "id": "8pdYhPxsFvUW",
        "outputId": "5cebcc17-e539-4a0a-dbd7-fa5ee9107732"
      },
      "outputs": [
        {
          "output_type": "display_data",
          "data": {
            "text/plain": [
              "<Figure size 720x432 with 1 Axes>"
            ],
            "image/png": "[encoded data removed]"
          },
          "metadata": {
            "needs_background": "light"
          }
        }
      ],
      "source": [
        "plt.figure(figsize=(10,6))\n",
        "data_sessions.boxplot()\n",
        "plt.title('Распределение количества событий за одну сессию',fontsize=20)\n",
        "plt.ylabel('Количество событий')\n",
        "plt.ylim(0,30)\n",
        "plt.show()"
      ]
    },
    {
      "cell_type": "markdown",
      "metadata": {
        "id": "Kbgnys0fFvUW"
      },
      "source": [
        "Медианное количество событий за сессию - 4, при этом пользователи редко совершают более 17 событий за раз."
      ]
    },
    {
      "cell_type": "markdown",
      "metadata": {
        "id": "atX2vkXkFvUX"
      },
      "source": [
        "### Retention Rate\n"
      ]
    },
    {
      "cell_type": "code",
      "execution_count": 25,
      "metadata": {
        "colab": {
          "base_uri": "https://localhost:8080/",
          "height": 424
        },
        "id": "wTlHTJUWFvUX",
        "outputId": "f0a5d73d-57f7-4c96-df78-89555301b3d7"
      },
      "outputs": [
        {
          "output_type": "execute_result",
          "data": {
            "text/plain": [
              "                                   user_id            first_ts  source  \\\n",
              "0     0001b1d5-b74a-4cbf-aeb0-7df5947bf349 2019-10-07 13:39:46   other   \n",
              "1     00157779-810c-4498-9e05-a1e9e3cedf93 2019-10-19 21:34:34  yandex   \n",
              "2     00463033-5717-4bf1-91b4-09183923b9df 2019-11-01 13:54:35  yandex   \n",
              "3     004690c3-5a84-4bb7-a8af-e0c8f8fca64e 2019-10-18 22:14:06  google   \n",
              "4     00551e79-152e-4441-9cf7-565d7eb04090 2019-10-25 16:44:41  yandex   \n",
              "...                                    ...                 ...     ...   \n",
              "4288  ffab8d8a-30bb-424a-a3ab-0b63ebbf7b07 2019-10-13 16:11:27  yandex   \n",
              "4289  ffc01466-fdb1-4460-ae94-e800f52eb136 2019-10-07 20:32:50  yandex   \n",
              "4290  ffcf50d9-293c-4254-8243-4890b030b238 2019-10-23 11:51:35  google   \n",
              "4291  ffe68f10-e48e-470e-be9b-eeb93128ff1a 2019-10-21 16:39:34  yandex   \n",
              "4292  fffb9e79-b927-4dbb-9b48-7fd09b23a62b 2019-10-12 00:57:21  google   \n",
              "\n",
              "        first_dt  is_contacts_show  \n",
              "0     2019-10-07             False  \n",
              "1     2019-10-19              True  \n",
              "2     2019-11-01             False  \n",
              "3     2019-10-18             False  \n",
              "4     2019-10-25              True  \n",
              "...          ...               ...  \n",
              "4288  2019-10-13             False  \n",
              "4289  2019-10-07              True  \n",
              "4290  2019-10-23             False  \n",
              "4291  2019-10-21              True  \n",
              "4292  2019-10-12              True  \n",
              "\n",
              "[4293 rows x 5 columns]"
            ],
            "text/html": [
              "\n",
              "  <div id=\"df-583d0e61-31dd-4574-a2a1-c89d381c1569\">\n",
              "    <div class=\"colab-df-container\">\n",
              "      <div>\n",
              "<style scoped>\n",
              "    .dataframe tbody tr th:only-of-type {\n",
              "        vertical-align: middle;\n",
              "    }\n",
              "\n",
              "    .dataframe tbody tr th {\n",
              "        vertical-align: top;\n",
              "    }\n",
              "\n",
              "    .dataframe thead th {\n",
              "        text-align: right;\n",
              "    }\n",
              "</style>\n",
              "<table border=\"1\" class=\"dataframe\">\n",
              "  <thead>\n",
              "    <tr style=\"text-align: right;\">\n",
              "      <th></th>\n",
              "      <th>user_id</th>\n",
              "      <th>first_ts</th>\n",
              "      <th>source</th>\n",
              "      <th>first_dt</th>\n",
              "      <th>is_contacts_show</th>\n",
              "    </tr>\n",
              "  </thead>\n",
              "  <tbody>\n",
              "    <tr>\n",
              "      <th>0</th>\n",
              "      <td>0001b1d5-b74a-4cbf-aeb0-7df5947bf349</td>\n",
              "      <td>2019-10-07 13:39:46</td>\n",
              "      <td>other</td>\n",
              "      <td>2019-10-07</td>\n",
              "      <td>False</td>\n",
              "    </tr>\n",
              "    <tr>\n",
              "      <th>1</th>\n",
              "      <td>00157779-810c-4498-9e05-a1e9e3cedf93</td>\n",
              "      <td>2019-10-19 21:34:34</td>\n",
              "      <td>yandex</td>\n",
              "      <td>2019-10-19</td>\n",
              "      <td>True</td>\n",
              "    </tr>\n",
              "    <tr>\n",
              "      <th>2</th>\n",
              "      <td>00463033-5717-4bf1-91b4-09183923b9df</td>\n",
              "      <td>2019-11-01 13:54:35</td>\n",
              "      <td>yandex</td>\n",
              "      <td>2019-11-01</td>\n",
              "      <td>False</td>\n",
              "    </tr>\n",
              "    <tr>\n",
              "      <th>3</th>\n",
              "      <td>004690c3-5a84-4bb7-a8af-e0c8f8fca64e</td>\n",
              "      <td>2019-10-18 22:14:06</td>\n",
              "      <td>google</td>\n",
              "      <td>2019-10-18</td>\n",
              "      <td>False</td>\n",
              "    </tr>\n",
              "    <tr>\n",
              "      <th>4</th>\n",
              "      <td>00551e79-152e-4441-9cf7-565d7eb04090</td>\n",
              "      <td>2019-10-25 16:44:41</td>\n",
              "      <td>yandex</td>\n",
              "      <td>2019-10-25</td>\n",
              "      <td>True</td>\n",
              "    </tr>\n",
              "    <tr>\n",
              "      <th>...</th>\n",
              "      <td>...</td>\n",
              "      <td>...</td>\n",
              "      <td>...</td>\n",
              "      <td>...</td>\n",
              "      <td>...</td>\n",
              "    </tr>\n",
              "    <tr>\n",
              "      <th>4288</th>\n",
              "      <td>ffab8d8a-30bb-424a-a3ab-0b63ebbf7b07</td>\n",
              "      <td>2019-10-13 16:11:27</td>\n",
              "      <td>yandex</td>\n",
              "      <td>2019-10-13</td>\n",
              "      <td>False</td>\n",
              "    </tr>\n",
              "    <tr>\n",
              "      <th>4289</th>\n",
              "      <td>ffc01466-fdb1-4460-ae94-e800f52eb136</td>\n",
              "      <td>2019-10-07 20:32:50</td>\n",
              "      <td>yandex</td>\n",
              "      <td>2019-10-07</td>\n",
              "      <td>True</td>\n",
              "    </tr>\n",
              "    <tr>\n",
              "      <th>4290</th>\n",
              "      <td>ffcf50d9-293c-4254-8243-4890b030b238</td>\n",
              "      <td>2019-10-23 11:51:35</td>\n",
              "      <td>google</td>\n",
              "      <td>2019-10-23</td>\n",
              "      <td>False</td>\n",
              "    </tr>\n",
              "    <tr>\n",
              "      <th>4291</th>\n",
              "      <td>ffe68f10-e48e-470e-be9b-eeb93128ff1a</td>\n",
              "      <td>2019-10-21 16:39:34</td>\n",
              "      <td>yandex</td>\n",
              "      <td>2019-10-21</td>\n",
              "      <td>True</td>\n",
              "    </tr>\n",
              "    <tr>\n",
              "      <th>4292</th>\n",
              "      <td>fffb9e79-b927-4dbb-9b48-7fd09b23a62b</td>\n",
              "      <td>2019-10-12 00:57:21</td>\n",
              "      <td>google</td>\n",
              "      <td>2019-10-12</td>\n",
              "      <td>True</td>\n",
              "    </tr>\n",
              "  </tbody>\n",
              "</table>\n",
              "<p>4293 rows × 5 columns</p>\n",
              "</div>\n",
              "      <button class=\"colab-df-convert\" onclick=\"convertToInteractive('df-583d0e61-31dd-4574-a2a1-c89d381c1569')\"\n",
              "              title=\"Convert this dataframe to an interactive table.\"\n",
              "              style=\"display:none;\">\n",
              "        \n",
              "  <svg xmlns=\"http://www.w3.org/2000/svg\" height=\"24px\"viewBox=\"0 0 24 24\"\n",
              "       width=\"24px\">\n",
              "    <path d=\"M0 0h24v24H0V0z\" fill=\"none\"/>\n",
              "    <path d=\"M18.56 5.44l.94 2.06.94-2.06 2.06-.94-2.06-.94-.94-2.06-.94 2.06-2.06.94zm-11 1L8.5 8.5l.94-2.06 2.06-.94-2.06-.94L8.5 2.5l-.94 2.06-2.06.94zm10 10l.94 2.06.94-2.06 2.06-.94-2.06-.94-.94-2.06-.94 2.06-2.06.94z\"/><path d=\"M17.41 7.96l-1.37-1.37c-.4-.4-.92-.59-1.43-.59-.52 0-1.04.2-1.43.59L10.3 9.45l-7.72 7.72c-.78.78-.78 2.05 0 2.83L4 21.41c.39.39.9.59 1.41.59.51 0 1.02-.2 1.41-.59l7.78-7.78 2.81-2.81c.8-.78.8-2.07 0-2.86zM5.41 20L4 18.59l7.72-7.72 1.47 1.35L5.41 20z\"/>\n",
              "  </svg>\n",
              "      </button>\n",
              "      \n",
              "  <style>\n",
              "    .colab-df-container {\n",
              "      display:flex;\n",
              "      flex-wrap:wrap;\n",
              "      gap: 12px;\n",
              "    }\n",
              "\n",
              "    .colab-df-convert {\n",
              "      background-color: #E8F0FE;\n",
              "      border: none;\n",
              "      border-radius: 50%;\n",
              "      cursor: pointer;\n",
              "      display: none;\n",
              "      fill: #1967D2;\n",
              "      height: 32px;\n",
              "      padding: 0 0 0 0;\n",
              "      width: 32px;\n",
              "    }\n",
              "\n",
              "    .colab-df-convert:hover {\n",
              "      background-color: #E2EBFA;\n",
              "      box-shadow: 0px 1px 2px rgba(60, 64, 67, 0.3), 0px 1px 3px 1px rgba(60, 64, 67, 0.15);\n",
              "      fill: #174EA6;\n",
              "    }\n",
              "\n",
              "    [theme=dark] .colab-df-convert {\n",
              "      background-color: #3B4455;\n",
              "      fill: #D2E3FC;\n",
              "    }\n",
              "\n",
              "    [theme=dark] .colab-df-convert:hover {\n",
              "      background-color: #434B5C;\n",
              "      box-shadow: 0px 1px 3px 1px rgba(0, 0, 0, 0.15);\n",
              "      filter: drop-shadow(0px 1px 2px rgba(0, 0, 0, 0.3));\n",
              "      fill: #FFFFFF;\n",
              "    }\n",
              "  </style>\n",
              "\n",
              "      <script>\n",
              "        const buttonEl =\n",
              "          document.querySelector('#df-583d0e61-31dd-4574-a2a1-c89d381c1569 button.colab-df-convert');\n",
              "        buttonEl.style.display =\n",
              "          google.colab.kernel.accessAllowed ? 'block' : 'none';\n",
              "\n",
              "        async function convertToInteractive(key) {\n",
              "          const element = document.querySelector('#df-583d0e61-31dd-4574-a2a1-c89d381c1569');\n",
              "          const dataTable =\n",
              "            await google.colab.kernel.invokeFunction('convertToInteractive',\n",
              "                                                     [key], {});\n",
              "          if (!dataTable) return;\n",
              "\n",
              "          const docLinkHtml = 'Like what you see? Visit the ' +\n",
              "            '<a target=\"_blank\" href=https://colab.research.google.com/notebooks/data_table.ipynb>data table notebook</a>'\n",
              "            + ' to learn more about interactive tables.';\n",
              "          element.innerHTML = '';\n",
              "          dataTable['output_type'] = 'display_data';\n",
              "          await google.colab.output.renderOutput(dataTable, element);\n",
              "          const docLink = document.createElement('div');\n",
              "          docLink.innerHTML = docLinkHtml;\n",
              "          element.appendChild(docLink);\n",
              "        }\n",
              "      </script>\n",
              "    </div>\n",
              "  </div>\n",
              "  "
            ]
          },
          "metadata": {},
          "execution_count": 25
        }
      ],
      "source": [
        "# Теперь можно приступать к созданию профилей пользователей c датой первого посещения\n",
        "profiles = (data.groupby('user_id')\n",
        "                .agg({'event_time':'first', 'source':'first'})\n",
        "                .rename(columns={'event_time':'first_ts'})\n",
        "                .reset_index())\n",
        "profiles['first_dt'] = profiles['first_ts'].dt.date\n",
        "profiles['is_contacts_show'] = profiles['user_id'].isin(data.query('event_name == \"contacts_show\"')['user_id'].unique())\n",
        "\n",
        "profiles "
      ]
    },
    {
      "cell_type": "code",
      "execution_count": 26,
      "metadata": {
        "id": "xjIIo1ORFvUX"
      },
      "outputs": [],
      "source": [
        "# Напишем функицю для расчета удержания, в тело функции заранее включим разделение пользователей на просмотревших и\n",
        "# не просмотревших контакты.\n",
        "def get_retention(\n",
        "    profiles,\n",
        "    data,\n",
        "    observation_date,\n",
        "    horizon_days,\n",
        "    dimensions=[],\n",
        "    ignore_horizon=False,\n",
        "):\n",
        "\n",
        "    # добавляем столбец is_contacts_show в передаваемый dimensions список\n",
        "    dimensions = ['is_contacts_show'] + dimensions\n",
        "\n",
        "    # исключаем пользователей, не «доживших» до горизонта анализа\n",
        "    last_suitable_acquisition_date = observation_date\n",
        "    if not ignore_horizon:\n",
        "        last_suitable_acquisition_date = observation_date - timedelta(\n",
        "            days=horizon_days - 1\n",
        "        )\n",
        "    result_raw = profiles.query('first_dt <= @last_suitable_acquisition_date')\n",
        "\n",
        "    # собираем «сырые» данные для расчёта удержания\n",
        "    result_raw = result_raw.merge(data_sessions[['user_id', 'session_start']], on='user_id', how='left')\n",
        "    \n",
        "    result_raw['lifetime'] = (result_raw['session_start'] - result_raw['first_ts']).dt.days\n",
        "\n",
        "    # функция для группировки таблицы по желаемым признакам\n",
        "    def group_by_dimensions(df, dims, horizon_days):\n",
        "        result = df.pivot_table(index=dims, columns='lifetime', values='user_id', aggfunc='nunique')\n",
        "        \n",
        "        cohort_sizes = (df.groupby(dims)\n",
        "                          .agg({'user_id': 'nunique'})\n",
        "                          .rename(columns={'user_id': 'cohort_size'}))\n",
        "        \n",
        "        result = cohort_sizes.merge(result, on=dims, how='left').fillna(0)\n",
        "        result = result.div(result['cohort_size'], axis=0)\n",
        "        result = result[['cohort_size'] + list(range(horizon_days))]\n",
        "        result['cohort_size'] = cohort_sizes\n",
        "        return result\n",
        "\n",
        "    # получаем таблицу удержания\n",
        "    result_grouped = group_by_dimensions(result_raw, dimensions, horizon_days)\n",
        "\n",
        "    # получаем таблицу динамики удержания\n",
        "    result_in_time = group_by_dimensions(\n",
        "        result_raw, dimensions + ['first_dt'], horizon_days\n",
        "    )\n",
        "\n",
        "    # возвращаем обе таблицы и сырые данные\n",
        "    return result_raw, result_grouped, result_in_time \n"
      ]
    },
    {
      "cell_type": "code",
      "execution_count": 27,
      "metadata": {
        "id": "OsZJb-C8FvUY"
      },
      "outputs": [],
      "source": [
        "# Функция для сглаживания данных для графиков истории изменения.\n",
        "def filter_data(df, window):\n",
        "    # для каждого столбца применяем скользящее среднее\n",
        "    for column in df.columns.values:\n",
        "        df[column] = df[column].rolling(window).mean() \n",
        "    return df "
      ]
    },
    {
      "cell_type": "code",
      "execution_count": 28,
      "metadata": {
        "id": "mjWQOlZ1FvUY"
      },
      "outputs": [],
      "source": [
        "# Функция для визуализации удержания.\n",
        "def plot_retention(retention, retention_history, horizon, window=7):\n",
        "\n",
        "    # задаём размер сетки для графиков\n",
        "    plt.figure(figsize=(15, 10))\n",
        "\n",
        "    # исключаем размеры когорт и удержание первого дня\n",
        "    retention = retention.drop(columns=['cohort_size', 0])\n",
        "    # в таблице динамики оставляем только нужный лайфтайм\n",
        "    retention_history = retention_history.drop(columns=['cohort_size'])[\n",
        "        [horizon - 1]\n",
        "    ]\n",
        "\n",
        "    # если в индексах таблицы удержания только payer,\n",
        "    # добавляем второй признак — cohort\n",
        "    if retention.index.nlevels == 1:\n",
        "        retention['cohort'] = 'All users'\n",
        "        retention = retention.reset_index().set_index(['cohort', 'is_contacts_show'])\n",
        "\n",
        "    # в таблице графиков — два столбца и две строки, четыре ячейки\n",
        "    # в первой строим кривые удержания платящих пользователей\n",
        "    ax1 = plt.subplot(2, 2, 1)\n",
        "    retention.query('is_contacts_show == True').droplevel('is_contacts_show').T.plot(\n",
        "        grid=True, ax=ax1\n",
        "    )\n",
        "    plt.legend()\n",
        "    plt.xlabel('Лайфтайм')\n",
        "    plt.title('Удержание пользователей, просмотревших контакты')\n",
        "\n",
        "    # во второй ячейке строим кривые удержания неплатящих\n",
        "    # вертикальная ось — от графика из первой ячейки\n",
        "    ax2 = plt.subplot(2, 2, 2, sharey=ax1)\n",
        "    retention.query('is_contacts_show == False').droplevel('is_contacts_show').T.plot(\n",
        "        grid=True, ax=ax2\n",
        "    )\n",
        "    plt.legend()\n",
        "    plt.xlabel('Лайфтайм')\n",
        "    plt.title('Удержание пользователей, не просмотревших контакты')\n",
        "\n",
        "    # в третьей ячейке — динамика удержания платящих\n",
        "    ax3 = plt.subplot(2, 2, 3)\n",
        "    # получаем названия столбцов для сводной таблицы\n",
        "    columns = [\n",
        "        name\n",
        "        for name in retention_history.index.names\n",
        "        if name not in ['first_dt', 'is_contacts_show']\n",
        "    ]\n",
        "    # фильтруем данные и строим график\n",
        "    filtered_data = retention_history.query('is_contacts_show == True').pivot_table(\n",
        "        index='first_dt', columns=columns, values=horizon - 1, aggfunc='mean'\n",
        "    )\n",
        "    filter_data(filtered_data, window).plot(grid=True, ax=ax3)\n",
        "    plt.xlabel('Дата привлечения')\n",
        "    plt.title(\n",
        "        'Динамика удержания пользователей, просмотревших контакты, на {}-й день'.format(\n",
        "            horizon\n",
        "        )\n",
        "    )\n",
        "\n",
        "    # в чётвертой ячейке — динамика удержания неплатящих\n",
        "    ax4 = plt.subplot(2, 2, 4, sharey=ax3)\n",
        "    # фильтруем данные и строим график\n",
        "    filtered_data = retention_history.query('is_contacts_show == False').pivot_table(\n",
        "        index='first_dt', columns=columns, values=horizon - 1, aggfunc='mean'\n",
        "    )\n",
        "    filter_data(filtered_data, window).plot(grid=True, ax=ax4)\n",
        "    plt.xlabel('Дата привлечения')\n",
        "    plt.title(\n",
        "        'Динамика удержания пользователей, не просмотревших контакты, на {}-й день'.format(\n",
        "            horizon\n",
        "        )\n",
        "    )\n",
        "    \n",
        "    plt.tight_layout()\n",
        "    plt.show()"
      ]
    },
    {
      "cell_type": "code",
      "execution_count": 29,
      "metadata": {
        "colab": {
          "base_uri": "https://localhost:8080/",
          "height": 729
        },
        "id": "vx_3fY67FvUY",
        "outputId": "d43737e2-4898-480f-afa2-39dd3d5aed47"
      },
      "outputs": [
        {
          "output_type": "display_data",
          "data": {
            "text/plain": [
              "<Figure size 1080x720 with 4 Axes>"
            ],
            "image/png": "[encoded data removed]"
          },
          "metadata": {
            "needs_background": "light"
          }
        }
      ],
      "source": [
        "# Посмотрим на удержание пользователей.\n",
        "# За момент анализа примем последний день наблюдения. Горизонт - неделя, т.к. у нас имеются данные за 28 дней\n",
        "observation_date = datetime(2019, 11, 3).date()\n",
        "analysis_horizon = 6\n",
        "\n",
        "retention_raw, retention, retention_history = get_retention(profiles, data, observation_date, analysis_horizon)\n",
        "\n",
        "plot_retention(retention, retention_history, analysis_horizon, window=6)"
      ]
    },
    {
      "cell_type": "code",
      "execution_count": 30,
      "metadata": {
        "colab": {
          "base_uri": "https://localhost:8080/",
          "height": 409
        },
        "id": "LRV5OoekFvUY",
        "outputId": "ecaf193a-73cd-44ea-801c-d4fc7183be31"
      },
      "outputs": [
        {
          "output_type": "display_data",
          "data": {
            "text/plain": [
              "<Figure size 720x432 with 2 Axes>"
            ],
            "image/png": "[encoded data removed]"
          },
          "metadata": {
            "needs_background": "light"
          }
        }
      ],
      "source": [
        "# Посмотрим на удержание на хитмэпе.\n",
        "plt.figure(figsize=(10,6))\n",
        "sns.heatmap(\n",
        "    retention.drop(columns=['cohort_size']),\n",
        "    annot=True,\n",
        "    fmt='.2%')\n",
        "plt.title('Удержание для пользователей, просмотревших и непросмотревших контакты',fontsize=20)\n",
        "plt.ylabel('Просмотр контактов')\n",
        "plt.xlabel('Лайфтайм')\n",
        "plt.show()"
      ]
    },
    {
      "cell_type": "markdown",
      "metadata": {
        "id": "FIwSMNYSFvUZ"
      },
      "source": [
        "Удержание пользователей, просмотревших контакты, ожидаемо выше, чем у непросмотревших - удержание шестого дня упросмотревших контакты выше, чем удержаниенепросмотревших второго дня. Заметим, что удержание, среди просмотревших контакты, начинает резко падать с 16 по 24 октября. Видимо, в этот период что-то произошло с приложением. Возможно, какой-то технический сбой.\n",
        "\n",
        "Среди пользователей, непросматривающих контакты, динамика удержание выглядит стабильнее, но заметим, что она начинает заметно снижаться с 24 октября. Возможно, в приложении что-то изменилось, что стало неудобным для пользователей."
      ]
    },
    {
      "cell_type": "markdown",
      "metadata": {
        "id": "WuQGlHm-FvUZ"
      },
      "source": [
        "### Конверсия"
      ]
    },
    {
      "cell_type": "code",
      "execution_count": 31,
      "metadata": {
        "colab": {
          "base_uri": "https://localhost:8080/",
          "height": 206
        },
        "id": "l1mgKy7bFvUZ",
        "outputId": "d4159b3f-027c-4df3-fd77-b442bbda115c"
      },
      "outputs": [
        {
          "output_type": "execute_result",
          "data": {
            "text/plain": [
              "                                 user_id          event_time\n",
              "50  00157779-810c-4498-9e05-a1e9e3cedf93 2019-10-20 19:17:19\n",
              "54  00157779-810c-4498-9e05-a1e9e3cedf93 2019-10-20 19:23:12\n",
              "56  00157779-810c-4498-9e05-a1e9e3cedf93 2019-10-20 19:30:32\n",
              "60  00157779-810c-4498-9e05-a1e9e3cedf93 2019-10-20 20:04:53\n",
              "78  00157779-810c-4498-9e05-a1e9e3cedf93 2019-10-29 21:26:40"
            ],
            "text/html": [
              "\n",
              "  <div id=\"df-cef6407e-7237-40a6-ac1d-2c2747c0527f\">\n",
              "    <div class=\"colab-df-container\">\n",
              "      <div>\n",
              "<style scoped>\n",
              "    .dataframe tbody tr th:only-of-type {\n",
              "        vertical-align: middle;\n",
              "    }\n",
              "\n",
              "    .dataframe tbody tr th {\n",
              "        vertical-align: top;\n",
              "    }\n",
              "\n",
              "    .dataframe thead th {\n",
              "        text-align: right;\n",
              "    }\n",
              "</style>\n",
              "<table border=\"1\" class=\"dataframe\">\n",
              "  <thead>\n",
              "    <tr style=\"text-align: right;\">\n",
              "      <th></th>\n",
              "      <th>user_id</th>\n",
              "      <th>event_time</th>\n",
              "    </tr>\n",
              "  </thead>\n",
              "  <tbody>\n",
              "    <tr>\n",
              "      <th>50</th>\n",
              "      <td>00157779-810c-4498-9e05-a1e9e3cedf93</td>\n",
              "      <td>2019-10-20 19:17:19</td>\n",
              "    </tr>\n",
              "    <tr>\n",
              "      <th>54</th>\n",
              "      <td>00157779-810c-4498-9e05-a1e9e3cedf93</td>\n",
              "      <td>2019-10-20 19:23:12</td>\n",
              "    </tr>\n",
              "    <tr>\n",
              "      <th>56</th>\n",
              "      <td>00157779-810c-4498-9e05-a1e9e3cedf93</td>\n",
              "      <td>2019-10-20 19:30:32</td>\n",
              "    </tr>\n",
              "    <tr>\n",
              "      <th>60</th>\n",
              "      <td>00157779-810c-4498-9e05-a1e9e3cedf93</td>\n",
              "      <td>2019-10-20 20:04:53</td>\n",
              "    </tr>\n",
              "    <tr>\n",
              "      <th>78</th>\n",
              "      <td>00157779-810c-4498-9e05-a1e9e3cedf93</td>\n",
              "      <td>2019-10-29 21:26:40</td>\n",
              "    </tr>\n",
              "  </tbody>\n",
              "</table>\n",
              "</div>\n",
              "      <button class=\"colab-df-convert\" onclick=\"convertToInteractive('df-cef6407e-7237-40a6-ac1d-2c2747c0527f')\"\n",
              "              title=\"Convert this dataframe to an interactive table.\"\n",
              "              style=\"display:none;\">\n",
              "        \n",
              "  <svg xmlns=\"http://www.w3.org/2000/svg\" height=\"24px\"viewBox=\"0 0 24 24\"\n",
              "       width=\"24px\">\n",
              "    <path d=\"M0 0h24v24H0V0z\" fill=\"none\"/>\n",
              "    <path d=\"M18.56 5.44l.94 2.06.94-2.06 2.06-.94-2.06-.94-.94-2.06-.94 2.06-2.06.94zm-11 1L8.5 8.5l.94-2.06 2.06-.94-2.06-.94L8.5 2.5l-.94 2.06-2.06.94zm10 10l.94 2.06.94-2.06 2.06-.94-2.06-.94-.94-2.06-.94 2.06-2.06.94z\"/><path d=\"M17.41 7.96l-1.37-1.37c-.4-.4-.92-.59-1.43-.59-.52 0-1.04.2-1.43.59L10.3 9.45l-7.72 7.72c-.78.78-.78 2.05 0 2.83L4 21.41c.39.39.9.59 1.41.59.51 0 1.02-.2 1.41-.59l7.78-7.78 2.81-2.81c.8-.78.8-2.07 0-2.86zM5.41 20L4 18.59l7.72-7.72 1.47 1.35L5.41 20z\"/>\n",
              "  </svg>\n",
              "      </button>\n",
              "      \n",
              "  <style>\n",
              "    .colab-df-container {\n",
              "      display:flex;\n",
              "      flex-wrap:wrap;\n",
              "      gap: 12px;\n",
              "    }\n",
              "\n",
              "    .colab-df-convert {\n",
              "      background-color: #E8F0FE;\n",
              "      border: none;\n",
              "      border-radius: 50%;\n",
              "      cursor: pointer;\n",
              "      display: none;\n",
              "      fill: #1967D2;\n",
              "      height: 32px;\n",
              "      padding: 0 0 0 0;\n",
              "      width: 32px;\n",
              "    }\n",
              "\n",
              "    .colab-df-convert:hover {\n",
              "      background-color: #E2EBFA;\n",
              "      box-shadow: 0px 1px 2px rgba(60, 64, 67, 0.3), 0px 1px 3px 1px rgba(60, 64, 67, 0.15);\n",
              "      fill: #174EA6;\n",
              "    }\n",
              "\n",
              "    [theme=dark] .colab-df-convert {\n",
              "      background-color: #3B4455;\n",
              "      fill: #D2E3FC;\n",
              "    }\n",
              "\n",
              "    [theme=dark] .colab-df-convert:hover {\n",
              "      background-color: #434B5C;\n",
              "      box-shadow: 0px 1px 3px 1px rgba(0, 0, 0, 0.15);\n",
              "      filter: drop-shadow(0px 1px 2px rgba(0, 0, 0, 0.3));\n",
              "      fill: #FFFFFF;\n",
              "    }\n",
              "  </style>\n",
              "\n",
              "      <script>\n",
              "        const buttonEl =\n",
              "          document.querySelector('#df-cef6407e-7237-40a6-ac1d-2c2747c0527f button.colab-df-convert');\n",
              "        buttonEl.style.display =\n",
              "          google.colab.kernel.accessAllowed ? 'block' : 'none';\n",
              "\n",
              "        async function convertToInteractive(key) {\n",
              "          const element = document.querySelector('#df-cef6407e-7237-40a6-ac1d-2c2747c0527f');\n",
              "          const dataTable =\n",
              "            await google.colab.kernel.invokeFunction('convertToInteractive',\n",
              "                                                     [key], {});\n",
              "          if (!dataTable) return;\n",
              "\n",
              "          const docLinkHtml = 'Like what you see? Visit the ' +\n",
              "            '<a target=\"_blank\" href=https://colab.research.google.com/notebooks/data_table.ipynb>data table notebook</a>'\n",
              "            + ' to learn more about interactive tables.';\n",
              "          element.innerHTML = '';\n",
              "          dataTable['output_type'] = 'display_data';\n",
              "          await google.colab.output.renderOutput(dataTable, element);\n",
              "          const docLink = document.createElement('div');\n",
              "          docLink.innerHTML = docLinkHtml;\n",
              "          element.appendChild(docLink);\n",
              "        }\n",
              "      </script>\n",
              "    </div>\n",
              "  </div>\n",
              "  "
            ]
          },
          "metadata": {},
          "execution_count": 31
        }
      ],
      "source": [
        "contacts_shows = (data\n",
        "                 .query('event_name == \"contacts_show\"')[['user_id', 'event_time']]\n",
        "                 .sort_values(by=['user_id', 'event_time']))\n",
        "\n",
        "contacts_shows.head()"
      ]
    },
    {
      "cell_type": "code",
      "execution_count": 32,
      "metadata": {
        "id": "eSQ5LvNsFvUa"
      },
      "outputs": [],
      "source": [
        "# Функция для расчета конверсии.\n",
        "def get_conversion(\n",
        "    profiles,\n",
        "    shows,\n",
        "    observation_date,\n",
        "    horizon_days,\n",
        "    dimensions=[],\n",
        "    ignore_horizon=False,\n",
        "):\n",
        "\n",
        "    # исключаем пользователей, не «доживших» до горизонта анализа\n",
        "    last_suitable_acquisition_date = observation_date\n",
        "    if not ignore_horizon:\n",
        "        last_suitable_acquisition_date = observation_date - timedelta(\n",
        "            days=horizon_days - 1\n",
        "        )\n",
        "    result_raw = profiles.query('first_dt <= @last_suitable_acquisition_date')\n",
        "\n",
        "    # определяем дату и время первой покупки для каждого пользователя\n",
        "    first_shows = (\n",
        "        shows.sort_values(by=['user_id', 'event_time'])\n",
        "        .groupby('user_id')\n",
        "        .agg({'event_time': 'first'})\n",
        "        .reset_index()\n",
        "    )\n",
        "\n",
        "    # добавляем данные о покупках в профили\n",
        "    result_raw = result_raw.merge(\n",
        "        first_shows[['user_id', 'event_time']], on='user_id', how='left'\n",
        "    )\n",
        "\n",
        "    # рассчитываем лайфтайм для каждой покупки\n",
        "    result_raw['lifetime'] = (\n",
        "        result_raw['event_time'] - result_raw['first_ts']\n",
        "    ).dt.days\n",
        "\n",
        "    # группируем по cohort, если в dimensions ничего нет\n",
        "    if len(dimensions) == 0:\n",
        "        result_raw['cohort'] = 'All users' \n",
        "        dimensions = dimensions + ['cohort']\n",
        "\n",
        "    # функция для группировки таблицы по желаемым признакам\n",
        "    def group_by_dimensions(df, dims, horizon_days):\n",
        "        result = df.pivot_table(\n",
        "            index=dims, columns='lifetime', values='user_id', aggfunc='nunique'\n",
        "        )\n",
        "        result = result.fillna(0).cumsum(axis = 1)\n",
        "        cohort_sizes = (\n",
        "            df.groupby(dims)\n",
        "            .agg({'user_id': 'nunique'})\n",
        "            .rename(columns={'user_id': 'cohort_size'})\n",
        "        )\n",
        "        result = cohort_sizes.merge(result, on=dims, how='left').fillna(0)\n",
        "        # делим каждую «ячейку» в строке на размер когорты\n",
        "        # и получаем conversion rate\n",
        "        result = result.div(result['cohort_size'], axis=0)\n",
        "        result = result[['cohort_size'] + list(range(horizon_days))]\n",
        "        result['cohort_size'] = cohort_sizes\n",
        "        return result\n",
        "\n",
        "    # получаем таблицу конверсии\n",
        "    result_grouped = group_by_dimensions(result_raw, dimensions, horizon_days)\n",
        "\n",
        "    # для таблицы динамики конверсии убираем 'cohort' из dimensions\n",
        "    if 'cohort' in dimensions: \n",
        "        dimensions = []\n",
        "\n",
        "    # получаем таблицу динамики конверсии\n",
        "    result_in_time = group_by_dimensions(\n",
        "        result_raw, dimensions + ['first_dt'], horizon_days\n",
        "    )\n",
        "\n",
        "    # возвращаем обе таблицы и сырые данные\n",
        "    return result_raw, result_grouped, result_in_time"
      ]
    },
    {
      "cell_type": "code",
      "execution_count": 33,
      "metadata": {
        "id": "Ic3K8gu8FvUa"
      },
      "outputs": [],
      "source": [
        "# Функция для визуализации конверсии.\n",
        "def plot_conversion(conversion, conversion_history, horizon, window=7):\n",
        "\n",
        "    # задаём размер сетки для графиков\n",
        "    plt.figure(figsize=(15, 5))\n",
        "\n",
        "    # исключаем размеры когорт\n",
        "    conversion = conversion.drop(columns=['cohort_size'])\n",
        "    # в таблице динамики оставляем только нужный лайфтайм\n",
        "    conversion_history = conversion_history.drop(columns=['cohort_size'])[\n",
        "        [horizon - 1]\n",
        "    ]\n",
        "\n",
        "    # первый график — кривые конверсии\n",
        "    ax1 = plt.subplot(1, 2, 1)\n",
        "    conversion.T.plot(grid=True, ax=ax1)\n",
        "    plt.legend()\n",
        "    plt.xlabel('Лайфтайм')\n",
        "    plt.title('Конверсия пользователей')\n",
        "\n",
        "    # второй график — динамика конверсии\n",
        "    ax2 = plt.subplot(1, 2, 2, sharey=ax1)\n",
        "    columns = [\n",
        "        # столбцами сводной таблицы станут все столбцы индекса, кроме даты\n",
        "        name for name in conversion_history.index.names if name not in ['first_dt']\n",
        "    ]\n",
        "    filtered_data = conversion_history.pivot_table(\n",
        "        index='first_dt', columns=columns, values=horizon - 1, aggfunc='mean'\n",
        "    )\n",
        "    filter_data(filtered_data, window).plot(grid=True, ax=ax2)\n",
        "    plt.xlabel('Дата привлечения')\n",
        "    plt.title('Динамика конверсии пользователей на {}-й день'.format(horizon))\n",
        "\n",
        "    plt.tight_layout()\n",
        "    plt.show()"
      ]
    },
    {
      "cell_type": "code",
      "execution_count": 34,
      "metadata": {
        "colab": {
          "base_uri": "https://localhost:8080/",
          "height": 369
        },
        "id": "paJ2-Ws1FvUa",
        "outputId": "1a5e3519-bb4b-42ac-da49-6f77e5a0d6c8"
      },
      "outputs": [
        {
          "output_type": "display_data",
          "data": {
            "text/plain": [
              "<Figure size 1080x360 with 2 Axes>"
            ],
            "image/png": "[encoded data removed]"
          },
          "metadata": {
            "needs_background": "light"
          }
        }
      ],
      "source": [
        "# Сначала посмотрим на конверсию в целом.\n",
        "dimensions = []\n",
        "conversion_raw, conversion, conversion_history = get_conversion(profiles, contacts_shows, \n",
        "                                                                observation_date, analysis_horizon, dimensions=dimensions)\n",
        "plot_conversion(conversion, conversion_history, analysis_horizon, window=7)"
      ]
    },
    {
      "cell_type": "code",
      "execution_count": 35,
      "metadata": {
        "colab": {
          "base_uri": "https://localhost:8080/"
        },
        "id": "tnXZVcUoFvUa",
        "outputId": "2960e133-fedc-493c-ae68-3fe7eb45e0a2"
      },
      "outputs": [
        {
          "output_type": "stream",
          "name": "stdout",
          "text": [
            "Общая конверсия 0.229\n"
          ]
        }
      ],
      "source": [
        "# Посмотримтакжена конверсию в целом.\n",
        "print('Общая конверсия', round(len(profiles.query('is_contacts_show == True')) / len(profiles), 3))"
      ]
    },
    {
      "cell_type": "markdown",
      "metadata": {
        "id": "f0Fss1obFvUb"
      },
      "source": [
        "Конверсия в просмотр контактов в целом попроекту 22,9%, т.е. из всех пользователей приложения целевое действие в целом совершили 22,9%.\n",
        "\n",
        "Конверсия плавно растет, на графике динамики видно падение конверсии для пользователей, привлеченных с 13-15 октября, конверсия для пользователей, пришедших позже, выше."
      ]
    },
    {
      "cell_type": "markdown",
      "metadata": {
        "id": "T2du29KeFvUb"
      },
      "source": [
        "### Частота совершения событий"
      ]
    },
    {
      "cell_type": "code",
      "execution_count": 36,
      "metadata": {
        "id": "rSdwk6cXFvUb"
      },
      "outputs": [],
      "source": [
        "# Посмотрим на количество событий по источникам.\n",
        "data['event_dt'] = data['event_time'].dt.date\n",
        "events = (data\n",
        "          .groupby('event_name')\n",
        "          .agg({'event_time':'count'})\n",
        "          .sort_values(by='event_time', ascending=False)\n",
        "          .reset_index())\n",
        "\n"
      ]
    },
    {
      "cell_type": "code",
      "source": [
        "pip install -U kaleido"
      ],
      "metadata": {
        "colab": {
          "base_uri": "https://localhost:8080/"
        },
        "id": "KRigBhL4Wuir",
        "outputId": "0ab44c91-694c-4ec3-d071-d4e2413b7e55"
      },
      "execution_count": 50,
      "outputs": [
        {
          "output_type": "stream",
          "name": "stdout",
          "text": [
            "Looking in indexes: https://pypi.org/simple, https://us-python.pkg.dev/colab-wheels/public/simple/\n",
            "Requirement already satisfied: kaleido in /usr/local/lib/python3.9/dist-packages (0.2.1)\n"
          ]
        }
      ]
    },
    {
      "cell_type": "code",
      "execution_count": 53,
      "metadata": {
        "colab": {
          "base_uri": "https://localhost:8080/",
          "height": 397
        },
        "id": "t035f8NuFvUc",
        "outputId": "052d443f-3abc-4d3a-abd1-e764c58e1e76"
      },
      "outputs": [
        {
          "output_type": "error",
          "ename": "ValueError",
          "evalue": "ignored",
          "traceback": [
            "\u001b[0;31m---------------------------------------------------------------------------\u001b[0m",
            "\u001b[0;31mValueError\u001b[0m                                Traceback (most recent call last)",
            "\u001b[0;32m<ipython-input-53-6f4fb7503bb1>\u001b[0m in \u001b[0;36m<module>\u001b[0;34m\u001b[0m\n\u001b[1;32m      3\u001b[0m                   \u001b[0mxaxis_title\u001b[0m\u001b[0;34m=\u001b[0m\u001b[0;34m'Название события'\u001b[0m\u001b[0;34m,\u001b[0m\u001b[0;34m\u001b[0m\u001b[0;34m\u001b[0m\u001b[0m\n\u001b[1;32m      4\u001b[0m                   yaxis_title='Количество событий')\n\u001b[0;32m----> 5\u001b[0;31m \u001b[0mfig\u001b[0m\u001b[0;34m.\u001b[0m\u001b[0mshow\u001b[0m\u001b[0;34m(\u001b[0m\u001b[0;34m'png'\u001b[0m\u001b[0;34m)\u001b[0m\u001b[0;34m\u001b[0m\u001b[0;34m\u001b[0m\u001b[0m\n\u001b[0m",
            "\u001b[0;32m/usr/local/lib/python3.9/dist-packages/plotly/basedatatypes.py\u001b[0m in \u001b[0;36mshow\u001b[0;34m(self, *args, **kwargs)\u001b[0m\n\u001b[1;32m   3388\u001b[0m         \u001b[0;32mimport\u001b[0m \u001b[0mplotly\u001b[0m\u001b[0;34m.\u001b[0m\u001b[0mio\u001b[0m \u001b[0;32mas\u001b[0m \u001b[0mpio\u001b[0m\u001b[0;34m\u001b[0m\u001b[0;34m\u001b[0m\u001b[0m\n\u001b[1;32m   3389\u001b[0m \u001b[0;34m\u001b[0m\u001b[0m\n\u001b[0;32m-> 3390\u001b[0;31m         \u001b[0;32mreturn\u001b[0m \u001b[0mpio\u001b[0m\u001b[0;34m.\u001b[0m\u001b[0mshow\u001b[0m\u001b[0;34m(\u001b[0m\u001b[0mself\u001b[0m\u001b[0;34m,\u001b[0m \u001b[0;34m*\u001b[0m\u001b[0margs\u001b[0m\u001b[0;34m,\u001b[0m \u001b[0;34m**\u001b[0m\u001b[0mkwargs\u001b[0m\u001b[0;34m)\u001b[0m\u001b[0;34m\u001b[0m\u001b[0;34m\u001b[0m\u001b[0m\n\u001b[0m\u001b[1;32m   3391\u001b[0m \u001b[0;34m\u001b[0m\u001b[0m\n\u001b[1;32m   3392\u001b[0m     \u001b[0;32mdef\u001b[0m \u001b[0mto_json\u001b[0m\u001b[0;34m(\u001b[0m\u001b[0mself\u001b[0m\u001b[0;34m,\u001b[0m \u001b[0;34m*\u001b[0m\u001b[0margs\u001b[0m\u001b[0;34m,\u001b[0m \u001b[0;34m**\u001b[0m\u001b[0mkwargs\u001b[0m\u001b[0;34m)\u001b[0m\u001b[0;34m:\u001b[0m\u001b[0;34m\u001b[0m\u001b[0;34m\u001b[0m\u001b[0m\n",
            "\u001b[0;32m/usr/local/lib/python3.9/dist-packages/plotly/io/_renderers.py\u001b[0m in \u001b[0;36mshow\u001b[0;34m(fig, renderer, validate, **kwargs)\u001b[0m\n\u001b[1;32m    386\u001b[0m \u001b[0;34m\u001b[0m\u001b[0m\n\u001b[1;32m    387\u001b[0m     \u001b[0;31m# Mimetype renderers\u001b[0m\u001b[0;34m\u001b[0m\u001b[0;34m\u001b[0m\u001b[0m\n\u001b[0;32m--> 388\u001b[0;31m     \u001b[0mbundle\u001b[0m \u001b[0;34m=\u001b[0m \u001b[0mrenderers\u001b[0m\u001b[0;34m.\u001b[0m\u001b[0m_build_mime_bundle\u001b[0m\u001b[0;34m(\u001b[0m\u001b[0mfig_dict\u001b[0m\u001b[0;34m,\u001b[0m \u001b[0mrenderers_string\u001b[0m\u001b[0;34m=\u001b[0m\u001b[0mrenderer\u001b[0m\u001b[0;34m,\u001b[0m \u001b[0;34m**\u001b[0m\u001b[0mkwargs\u001b[0m\u001b[0;34m)\u001b[0m\u001b[0;34m\u001b[0m\u001b[0;34m\u001b[0m\u001b[0m\n\u001b[0m\u001b[1;32m    389\u001b[0m     \u001b[0;32mif\u001b[0m \u001b[0mbundle\u001b[0m\u001b[0;34m:\u001b[0m\u001b[0;34m\u001b[0m\u001b[0;34m\u001b[0m\u001b[0m\n\u001b[1;32m    390\u001b[0m         \u001b[0;32mif\u001b[0m \u001b[0;32mnot\u001b[0m \u001b[0mipython_display\u001b[0m\u001b[0;34m:\u001b[0m\u001b[0;34m\u001b[0m\u001b[0;34m\u001b[0m\u001b[0m\n",
            "\u001b[0;32m/usr/local/lib/python3.9/dist-packages/plotly/io/_renderers.py\u001b[0m in \u001b[0;36m_build_mime_bundle\u001b[0;34m(self, fig_dict, renderers_string, **kwargs)\u001b[0m\n\u001b[1;32m    294\u001b[0m                         \u001b[0msetattr\u001b[0m\u001b[0;34m(\u001b[0m\u001b[0mrenderer\u001b[0m\u001b[0;34m,\u001b[0m \u001b[0mk\u001b[0m\u001b[0;34m,\u001b[0m \u001b[0mv\u001b[0m\u001b[0;34m)\u001b[0m\u001b[0;34m\u001b[0m\u001b[0;34m\u001b[0m\u001b[0m\n\u001b[1;32m    295\u001b[0m \u001b[0;34m\u001b[0m\u001b[0m\n\u001b[0;32m--> 296\u001b[0;31m                 \u001b[0mbundle\u001b[0m\u001b[0;34m.\u001b[0m\u001b[0mupdate\u001b[0m\u001b[0;34m(\u001b[0m\u001b[0mrenderer\u001b[0m\u001b[0;34m.\u001b[0m\u001b[0mto_mimebundle\u001b[0m\u001b[0;34m(\u001b[0m\u001b[0mfig_dict\u001b[0m\u001b[0;34m)\u001b[0m\u001b[0;34m)\u001b[0m\u001b[0;34m\u001b[0m\u001b[0;34m\u001b[0m\u001b[0m\n\u001b[0m\u001b[1;32m    297\u001b[0m \u001b[0;34m\u001b[0m\u001b[0m\n\u001b[1;32m    298\u001b[0m         \u001b[0;32mreturn\u001b[0m \u001b[0mbundle\u001b[0m\u001b[0;34m\u001b[0m\u001b[0;34m\u001b[0m\u001b[0m\n",
            "\u001b[0;32m/usr/local/lib/python3.9/dist-packages/plotly/io/_base_renderers.py\u001b[0m in \u001b[0;36mto_mimebundle\u001b[0;34m(self, fig_dict)\u001b[0m\n\u001b[1;32m    125\u001b[0m \u001b[0;34m\u001b[0m\u001b[0m\n\u001b[1;32m    126\u001b[0m     \u001b[0;32mdef\u001b[0m \u001b[0mto_mimebundle\u001b[0m\u001b[0;34m(\u001b[0m\u001b[0mself\u001b[0m\u001b[0;34m,\u001b[0m \u001b[0mfig_dict\u001b[0m\u001b[0;34m)\u001b[0m\u001b[0;34m:\u001b[0m\u001b[0;34m\u001b[0m\u001b[0;34m\u001b[0m\u001b[0m\n\u001b[0;32m--> 127\u001b[0;31m         image_bytes = to_image(\n\u001b[0m\u001b[1;32m    128\u001b[0m             \u001b[0mfig_dict\u001b[0m\u001b[0;34m,\u001b[0m\u001b[0;34m\u001b[0m\u001b[0;34m\u001b[0m\u001b[0m\n\u001b[1;32m    129\u001b[0m             \u001b[0mformat\u001b[0m\u001b[0;34m=\u001b[0m\u001b[0mself\u001b[0m\u001b[0;34m.\u001b[0m\u001b[0mformat\u001b[0m\u001b[0;34m,\u001b[0m\u001b[0;34m\u001b[0m\u001b[0;34m\u001b[0m\u001b[0m\n",
            "\u001b[0;32m/usr/local/lib/python3.9/dist-packages/plotly/io/_kaleido.py\u001b[0m in \u001b[0;36mto_image\u001b[0;34m(fig, format, width, height, scale, validate, engine)\u001b[0m\n\u001b[1;32m    131\u001b[0m     \u001b[0;31m# Raise informative error message if Kaleido is not installed\u001b[0m\u001b[0;34m\u001b[0m\u001b[0;34m\u001b[0m\u001b[0m\n\u001b[1;32m    132\u001b[0m     \u001b[0;32mif\u001b[0m \u001b[0mscope\u001b[0m \u001b[0;32mis\u001b[0m \u001b[0;32mNone\u001b[0m\u001b[0;34m:\u001b[0m\u001b[0;34m\u001b[0m\u001b[0;34m\u001b[0m\u001b[0m\n\u001b[0;32m--> 133\u001b[0;31m         raise ValueError(\n\u001b[0m\u001b[1;32m    134\u001b[0m             \"\"\"\n\u001b[1;32m    135\u001b[0m \u001b[0mImage\u001b[0m \u001b[0mexport\u001b[0m \u001b[0musing\u001b[0m \u001b[0mthe\u001b[0m \u001b[0;34m\"kaleido\"\u001b[0m \u001b[0mengine\u001b[0m \u001b[0mrequires\u001b[0m \u001b[0mthe\u001b[0m \u001b[0mkaleido\u001b[0m \u001b[0mpackage\u001b[0m\u001b[0;34m,\u001b[0m\u001b[0;34m\u001b[0m\u001b[0;34m\u001b[0m\u001b[0m\n",
            "\u001b[0;31mValueError\u001b[0m: \nImage export using the \"kaleido\" engine requires the kaleido package,\nwhich can be installed using pip:\n    $ pip install -U kaleido\n"
          ]
        }
      ],
      "source": [
        "fig = px.bar(events, x='event_name', y='event_time')\n",
        "fig.update_layout(title=dict(text='Количество событий',font=dict(size=20), x=0.45),\n",
        "                  xaxis_title='Название события',\n",
        "                  yaxis_title='Количество событий')\n",
        "fig.show('png')"
      ]
    },
    {
      "cell_type": "markdown",
      "metadata": {
        "id": "eJGPAMLfFvUc"
      },
      "source": [
        "Больше всего происходит событие tips_show, количество этих событий в разы превышает все остальные. Далее следует photos_show, search и advert_open. Меньше всего событий contacts_call - очевидно, пользователи предпочитают после просмотра контактов связываться самостоятельно, а не через приложение. Также очень мало событий tips_click - похоже, что рекомендованные приложением объявления не пользуются популярностью."
      ]
    },
    {
      "cell_type": "code",
      "execution_count": null,
      "metadata": {
        "id": "f1nQ4Jn3FvUc"
      },
      "outputs": [],
      "source": [
        "# Посмотрим на количество событий по датам.\n",
        "# Подготовим данные.\n",
        "data['event_dt'] = data['event_time'].dt.date\n",
        "data['weekday'] = data['event_time'].dt.weekday\n",
        "\n",
        "events_by_dt = (data\n",
        "                   .groupby('event_dt')\n",
        "                   .agg({'event_time':'count'})\n",
        "                   .sort_values(by='event_time', ascending=False)\n",
        "                   .reset_index())"
      ]
    },
    {
      "cell_type": "code",
      "execution_count": null,
      "metadata": {
        "colab": {
          "base_uri": "https://localhost:8080/",
          "height": 542
        },
        "id": "MetAnSmKFvUc",
        "outputId": "81141917-791b-43d5-fa5f-c1d430af091f"
      },
      "outputs": [
        {
          "output_type": "display_data",
          "data": {
            "text/html": [
              "<html>\n",
              "<head><meta charset=\"utf-8\" /></head>\n",
              "<body>\n",
              "    <div>            <script src=\"https://cdnjs.cloudflare.com/ajax/libs/mathjax/2.7.5/MathJax.js?config=TeX-AMS-MML_SVG\"></script><script type=\"text/javascript\">if (window.MathJax) {MathJax.Hub.Config({SVG: {font: \"STIX-Web\"}});}</script>                <script type=\"text/javascript\">window.PlotlyConfig = {MathJaxConfig: 'local'};</script>\n",
              "        <script src=\"https://cdn.plot.ly/plotly-2.8.3.min.js\"></script>                <div id=\"bb558660-23e7-4dce-a6db-4bad33f465c5\" class=\"plotly-graph-div\" style=\"height:525px; width:100%;\"></div>            <script type=\"text/javascript\">                                    window.PLOTLYENV=window.PLOTLYENV || {};                                    if (document.getElementById(\"bb558660-23e7-4dce-a6db-4bad33f465c5\")) {                    Plotly.newPlot(                        \"bb558660-23e7-4dce-a6db-4bad33f465c5\",                        [{\"alignmentgroup\":\"True\",\"hovertemplate\":\"event_dt=%{x}<br>event_time=%{y}<extra></extra>\",\"legendgroup\":\"\",\"marker\":{\"color\":\"#636efa\",\"pattern\":{\"shape\":\"\"}},\"name\":\"\",\"offsetgroup\":\"\",\"orientation\":\"v\",\"showlegend\":false,\"textposition\":\"auto\",\"x\":[\"2019-10-23\",\"2019-10-28\",\"2019-10-29\",\"2019-10-26\",\"2019-10-14\",\"2019-10-24\",\"2019-10-21\",\"2019-10-31\",\"2019-10-30\",\"2019-11-03\",\"2019-10-27\",\"2019-10-18\",\"2019-10-22\",\"2019-10-16\",\"2019-10-15\",\"2019-10-13\",\"2019-10-25\",\"2019-10-17\",\"2019-11-01\",\"2019-10-07\",\"2019-10-08\",\"2019-10-19\",\"2019-10-10\",\"2019-10-20\",\"2019-10-09\",\"2019-10-11\",\"2019-11-02\",\"2019-10-12\"],\"xaxis\":\"x\",\"y\":[3249,3156,3155,3058,3004,2993,2861,2836,2833,2833,2762,2713,2698,2685,2670,2603,2581,2559,2557,2516,2462,2300,2218,2110,2010,1948,1825,1812],\"yaxis\":\"y\",\"type\":\"bar\"}],                        {\"template\":{\"data\":{\"bar\":[{\"error_x\":{\"color\":\"#2a3f5f\"},\"error_y\":{\"color\":\"#2a3f5f\"},\"marker\":{\"line\":{\"color\":\"#E5ECF6\",\"width\":0.5},\"pattern\":{\"fillmode\":\"overlay\",\"size\":10,\"solidity\":0.2}},\"type\":\"bar\"}],\"barpolar\":[{\"marker\":{\"line\":{\"color\":\"#E5ECF6\",\"width\":0.5},\"pattern\":{\"fillmode\":\"overlay\",\"size\":10,\"solidity\":0.2}},\"type\":\"barpolar\"}],\"carpet\":[{\"aaxis\":{\"endlinecolor\":\"#2a3f5f\",\"gridcolor\":\"white\",\"linecolor\":\"white\",\"minorgridcolor\":\"white\",\"startlinecolor\":\"#2a3f5f\"},\"baxis\":{\"endlinecolor\":\"#2a3f5f\",\"gridcolor\":\"white\",\"linecolor\":\"white\",\"minorgridcolor\":\"white\",\"startlinecolor\":\"#2a3f5f\"},\"type\":\"carpet\"}],\"choropleth\":[{\"colorbar\":{\"outlinewidth\":0,\"ticks\":\"\"},\"type\":\"choropleth\"}],\"contour\":[{\"colorbar\":{\"outlinewidth\":0,\"ticks\":\"\"},\"colorscale\":[[0.0,\"#0d0887\"],[0.1111111111111111,\"#46039f\"],[0.2222222222222222,\"#7201a8\"],[0.3333333333333333,\"#9c179e\"],[0.4444444444444444,\"#bd3786\"],[0.5555555555555556,\"#d8576b\"],[0.6666666666666666,\"#ed7953\"],[0.7777777777777778,\"#fb9f3a\"],[0.8888888888888888,\"#fdca26\"],[1.0,\"#f0f921\"]],\"type\":\"contour\"}],\"contourcarpet\":[{\"colorbar\":{\"outlinewidth\":0,\"ticks\":\"\"},\"type\":\"contourcarpet\"}],\"heatmap\":[{\"colorbar\":{\"outlinewidth\":0,\"ticks\":\"\"},\"colorscale\":[[0.0,\"#0d0887\"],[0.1111111111111111,\"#46039f\"],[0.2222222222222222,\"#7201a8\"],[0.3333333333333333,\"#9c179e\"],[0.4444444444444444,\"#bd3786\"],[0.5555555555555556,\"#d8576b\"],[0.6666666666666666,\"#ed7953\"],[0.7777777777777778,\"#fb9f3a\"],[0.8888888888888888,\"#fdca26\"],[1.0,\"#f0f921\"]],\"type\":\"heatmap\"}],\"heatmapgl\":[{\"colorbar\":{\"outlinewidth\":0,\"ticks\":\"\"},\"colorscale\":[[0.0,\"#0d0887\"],[0.1111111111111111,\"#46039f\"],[0.2222222222222222,\"#7201a8\"],[0.3333333333333333,\"#9c179e\"],[0.4444444444444444,\"#bd3786\"],[0.5555555555555556,\"#d8576b\"],[0.6666666666666666,\"#ed7953\"],[0.7777777777777778,\"#fb9f3a\"],[0.8888888888888888,\"#fdca26\"],[1.0,\"#f0f921\"]],\"type\":\"heatmapgl\"}],\"histogram\":[{\"marker\":{\"pattern\":{\"fillmode\":\"overlay\",\"size\":10,\"solidity\":0.2}},\"type\":\"histogram\"}],\"histogram2d\":[{\"colorbar\":{\"outlinewidth\":0,\"ticks\":\"\"},\"colorscale\":[[0.0,\"#0d0887\"],[0.1111111111111111,\"#46039f\"],[0.2222222222222222,\"#7201a8\"],[0.3333333333333333,\"#9c179e\"],[0.4444444444444444,\"#bd3786\"],[0.5555555555555556,\"#d8576b\"],[0.6666666666666666,\"#ed7953\"],[0.7777777777777778,\"#fb9f3a\"],[0.8888888888888888,\"#fdca26\"],[1.0,\"#f0f921\"]],\"type\":\"histogram2d\"}],\"histogram2dcontour\":[{\"colorbar\":{\"outlinewidth\":0,\"ticks\":\"\"},\"colorscale\":[[0.0,\"#0d0887\"],[0.1111111111111111,\"#46039f\"],[0.2222222222222222,\"#7201a8\"],[0.3333333333333333,\"#9c179e\"],[0.4444444444444444,\"#bd3786\"],[0.5555555555555556,\"#d8576b\"],[0.6666666666666666,\"#ed7953\"],[0.7777777777777778,\"#fb9f3a\"],[0.8888888888888888,\"#fdca26\"],[1.0,\"#f0f921\"]],\"type\":\"histogram2dcontour\"}],\"mesh3d\":[{\"colorbar\":{\"outlinewidth\":0,\"ticks\":\"\"},\"type\":\"mesh3d\"}],\"parcoords\":[{\"line\":{\"colorbar\":{\"outlinewidth\":0,\"ticks\":\"\"}},\"type\":\"parcoords\"}],\"pie\":[{\"automargin\":true,\"type\":\"pie\"}],\"scatter\":[{\"marker\":{\"colorbar\":{\"outlinewidth\":0,\"ticks\":\"\"}},\"type\":\"scatter\"}],\"scatter3d\":[{\"line\":{\"colorbar\":{\"outlinewidth\":0,\"ticks\":\"\"}},\"marker\":{\"colorbar\":{\"outlinewidth\":0,\"ticks\":\"\"}},\"type\":\"scatter3d\"}],\"scattercarpet\":[{\"marker\":{\"colorbar\":{\"outlinewidth\":0,\"ticks\":\"\"}},\"type\":\"scattercarpet\"}],\"scattergeo\":[{\"marker\":{\"colorbar\":{\"outlinewidth\":0,\"ticks\":\"\"}},\"type\":\"scattergeo\"}],\"scattergl\":[{\"marker\":{\"colorbar\":{\"outlinewidth\":0,\"ticks\":\"\"}},\"type\":\"scattergl\"}],\"scattermapbox\":[{\"marker\":{\"colorbar\":{\"outlinewidth\":0,\"ticks\":\"\"}},\"type\":\"scattermapbox\"}],\"scatterpolar\":[{\"marker\":{\"colorbar\":{\"outlinewidth\":0,\"ticks\":\"\"}},\"type\":\"scatterpolar\"}],\"scatterpolargl\":[{\"marker\":{\"colorbar\":{\"outlinewidth\":0,\"ticks\":\"\"}},\"type\":\"scatterpolargl\"}],\"scatterternary\":[{\"marker\":{\"colorbar\":{\"outlinewidth\":0,\"ticks\":\"\"}},\"type\":\"scatterternary\"}],\"surface\":[{\"colorbar\":{\"outlinewidth\":0,\"ticks\":\"\"},\"colorscale\":[[0.0,\"#0d0887\"],[0.1111111111111111,\"#46039f\"],[0.2222222222222222,\"#7201a8\"],[0.3333333333333333,\"#9c179e\"],[0.4444444444444444,\"#bd3786\"],[0.5555555555555556,\"#d8576b\"],[0.6666666666666666,\"#ed7953\"],[0.7777777777777778,\"#fb9f3a\"],[0.8888888888888888,\"#fdca26\"],[1.0,\"#f0f921\"]],\"type\":\"surface\"}],\"table\":[{\"cells\":{\"fill\":{\"color\":\"#EBF0F8\"},\"line\":{\"color\":\"white\"}},\"header\":{\"fill\":{\"color\":\"#C8D4E3\"},\"line\":{\"color\":\"white\"}},\"type\":\"table\"}]},\"layout\":{\"annotationdefaults\":{\"arrowcolor\":\"#2a3f5f\",\"arrowhead\":0,\"arrowwidth\":1},\"autotypenumbers\":\"strict\",\"coloraxis\":{\"colorbar\":{\"outlinewidth\":0,\"ticks\":\"\"}},\"colorscale\":{\"diverging\":[[0,\"#8e0152\"],[0.1,\"#c51b7d\"],[0.2,\"#de77ae\"],[0.3,\"#f1b6da\"],[0.4,\"#fde0ef\"],[0.5,\"#f7f7f7\"],[0.6,\"#e6f5d0\"],[0.7,\"#b8e186\"],[0.8,\"#7fbc41\"],[0.9,\"#4d9221\"],[1,\"#276419\"]],\"sequential\":[[0.0,\"#0d0887\"],[0.1111111111111111,\"#46039f\"],[0.2222222222222222,\"#7201a8\"],[0.3333333333333333,\"#9c179e\"],[0.4444444444444444,\"#bd3786\"],[0.5555555555555556,\"#d8576b\"],[0.6666666666666666,\"#ed7953\"],[0.7777777777777778,\"#fb9f3a\"],[0.8888888888888888,\"#fdca26\"],[1.0,\"#f0f921\"]],\"sequentialminus\":[[0.0,\"#0d0887\"],[0.1111111111111111,\"#46039f\"],[0.2222222222222222,\"#7201a8\"],[0.3333333333333333,\"#9c179e\"],[0.4444444444444444,\"#bd3786\"],[0.5555555555555556,\"#d8576b\"],[0.6666666666666666,\"#ed7953\"],[0.7777777777777778,\"#fb9f3a\"],[0.8888888888888888,\"#fdca26\"],[1.0,\"#f0f921\"]]},\"colorway\":[\"#636efa\",\"#EF553B\",\"#00cc96\",\"#ab63fa\",\"#FFA15A\",\"#19d3f3\",\"#FF6692\",\"#B6E880\",\"#FF97FF\",\"#FECB52\"],\"font\":{\"color\":\"#2a3f5f\"},\"geo\":{\"bgcolor\":\"white\",\"lakecolor\":\"white\",\"landcolor\":\"#E5ECF6\",\"showlakes\":true,\"showland\":true,\"subunitcolor\":\"white\"},\"hoverlabel\":{\"align\":\"left\"},\"hovermode\":\"closest\",\"mapbox\":{\"style\":\"light\"},\"paper_bgcolor\":\"white\",\"plot_bgcolor\":\"#E5ECF6\",\"polar\":{\"angularaxis\":{\"gridcolor\":\"white\",\"linecolor\":\"white\",\"ticks\":\"\"},\"bgcolor\":\"#E5ECF6\",\"radialaxis\":{\"gridcolor\":\"white\",\"linecolor\":\"white\",\"ticks\":\"\"}},\"scene\":{\"xaxis\":{\"backgroundcolor\":\"#E5ECF6\",\"gridcolor\":\"white\",\"gridwidth\":2,\"linecolor\":\"white\",\"showbackground\":true,\"ticks\":\"\",\"zerolinecolor\":\"white\"},\"yaxis\":{\"backgroundcolor\":\"#E5ECF6\",\"gridcolor\":\"white\",\"gridwidth\":2,\"linecolor\":\"white\",\"showbackground\":true,\"ticks\":\"\",\"zerolinecolor\":\"white\"},\"zaxis\":{\"backgroundcolor\":\"#E5ECF6\",\"gridcolor\":\"white\",\"gridwidth\":2,\"linecolor\":\"white\",\"showbackground\":true,\"ticks\":\"\",\"zerolinecolor\":\"white\"}},\"shapedefaults\":{\"line\":{\"color\":\"#2a3f5f\"}},\"ternary\":{\"aaxis\":{\"gridcolor\":\"white\",\"linecolor\":\"white\",\"ticks\":\"\"},\"baxis\":{\"gridcolor\":\"white\",\"linecolor\":\"white\",\"ticks\":\"\"},\"bgcolor\":\"#E5ECF6\",\"caxis\":{\"gridcolor\":\"white\",\"linecolor\":\"white\",\"ticks\":\"\"}},\"title\":{\"x\":0.05},\"xaxis\":{\"automargin\":true,\"gridcolor\":\"white\",\"linecolor\":\"white\",\"ticks\":\"\",\"title\":{\"standoff\":15},\"zerolinecolor\":\"white\",\"zerolinewidth\":2},\"yaxis\":{\"automargin\":true,\"gridcolor\":\"white\",\"linecolor\":\"white\",\"ticks\":\"\",\"title\":{\"standoff\":15},\"zerolinecolor\":\"white\",\"zerolinewidth\":2}}},\"xaxis\":{\"anchor\":\"y\",\"domain\":[0.0,1.0],\"title\":{\"text\":\"\\u0414\\u0430\\u0442\\u0430\"}},\"yaxis\":{\"anchor\":\"x\",\"domain\":[0.0,1.0],\"title\":{\"text\":\"\\u041a\\u043e\\u043b\\u0438\\u0447\\u0435\\u0441\\u0442\\u0432\\u043e \\u0441\\u043e\\u0431\\u044b\\u0442\\u0438\\u0439\"}},\"legend\":{\"tracegroupgap\":0},\"margin\":{\"t\":60},\"barmode\":\"relative\",\"title\":{\"font\":{\"size\":20},\"text\":\"\\u0421\\u043e\\u0431\\u044b\\u0442\\u0438\\u044f \\u043f\\u043e \\u0434\\u0430\\u0442\\u0430\\u043c\",\"x\":0.45}},                        {\"responsive\": true}                    ).then(function(){\n",
              "                            \n",
              "var gd = document.getElementById('bb558660-23e7-4dce-a6db-4bad33f465c5');\n",
              "var x = new MutationObserver(function (mutations, observer) {{\n",
              "        var display = window.getComputedStyle(gd).display;\n",
              "        if (!display || display === 'none') {{\n",
              "            console.log([gd, 'removed!']);\n",
              "            Plotly.purge(gd);\n",
              "            observer.disconnect();\n",
              "        }}\n",
              "}});\n",
              "\n",
              "// Listen for the removal of the full notebook cells\n",
              "var notebookContainer = gd.closest('#notebook-container');\n",
              "if (notebookContainer) {{\n",
              "    x.observe(notebookContainer, {childList: true});\n",
              "}}\n",
              "\n",
              "// Listen for the clearing of the current output cell\n",
              "var outputEl = gd.closest('.output');\n",
              "if (outputEl) {{\n",
              "    x.observe(outputEl, {childList: true});\n",
              "}}\n",
              "\n",
              "                        })                };                            </script>        </div>\n",
              "</body>\n",
              "</html>"
            ]
          },
          "metadata": {}
        }
      ],
      "source": [
        "fig = px.bar(events_by_dt, x='event_dt', y='event_time')\n",
        "fig.update_layout(title=dict(text='События по датам',font=dict(size=20), x=0.45),\n",
        "                  xaxis_title='Дата',\n",
        "                  yaxis_title='Количество событий')\n",
        "fig.show()"
      ]
    },
    {
      "cell_type": "markdown",
      "metadata": {
        "id": "DwRyuu_LFvUc"
      },
      "source": [
        "На графике не наблюдается никакой закономерности в количестве событий по разным датам. Заметно, что в некоторые дни событий гораздо меньше. Проверим, не связано ли это с выходными."
      ]
    },
    {
      "cell_type": "code",
      "execution_count": null,
      "metadata": {
        "id": "YSbChqqHFvUd"
      },
      "outputs": [],
      "source": [
        "# Посмотрим на события по дням недели.\n",
        "events_by_weekday = (data\n",
        "                   .groupby('weekday')\n",
        "                   .agg({'event_time':'count'})\n",
        "                   .sort_values(by='event_time', ascending=False)\n",
        "                   .reset_index())"
      ]
    },
    {
      "cell_type": "code",
      "execution_count": null,
      "metadata": {
        "colab": {
          "base_uri": "https://localhost:8080/",
          "height": 542
        },
        "id": "vuMOODWLFvUd",
        "outputId": "5fa8177b-4a39-4e6e-c920-85b47fb88098"
      },
      "outputs": [
        {
          "output_type": "display_data",
          "data": {
            "text/html": [
              "<html>\n",
              "<head><meta charset=\"utf-8\" /></head>\n",
              "<body>\n",
              "    <div>            <script src=\"https://cdnjs.cloudflare.com/ajax/libs/mathjax/2.7.5/MathJax.js?config=TeX-AMS-MML_SVG\"></script><script type=\"text/javascript\">if (window.MathJax) {MathJax.Hub.Config({SVG: {font: \"STIX-Web\"}});}</script>                <script type=\"text/javascript\">window.PlotlyConfig = {MathJaxConfig: 'local'};</script>\n",
              "        <script src=\"https://cdn.plot.ly/plotly-2.8.3.min.js\"></script>                <div id=\"538bf830-6fa4-43ff-aea5-148e5507134c\" class=\"plotly-graph-div\" style=\"height:525px; width:100%;\"></div>            <script type=\"text/javascript\">                                    window.PLOTLYENV=window.PLOTLYENV || {};                                    if (document.getElementById(\"538bf830-6fa4-43ff-aea5-148e5507134c\")) {                    Plotly.newPlot(                        \"538bf830-6fa4-43ff-aea5-148e5507134c\",                        [{\"alignmentgroup\":\"True\",\"hovertemplate\":\"weekday=%{x}<br>event_time=%{y}<extra></extra>\",\"legendgroup\":\"\",\"marker\":{\"color\":\"#636efa\",\"pattern\":{\"shape\":\"\"}},\"name\":\"\",\"offsetgroup\":\"\",\"orientation\":\"v\",\"showlegend\":false,\"textposition\":\"auto\",\"x\":[0,1,2,3,6,4,5],\"xaxis\":\"x\",\"y\":[11537,10985,10777,10606,10308,9799,8995],\"yaxis\":\"y\",\"type\":\"bar\"}],                        {\"template\":{\"data\":{\"bar\":[{\"error_x\":{\"color\":\"#2a3f5f\"},\"error_y\":{\"color\":\"#2a3f5f\"},\"marker\":{\"line\":{\"color\":\"#E5ECF6\",\"width\":0.5},\"pattern\":{\"fillmode\":\"overlay\",\"size\":10,\"solidity\":0.2}},\"type\":\"bar\"}],\"barpolar\":[{\"marker\":{\"line\":{\"color\":\"#E5ECF6\",\"width\":0.5},\"pattern\":{\"fillmode\":\"overlay\",\"size\":10,\"solidity\":0.2}},\"type\":\"barpolar\"}],\"carpet\":[{\"aaxis\":{\"endlinecolor\":\"#2a3f5f\",\"gridcolor\":\"white\",\"linecolor\":\"white\",\"minorgridcolor\":\"white\",\"startlinecolor\":\"#2a3f5f\"},\"baxis\":{\"endlinecolor\":\"#2a3f5f\",\"gridcolor\":\"white\",\"linecolor\":\"white\",\"minorgridcolor\":\"white\",\"startlinecolor\":\"#2a3f5f\"},\"type\":\"carpet\"}],\"choropleth\":[{\"colorbar\":{\"outlinewidth\":0,\"ticks\":\"\"},\"type\":\"choropleth\"}],\"contour\":[{\"colorbar\":{\"outlinewidth\":0,\"ticks\":\"\"},\"colorscale\":[[0.0,\"#0d0887\"],[0.1111111111111111,\"#46039f\"],[0.2222222222222222,\"#7201a8\"],[0.3333333333333333,\"#9c179e\"],[0.4444444444444444,\"#bd3786\"],[0.5555555555555556,\"#d8576b\"],[0.6666666666666666,\"#ed7953\"],[0.7777777777777778,\"#fb9f3a\"],[0.8888888888888888,\"#fdca26\"],[1.0,\"#f0f921\"]],\"type\":\"contour\"}],\"contourcarpet\":[{\"colorbar\":{\"outlinewidth\":0,\"ticks\":\"\"},\"type\":\"contourcarpet\"}],\"heatmap\":[{\"colorbar\":{\"outlinewidth\":0,\"ticks\":\"\"},\"colorscale\":[[0.0,\"#0d0887\"],[0.1111111111111111,\"#46039f\"],[0.2222222222222222,\"#7201a8\"],[0.3333333333333333,\"#9c179e\"],[0.4444444444444444,\"#bd3786\"],[0.5555555555555556,\"#d8576b\"],[0.6666666666666666,\"#ed7953\"],[0.7777777777777778,\"#fb9f3a\"],[0.8888888888888888,\"#fdca26\"],[1.0,\"#f0f921\"]],\"type\":\"heatmap\"}],\"heatmapgl\":[{\"colorbar\":{\"outlinewidth\":0,\"ticks\":\"\"},\"colorscale\":[[0.0,\"#0d0887\"],[0.1111111111111111,\"#46039f\"],[0.2222222222222222,\"#7201a8\"],[0.3333333333333333,\"#9c179e\"],[0.4444444444444444,\"#bd3786\"],[0.5555555555555556,\"#d8576b\"],[0.6666666666666666,\"#ed7953\"],[0.7777777777777778,\"#fb9f3a\"],[0.8888888888888888,\"#fdca26\"],[1.0,\"#f0f921\"]],\"type\":\"heatmapgl\"}],\"histogram\":[{\"marker\":{\"pattern\":{\"fillmode\":\"overlay\",\"size\":10,\"solidity\":0.2}},\"type\":\"histogram\"}],\"histogram2d\":[{\"colorbar\":{\"outlinewidth\":0,\"ticks\":\"\"},\"colorscale\":[[0.0,\"#0d0887\"],[0.1111111111111111,\"#46039f\"],[0.2222222222222222,\"#7201a8\"],[0.3333333333333333,\"#9c179e\"],[0.4444444444444444,\"#bd3786\"],[0.5555555555555556,\"#d8576b\"],[0.6666666666666666,\"#ed7953\"],[0.7777777777777778,\"#fb9f3a\"],[0.8888888888888888,\"#fdca26\"],[1.0,\"#f0f921\"]],\"type\":\"histogram2d\"}],\"histogram2dcontour\":[{\"colorbar\":{\"outlinewidth\":0,\"ticks\":\"\"},\"colorscale\":[[0.0,\"#0d0887\"],[0.1111111111111111,\"#46039f\"],[0.2222222222222222,\"#7201a8\"],[0.3333333333333333,\"#9c179e\"],[0.4444444444444444,\"#bd3786\"],[0.5555555555555556,\"#d8576b\"],[0.6666666666666666,\"#ed7953\"],[0.7777777777777778,\"#fb9f3a\"],[0.8888888888888888,\"#fdca26\"],[1.0,\"#f0f921\"]],\"type\":\"histogram2dcontour\"}],\"mesh3d\":[{\"colorbar\":{\"outlinewidth\":0,\"ticks\":\"\"},\"type\":\"mesh3d\"}],\"parcoords\":[{\"line\":{\"colorbar\":{\"outlinewidth\":0,\"ticks\":\"\"}},\"type\":\"parcoords\"}],\"pie\":[{\"automargin\":true,\"type\":\"pie\"}],\"scatter\":[{\"marker\":{\"colorbar\":{\"outlinewidth\":0,\"ticks\":\"\"}},\"type\":\"scatter\"}],\"scatter3d\":[{\"line\":{\"colorbar\":{\"outlinewidth\":0,\"ticks\":\"\"}},\"marker\":{\"colorbar\":{\"outlinewidth\":0,\"ticks\":\"\"}},\"type\":\"scatter3d\"}],\"scattercarpet\":[{\"marker\":{\"colorbar\":{\"outlinewidth\":0,\"ticks\":\"\"}},\"type\":\"scattercarpet\"}],\"scattergeo\":[{\"marker\":{\"colorbar\":{\"outlinewidth\":0,\"ticks\":\"\"}},\"type\":\"scattergeo\"}],\"scattergl\":[{\"marker\":{\"colorbar\":{\"outlinewidth\":0,\"ticks\":\"\"}},\"type\":\"scattergl\"}],\"scattermapbox\":[{\"marker\":{\"colorbar\":{\"outlinewidth\":0,\"ticks\":\"\"}},\"type\":\"scattermapbox\"}],\"scatterpolar\":[{\"marker\":{\"colorbar\":{\"outlinewidth\":0,\"ticks\":\"\"}},\"type\":\"scatterpolar\"}],\"scatterpolargl\":[{\"marker\":{\"colorbar\":{\"outlinewidth\":0,\"ticks\":\"\"}},\"type\":\"scatterpolargl\"}],\"scatterternary\":[{\"marker\":{\"colorbar\":{\"outlinewidth\":0,\"ticks\":\"\"}},\"type\":\"scatterternary\"}],\"surface\":[{\"colorbar\":{\"outlinewidth\":0,\"ticks\":\"\"},\"colorscale\":[[0.0,\"#0d0887\"],[0.1111111111111111,\"#46039f\"],[0.2222222222222222,\"#7201a8\"],[0.3333333333333333,\"#9c179e\"],[0.4444444444444444,\"#bd3786\"],[0.5555555555555556,\"#d8576b\"],[0.6666666666666666,\"#ed7953\"],[0.7777777777777778,\"#fb9f3a\"],[0.8888888888888888,\"#fdca26\"],[1.0,\"#f0f921\"]],\"type\":\"surface\"}],\"table\":[{\"cells\":{\"fill\":{\"color\":\"#EBF0F8\"},\"line\":{\"color\":\"white\"}},\"header\":{\"fill\":{\"color\":\"#C8D4E3\"},\"line\":{\"color\":\"white\"}},\"type\":\"table\"}]},\"layout\":{\"annotationdefaults\":{\"arrowcolor\":\"#2a3f5f\",\"arrowhead\":0,\"arrowwidth\":1},\"autotypenumbers\":\"strict\",\"coloraxis\":{\"colorbar\":{\"outlinewidth\":0,\"ticks\":\"\"}},\"colorscale\":{\"diverging\":[[0,\"#8e0152\"],[0.1,\"#c51b7d\"],[0.2,\"#de77ae\"],[0.3,\"#f1b6da\"],[0.4,\"#fde0ef\"],[0.5,\"#f7f7f7\"],[0.6,\"#e6f5d0\"],[0.7,\"#b8e186\"],[0.8,\"#7fbc41\"],[0.9,\"#4d9221\"],[1,\"#276419\"]],\"sequential\":[[0.0,\"#0d0887\"],[0.1111111111111111,\"#46039f\"],[0.2222222222222222,\"#7201a8\"],[0.3333333333333333,\"#9c179e\"],[0.4444444444444444,\"#bd3786\"],[0.5555555555555556,\"#d8576b\"],[0.6666666666666666,\"#ed7953\"],[0.7777777777777778,\"#fb9f3a\"],[0.8888888888888888,\"#fdca26\"],[1.0,\"#f0f921\"]],\"sequentialminus\":[[0.0,\"#0d0887\"],[0.1111111111111111,\"#46039f\"],[0.2222222222222222,\"#7201a8\"],[0.3333333333333333,\"#9c179e\"],[0.4444444444444444,\"#bd3786\"],[0.5555555555555556,\"#d8576b\"],[0.6666666666666666,\"#ed7953\"],[0.7777777777777778,\"#fb9f3a\"],[0.8888888888888888,\"#fdca26\"],[1.0,\"#f0f921\"]]},\"colorway\":[\"#636efa\",\"#EF553B\",\"#00cc96\",\"#ab63fa\",\"#FFA15A\",\"#19d3f3\",\"#FF6692\",\"#B6E880\",\"#FF97FF\",\"#FECB52\"],\"font\":{\"color\":\"#2a3f5f\"},\"geo\":{\"bgcolor\":\"white\",\"lakecolor\":\"white\",\"landcolor\":\"#E5ECF6\",\"showlakes\":true,\"showland\":true,\"subunitcolor\":\"white\"},\"hoverlabel\":{\"align\":\"left\"},\"hovermode\":\"closest\",\"mapbox\":{\"style\":\"light\"},\"paper_bgcolor\":\"white\",\"plot_bgcolor\":\"#E5ECF6\",\"polar\":{\"angularaxis\":{\"gridcolor\":\"white\",\"linecolor\":\"white\",\"ticks\":\"\"},\"bgcolor\":\"#E5ECF6\",\"radialaxis\":{\"gridcolor\":\"white\",\"linecolor\":\"white\",\"ticks\":\"\"}},\"scene\":{\"xaxis\":{\"backgroundcolor\":\"#E5ECF6\",\"gridcolor\":\"white\",\"gridwidth\":2,\"linecolor\":\"white\",\"showbackground\":true,\"ticks\":\"\",\"zerolinecolor\":\"white\"},\"yaxis\":{\"backgroundcolor\":\"#E5ECF6\",\"gridcolor\":\"white\",\"gridwidth\":2,\"linecolor\":\"white\",\"showbackground\":true,\"ticks\":\"\",\"zerolinecolor\":\"white\"},\"zaxis\":{\"backgroundcolor\":\"#E5ECF6\",\"gridcolor\":\"white\",\"gridwidth\":2,\"linecolor\":\"white\",\"showbackground\":true,\"ticks\":\"\",\"zerolinecolor\":\"white\"}},\"shapedefaults\":{\"line\":{\"color\":\"#2a3f5f\"}},\"ternary\":{\"aaxis\":{\"gridcolor\":\"white\",\"linecolor\":\"white\",\"ticks\":\"\"},\"baxis\":{\"gridcolor\":\"white\",\"linecolor\":\"white\",\"ticks\":\"\"},\"bgcolor\":\"#E5ECF6\",\"caxis\":{\"gridcolor\":\"white\",\"linecolor\":\"white\",\"ticks\":\"\"}},\"title\":{\"x\":0.05},\"xaxis\":{\"automargin\":true,\"gridcolor\":\"white\",\"linecolor\":\"white\",\"ticks\":\"\",\"title\":{\"standoff\":15},\"zerolinecolor\":\"white\",\"zerolinewidth\":2},\"yaxis\":{\"automargin\":true,\"gridcolor\":\"white\",\"linecolor\":\"white\",\"ticks\":\"\",\"title\":{\"standoff\":15},\"zerolinecolor\":\"white\",\"zerolinewidth\":2}}},\"xaxis\":{\"anchor\":\"y\",\"domain\":[0.0,1.0],\"title\":{\"text\":\"\\u0414\\u0435\\u043d\\u044c \\u043d\\u0435\\u0434\\u0435\\u043b\\u0438\"}},\"yaxis\":{\"anchor\":\"x\",\"domain\":[0.0,1.0],\"title\":{\"text\":\"\\u041a\\u043e\\u043b\\u0438\\u0447\\u0435\\u0441\\u0442\\u0432\\u043e \\u0441\\u043e\\u0431\\u044b\\u0442\\u0438\\u0439\"}},\"legend\":{\"tracegroupgap\":0},\"margin\":{\"t\":60},\"barmode\":\"relative\",\"title\":{\"font\":{\"size\":20},\"text\":\"\\u0421\\u043e\\u0431\\u044b\\u0442\\u0438\\u044f \\u043f\\u043e \\u0434\\u043d\\u044f\\u043c \\u043d\\u0435\\u0434\\u0435\\u043b\\u0438\",\"x\":0.45}},                        {\"responsive\": true}                    ).then(function(){\n",
              "                            \n",
              "var gd = document.getElementById('538bf830-6fa4-43ff-aea5-148e5507134c');\n",
              "var x = new MutationObserver(function (mutations, observer) {{\n",
              "        var display = window.getComputedStyle(gd).display;\n",
              "        if (!display || display === 'none') {{\n",
              "            console.log([gd, 'removed!']);\n",
              "            Plotly.purge(gd);\n",
              "            observer.disconnect();\n",
              "        }}\n",
              "}});\n",
              "\n",
              "// Listen for the removal of the full notebook cells\n",
              "var notebookContainer = gd.closest('#notebook-container');\n",
              "if (notebookContainer) {{\n",
              "    x.observe(notebookContainer, {childList: true});\n",
              "}}\n",
              "\n",
              "// Listen for the clearing of the current output cell\n",
              "var outputEl = gd.closest('.output');\n",
              "if (outputEl) {{\n",
              "    x.observe(outputEl, {childList: true});\n",
              "}}\n",
              "\n",
              "                        })                };                            </script>        </div>\n",
              "</body>\n",
              "</html>"
            ]
          },
          "metadata": {}
        }
      ],
      "source": [
        "fig = px.bar(events_by_weekday, x='weekday', y='event_time')\n",
        "fig.update_layout(title=dict(text='События по дням недели',font=dict(size=20), x=0.45),\n",
        "                  xaxis_title='День недели',\n",
        "                  yaxis_title='Количество событий')\n",
        "fig.show()"
      ]
    },
    {
      "cell_type": "markdown",
      "metadata": {
        "id": "5-YGTnmvFvUd"
      },
      "source": [
        "Больше всего событий происходит в понедельник, далее количество событий убыват к концу недели и меньше всего их происходит в пятницу и субботу. Похоже, пользователи предпочитают отдыхать в выходные, а не заниматься делами."
      ]
    },
    {
      "cell_type": "markdown",
      "metadata": {
        "id": "awEDoxnbFvUd"
      },
      "source": [
        "### Время, проведенное в приложении"
      ]
    },
    {
      "cell_type": "code",
      "execution_count": null,
      "metadata": {
        "colab": {
          "base_uri": "https://localhost:8080/",
          "height": 238
        },
        "id": "KuxVZJiwFvUd",
        "outputId": "13080518-e57f-4164-9305-cf2d28a930fe"
      },
      "outputs": [
        {
          "output_type": "execute_result",
          "data": {
            "text/plain": [
              "                                user_id session_id               first  \\\n",
              "                                                            event_time   \n",
              "0  0001b1d5-b74a-4cbf-aeb0-7df5947bf349          1 2019-10-07 13:39:46   \n",
              "1  0001b1d5-b74a-4cbf-aeb0-7df5947bf349          2 2019-10-09 18:33:56   \n",
              "2  0001b1d5-b74a-4cbf-aeb0-7df5947bf349          3 2019-10-21 19:52:31   \n",
              "3  0001b1d5-b74a-4cbf-aeb0-7df5947bf349          4 2019-10-22 11:18:15   \n",
              "4  00157779-810c-4498-9e05-a1e9e3cedf93          5 2019-10-19 21:34:34   \n",
              "\n",
              "                 last duration  \n",
              "           event_time           \n",
              "0 2019-10-07 13:49:42     9.93  \n",
              "1 2019-10-09 18:42:23     8.45  \n",
              "2 2019-10-21 20:07:30    14.98  \n",
              "3 2019-10-22 11:30:53    12.63  \n",
              "4 2019-10-19 21:59:55    25.35  "
            ],
            "text/html": [
              "\n",
              "  <div id=\"df-00823c3d-4bf3-4225-967a-200bd4a0151a\">\n",
              "    <div class=\"colab-df-container\">\n",
              "      <div>\n",
              "<style scoped>\n",
              "    .dataframe tbody tr th:only-of-type {\n",
              "        vertical-align: middle;\n",
              "    }\n",
              "\n",
              "    .dataframe tbody tr th {\n",
              "        vertical-align: top;\n",
              "    }\n",
              "\n",
              "    .dataframe thead tr th {\n",
              "        text-align: left;\n",
              "    }\n",
              "</style>\n",
              "<table border=\"1\" class=\"dataframe\">\n",
              "  <thead>\n",
              "    <tr>\n",
              "      <th></th>\n",
              "      <th>user_id</th>\n",
              "      <th>session_id</th>\n",
              "      <th>first</th>\n",
              "      <th>last</th>\n",
              "      <th>duration</th>\n",
              "    </tr>\n",
              "    <tr>\n",
              "      <th></th>\n",
              "      <th></th>\n",
              "      <th></th>\n",
              "      <th>event_time</th>\n",
              "      <th>event_time</th>\n",
              "      <th></th>\n",
              "    </tr>\n",
              "  </thead>\n",
              "  <tbody>\n",
              "    <tr>\n",
              "      <th>0</th>\n",
              "      <td>0001b1d5-b74a-4cbf-aeb0-7df5947bf349</td>\n",
              "      <td>1</td>\n",
              "      <td>2019-10-07 13:39:46</td>\n",
              "      <td>2019-10-07 13:49:42</td>\n",
              "      <td>9.93</td>\n",
              "    </tr>\n",
              "    <tr>\n",
              "      <th>1</th>\n",
              "      <td>0001b1d5-b74a-4cbf-aeb0-7df5947bf349</td>\n",
              "      <td>2</td>\n",
              "      <td>2019-10-09 18:33:56</td>\n",
              "      <td>2019-10-09 18:42:23</td>\n",
              "      <td>8.45</td>\n",
              "    </tr>\n",
              "    <tr>\n",
              "      <th>2</th>\n",
              "      <td>0001b1d5-b74a-4cbf-aeb0-7df5947bf349</td>\n",
              "      <td>3</td>\n",
              "      <td>2019-10-21 19:52:31</td>\n",
              "      <td>2019-10-21 20:07:30</td>\n",
              "      <td>14.98</td>\n",
              "    </tr>\n",
              "    <tr>\n",
              "      <th>3</th>\n",
              "      <td>0001b1d5-b74a-4cbf-aeb0-7df5947bf349</td>\n",
              "      <td>4</td>\n",
              "      <td>2019-10-22 11:18:15</td>\n",
              "      <td>2019-10-22 11:30:53</td>\n",
              "      <td>12.63</td>\n",
              "    </tr>\n",
              "    <tr>\n",
              "      <th>4</th>\n",
              "      <td>00157779-810c-4498-9e05-a1e9e3cedf93</td>\n",
              "      <td>5</td>\n",
              "      <td>2019-10-19 21:34:34</td>\n",
              "      <td>2019-10-19 21:59:55</td>\n",
              "      <td>25.35</td>\n",
              "    </tr>\n",
              "  </tbody>\n",
              "</table>\n",
              "</div>\n",
              "      <button class=\"colab-df-convert\" onclick=\"convertToInteractive('df-00823c3d-4bf3-4225-967a-200bd4a0151a')\"\n",
              "              title=\"Convert this dataframe to an interactive table.\"\n",
              "              style=\"display:none;\">\n",
              "        \n",
              "  <svg xmlns=\"http://www.w3.org/2000/svg\" height=\"24px\"viewBox=\"0 0 24 24\"\n",
              "       width=\"24px\">\n",
              "    <path d=\"M0 0h24v24H0V0z\" fill=\"none\"/>\n",
              "    <path d=\"M18.56 5.44l.94 2.06.94-2.06 2.06-.94-2.06-.94-.94-2.06-.94 2.06-2.06.94zm-11 1L8.5 8.5l.94-2.06 2.06-.94-2.06-.94L8.5 2.5l-.94 2.06-2.06.94zm10 10l.94 2.06.94-2.06 2.06-.94-2.06-.94-.94-2.06-.94 2.06-2.06.94z\"/><path d=\"M17.41 7.96l-1.37-1.37c-.4-.4-.92-.59-1.43-.59-.52 0-1.04.2-1.43.59L10.3 9.45l-7.72 7.72c-.78.78-.78 2.05 0 2.83L4 21.41c.39.39.9.59 1.41.59.51 0 1.02-.2 1.41-.59l7.78-7.78 2.81-2.81c.8-.78.8-2.07 0-2.86zM5.41 20L4 18.59l7.72-7.72 1.47 1.35L5.41 20z\"/>\n",
              "  </svg>\n",
              "      </button>\n",
              "      \n",
              "  <style>\n",
              "    .colab-df-container {\n",
              "      display:flex;\n",
              "      flex-wrap:wrap;\n",
              "      gap: 12px;\n",
              "    }\n",
              "\n",
              "    .colab-df-convert {\n",
              "      background-color: #E8F0FE;\n",
              "      border: none;\n",
              "      border-radius: 50%;\n",
              "      cursor: pointer;\n",
              "      display: none;\n",
              "      fill: #1967D2;\n",
              "      height: 32px;\n",
              "      padding: 0 0 0 0;\n",
              "      width: 32px;\n",
              "    }\n",
              "\n",
              "    .colab-df-convert:hover {\n",
              "      background-color: #E2EBFA;\n",
              "      box-shadow: 0px 1px 2px rgba(60, 64, 67, 0.3), 0px 1px 3px 1px rgba(60, 64, 67, 0.15);\n",
              "      fill: #174EA6;\n",
              "    }\n",
              "\n",
              "    [theme=dark] .colab-df-convert {\n",
              "      background-color: #3B4455;\n",
              "      fill: #D2E3FC;\n",
              "    }\n",
              "\n",
              "    [theme=dark] .colab-df-convert:hover {\n",
              "      background-color: #434B5C;\n",
              "      box-shadow: 0px 1px 3px 1px rgba(0, 0, 0, 0.15);\n",
              "      filter: drop-shadow(0px 1px 2px rgba(0, 0, 0, 0.3));\n",
              "      fill: #FFFFFF;\n",
              "    }\n",
              "  </style>\n",
              "\n",
              "      <script>\n",
              "        const buttonEl =\n",
              "          document.querySelector('#df-00823c3d-4bf3-4225-967a-200bd4a0151a button.colab-df-convert');\n",
              "        buttonEl.style.display =\n",
              "          google.colab.kernel.accessAllowed ? 'block' : 'none';\n",
              "\n",
              "        async function convertToInteractive(key) {\n",
              "          const element = document.querySelector('#df-00823c3d-4bf3-4225-967a-200bd4a0151a');\n",
              "          const dataTable =\n",
              "            await google.colab.kernel.invokeFunction('convertToInteractive',\n",
              "                                                     [key], {});\n",
              "          if (!dataTable) return;\n",
              "\n",
              "          const docLinkHtml = 'Like what you see? Visit the ' +\n",
              "            '<a target=\"_blank\" href=https://colab.research.google.com/notebooks/data_table.ipynb>data table notebook</a>'\n",
              "            + ' to learn more about interactive tables.';\n",
              "          element.innerHTML = '';\n",
              "          dataTable['output_type'] = 'display_data';\n",
              "          await google.colab.output.renderOutput(dataTable, element);\n",
              "          const docLink = document.createElement('div');\n",
              "          docLink.innerHTML = docLinkHtml;\n",
              "          element.appendChild(docLink);\n",
              "        }\n",
              "      </script>\n",
              "    </div>\n",
              "  </div>\n",
              "  "
            ]
          },
          "metadata": {},
          "execution_count": 42
        }
      ],
      "source": [
        "session_times = (data\n",
        "                 .pivot_table(index=['user_id', 'session_id'],\n",
        "                              values='event_time', \n",
        "                              aggfunc=['first', 'last'])\n",
        "                 .reset_index())\n",
        "session_times['duration'] = round((session_times['last'] - session_times['first']).astype('timedelta64[s]') / 60, 2)\n",
        "\n",
        "session_times.head()"
      ]
    },
    {
      "cell_type": "code",
      "execution_count": null,
      "metadata": {
        "colab": {
          "base_uri": "https://localhost:8080/"
        },
        "id": "jCuSD4WtFvUe",
        "outputId": "d67f8125-6804-471d-cad9-1c03f047c508"
      },
      "outputs": [
        {
          "output_type": "stream",
          "name": "stdout",
          "text": [
            "Медианное время сессии 5.58 минут\n",
            "Среднее время сессии 12.88 минут\n",
            "Максимальное время сессии 321.97 минут\n",
            "Минимальное время сессии 0.0 минут\n"
          ]
        }
      ],
      "source": [
        "print(f'Медианное время сессии', session_times['duration'].median(), 'минут')\n",
        "print('Среднее время сессии', round(session_times['duration'].mean(), 2), 'минут')\n",
        "print('Максимальное время сессии', session_times['duration'].max(), 'минут')\n",
        "print('Минимальное время сессии', session_times['duration'].min(), 'минут')"
      ]
    },
    {
      "cell_type": "code",
      "execution_count": null,
      "metadata": {
        "colab": {
          "base_uri": "https://localhost:8080/",
          "height": 392
        },
        "id": "Jcmtid5MFvUe",
        "outputId": "8032eada-d8a2-40f7-b812-f8fb1c1ae589"
      },
      "outputs": [
        {
          "output_type": "display_data",
          "data": {
            "text/plain": [
              "<Figure size 720x432 with 1 Axes>"
            ],
            "image/png": "[encoded data removed]"
          },
          "metadata": {
            "needs_background": "light"
          }
        }
      ],
      "source": [
        "plt.figure(figsize=(10,6))\n",
        "session_times[['user_id', 'duration']].boxplot()\n",
        "plt.title('Распределение длительности сессий', fontsize=15)\n",
        "plt.ylim(-2, 70)\n",
        "plt.show()"
      ]
    },
    {
      "cell_type": "code",
      "execution_count": null,
      "metadata": {
        "colab": {
          "base_uri": "https://localhost:8080/",
          "height": 493
        },
        "id": "6xTTxskKFvUe",
        "outputId": "d289bf5c-6822-4810-c164-e2aa58372655"
      },
      "outputs": [
        {
          "output_type": "stream",
          "name": "stderr",
          "text": [
            "<ipython-input-45-cbf13fa726ea>:2: FutureWarning:\n",
            "\n",
            "merging between different levels is deprecated and will be removed in a future version. (2 levels on the left, 1 on the right)\n",
            "\n"
          ]
        },
        {
          "output_type": "execute_result",
          "data": {
            "text/plain": [
              "      session_id     event_name\n",
              "0             10  contacts_show\n",
              "1             20    photos_show\n",
              "2             27  contacts_show\n",
              "3             34  contacts_show\n",
              "4             43            map\n",
              "...          ...            ...\n",
              "2138       10331      tips_show\n",
              "2139       10342      tips_show\n",
              "2140       10343      tips_show\n",
              "2141       10362      tips_show\n",
              "2142       10364      tips_show\n",
              "\n",
              "[2143 rows x 2 columns]"
            ],
            "text/html": [
              "\n",
              "  <div id=\"df-a62d5664-cdb7-47c8-9562-507e06068882\">\n",
              "    <div class=\"colab-df-container\">\n",
              "      <div>\n",
              "<style scoped>\n",
              "    .dataframe tbody tr th:only-of-type {\n",
              "        vertical-align: middle;\n",
              "    }\n",
              "\n",
              "    .dataframe tbody tr th {\n",
              "        vertical-align: top;\n",
              "    }\n",
              "\n",
              "    .dataframe thead th {\n",
              "        text-align: right;\n",
              "    }\n",
              "</style>\n",
              "<table border=\"1\" class=\"dataframe\">\n",
              "  <thead>\n",
              "    <tr style=\"text-align: right;\">\n",
              "      <th></th>\n",
              "      <th>session_id</th>\n",
              "      <th>event_name</th>\n",
              "    </tr>\n",
              "  </thead>\n",
              "  <tbody>\n",
              "    <tr>\n",
              "      <th>0</th>\n",
              "      <td>10</td>\n",
              "      <td>contacts_show</td>\n",
              "    </tr>\n",
              "    <tr>\n",
              "      <th>1</th>\n",
              "      <td>20</td>\n",
              "      <td>photos_show</td>\n",
              "    </tr>\n",
              "    <tr>\n",
              "      <th>2</th>\n",
              "      <td>27</td>\n",
              "      <td>contacts_show</td>\n",
              "    </tr>\n",
              "    <tr>\n",
              "      <th>3</th>\n",
              "      <td>34</td>\n",
              "      <td>contacts_show</td>\n",
              "    </tr>\n",
              "    <tr>\n",
              "      <th>4</th>\n",
              "      <td>43</td>\n",
              "      <td>map</td>\n",
              "    </tr>\n",
              "    <tr>\n",
              "      <th>...</th>\n",
              "      <td>...</td>\n",
              "      <td>...</td>\n",
              "    </tr>\n",
              "    <tr>\n",
              "      <th>2138</th>\n",
              "      <td>10331</td>\n",
              "      <td>tips_show</td>\n",
              "    </tr>\n",
              "    <tr>\n",
              "      <th>2139</th>\n",
              "      <td>10342</td>\n",
              "      <td>tips_show</td>\n",
              "    </tr>\n",
              "    <tr>\n",
              "      <th>2140</th>\n",
              "      <td>10343</td>\n",
              "      <td>tips_show</td>\n",
              "    </tr>\n",
              "    <tr>\n",
              "      <th>2141</th>\n",
              "      <td>10362</td>\n",
              "      <td>tips_show</td>\n",
              "    </tr>\n",
              "    <tr>\n",
              "      <th>2142</th>\n",
              "      <td>10364</td>\n",
              "      <td>tips_show</td>\n",
              "    </tr>\n",
              "  </tbody>\n",
              "</table>\n",
              "<p>2143 rows × 2 columns</p>\n",
              "</div>\n",
              "      <button class=\"colab-df-convert\" onclick=\"convertToInteractive('df-a62d5664-cdb7-47c8-9562-507e06068882')\"\n",
              "              title=\"Convert this dataframe to an interactive table.\"\n",
              "              style=\"display:none;\">\n",
              "        \n",
              "  <svg xmlns=\"http://www.w3.org/2000/svg\" height=\"24px\"viewBox=\"0 0 24 24\"\n",
              "       width=\"24px\">\n",
              "    <path d=\"M0 0h24v24H0V0z\" fill=\"none\"/>\n",
              "    <path d=\"M18.56 5.44l.94 2.06.94-2.06 2.06-.94-2.06-.94-.94-2.06-.94 2.06-2.06.94zm-11 1L8.5 8.5l.94-2.06 2.06-.94-2.06-.94L8.5 2.5l-.94 2.06-2.06.94zm10 10l.94 2.06.94-2.06 2.06-.94-2.06-.94-.94-2.06-.94 2.06-2.06.94z\"/><path d=\"M17.41 7.96l-1.37-1.37c-.4-.4-.92-.59-1.43-.59-.52 0-1.04.2-1.43.59L10.3 9.45l-7.72 7.72c-.78.78-.78 2.05 0 2.83L4 21.41c.39.39.9.59 1.41.59.51 0 1.02-.2 1.41-.59l7.78-7.78 2.81-2.81c.8-.78.8-2.07 0-2.86zM5.41 20L4 18.59l7.72-7.72 1.47 1.35L5.41 20z\"/>\n",
              "  </svg>\n",
              "      </button>\n",
              "      \n",
              "  <style>\n",
              "    .colab-df-container {\n",
              "      display:flex;\n",
              "      flex-wrap:wrap;\n",
              "      gap: 12px;\n",
              "    }\n",
              "\n",
              "    .colab-df-convert {\n",
              "      background-color: #E8F0FE;\n",
              "      border: none;\n",
              "      border-radius: 50%;\n",
              "      cursor: pointer;\n",
              "      display: none;\n",
              "      fill: #1967D2;\n",
              "      height: 32px;\n",
              "      padding: 0 0 0 0;\n",
              "      width: 32px;\n",
              "    }\n",
              "\n",
              "    .colab-df-convert:hover {\n",
              "      background-color: #E2EBFA;\n",
              "      box-shadow: 0px 1px 2px rgba(60, 64, 67, 0.3), 0px 1px 3px 1px rgba(60, 64, 67, 0.15);\n",
              "      fill: #174EA6;\n",
              "    }\n",
              "\n",
              "    [theme=dark] .colab-df-convert {\n",
              "      background-color: #3B4455;\n",
              "      fill: #D2E3FC;\n",
              "    }\n",
              "\n",
              "    [theme=dark] .colab-df-convert:hover {\n",
              "      background-color: #434B5C;\n",
              "      box-shadow: 0px 1px 3px 1px rgba(0, 0, 0, 0.15);\n",
              "      filter: drop-shadow(0px 1px 2px rgba(0, 0, 0, 0.3));\n",
              "      fill: #FFFFFF;\n",
              "    }\n",
              "  </style>\n",
              "\n",
              "      <script>\n",
              "        const buttonEl =\n",
              "          document.querySelector('#df-a62d5664-cdb7-47c8-9562-507e06068882 button.colab-df-convert');\n",
              "        buttonEl.style.display =\n",
              "          google.colab.kernel.accessAllowed ? 'block' : 'none';\n",
              "\n",
              "        async function convertToInteractive(key) {\n",
              "          const element = document.querySelector('#df-a62d5664-cdb7-47c8-9562-507e06068882');\n",
              "          const dataTable =\n",
              "            await google.colab.kernel.invokeFunction('convertToInteractive',\n",
              "                                                     [key], {});\n",
              "          if (!dataTable) return;\n",
              "\n",
              "          const docLinkHtml = 'Like what you see? Visit the ' +\n",
              "            '<a target=\"_blank\" href=https://colab.research.google.com/notebooks/data_table.ipynb>data table notebook</a>'\n",
              "            + ' to learn more about interactive tables.';\n",
              "          element.innerHTML = '';\n",
              "          dataTable['output_type'] = 'display_data';\n",
              "          await google.colab.output.renderOutput(dataTable, element);\n",
              "          const docLink = document.createElement('div');\n",
              "          docLink.innerHTML = docLinkHtml;\n",
              "          element.appendChild(docLink);\n",
              "        }\n",
              "      </script>\n",
              "    </div>\n",
              "  </div>\n",
              "  "
            ]
          },
          "metadata": {},
          "execution_count": 45
        }
      ],
      "source": [
        "# Посмотрим внимательнее на нулевые сессии.\n",
        "zero_sessions = session_times.loc[session_times['duration'] == 0].merge(data[['event_name','session_id']],\n",
        "                                                                        on='session_id', how='left')\n",
        "zero_sessions = zero_sessions[['session_id', 'event_name']]\n",
        "zero_sessions"
      ]
    },
    {
      "cell_type": "code",
      "execution_count": null,
      "metadata": {
        "colab": {
          "base_uri": "https://localhost:8080/"
        },
        "id": "zFCS4K3oFvUe",
        "outputId": "dff10dd0-1ed2-4ba6-fb88-6341e1c02178"
      },
      "outputs": [
        {
          "output_type": "execute_result",
          "data": {
            "text/plain": [
              "array(['contacts_show', 'photos_show', 'map', 'tips_show', 'search',\n",
              "       'favorites_add', 'advert_open', 'tips_click', 'contacts_call'],\n",
              "      dtype=object)"
            ]
          },
          "metadata": {},
          "execution_count": 46
        }
      ],
      "source": [
        "zero_sessions['event_name'].unique()"
      ]
    },
    {
      "cell_type": "code",
      "execution_count": null,
      "metadata": {
        "colab": {
          "base_uri": "https://localhost:8080/",
          "height": 363
        },
        "id": "HmGJhyJUFvUe",
        "outputId": "c623d97f-2e66-46c0-8639-074d87e54323"
      },
      "outputs": [
        {
          "output_type": "execute_result",
          "data": {
            "text/plain": [
              "               session_id\n",
              "event_name               \n",
              "tips_show             899\n",
              "photos_show           554\n",
              "search                378\n",
              "contacts_show         125\n",
              "map                   100\n",
              "advert_open            46\n",
              "favorites_add          30\n",
              "tips_click             10\n",
              "contacts_call           1"
            ],
            "text/html": [
              "\n",
              "  <div id=\"df-4e5ab25c-af25-4830-ab21-2b02dcfc7055\">\n",
              "    <div class=\"colab-df-container\">\n",
              "      <div>\n",
              "<style scoped>\n",
              "    .dataframe tbody tr th:only-of-type {\n",
              "        vertical-align: middle;\n",
              "    }\n",
              "\n",
              "    .dataframe tbody tr th {\n",
              "        vertical-align: top;\n",
              "    }\n",
              "\n",
              "    .dataframe thead th {\n",
              "        text-align: right;\n",
              "    }\n",
              "</style>\n",
              "<table border=\"1\" class=\"dataframe\">\n",
              "  <thead>\n",
              "    <tr style=\"text-align: right;\">\n",
              "      <th></th>\n",
              "      <th>session_id</th>\n",
              "    </tr>\n",
              "    <tr>\n",
              "      <th>event_name</th>\n",
              "      <th></th>\n",
              "    </tr>\n",
              "  </thead>\n",
              "  <tbody>\n",
              "    <tr>\n",
              "      <th>tips_show</th>\n",
              "      <td>899</td>\n",
              "    </tr>\n",
              "    <tr>\n",
              "      <th>photos_show</th>\n",
              "      <td>554</td>\n",
              "    </tr>\n",
              "    <tr>\n",
              "      <th>search</th>\n",
              "      <td>378</td>\n",
              "    </tr>\n",
              "    <tr>\n",
              "      <th>contacts_show</th>\n",
              "      <td>125</td>\n",
              "    </tr>\n",
              "    <tr>\n",
              "      <th>map</th>\n",
              "      <td>100</td>\n",
              "    </tr>\n",
              "    <tr>\n",
              "      <th>advert_open</th>\n",
              "      <td>46</td>\n",
              "    </tr>\n",
              "    <tr>\n",
              "      <th>favorites_add</th>\n",
              "      <td>30</td>\n",
              "    </tr>\n",
              "    <tr>\n",
              "      <th>tips_click</th>\n",
              "      <td>10</td>\n",
              "    </tr>\n",
              "    <tr>\n",
              "      <th>contacts_call</th>\n",
              "      <td>1</td>\n",
              "    </tr>\n",
              "  </tbody>\n",
              "</table>\n",
              "</div>\n",
              "      <button class=\"colab-df-convert\" onclick=\"convertToInteractive('df-4e5ab25c-af25-4830-ab21-2b02dcfc7055')\"\n",
              "              title=\"Convert this dataframe to an interactive table.\"\n",
              "              style=\"display:none;\">\n",
              "        \n",
              "  <svg xmlns=\"http://www.w3.org/2000/svg\" height=\"24px\"viewBox=\"0 0 24 24\"\n",
              "       width=\"24px\">\n",
              "    <path d=\"M0 0h24v24H0V0z\" fill=\"none\"/>\n",
              "    <path d=\"M18.56 5.44l.94 2.06.94-2.06 2.06-.94-2.06-.94-.94-2.06-.94 2.06-2.06.94zm-11 1L8.5 8.5l.94-2.06 2.06-.94-2.06-.94L8.5 2.5l-.94 2.06-2.06.94zm10 10l.94 2.06.94-2.06 2.06-.94-2.06-.94-.94-2.06-.94 2.06-2.06.94z\"/><path d=\"M17.41 7.96l-1.37-1.37c-.4-.4-.92-.59-1.43-.59-.52 0-1.04.2-1.43.59L10.3 9.45l-7.72 7.72c-.78.78-.78 2.05 0 2.83L4 21.41c.39.39.9.59 1.41.59.51 0 1.02-.2 1.41-.59l7.78-7.78 2.81-2.81c.8-.78.8-2.07 0-2.86zM5.41 20L4 18.59l7.72-7.72 1.47 1.35L5.41 20z\"/>\n",
              "  </svg>\n",
              "      </button>\n",
              "      \n",
              "  <style>\n",
              "    .colab-df-container {\n",
              "      display:flex;\n",
              "      flex-wrap:wrap;\n",
              "      gap: 12px;\n",
              "    }\n",
              "\n",
              "    .colab-df-convert {\n",
              "      background-color: #E8F0FE;\n",
              "      border: none;\n",
              "      border-radius: 50%;\n",
              "      cursor: pointer;\n",
              "      display: none;\n",
              "      fill: #1967D2;\n",
              "      height: 32px;\n",
              "      padding: 0 0 0 0;\n",
              "      width: 32px;\n",
              "    }\n",
              "\n",
              "    .colab-df-convert:hover {\n",
              "      background-color: #E2EBFA;\n",
              "      box-shadow: 0px 1px 2px rgba(60, 64, 67, 0.3), 0px 1px 3px 1px rgba(60, 64, 67, 0.15);\n",
              "      fill: #174EA6;\n",
              "    }\n",
              "\n",
              "    [theme=dark] .colab-df-convert {\n",
              "      background-color: #3B4455;\n",
              "      fill: #D2E3FC;\n",
              "    }\n",
              "\n",
              "    [theme=dark] .colab-df-convert:hover {\n",
              "      background-color: #434B5C;\n",
              "      box-shadow: 0px 1px 3px 1px rgba(0, 0, 0, 0.15);\n",
              "      filter: drop-shadow(0px 1px 2px rgba(0, 0, 0, 0.3));\n",
              "      fill: #FFFFFF;\n",
              "    }\n",
              "  </style>\n",
              "\n",
              "      <script>\n",
              "        const buttonEl =\n",
              "          document.querySelector('#df-4e5ab25c-af25-4830-ab21-2b02dcfc7055 button.colab-df-convert');\n",
              "        buttonEl.style.display =\n",
              "          google.colab.kernel.accessAllowed ? 'block' : 'none';\n",
              "\n",
              "        async function convertToInteractive(key) {\n",
              "          const element = document.querySelector('#df-4e5ab25c-af25-4830-ab21-2b02dcfc7055');\n",
              "          const dataTable =\n",
              "            await google.colab.kernel.invokeFunction('convertToInteractive',\n",
              "                                                     [key], {});\n",
              "          if (!dataTable) return;\n",
              "\n",
              "          const docLinkHtml = 'Like what you see? Visit the ' +\n",
              "            '<a target=\"_blank\" href=https://colab.research.google.com/notebooks/data_table.ipynb>data table notebook</a>'\n",
              "            + ' to learn more about interactive tables.';\n",
              "          element.innerHTML = '';\n",
              "          dataTable['output_type'] = 'display_data';\n",
              "          await google.colab.output.renderOutput(dataTable, element);\n",
              "          const docLink = document.createElement('div');\n",
              "          docLink.innerHTML = docLinkHtml;\n",
              "          element.appendChild(docLink);\n",
              "        }\n",
              "      </script>\n",
              "    </div>\n",
              "  </div>\n",
              "  "
            ]
          },
          "metadata": {},
          "execution_count": 47
        }
      ],
      "source": [
        "zero_sessions.groupby('event_name').agg({'session_id':'count'}).sort_values(by='session_id', ascending=False)"
      ]
    },
    {
      "cell_type": "code",
      "execution_count": null,
      "metadata": {
        "colab": {
          "base_uri": "https://localhost:8080/"
        },
        "id": "wHBvqVzNFvUe",
        "outputId": "5701592c-a77b-4a76-b544-43dda2c9690e"
      },
      "outputs": [
        {
          "output_type": "execute_result",
          "data": {
            "text/plain": [
              "0.207"
            ]
          },
          "metadata": {},
          "execution_count": 48
        }
      ],
      "source": [
        "# Посмотрим, какую долю от всех сессий составляют нулевые.\n",
        "round(len(zero_sessions) / len(session_times), 3)"
      ]
    },
    {
      "cell_type": "markdown",
      "metadata": {
        "id": "TmRromV6FvUf"
      },
      "source": [
        "В датасете присутствует большое количество нулевых сессий - 20,7% от всех сессий, причем в нулевых сессиях имеются события всех типов. Структура количества событий в нулевых сессия совпадает с общей структурой количества событий. Это выглядит странно, возможно у пользователей происходил какой-то сбой в приложении. \n",
        "\n",
        "Сессии больше 40 минут нетипичны и их можно отнести к выбросам.\n",
        "\n",
        "Медианная продолжительность сессии - 5,58 минут.\n",
        "\n",
        "Средняя продолжительность сессии - 12,88 минут.\n",
        "\n",
        "Такая разница между средним и медианным временем скорее всего произошла из-за наличия выбросов."
      ]
    },
    {
      "cell_type": "markdown",
      "metadata": {
        "id": "qS7rhG_QFvUg"
      },
      "source": [
        " **Общий вывод по исследовательскому анализу данных**\n",
        " \n",
        " По датасету сформированы сессии с таймаутом 30 минут.\n",
        " Медианное количество событий за сессию - 4, обычно пользователи совершают не более 17 событий за сессию.\n",
        " \n",
        " Удержание, ожидаемо, лучше среди пользователей, просмотревших контакты. К 6-му дню у этой категории пользователей удержание достигает 9,08%, среди непросмотревших контакты - 5,01%. При этом у просмотревших контакты резко падает удержание пользователей, привлеченных с 16 по 24 октября.\n",
        " \n",
        " Общая конверсия составляет 22,9%. При рассмотрении динамики конверсии по датам привлечения заметно ее резкоепадение с 13 по 15 октября.\n",
        " \n",
        " Самое частое событие - показ рекомендованных объявлений, но пользователи довольно редко кликают по ним. Меньше всего событий совершаетсяв пятницу и субботу, скорее всего пользователи предпочитают отдыхать в выходные. В понедельник количество событий резко возрастает и плавно снижается к концу недели.\n",
        " \n",
        " Медианное время в приложении - 5,58 минут, пользователи редко проводят в приложении более 42 минут. Также имеется большое количество нулевых сессий, которые содержат все имеющиеся типы действий.\n",
        " \n",
        " Принимая во внимание снижение удержания пользователей, привлеченных в определенные даты и странные нулевые сессии, можно предположить какой-то сбой приложении."
      ]
    },
    {
      "cell_type": "markdown",
      "metadata": {
        "id": "ZSM1YOZDFvUg"
      },
      "source": [
        "## Сегментация"
      ]
    },
    {
      "cell_type": "markdown",
      "metadata": {
        "id": "H3RKSJ5-FvUg"
      },
      "source": [
        "Я считаю, что имеет смысл сегментировать пользователей по источнику.\n",
        "При таком подходе можно посмотреть, сколько всего пользователей приходит в приложении из конкретного источника. Это поможет понять, приходит больше пользователей, совершающих целевое действие - просмотр контактов.\n",
        "А также можно определить, где и какая реклама приложения лучше работает, скорректировать ее или оптимизировать рекламные расходы.\n"
      ]
    },
    {
      "cell_type": "code",
      "execution_count": null,
      "metadata": {
        "colab": {
          "base_uri": "https://localhost:8080/",
          "height": 175
        },
        "id": "faFVYM-tFvUh",
        "outputId": "057d93d2-2d75-4b68-d733-64c7512bbb98"
      },
      "outputs": [
        {
          "output_type": "execute_result",
          "data": {
            "text/plain": [
              "        user_id\n",
              "source         \n",
              "google     1129\n",
              "other      1230\n",
              "yandex     1934"
            ],
            "text/html": [
              "\n",
              "  <div id=\"df-4fff92e3-9b3d-49b1-8403-5b62a688e4a4\">\n",
              "    <div class=\"colab-df-container\">\n",
              "      <div>\n",
              "<style scoped>\n",
              "    .dataframe tbody tr th:only-of-type {\n",
              "        vertical-align: middle;\n",
              "    }\n",
              "\n",
              "    .dataframe tbody tr th {\n",
              "        vertical-align: top;\n",
              "    }\n",
              "\n",
              "    .dataframe thead th {\n",
              "        text-align: right;\n",
              "    }\n",
              "</style>\n",
              "<table border=\"1\" class=\"dataframe\">\n",
              "  <thead>\n",
              "    <tr style=\"text-align: right;\">\n",
              "      <th></th>\n",
              "      <th>user_id</th>\n",
              "    </tr>\n",
              "    <tr>\n",
              "      <th>source</th>\n",
              "      <th></th>\n",
              "    </tr>\n",
              "  </thead>\n",
              "  <tbody>\n",
              "    <tr>\n",
              "      <th>google</th>\n",
              "      <td>1129</td>\n",
              "    </tr>\n",
              "    <tr>\n",
              "      <th>other</th>\n",
              "      <td>1230</td>\n",
              "    </tr>\n",
              "    <tr>\n",
              "      <th>yandex</th>\n",
              "      <td>1934</td>\n",
              "    </tr>\n",
              "  </tbody>\n",
              "</table>\n",
              "</div>\n",
              "      <button class=\"colab-df-convert\" onclick=\"convertToInteractive('df-4fff92e3-9b3d-49b1-8403-5b62a688e4a4')\"\n",
              "              title=\"Convert this dataframe to an interactive table.\"\n",
              "              style=\"display:none;\">\n",
              "        \n",
              "  <svg xmlns=\"http://www.w3.org/2000/svg\" height=\"24px\"viewBox=\"0 0 24 24\"\n",
              "       width=\"24px\">\n",
              "    <path d=\"M0 0h24v24H0V0z\" fill=\"none\"/>\n",
              "    <path d=\"M18.56 5.44l.94 2.06.94-2.06 2.06-.94-2.06-.94-.94-2.06-.94 2.06-2.06.94zm-11 1L8.5 8.5l.94-2.06 2.06-.94-2.06-.94L8.5 2.5l-.94 2.06-2.06.94zm10 10l.94 2.06.94-2.06 2.06-.94-2.06-.94-.94-2.06-.94 2.06-2.06.94z\"/><path d=\"M17.41 7.96l-1.37-1.37c-.4-.4-.92-.59-1.43-.59-.52 0-1.04.2-1.43.59L10.3 9.45l-7.72 7.72c-.78.78-.78 2.05 0 2.83L4 21.41c.39.39.9.59 1.41.59.51 0 1.02-.2 1.41-.59l7.78-7.78 2.81-2.81c.8-.78.8-2.07 0-2.86zM5.41 20L4 18.59l7.72-7.72 1.47 1.35L5.41 20z\"/>\n",
              "  </svg>\n",
              "      </button>\n",
              "      \n",
              "  <style>\n",
              "    .colab-df-container {\n",
              "      display:flex;\n",
              "      flex-wrap:wrap;\n",
              "      gap: 12px;\n",
              "    }\n",
              "\n",
              "    .colab-df-convert {\n",
              "      background-color: #E8F0FE;\n",
              "      border: none;\n",
              "      border-radius: 50%;\n",
              "      cursor: pointer;\n",
              "      display: none;\n",
              "      fill: #1967D2;\n",
              "      height: 32px;\n",
              "      padding: 0 0 0 0;\n",
              "      width: 32px;\n",
              "    }\n",
              "\n",
              "    .colab-df-convert:hover {\n",
              "      background-color: #E2EBFA;\n",
              "      box-shadow: 0px 1px 2px rgba(60, 64, 67, 0.3), 0px 1px 3px 1px rgba(60, 64, 67, 0.15);\n",
              "      fill: #174EA6;\n",
              "    }\n",
              "\n",
              "    [theme=dark] .colab-df-convert {\n",
              "      background-color: #3B4455;\n",
              "      fill: #D2E3FC;\n",
              "    }\n",
              "\n",
              "    [theme=dark] .colab-df-convert:hover {\n",
              "      background-color: #434B5C;\n",
              "      box-shadow: 0px 1px 3px 1px rgba(0, 0, 0, 0.15);\n",
              "      filter: drop-shadow(0px 1px 2px rgba(0, 0, 0, 0.3));\n",
              "      fill: #FFFFFF;\n",
              "    }\n",
              "  </style>\n",
              "\n",
              "      <script>\n",
              "        const buttonEl =\n",
              "          document.querySelector('#df-4fff92e3-9b3d-49b1-8403-5b62a688e4a4 button.colab-df-convert');\n",
              "        buttonEl.style.display =\n",
              "          google.colab.kernel.accessAllowed ? 'block' : 'none';\n",
              "\n",
              "        async function convertToInteractive(key) {\n",
              "          const element = document.querySelector('#df-4fff92e3-9b3d-49b1-8403-5b62a688e4a4');\n",
              "          const dataTable =\n",
              "            await google.colab.kernel.invokeFunction('convertToInteractive',\n",
              "                                                     [key], {});\n",
              "          if (!dataTable) return;\n",
              "\n",
              "          const docLinkHtml = 'Like what you see? Visit the ' +\n",
              "            '<a target=\"_blank\" href=https://colab.research.google.com/notebooks/data_table.ipynb>data table notebook</a>'\n",
              "            + ' to learn more about interactive tables.';\n",
              "          element.innerHTML = '';\n",
              "          dataTable['output_type'] = 'display_data';\n",
              "          await google.colab.output.renderOutput(dataTable, element);\n",
              "          const docLink = document.createElement('div');\n",
              "          docLink.innerHTML = docLinkHtml;\n",
              "          element.appendChild(docLink);\n",
              "        }\n",
              "      </script>\n",
              "    </div>\n",
              "  </div>\n",
              "  "
            ]
          },
          "metadata": {},
          "execution_count": 49
        }
      ],
      "source": [
        "data.groupby('source').agg({'user_id':'nunique'})"
      ]
    },
    {
      "cell_type": "markdown",
      "metadata": {
        "id": "De2XywNUFvUh"
      },
      "source": [
        "## Ответы на вопросы пользователей"
      ]
    },
    {
      "cell_type": "markdown",
      "metadata": {
        "id": "hsF9fmTCFvUh"
      },
      "source": [
        "### Retention Rate по сегментам"
      ]
    },
    {
      "cell_type": "code",
      "execution_count": null,
      "metadata": {
        "colab": {
          "base_uri": "https://localhost:8080/",
          "height": 729
        },
        "id": "sBAvLWHiFvUh",
        "outputId": "8edb45ea-29ca-4ca5-e412-bb220fc0f028"
      },
      "outputs": [
        {
          "output_type": "display_data",
          "data": {
            "text/plain": [
              "<Figure size 1080x720 with 4 Axes>"
            ],
            "image/png": "[encoded data removed]"
          },
          "metadata": {
            "needs_background": "light"
          }
        }
      ],
      "source": [
        "# Посмотрим на удержание пользователей по источникам.\n",
        "observation_date = datetime(2019, 11, 3).date()\n",
        "analysis_horizon = 6\n",
        "dimensions = ['source']\n",
        "retention_raw, retention, retention_history = get_retention(profiles, data, observation_date,\n",
        "                                                            analysis_horizon, dimensions=dimensions)\n",
        "\n",
        "plot_retention(retention, retention_history, analysis_horizon, window=6)"
      ]
    },
    {
      "cell_type": "markdown",
      "metadata": {
        "id": "iZ8Q681FFvUh"
      },
      "source": [
        "Для просмотревших контакты лучше всего удерживаются пользователи из источника \"Другие\", источники Google и Yandex примерно на одном уровне, но после 3-го лайфтайма удержание источника Google выглядит лучше. Динамика показывает резкое падение удержания пользователей из источника \"Другие\" привлеченных с 14 по 24 октября и из источника Yandex с 20 октября. \n",
        "\n",
        "Для пользователей, непросмотревших контакты, удержание стабильно для всех источников. На графике динамики самое высокое удержание показывают пользователи, привлеченные из источника \"Другие\"."
      ]
    },
    {
      "cell_type": "markdown",
      "metadata": {
        "id": "Z8YDOkq2FvUi"
      },
      "source": [
        "### Конверсия по сегментам"
      ]
    },
    {
      "cell_type": "code",
      "execution_count": null,
      "metadata": {
        "colab": {
          "base_uri": "https://localhost:8080/",
          "height": 369
        },
        "id": "Xm63a3jrFvUi",
        "outputId": "c3416fea-72ac-46e7-e03c-81ce6d4e41a3"
      },
      "outputs": [
        {
          "output_type": "display_data",
          "data": {
            "text/plain": [
              "<Figure size 1080x360 with 2 Axes>"
            ],
            "image/png": "[encoded data removed]"
          },
          "metadata": {
            "needs_background": "light"
          }
        }
      ],
      "source": [
        "# Посмотрим конверсию в разрезе источников.\n",
        "dimensions = ['source']\n",
        "conversion_raw, conversion, conversion_history = get_conversion(profiles, contacts_shows, \n",
        "                                                                observation_date, analysis_horizon, dimensions=dimensions)\n",
        "plot_conversion(conversion, conversion_history, analysis_horizon, window=7)"
      ]
    },
    {
      "cell_type": "code",
      "execution_count": null,
      "metadata": {
        "colab": {
          "base_uri": "https://localhost:8080/"
        },
        "id": "bJvAOmOpFvUi",
        "outputId": "e5e5f4ec-f180-4d01-e927-627603cf9fc8"
      },
      "outputs": [
        {
          "output_type": "stream",
          "name": "stdout",
          "text": [
            "Общая конверсия по источнику Google 0.244\n",
            "Общая конверсия по источнику Yandex 0.247\n",
            "Общая конверсия по источнику \"Другие\" 0.185\n"
          ]
        }
      ],
      "source": [
        "print('Общая конверсия по источнику Google', round(len(profiles.query('is_contacts_show == True & source == \"google\"')) \n",
        "                               / len(profiles.query('source == \"google\"')), 3))\n",
        "print('Общая конверсия по источнику Yandex', round(len(profiles.query('is_contacts_show == True & source == \"yandex\"')) \n",
        "                               / len(profiles.query('source == \"yandex\"')), 3))\n",
        "print('Общая конверсия по источнику \"Другие\"', round(len(profiles.query('is_contacts_show == True & source == \"other\"')) \n",
        "                               / len(profiles.query('source == \"other\"')), 3))"
      ]
    },
    {
      "cell_type": "markdown",
      "metadata": {
        "id": "6sO2wrhrFvUi"
      },
      "source": [
        "Конверсия из источников Google и Yandex примерно на одном уровне и значительно выше конверсии источника \"Другие\".\n",
        "В динамике видно, что конверсия  из источника Google резко растет для пользователей, привлеченных после 18 октября."
      ]
    },
    {
      "cell_type": "markdown",
      "metadata": {
        "id": "VGQgqCEhFvUj"
      },
      "source": [
        "### События по сегментам"
      ]
    },
    {
      "cell_type": "code",
      "execution_count": null,
      "metadata": {
        "id": "2PR4Ik0zFvUj"
      },
      "outputs": [],
      "source": [
        "events_seg = (data\n",
        "          .groupby(['source','event_name'])\n",
        "          .agg({'event_time':'count'})\n",
        "          .sort_values(by='event_time', ascending=False)\n",
        "          .reset_index())"
      ]
    },
    {
      "cell_type": "code",
      "execution_count": null,
      "metadata": {
        "colab": {
          "base_uri": "https://localhost:8080/",
          "height": 542
        },
        "id": "mbn2SdnrFvUj",
        "outputId": "6c731e43-e515-4c3b-cb06-76e4374c86fd"
      },
      "outputs": [
        {
          "output_type": "display_data",
          "data": {
            "text/html": [
              "<html>\n",
              "<head><meta charset=\"utf-8\" /></head>\n",
              "<body>\n",
              "    <div>            <script src=\"https://cdnjs.cloudflare.com/ajax/libs/mathjax/2.7.5/MathJax.js?config=TeX-AMS-MML_SVG\"></script><script type=\"text/javascript\">if (window.MathJax) {MathJax.Hub.Config({SVG: {font: \"STIX-Web\"}});}</script>                <script type=\"text/javascript\">window.PlotlyConfig = {MathJaxConfig: 'local'};</script>\n",
              "        <script src=\"https://cdn.plot.ly/plotly-2.8.3.min.js\"></script>                <div id=\"a75f458e-b4ab-4d4f-95af-8b1580ac792f\" class=\"plotly-graph-div\" style=\"height:525px; width:100%;\"></div>            <script type=\"text/javascript\">                                    window.PLOTLYENV=window.PLOTLYENV || {};                                    if (document.getElementById(\"a75f458e-b4ab-4d4f-95af-8b1580ac792f\")) {                    Plotly.newPlot(                        \"a75f458e-b4ab-4d4f-95af-8b1580ac792f\",                        [{\"alignmentgroup\":\"True\",\"hovertemplate\":\"source=yandex<br>event_name=%{x}<br>event_time=%{y}<extra></extra>\",\"legendgroup\":\"yandex\",\"marker\":{\"color\":\"#636efa\",\"pattern\":{\"shape\":\"\"}},\"name\":\"yandex\",\"offsetgroup\":\"yandex\",\"orientation\":\"v\",\"showlegend\":true,\"textposition\":\"auto\",\"x\":[\"tips_show\",\"photos_show\",\"search\",\"advert_open\",\"contacts_show\",\"map\",\"favorites_add\",\"tips_click\",\"contacts_call\"],\"xaxis\":\"x\",\"y\":[19871,3476,2652,2613,1979,1881,742,393,224],\"yaxis\":\"y\",\"type\":\"bar\"},{\"alignmentgroup\":\"True\",\"hovertemplate\":\"source=other<br>event_name=%{x}<br>event_time=%{y}<extra></extra>\",\"legendgroup\":\"other\",\"marker\":{\"color\":\"#EF553B\",\"pattern\":{\"shape\":\"\"}},\"name\":\"other\",\"offsetgroup\":\"other\",\"orientation\":\"v\",\"showlegend\":true,\"textposition\":\"auto\",\"x\":[\"tips_show\",\"photos_show\",\"search\",\"advert_open\",\"contacts_show\",\"map\",\"favorites_add\",\"tips_click\",\"contacts_call\"],\"xaxis\":\"x\",\"y\":[10077,2583,1918,1913,1007,886,259,228,152],\"yaxis\":\"y\",\"type\":\"bar\"},{\"alignmentgroup\":\"True\",\"hovertemplate\":\"source=google<br>event_name=%{x}<br>event_time=%{y}<extra></extra>\",\"legendgroup\":\"google\",\"marker\":{\"color\":\"#00cc96\",\"pattern\":{\"shape\":\"\"}},\"name\":\"google\",\"offsetgroup\":\"google\",\"orientation\":\"v\",\"showlegend\":true,\"textposition\":\"auto\",\"x\":[\"tips_show\",\"photos_show\",\"search\",\"advert_open\",\"contacts_show\",\"map\",\"favorites_add\",\"tips_click\",\"contacts_call\"],\"xaxis\":\"x\",\"y\":[9944,3313,2124,1619,1395,993,413,190,162],\"yaxis\":\"y\",\"type\":\"bar\"}],                        {\"template\":{\"data\":{\"bar\":[{\"error_x\":{\"color\":\"#2a3f5f\"},\"error_y\":{\"color\":\"#2a3f5f\"},\"marker\":{\"line\":{\"color\":\"#E5ECF6\",\"width\":0.5},\"pattern\":{\"fillmode\":\"overlay\",\"size\":10,\"solidity\":0.2}},\"type\":\"bar\"}],\"barpolar\":[{\"marker\":{\"line\":{\"color\":\"#E5ECF6\",\"width\":0.5},\"pattern\":{\"fillmode\":\"overlay\",\"size\":10,\"solidity\":0.2}},\"type\":\"barpolar\"}],\"carpet\":[{\"aaxis\":{\"endlinecolor\":\"#2a3f5f\",\"gridcolor\":\"white\",\"linecolor\":\"white\",\"minorgridcolor\":\"white\",\"startlinecolor\":\"#2a3f5f\"},\"baxis\":{\"endlinecolor\":\"#2a3f5f\",\"gridcolor\":\"white\",\"linecolor\":\"white\",\"minorgridcolor\":\"white\",\"startlinecolor\":\"#2a3f5f\"},\"type\":\"carpet\"}],\"choropleth\":[{\"colorbar\":{\"outlinewidth\":0,\"ticks\":\"\"},\"type\":\"choropleth\"}],\"contour\":[{\"colorbar\":{\"outlinewidth\":0,\"ticks\":\"\"},\"colorscale\":[[0.0,\"#0d0887\"],[0.1111111111111111,\"#46039f\"],[0.2222222222222222,\"#7201a8\"],[0.3333333333333333,\"#9c179e\"],[0.4444444444444444,\"#bd3786\"],[0.5555555555555556,\"#d8576b\"],[0.6666666666666666,\"#ed7953\"],[0.7777777777777778,\"#fb9f3a\"],[0.8888888888888888,\"#fdca26\"],[1.0,\"#f0f921\"]],\"type\":\"contour\"}],\"contourcarpet\":[{\"colorbar\":{\"outlinewidth\":0,\"ticks\":\"\"},\"type\":\"contourcarpet\"}],\"heatmap\":[{\"colorbar\":{\"outlinewidth\":0,\"ticks\":\"\"},\"colorscale\":[[0.0,\"#0d0887\"],[0.1111111111111111,\"#46039f\"],[0.2222222222222222,\"#7201a8\"],[0.3333333333333333,\"#9c179e\"],[0.4444444444444444,\"#bd3786\"],[0.5555555555555556,\"#d8576b\"],[0.6666666666666666,\"#ed7953\"],[0.7777777777777778,\"#fb9f3a\"],[0.8888888888888888,\"#fdca26\"],[1.0,\"#f0f921\"]],\"type\":\"heatmap\"}],\"heatmapgl\":[{\"colorbar\":{\"outlinewidth\":0,\"ticks\":\"\"},\"colorscale\":[[0.0,\"#0d0887\"],[0.1111111111111111,\"#46039f\"],[0.2222222222222222,\"#7201a8\"],[0.3333333333333333,\"#9c179e\"],[0.4444444444444444,\"#bd3786\"],[0.5555555555555556,\"#d8576b\"],[0.6666666666666666,\"#ed7953\"],[0.7777777777777778,\"#fb9f3a\"],[0.8888888888888888,\"#fdca26\"],[1.0,\"#f0f921\"]],\"type\":\"heatmapgl\"}],\"histogram\":[{\"marker\":{\"pattern\":{\"fillmode\":\"overlay\",\"size\":10,\"solidity\":0.2}},\"type\":\"histogram\"}],\"histogram2d\":[{\"colorbar\":{\"outlinewidth\":0,\"ticks\":\"\"},\"colorscale\":[[0.0,\"#0d0887\"],[0.1111111111111111,\"#46039f\"],[0.2222222222222222,\"#7201a8\"],[0.3333333333333333,\"#9c179e\"],[0.4444444444444444,\"#bd3786\"],[0.5555555555555556,\"#d8576b\"],[0.6666666666666666,\"#ed7953\"],[0.7777777777777778,\"#fb9f3a\"],[0.8888888888888888,\"#fdca26\"],[1.0,\"#f0f921\"]],\"type\":\"histogram2d\"}],\"histogram2dcontour\":[{\"colorbar\":{\"outlinewidth\":0,\"ticks\":\"\"},\"colorscale\":[[0.0,\"#0d0887\"],[0.1111111111111111,\"#46039f\"],[0.2222222222222222,\"#7201a8\"],[0.3333333333333333,\"#9c179e\"],[0.4444444444444444,\"#bd3786\"],[0.5555555555555556,\"#d8576b\"],[0.6666666666666666,\"#ed7953\"],[0.7777777777777778,\"#fb9f3a\"],[0.8888888888888888,\"#fdca26\"],[1.0,\"#f0f921\"]],\"type\":\"histogram2dcontour\"}],\"mesh3d\":[{\"colorbar\":{\"outlinewidth\":0,\"ticks\":\"\"},\"type\":\"mesh3d\"}],\"parcoords\":[{\"line\":{\"colorbar\":{\"outlinewidth\":0,\"ticks\":\"\"}},\"type\":\"parcoords\"}],\"pie\":[{\"automargin\":true,\"type\":\"pie\"}],\"scatter\":[{\"marker\":{\"colorbar\":{\"outlinewidth\":0,\"ticks\":\"\"}},\"type\":\"scatter\"}],\"scatter3d\":[{\"line\":{\"colorbar\":{\"outlinewidth\":0,\"ticks\":\"\"}},\"marker\":{\"colorbar\":{\"outlinewidth\":0,\"ticks\":\"\"}},\"type\":\"scatter3d\"}],\"scattercarpet\":[{\"marker\":{\"colorbar\":{\"outlinewidth\":0,\"ticks\":\"\"}},\"type\":\"scattercarpet\"}],\"scattergeo\":[{\"marker\":{\"colorbar\":{\"outlinewidth\":0,\"ticks\":\"\"}},\"type\":\"scattergeo\"}],\"scattergl\":[{\"marker\":{\"colorbar\":{\"outlinewidth\":0,\"ticks\":\"\"}},\"type\":\"scattergl\"}],\"scattermapbox\":[{\"marker\":{\"colorbar\":{\"outlinewidth\":0,\"ticks\":\"\"}},\"type\":\"scattermapbox\"}],\"scatterpolar\":[{\"marker\":{\"colorbar\":{\"outlinewidth\":0,\"ticks\":\"\"}},\"type\":\"scatterpolar\"}],\"scatterpolargl\":[{\"marker\":{\"colorbar\":{\"outlinewidth\":0,\"ticks\":\"\"}},\"type\":\"scatterpolargl\"}],\"scatterternary\":[{\"marker\":{\"colorbar\":{\"outlinewidth\":0,\"ticks\":\"\"}},\"type\":\"scatterternary\"}],\"surface\":[{\"colorbar\":{\"outlinewidth\":0,\"ticks\":\"\"},\"colorscale\":[[0.0,\"#0d0887\"],[0.1111111111111111,\"#46039f\"],[0.2222222222222222,\"#7201a8\"],[0.3333333333333333,\"#9c179e\"],[0.4444444444444444,\"#bd3786\"],[0.5555555555555556,\"#d8576b\"],[0.6666666666666666,\"#ed7953\"],[0.7777777777777778,\"#fb9f3a\"],[0.8888888888888888,\"#fdca26\"],[1.0,\"#f0f921\"]],\"type\":\"surface\"}],\"table\":[{\"cells\":{\"fill\":{\"color\":\"#EBF0F8\"},\"line\":{\"color\":\"white\"}},\"header\":{\"fill\":{\"color\":\"#C8D4E3\"},\"line\":{\"color\":\"white\"}},\"type\":\"table\"}]},\"layout\":{\"annotationdefaults\":{\"arrowcolor\":\"#2a3f5f\",\"arrowhead\":0,\"arrowwidth\":1},\"autotypenumbers\":\"strict\",\"coloraxis\":{\"colorbar\":{\"outlinewidth\":0,\"ticks\":\"\"}},\"colorscale\":{\"diverging\":[[0,\"#8e0152\"],[0.1,\"#c51b7d\"],[0.2,\"#de77ae\"],[0.3,\"#f1b6da\"],[0.4,\"#fde0ef\"],[0.5,\"#f7f7f7\"],[0.6,\"#e6f5d0\"],[0.7,\"#b8e186\"],[0.8,\"#7fbc41\"],[0.9,\"#4d9221\"],[1,\"#276419\"]],\"sequential\":[[0.0,\"#0d0887\"],[0.1111111111111111,\"#46039f\"],[0.2222222222222222,\"#7201a8\"],[0.3333333333333333,\"#9c179e\"],[0.4444444444444444,\"#bd3786\"],[0.5555555555555556,\"#d8576b\"],[0.6666666666666666,\"#ed7953\"],[0.7777777777777778,\"#fb9f3a\"],[0.8888888888888888,\"#fdca26\"],[1.0,\"#f0f921\"]],\"sequentialminus\":[[0.0,\"#0d0887\"],[0.1111111111111111,\"#46039f\"],[0.2222222222222222,\"#7201a8\"],[0.3333333333333333,\"#9c179e\"],[0.4444444444444444,\"#bd3786\"],[0.5555555555555556,\"#d8576b\"],[0.6666666666666666,\"#ed7953\"],[0.7777777777777778,\"#fb9f3a\"],[0.8888888888888888,\"#fdca26\"],[1.0,\"#f0f921\"]]},\"colorway\":[\"#636efa\",\"#EF553B\",\"#00cc96\",\"#ab63fa\",\"#FFA15A\",\"#19d3f3\",\"#FF6692\",\"#B6E880\",\"#FF97FF\",\"#FECB52\"],\"font\":{\"color\":\"#2a3f5f\"},\"geo\":{\"bgcolor\":\"white\",\"lakecolor\":\"white\",\"landcolor\":\"#E5ECF6\",\"showlakes\":true,\"showland\":true,\"subunitcolor\":\"white\"},\"hoverlabel\":{\"align\":\"left\"},\"hovermode\":\"closest\",\"mapbox\":{\"style\":\"light\"},\"paper_bgcolor\":\"white\",\"plot_bgcolor\":\"#E5ECF6\",\"polar\":{\"angularaxis\":{\"gridcolor\":\"white\",\"linecolor\":\"white\",\"ticks\":\"\"},\"bgcolor\":\"#E5ECF6\",\"radialaxis\":{\"gridcolor\":\"white\",\"linecolor\":\"white\",\"ticks\":\"\"}},\"scene\":{\"xaxis\":{\"backgroundcolor\":\"#E5ECF6\",\"gridcolor\":\"white\",\"gridwidth\":2,\"linecolor\":\"white\",\"showbackground\":true,\"ticks\":\"\",\"zerolinecolor\":\"white\"},\"yaxis\":{\"backgroundcolor\":\"#E5ECF6\",\"gridcolor\":\"white\",\"gridwidth\":2,\"linecolor\":\"white\",\"showbackground\":true,\"ticks\":\"\",\"zerolinecolor\":\"white\"},\"zaxis\":{\"backgroundcolor\":\"#E5ECF6\",\"gridcolor\":\"white\",\"gridwidth\":2,\"linecolor\":\"white\",\"showbackground\":true,\"ticks\":\"\",\"zerolinecolor\":\"white\"}},\"shapedefaults\":{\"line\":{\"color\":\"#2a3f5f\"}},\"ternary\":{\"aaxis\":{\"gridcolor\":\"white\",\"linecolor\":\"white\",\"ticks\":\"\"},\"baxis\":{\"gridcolor\":\"white\",\"linecolor\":\"white\",\"ticks\":\"\"},\"bgcolor\":\"#E5ECF6\",\"caxis\":{\"gridcolor\":\"white\",\"linecolor\":\"white\",\"ticks\":\"\"}},\"title\":{\"x\":0.05},\"xaxis\":{\"automargin\":true,\"gridcolor\":\"white\",\"linecolor\":\"white\",\"ticks\":\"\",\"title\":{\"standoff\":15},\"zerolinecolor\":\"white\",\"zerolinewidth\":2},\"yaxis\":{\"automargin\":true,\"gridcolor\":\"white\",\"linecolor\":\"white\",\"ticks\":\"\",\"title\":{\"standoff\":15},\"zerolinecolor\":\"white\",\"zerolinewidth\":2}}},\"xaxis\":{\"anchor\":\"y\",\"domain\":[0.0,1.0],\"title\":{\"text\":\"\\u041d\\u0430\\u0437\\u0432\\u0430\\u043d\\u0438\\u0435 \\u0441\\u043e\\u0431\\u044b\\u0442\\u0438\\u044f\"}},\"yaxis\":{\"anchor\":\"x\",\"domain\":[0.0,1.0],\"title\":{\"text\":\"\\u041a\\u043e\\u043b\\u0438\\u0447\\u0435\\u0441\\u0442\\u0432\\u043e \\u0441\\u043e\\u0431\\u044b\\u0442\\u0438\\u0439\"}},\"legend\":{\"title\":{\"text\":\"source\"},\"tracegroupgap\":0},\"margin\":{\"t\":60},\"barmode\":\"relative\",\"title\":{\"font\":{\"size\":20},\"text\":\"\\u041a\\u043e\\u043b\\u0438\\u0447\\u0435\\u0441\\u0442\\u0432\\u043e \\u0441\\u043e\\u0431\\u044b\\u0442\\u0438\\u0439 \\u043f\\u043e \\u0441\\u0435\\u0433\\u043c\\u0435\\u043d\\u0442\\u0430\\u043c\",\"x\":0.45}},                        {\"responsive\": true}                    ).then(function(){\n",
              "                            \n",
              "var gd = document.getElementById('a75f458e-b4ab-4d4f-95af-8b1580ac792f');\n",
              "var x = new MutationObserver(function (mutations, observer) {{\n",
              "        var display = window.getComputedStyle(gd).display;\n",
              "        if (!display || display === 'none') {{\n",
              "            console.log([gd, 'removed!']);\n",
              "            Plotly.purge(gd);\n",
              "            observer.disconnect();\n",
              "        }}\n",
              "}});\n",
              "\n",
              "// Listen for the removal of the full notebook cells\n",
              "var notebookContainer = gd.closest('#notebook-container');\n",
              "if (notebookContainer) {{\n",
              "    x.observe(notebookContainer, {childList: true});\n",
              "}}\n",
              "\n",
              "// Listen for the clearing of the current output cell\n",
              "var outputEl = gd.closest('.output');\n",
              "if (outputEl) {{\n",
              "    x.observe(outputEl, {childList: true});\n",
              "}}\n",
              "\n",
              "                        })                };                            </script>        </div>\n",
              "</body>\n",
              "</html>"
            ]
          },
          "metadata": {}
        }
      ],
      "source": [
        "fig = px.bar(events_seg, x='event_name', y='event_time', color='source')\n",
        "fig.update_layout(title=dict(text='Количество событий по сегментам',font=dict(size=20), x=0.45),\n",
        "                  xaxis_title='Название события',\n",
        "                  yaxis_title='Количество событий')\n",
        "fig.show()"
      ]
    },
    {
      "cell_type": "code",
      "execution_count": null,
      "metadata": {
        "id": "pYCJEq7hFvUj"
      },
      "outputs": [],
      "source": [
        "events_by_dt_seg = (data\n",
        "                   .groupby(['source', 'event_dt'])\n",
        "                   .agg({'event_time':'count'})\n",
        "                   .sort_values(by='event_time', ascending=False)\n",
        "                   .reset_index())"
      ]
    },
    {
      "cell_type": "code",
      "execution_count": null,
      "metadata": {
        "colab": {
          "base_uri": "https://localhost:8080/",
          "height": 542
        },
        "id": "lc64uzjNFvUj",
        "outputId": "555f0b94-6d39-4c6c-c4c9-093c247be912"
      },
      "outputs": [
        {
          "output_type": "display_data",
          "data": {
            "text/html": [
              "<html>\n",
              "<head><meta charset=\"utf-8\" /></head>\n",
              "<body>\n",
              "    <div>            <script src=\"https://cdnjs.cloudflare.com/ajax/libs/mathjax/2.7.5/MathJax.js?config=TeX-AMS-MML_SVG\"></script><script type=\"text/javascript\">if (window.MathJax) {MathJax.Hub.Config({SVG: {font: \"STIX-Web\"}});}</script>                <script type=\"text/javascript\">window.PlotlyConfig = {MathJaxConfig: 'local'};</script>\n",
              "        <script src=\"https://cdn.plot.ly/plotly-2.8.3.min.js\"></script>                <div id=\"d2345665-ae4f-43ee-86be-e704e12673ce\" class=\"plotly-graph-div\" style=\"height:525px; width:100%;\"></div>            <script type=\"text/javascript\">                                    window.PLOTLYENV=window.PLOTLYENV || {};                                    if (document.getElementById(\"d2345665-ae4f-43ee-86be-e704e12673ce\")) {                    Plotly.newPlot(                        \"d2345665-ae4f-43ee-86be-e704e12673ce\",                        [{\"alignmentgroup\":\"True\",\"hovertemplate\":\"source=yandex<br>event_dt=%{x}<br>event_time=%{y}<extra></extra>\",\"legendgroup\":\"yandex\",\"marker\":{\"color\":\"#636efa\",\"pattern\":{\"shape\":\"\"}},\"name\":\"yandex\",\"offsetgroup\":\"yandex\",\"orientation\":\"v\",\"showlegend\":true,\"textposition\":\"auto\",\"x\":[\"2019-10-14\",\"2019-10-24\",\"2019-10-26\",\"2019-10-23\",\"2019-11-03\",\"2019-10-13\",\"2019-10-18\",\"2019-10-25\",\"2019-10-08\",\"2019-10-29\",\"2019-10-28\",\"2019-10-15\",\"2019-10-21\",\"2019-10-30\",\"2019-10-27\",\"2019-10-07\",\"2019-10-31\",\"2019-11-01\",\"2019-10-17\",\"2019-10-20\",\"2019-10-22\",\"2019-10-12\",\"2019-10-16\",\"2019-10-10\",\"2019-10-09\",\"2019-10-11\",\"2019-10-19\",\"2019-11-02\"],\"xaxis\":\"x\",\"y\":[1568,1446,1421,1405,1385,1380,1364,1357,1356,1325,1320,1295,1291,1290,1237,1232,1227,1088,1063,1052,1045,1033,1032,1023,965,946,923,762],\"yaxis\":\"y\",\"type\":\"bar\"},{\"alignmentgroup\":\"True\",\"hovertemplate\":\"source=google<br>event_dt=%{x}<br>event_time=%{y}<extra></extra>\",\"legendgroup\":\"google\",\"marker\":{\"color\":\"#EF553B\",\"pattern\":{\"shape\":\"\"}},\"name\":\"google\",\"offsetgroup\":\"google\",\"orientation\":\"v\",\"showlegend\":true,\"textposition\":\"auto\",\"x\":[\"2019-10-23\",\"2019-10-22\",\"2019-10-16\",\"2019-10-29\",\"2019-10-26\",\"2019-10-28\",\"2019-10-17\",\"2019-11-03\",\"2019-10-19\",\"2019-10-27\",\"2019-10-24\",\"2019-10-18\",\"2019-10-21\",\"2019-11-01\",\"2019-10-07\",\"2019-10-31\",\"2019-10-14\",\"2019-10-30\",\"2019-10-15\",\"2019-10-09\",\"2019-10-25\",\"2019-10-08\",\"2019-10-13\",\"2019-10-20\",\"2019-10-11\",\"2019-10-10\",\"2019-11-02\",\"2019-10-12\"],\"xaxis\":\"x\",\"y\":[1062,929,920,914,903,897,887,886,872,842,825,775,764,745,701,697,628,624,608,587,581,568,564,554,513,481,454,372],\"yaxis\":\"y\",\"type\":\"bar\"},{\"alignmentgroup\":\"True\",\"hovertemplate\":\"source=other<br>event_dt=%{x}<br>event_time=%{y}<extra></extra>\",\"legendgroup\":\"other\",\"marker\":{\"color\":\"#00cc96\",\"pattern\":{\"shape\":\"\"}},\"name\":\"other\",\"offsetgroup\":\"other\",\"orientation\":\"v\",\"showlegend\":true,\"textposition\":\"auto\",\"x\":[\"2019-10-28\",\"2019-10-30\",\"2019-10-29\",\"2019-10-31\",\"2019-10-14\",\"2019-10-21\",\"2019-10-23\",\"2019-10-15\",\"2019-10-26\",\"2019-10-16\",\"2019-10-22\",\"2019-11-01\",\"2019-10-24\",\"2019-10-10\",\"2019-10-27\",\"2019-10-13\",\"2019-10-25\",\"2019-10-17\",\"2019-11-02\",\"2019-10-07\",\"2019-10-18\",\"2019-11-03\",\"2019-10-08\",\"2019-10-19\",\"2019-10-20\",\"2019-10-11\",\"2019-10-09\",\"2019-10-12\"],\"xaxis\":\"x\",\"y\":[939,919,916,912,808,806,782,767,734,733,724,724,722,714,683,659,643,609,609,583,574,562,538,505,504,489,458,407],\"yaxis\":\"y\",\"type\":\"bar\"}],                        {\"template\":{\"data\":{\"bar\":[{\"error_x\":{\"color\":\"#2a3f5f\"},\"error_y\":{\"color\":\"#2a3f5f\"},\"marker\":{\"line\":{\"color\":\"#E5ECF6\",\"width\":0.5},\"pattern\":{\"fillmode\":\"overlay\",\"size\":10,\"solidity\":0.2}},\"type\":\"bar\"}],\"barpolar\":[{\"marker\":{\"line\":{\"color\":\"#E5ECF6\",\"width\":0.5},\"pattern\":{\"fillmode\":\"overlay\",\"size\":10,\"solidity\":0.2}},\"type\":\"barpolar\"}],\"carpet\":[{\"aaxis\":{\"endlinecolor\":\"#2a3f5f\",\"gridcolor\":\"white\",\"linecolor\":\"white\",\"minorgridcolor\":\"white\",\"startlinecolor\":\"#2a3f5f\"},\"baxis\":{\"endlinecolor\":\"#2a3f5f\",\"gridcolor\":\"white\",\"linecolor\":\"white\",\"minorgridcolor\":\"white\",\"startlinecolor\":\"#2a3f5f\"},\"type\":\"carpet\"}],\"choropleth\":[{\"colorbar\":{\"outlinewidth\":0,\"ticks\":\"\"},\"type\":\"choropleth\"}],\"contour\":[{\"colorbar\":{\"outlinewidth\":0,\"ticks\":\"\"},\"colorscale\":[[0.0,\"#0d0887\"],[0.1111111111111111,\"#46039f\"],[0.2222222222222222,\"#7201a8\"],[0.3333333333333333,\"#9c179e\"],[0.4444444444444444,\"#bd3786\"],[0.5555555555555556,\"#d8576b\"],[0.6666666666666666,\"#ed7953\"],[0.7777777777777778,\"#fb9f3a\"],[0.8888888888888888,\"#fdca26\"],[1.0,\"#f0f921\"]],\"type\":\"contour\"}],\"contourcarpet\":[{\"colorbar\":{\"outlinewidth\":0,\"ticks\":\"\"},\"type\":\"contourcarpet\"}],\"heatmap\":[{\"colorbar\":{\"outlinewidth\":0,\"ticks\":\"\"},\"colorscale\":[[0.0,\"#0d0887\"],[0.1111111111111111,\"#46039f\"],[0.2222222222222222,\"#7201a8\"],[0.3333333333333333,\"#9c179e\"],[0.4444444444444444,\"#bd3786\"],[0.5555555555555556,\"#d8576b\"],[0.6666666666666666,\"#ed7953\"],[0.7777777777777778,\"#fb9f3a\"],[0.8888888888888888,\"#fdca26\"],[1.0,\"#f0f921\"]],\"type\":\"heatmap\"}],\"heatmapgl\":[{\"colorbar\":{\"outlinewidth\":0,\"ticks\":\"\"},\"colorscale\":[[0.0,\"#0d0887\"],[0.1111111111111111,\"#46039f\"],[0.2222222222222222,\"#7201a8\"],[0.3333333333333333,\"#9c179e\"],[0.4444444444444444,\"#bd3786\"],[0.5555555555555556,\"#d8576b\"],[0.6666666666666666,\"#ed7953\"],[0.7777777777777778,\"#fb9f3a\"],[0.8888888888888888,\"#fdca26\"],[1.0,\"#f0f921\"]],\"type\":\"heatmapgl\"}],\"histogram\":[{\"marker\":{\"pattern\":{\"fillmode\":\"overlay\",\"size\":10,\"solidity\":0.2}},\"type\":\"histogram\"}],\"histogram2d\":[{\"colorbar\":{\"outlinewidth\":0,\"ticks\":\"\"},\"colorscale\":[[0.0,\"#0d0887\"],[0.1111111111111111,\"#46039f\"],[0.2222222222222222,\"#7201a8\"],[0.3333333333333333,\"#9c179e\"],[0.4444444444444444,\"#bd3786\"],[0.5555555555555556,\"#d8576b\"],[0.6666666666666666,\"#ed7953\"],[0.7777777777777778,\"#fb9f3a\"],[0.8888888888888888,\"#fdca26\"],[1.0,\"#f0f921\"]],\"type\":\"histogram2d\"}],\"histogram2dcontour\":[{\"colorbar\":{\"outlinewidth\":0,\"ticks\":\"\"},\"colorscale\":[[0.0,\"#0d0887\"],[0.1111111111111111,\"#46039f\"],[0.2222222222222222,\"#7201a8\"],[0.3333333333333333,\"#9c179e\"],[0.4444444444444444,\"#bd3786\"],[0.5555555555555556,\"#d8576b\"],[0.6666666666666666,\"#ed7953\"],[0.7777777777777778,\"#fb9f3a\"],[0.8888888888888888,\"#fdca26\"],[1.0,\"#f0f921\"]],\"type\":\"histogram2dcontour\"}],\"mesh3d\":[{\"colorbar\":{\"outlinewidth\":0,\"ticks\":\"\"},\"type\":\"mesh3d\"}],\"parcoords\":[{\"line\":{\"colorbar\":{\"outlinewidth\":0,\"ticks\":\"\"}},\"type\":\"parcoords\"}],\"pie\":[{\"automargin\":true,\"type\":\"pie\"}],\"scatter\":[{\"marker\":{\"colorbar\":{\"outlinewidth\":0,\"ticks\":\"\"}},\"type\":\"scatter\"}],\"scatter3d\":[{\"line\":{\"colorbar\":{\"outlinewidth\":0,\"ticks\":\"\"}},\"marker\":{\"colorbar\":{\"outlinewidth\":0,\"ticks\":\"\"}},\"type\":\"scatter3d\"}],\"scattercarpet\":[{\"marker\":{\"colorbar\":{\"outlinewidth\":0,\"ticks\":\"\"}},\"type\":\"scattercarpet\"}],\"scattergeo\":[{\"marker\":{\"colorbar\":{\"outlinewidth\":0,\"ticks\":\"\"}},\"type\":\"scattergeo\"}],\"scattergl\":[{\"marker\":{\"colorbar\":{\"outlinewidth\":0,\"ticks\":\"\"}},\"type\":\"scattergl\"}],\"scattermapbox\":[{\"marker\":{\"colorbar\":{\"outlinewidth\":0,\"ticks\":\"\"}},\"type\":\"scattermapbox\"}],\"scatterpolar\":[{\"marker\":{\"colorbar\":{\"outlinewidth\":0,\"ticks\":\"\"}},\"type\":\"scatterpolar\"}],\"scatterpolargl\":[{\"marker\":{\"colorbar\":{\"outlinewidth\":0,\"ticks\":\"\"}},\"type\":\"scatterpolargl\"}],\"scatterternary\":[{\"marker\":{\"colorbar\":{\"outlinewidth\":0,\"ticks\":\"\"}},\"type\":\"scatterternary\"}],\"surface\":[{\"colorbar\":{\"outlinewidth\":0,\"ticks\":\"\"},\"colorscale\":[[0.0,\"#0d0887\"],[0.1111111111111111,\"#46039f\"],[0.2222222222222222,\"#7201a8\"],[0.3333333333333333,\"#9c179e\"],[0.4444444444444444,\"#bd3786\"],[0.5555555555555556,\"#d8576b\"],[0.6666666666666666,\"#ed7953\"],[0.7777777777777778,\"#fb9f3a\"],[0.8888888888888888,\"#fdca26\"],[1.0,\"#f0f921\"]],\"type\":\"surface\"}],\"table\":[{\"cells\":{\"fill\":{\"color\":\"#EBF0F8\"},\"line\":{\"color\":\"white\"}},\"header\":{\"fill\":{\"color\":\"#C8D4E3\"},\"line\":{\"color\":\"white\"}},\"type\":\"table\"}]},\"layout\":{\"annotationdefaults\":{\"arrowcolor\":\"#2a3f5f\",\"arrowhead\":0,\"arrowwidth\":1},\"autotypenumbers\":\"strict\",\"coloraxis\":{\"colorbar\":{\"outlinewidth\":0,\"ticks\":\"\"}},\"colorscale\":{\"diverging\":[[0,\"#8e0152\"],[0.1,\"#c51b7d\"],[0.2,\"#de77ae\"],[0.3,\"#f1b6da\"],[0.4,\"#fde0ef\"],[0.5,\"#f7f7f7\"],[0.6,\"#e6f5d0\"],[0.7,\"#b8e186\"],[0.8,\"#7fbc41\"],[0.9,\"#4d9221\"],[1,\"#276419\"]],\"sequential\":[[0.0,\"#0d0887\"],[0.1111111111111111,\"#46039f\"],[0.2222222222222222,\"#7201a8\"],[0.3333333333333333,\"#9c179e\"],[0.4444444444444444,\"#bd3786\"],[0.5555555555555556,\"#d8576b\"],[0.6666666666666666,\"#ed7953\"],[0.7777777777777778,\"#fb9f3a\"],[0.8888888888888888,\"#fdca26\"],[1.0,\"#f0f921\"]],\"sequentialminus\":[[0.0,\"#0d0887\"],[0.1111111111111111,\"#46039f\"],[0.2222222222222222,\"#7201a8\"],[0.3333333333333333,\"#9c179e\"],[0.4444444444444444,\"#bd3786\"],[0.5555555555555556,\"#d8576b\"],[0.6666666666666666,\"#ed7953\"],[0.7777777777777778,\"#fb9f3a\"],[0.8888888888888888,\"#fdca26\"],[1.0,\"#f0f921\"]]},\"colorway\":[\"#636efa\",\"#EF553B\",\"#00cc96\",\"#ab63fa\",\"#FFA15A\",\"#19d3f3\",\"#FF6692\",\"#B6E880\",\"#FF97FF\",\"#FECB52\"],\"font\":{\"color\":\"#2a3f5f\"},\"geo\":{\"bgcolor\":\"white\",\"lakecolor\":\"white\",\"landcolor\":\"#E5ECF6\",\"showlakes\":true,\"showland\":true,\"subunitcolor\":\"white\"},\"hoverlabel\":{\"align\":\"left\"},\"hovermode\":\"closest\",\"mapbox\":{\"style\":\"light\"},\"paper_bgcolor\":\"white\",\"plot_bgcolor\":\"#E5ECF6\",\"polar\":{\"angularaxis\":{\"gridcolor\":\"white\",\"linecolor\":\"white\",\"ticks\":\"\"},\"bgcolor\":\"#E5ECF6\",\"radialaxis\":{\"gridcolor\":\"white\",\"linecolor\":\"white\",\"ticks\":\"\"}},\"scene\":{\"xaxis\":{\"backgroundcolor\":\"#E5ECF6\",\"gridcolor\":\"white\",\"gridwidth\":2,\"linecolor\":\"white\",\"showbackground\":true,\"ticks\":\"\",\"zerolinecolor\":\"white\"},\"yaxis\":{\"backgroundcolor\":\"#E5ECF6\",\"gridcolor\":\"white\",\"gridwidth\":2,\"linecolor\":\"white\",\"showbackground\":true,\"ticks\":\"\",\"zerolinecolor\":\"white\"},\"zaxis\":{\"backgroundcolor\":\"#E5ECF6\",\"gridcolor\":\"white\",\"gridwidth\":2,\"linecolor\":\"white\",\"showbackground\":true,\"ticks\":\"\",\"zerolinecolor\":\"white\"}},\"shapedefaults\":{\"line\":{\"color\":\"#2a3f5f\"}},\"ternary\":{\"aaxis\":{\"gridcolor\":\"white\",\"linecolor\":\"white\",\"ticks\":\"\"},\"baxis\":{\"gridcolor\":\"white\",\"linecolor\":\"white\",\"ticks\":\"\"},\"bgcolor\":\"#E5ECF6\",\"caxis\":{\"gridcolor\":\"white\",\"linecolor\":\"white\",\"ticks\":\"\"}},\"title\":{\"x\":0.05},\"xaxis\":{\"automargin\":true,\"gridcolor\":\"white\",\"linecolor\":\"white\",\"ticks\":\"\",\"title\":{\"standoff\":15},\"zerolinecolor\":\"white\",\"zerolinewidth\":2},\"yaxis\":{\"automargin\":true,\"gridcolor\":\"white\",\"linecolor\":\"white\",\"ticks\":\"\",\"title\":{\"standoff\":15},\"zerolinecolor\":\"white\",\"zerolinewidth\":2}}},\"xaxis\":{\"anchor\":\"y\",\"domain\":[0.0,1.0],\"title\":{\"text\":\"\\u0414\\u0430\\u0442\\u0430\"}},\"yaxis\":{\"anchor\":\"x\",\"domain\":[0.0,1.0],\"title\":{\"text\":\"\\u041a\\u043e\\u043b\\u0438\\u0447\\u0435\\u0441\\u0442\\u0432\\u043e \\u0441\\u043e\\u0431\\u044b\\u0442\\u0438\\u0439\"}},\"legend\":{\"title\":{\"text\":\"source\"},\"tracegroupgap\":0},\"margin\":{\"t\":60},\"barmode\":\"relative\",\"title\":{\"font\":{\"size\":20},\"text\":\"\\u0421\\u043e\\u0431\\u044b\\u0442\\u0438\\u044f \\u043f\\u043e \\u0434\\u0430\\u0442\\u0430\\u043c \\u0438 \\u0441\\u0435\\u0433\\u043c\\u0435\\u043d\\u0442\\u0430\\u043c\",\"x\":0.45}},                        {\"responsive\": true}                    ).then(function(){\n",
              "                            \n",
              "var gd = document.getElementById('d2345665-ae4f-43ee-86be-e704e12673ce');\n",
              "var x = new MutationObserver(function (mutations, observer) {{\n",
              "        var display = window.getComputedStyle(gd).display;\n",
              "        if (!display || display === 'none') {{\n",
              "            console.log([gd, 'removed!']);\n",
              "            Plotly.purge(gd);\n",
              "            observer.disconnect();\n",
              "        }}\n",
              "}});\n",
              "\n",
              "// Listen for the removal of the full notebook cells\n",
              "var notebookContainer = gd.closest('#notebook-container');\n",
              "if (notebookContainer) {{\n",
              "    x.observe(notebookContainer, {childList: true});\n",
              "}}\n",
              "\n",
              "// Listen for the clearing of the current output cell\n",
              "var outputEl = gd.closest('.output');\n",
              "if (outputEl) {{\n",
              "    x.observe(outputEl, {childList: true});\n",
              "}}\n",
              "\n",
              "                        })                };                            </script>        </div>\n",
              "</body>\n",
              "</html>"
            ]
          },
          "metadata": {}
        }
      ],
      "source": [
        "fig = px.bar(events_by_dt_seg, x='event_dt', y='event_time', color='source')\n",
        "fig.update_layout(title=dict(text='События по датам и сегментам',font=dict(size=20), x=0.45),\n",
        "                  xaxis_title='Дата',\n",
        "                  yaxis_title='Количество событий')\n",
        "fig.show()"
      ]
    },
    {
      "cell_type": "code",
      "execution_count": null,
      "metadata": {
        "id": "qM9e5WwSFvUk"
      },
      "outputs": [],
      "source": [
        "events_by_weekday_seg = (data\n",
        "                   .groupby(['source','weekday'])\n",
        "                   .agg({'event_time':'count'})\n",
        "                   .sort_values(by='event_time', ascending=False)\n",
        "                   .reset_index())"
      ]
    },
    {
      "cell_type": "code",
      "execution_count": null,
      "metadata": {
        "colab": {
          "base_uri": "https://localhost:8080/",
          "height": 542
        },
        "id": "f2OZveDDFvUk",
        "outputId": "8efd7876-6e92-4c58-fda1-347aad1d0cf5"
      },
      "outputs": [
        {
          "output_type": "display_data",
          "data": {
            "text/html": [
              "<html>\n",
              "<head><meta charset=\"utf-8\" /></head>\n",
              "<body>\n",
              "    <div>            <script src=\"https://cdnjs.cloudflare.com/ajax/libs/mathjax/2.7.5/MathJax.js?config=TeX-AMS-MML_SVG\"></script><script type=\"text/javascript\">if (window.MathJax) {MathJax.Hub.Config({SVG: {font: \"STIX-Web\"}});}</script>                <script type=\"text/javascript\">window.PlotlyConfig = {MathJaxConfig: 'local'};</script>\n",
              "        <script src=\"https://cdn.plot.ly/plotly-2.8.3.min.js\"></script>                <div id=\"2919ab75-dfda-477a-8305-3b9f446660c5\" class=\"plotly-graph-div\" style=\"height:525px; width:100%;\"></div>            <script type=\"text/javascript\">                                    window.PLOTLYENV=window.PLOTLYENV || {};                                    if (document.getElementById(\"2919ab75-dfda-477a-8305-3b9f446660c5\")) {                    Plotly.newPlot(                        \"2919ab75-dfda-477a-8305-3b9f446660c5\",                        [{\"alignmentgroup\":\"True\",\"hovertemplate\":\"source=yandex<br>weekday=%{x}<br>event_time=%{y}<extra></extra>\",\"legendgroup\":\"yandex\",\"marker\":{\"color\":\"#636efa\",\"pattern\":{\"shape\":\"\"}},\"name\":\"yandex\",\"offsetgroup\":\"yandex\",\"orientation\":\"v\",\"showlegend\":true,\"textposition\":\"auto\",\"x\":[0,6,1,3,4,2,5],\"xaxis\":\"x\",\"y\":[5411,5054,5021,4759,4755,4692,4139],\"yaxis\":\"y\",\"type\":\"bar\"},{\"alignmentgroup\":\"True\",\"hovertemplate\":\"source=google<br>weekday=%{x}<br>event_time=%{y}<extra></extra>\",\"legendgroup\":\"google\",\"marker\":{\"color\":\"#EF553B\",\"pattern\":{\"shape\":\"\"}},\"name\":\"google\",\"offsetgroup\":\"google\",\"orientation\":\"v\",\"showlegend\":true,\"textposition\":\"auto\",\"x\":[2,1,0,3,6,4,5],\"xaxis\":\"x\",\"y\":[3193,3019,2990,2890,2846,2614,2601],\"yaxis\":\"y\",\"type\":\"bar\"},{\"alignmentgroup\":\"True\",\"hovertemplate\":\"source=other<br>weekday=%{x}<br>event_time=%{y}<extra></extra>\",\"legendgroup\":\"other\",\"marker\":{\"color\":\"#00cc96\",\"pattern\":{\"shape\":\"\"}},\"name\":\"other\",\"offsetgroup\":\"other\",\"orientation\":\"v\",\"showlegend\":true,\"textposition\":\"auto\",\"x\":[0,3,1,2,4,6,5],\"xaxis\":\"x\",\"y\":[3136,2957,2945,2892,2430,2408,2255],\"yaxis\":\"y\",\"type\":\"bar\"}],                        {\"template\":{\"data\":{\"bar\":[{\"error_x\":{\"color\":\"#2a3f5f\"},\"error_y\":{\"color\":\"#2a3f5f\"},\"marker\":{\"line\":{\"color\":\"#E5ECF6\",\"width\":0.5},\"pattern\":{\"fillmode\":\"overlay\",\"size\":10,\"solidity\":0.2}},\"type\":\"bar\"}],\"barpolar\":[{\"marker\":{\"line\":{\"color\":\"#E5ECF6\",\"width\":0.5},\"pattern\":{\"fillmode\":\"overlay\",\"size\":10,\"solidity\":0.2}},\"type\":\"barpolar\"}],\"carpet\":[{\"aaxis\":{\"endlinecolor\":\"#2a3f5f\",\"gridcolor\":\"white\",\"linecolor\":\"white\",\"minorgridcolor\":\"white\",\"startlinecolor\":\"#2a3f5f\"},\"baxis\":{\"endlinecolor\":\"#2a3f5f\",\"gridcolor\":\"white\",\"linecolor\":\"white\",\"minorgridcolor\":\"white\",\"startlinecolor\":\"#2a3f5f\"},\"type\":\"carpet\"}],\"choropleth\":[{\"colorbar\":{\"outlinewidth\":0,\"ticks\":\"\"},\"type\":\"choropleth\"}],\"contour\":[{\"colorbar\":{\"outlinewidth\":0,\"ticks\":\"\"},\"colorscale\":[[0.0,\"#0d0887\"],[0.1111111111111111,\"#46039f\"],[0.2222222222222222,\"#7201a8\"],[0.3333333333333333,\"#9c179e\"],[0.4444444444444444,\"#bd3786\"],[0.5555555555555556,\"#d8576b\"],[0.6666666666666666,\"#ed7953\"],[0.7777777777777778,\"#fb9f3a\"],[0.8888888888888888,\"#fdca26\"],[1.0,\"#f0f921\"]],\"type\":\"contour\"}],\"contourcarpet\":[{\"colorbar\":{\"outlinewidth\":0,\"ticks\":\"\"},\"type\":\"contourcarpet\"}],\"heatmap\":[{\"colorbar\":{\"outlinewidth\":0,\"ticks\":\"\"},\"colorscale\":[[0.0,\"#0d0887\"],[0.1111111111111111,\"#46039f\"],[0.2222222222222222,\"#7201a8\"],[0.3333333333333333,\"#9c179e\"],[0.4444444444444444,\"#bd3786\"],[0.5555555555555556,\"#d8576b\"],[0.6666666666666666,\"#ed7953\"],[0.7777777777777778,\"#fb9f3a\"],[0.8888888888888888,\"#fdca26\"],[1.0,\"#f0f921\"]],\"type\":\"heatmap\"}],\"heatmapgl\":[{\"colorbar\":{\"outlinewidth\":0,\"ticks\":\"\"},\"colorscale\":[[0.0,\"#0d0887\"],[0.1111111111111111,\"#46039f\"],[0.2222222222222222,\"#7201a8\"],[0.3333333333333333,\"#9c179e\"],[0.4444444444444444,\"#bd3786\"],[0.5555555555555556,\"#d8576b\"],[0.6666666666666666,\"#ed7953\"],[0.7777777777777778,\"#fb9f3a\"],[0.8888888888888888,\"#fdca26\"],[1.0,\"#f0f921\"]],\"type\":\"heatmapgl\"}],\"histogram\":[{\"marker\":{\"pattern\":{\"fillmode\":\"overlay\",\"size\":10,\"solidity\":0.2}},\"type\":\"histogram\"}],\"histogram2d\":[{\"colorbar\":{\"outlinewidth\":0,\"ticks\":\"\"},\"colorscale\":[[0.0,\"#0d0887\"],[0.1111111111111111,\"#46039f\"],[0.2222222222222222,\"#7201a8\"],[0.3333333333333333,\"#9c179e\"],[0.4444444444444444,\"#bd3786\"],[0.5555555555555556,\"#d8576b\"],[0.6666666666666666,\"#ed7953\"],[0.7777777777777778,\"#fb9f3a\"],[0.8888888888888888,\"#fdca26\"],[1.0,\"#f0f921\"]],\"type\":\"histogram2d\"}],\"histogram2dcontour\":[{\"colorbar\":{\"outlinewidth\":0,\"ticks\":\"\"},\"colorscale\":[[0.0,\"#0d0887\"],[0.1111111111111111,\"#46039f\"],[0.2222222222222222,\"#7201a8\"],[0.3333333333333333,\"#9c179e\"],[0.4444444444444444,\"#bd3786\"],[0.5555555555555556,\"#d8576b\"],[0.6666666666666666,\"#ed7953\"],[0.7777777777777778,\"#fb9f3a\"],[0.8888888888888888,\"#fdca26\"],[1.0,\"#f0f921\"]],\"type\":\"histogram2dcontour\"}],\"mesh3d\":[{\"colorbar\":{\"outlinewidth\":0,\"ticks\":\"\"},\"type\":\"mesh3d\"}],\"parcoords\":[{\"line\":{\"colorbar\":{\"outlinewidth\":0,\"ticks\":\"\"}},\"type\":\"parcoords\"}],\"pie\":[{\"automargin\":true,\"type\":\"pie\"}],\"scatter\":[{\"marker\":{\"colorbar\":{\"outlinewidth\":0,\"ticks\":\"\"}},\"type\":\"scatter\"}],\"scatter3d\":[{\"line\":{\"colorbar\":{\"outlinewidth\":0,\"ticks\":\"\"}},\"marker\":{\"colorbar\":{\"outlinewidth\":0,\"ticks\":\"\"}},\"type\":\"scatter3d\"}],\"scattercarpet\":[{\"marker\":{\"colorbar\":{\"outlinewidth\":0,\"ticks\":\"\"}},\"type\":\"scattercarpet\"}],\"scattergeo\":[{\"marker\":{\"colorbar\":{\"outlinewidth\":0,\"ticks\":\"\"}},\"type\":\"scattergeo\"}],\"scattergl\":[{\"marker\":{\"colorbar\":{\"outlinewidth\":0,\"ticks\":\"\"}},\"type\":\"scattergl\"}],\"scattermapbox\":[{\"marker\":{\"colorbar\":{\"outlinewidth\":0,\"ticks\":\"\"}},\"type\":\"scattermapbox\"}],\"scatterpolar\":[{\"marker\":{\"colorbar\":{\"outlinewidth\":0,\"ticks\":\"\"}},\"type\":\"scatterpolar\"}],\"scatterpolargl\":[{\"marker\":{\"colorbar\":{\"outlinewidth\":0,\"ticks\":\"\"}},\"type\":\"scatterpolargl\"}],\"scatterternary\":[{\"marker\":{\"colorbar\":{\"outlinewidth\":0,\"ticks\":\"\"}},\"type\":\"scatterternary\"}],\"surface\":[{\"colorbar\":{\"outlinewidth\":0,\"ticks\":\"\"},\"colorscale\":[[0.0,\"#0d0887\"],[0.1111111111111111,\"#46039f\"],[0.2222222222222222,\"#7201a8\"],[0.3333333333333333,\"#9c179e\"],[0.4444444444444444,\"#bd3786\"],[0.5555555555555556,\"#d8576b\"],[0.6666666666666666,\"#ed7953\"],[0.7777777777777778,\"#fb9f3a\"],[0.8888888888888888,\"#fdca26\"],[1.0,\"#f0f921\"]],\"type\":\"surface\"}],\"table\":[{\"cells\":{\"fill\":{\"color\":\"#EBF0F8\"},\"line\":{\"color\":\"white\"}},\"header\":{\"fill\":{\"color\":\"#C8D4E3\"},\"line\":{\"color\":\"white\"}},\"type\":\"table\"}]},\"layout\":{\"annotationdefaults\":{\"arrowcolor\":\"#2a3f5f\",\"arrowhead\":0,\"arrowwidth\":1},\"autotypenumbers\":\"strict\",\"coloraxis\":{\"colorbar\":{\"outlinewidth\":0,\"ticks\":\"\"}},\"colorscale\":{\"diverging\":[[0,\"#8e0152\"],[0.1,\"#c51b7d\"],[0.2,\"#de77ae\"],[0.3,\"#f1b6da\"],[0.4,\"#fde0ef\"],[0.5,\"#f7f7f7\"],[0.6,\"#e6f5d0\"],[0.7,\"#b8e186\"],[0.8,\"#7fbc41\"],[0.9,\"#4d9221\"],[1,\"#276419\"]],\"sequential\":[[0.0,\"#0d0887\"],[0.1111111111111111,\"#46039f\"],[0.2222222222222222,\"#7201a8\"],[0.3333333333333333,\"#9c179e\"],[0.4444444444444444,\"#bd3786\"],[0.5555555555555556,\"#d8576b\"],[0.6666666666666666,\"#ed7953\"],[0.7777777777777778,\"#fb9f3a\"],[0.8888888888888888,\"#fdca26\"],[1.0,\"#f0f921\"]],\"sequentialminus\":[[0.0,\"#0d0887\"],[0.1111111111111111,\"#46039f\"],[0.2222222222222222,\"#7201a8\"],[0.3333333333333333,\"#9c179e\"],[0.4444444444444444,\"#bd3786\"],[0.5555555555555556,\"#d8576b\"],[0.6666666666666666,\"#ed7953\"],[0.7777777777777778,\"#fb9f3a\"],[0.8888888888888888,\"#fdca26\"],[1.0,\"#f0f921\"]]},\"colorway\":[\"#636efa\",\"#EF553B\",\"#00cc96\",\"#ab63fa\",\"#FFA15A\",\"#19d3f3\",\"#FF6692\",\"#B6E880\",\"#FF97FF\",\"#FECB52\"],\"font\":{\"color\":\"#2a3f5f\"},\"geo\":{\"bgcolor\":\"white\",\"lakecolor\":\"white\",\"landcolor\":\"#E5ECF6\",\"showlakes\":true,\"showland\":true,\"subunitcolor\":\"white\"},\"hoverlabel\":{\"align\":\"left\"},\"hovermode\":\"closest\",\"mapbox\":{\"style\":\"light\"},\"paper_bgcolor\":\"white\",\"plot_bgcolor\":\"#E5ECF6\",\"polar\":{\"angularaxis\":{\"gridcolor\":\"white\",\"linecolor\":\"white\",\"ticks\":\"\"},\"bgcolor\":\"#E5ECF6\",\"radialaxis\":{\"gridcolor\":\"white\",\"linecolor\":\"white\",\"ticks\":\"\"}},\"scene\":{\"xaxis\":{\"backgroundcolor\":\"#E5ECF6\",\"gridcolor\":\"white\",\"gridwidth\":2,\"linecolor\":\"white\",\"showbackground\":true,\"ticks\":\"\",\"zerolinecolor\":\"white\"},\"yaxis\":{\"backgroundcolor\":\"#E5ECF6\",\"gridcolor\":\"white\",\"gridwidth\":2,\"linecolor\":\"white\",\"showbackground\":true,\"ticks\":\"\",\"zerolinecolor\":\"white\"},\"zaxis\":{\"backgroundcolor\":\"#E5ECF6\",\"gridcolor\":\"white\",\"gridwidth\":2,\"linecolor\":\"white\",\"showbackground\":true,\"ticks\":\"\",\"zerolinecolor\":\"white\"}},\"shapedefaults\":{\"line\":{\"color\":\"#2a3f5f\"}},\"ternary\":{\"aaxis\":{\"gridcolor\":\"white\",\"linecolor\":\"white\",\"ticks\":\"\"},\"baxis\":{\"gridcolor\":\"white\",\"linecolor\":\"white\",\"ticks\":\"\"},\"bgcolor\":\"#E5ECF6\",\"caxis\":{\"gridcolor\":\"white\",\"linecolor\":\"white\",\"ticks\":\"\"}},\"title\":{\"x\":0.05},\"xaxis\":{\"automargin\":true,\"gridcolor\":\"white\",\"linecolor\":\"white\",\"ticks\":\"\",\"title\":{\"standoff\":15},\"zerolinecolor\":\"white\",\"zerolinewidth\":2},\"yaxis\":{\"automargin\":true,\"gridcolor\":\"white\",\"linecolor\":\"white\",\"ticks\":\"\",\"title\":{\"standoff\":15},\"zerolinecolor\":\"white\",\"zerolinewidth\":2}}},\"xaxis\":{\"anchor\":\"y\",\"domain\":[0.0,1.0],\"title\":{\"text\":\"\\u0414\\u0435\\u043d\\u044c \\u043d\\u0435\\u0434\\u0435\\u043b\\u0438\"}},\"yaxis\":{\"anchor\":\"x\",\"domain\":[0.0,1.0],\"title\":{\"text\":\"\\u041a\\u043e\\u043b\\u0438\\u0447\\u0435\\u0441\\u0442\\u0432\\u043e \\u0441\\u043e\\u0431\\u044b\\u0442\\u0438\\u0439\"}},\"legend\":{\"title\":{\"text\":\"source\"},\"tracegroupgap\":0},\"margin\":{\"t\":60},\"barmode\":\"relative\",\"title\":{\"font\":{\"size\":20},\"text\":\"\\u0421\\u043e\\u0431\\u044b\\u0442\\u0438\\u044f \\u043f\\u043e \\u0434\\u043d\\u044f\\u043c \\u043d\\u0435\\u0434\\u0435\\u043b\\u0438\",\"x\":0.45}},                        {\"responsive\": true}                    ).then(function(){\n",
              "                            \n",
              "var gd = document.getElementById('2919ab75-dfda-477a-8305-3b9f446660c5');\n",
              "var x = new MutationObserver(function (mutations, observer) {{\n",
              "        var display = window.getComputedStyle(gd).display;\n",
              "        if (!display || display === 'none') {{\n",
              "            console.log([gd, 'removed!']);\n",
              "            Plotly.purge(gd);\n",
              "            observer.disconnect();\n",
              "        }}\n",
              "}});\n",
              "\n",
              "// Listen for the removal of the full notebook cells\n",
              "var notebookContainer = gd.closest('#notebook-container');\n",
              "if (notebookContainer) {{\n",
              "    x.observe(notebookContainer, {childList: true});\n",
              "}}\n",
              "\n",
              "// Listen for the clearing of the current output cell\n",
              "var outputEl = gd.closest('.output');\n",
              "if (outputEl) {{\n",
              "    x.observe(outputEl, {childList: true});\n",
              "}}\n",
              "\n",
              "                        })                };                            </script>        </div>\n",
              "</body>\n",
              "</html>"
            ]
          },
          "metadata": {}
        }
      ],
      "source": [
        "fig = px.bar(events_by_weekday_seg, x='weekday', y='event_time', color='source')\n",
        "fig.update_layout(title=dict(text='События по дням недели',font=dict(size=20), x=0.45),\n",
        "                  xaxis_title='День недели',\n",
        "                  yaxis_title='Количество событий')\n",
        "fig.show()"
      ]
    },
    {
      "cell_type": "markdown",
      "metadata": {
        "id": "pxCxLNXLFvUk"
      },
      "source": [
        "Больше всего событий совершают пользователи из источника Yandex - в целом и в разбивке по датам и дням недели. Пользователи из источников \"Другие\" и Google совершают примерно одинаковое количество событий."
      ]
    },
    {
      "cell_type": "markdown",
      "metadata": {
        "id": "HPuC7ryaFvUk"
      },
      "source": [
        "### Длительность сессий по сегментам"
      ]
    },
    {
      "cell_type": "code",
      "execution_count": null,
      "metadata": {
        "colab": {
          "base_uri": "https://localhost:8080/",
          "height": 238
        },
        "id": "JlHKPw6xFvUl",
        "outputId": "37d66c58-d307-4c27-cef8-38a97099faf5"
      },
      "outputs": [
        {
          "output_type": "execute_result",
          "data": {
            "text/plain": [
              "   source                               user_id session_id  \\\n",
              "                                                             \n",
              "0  google  004690c3-5a84-4bb7-a8af-e0c8f8fca64e         12   \n",
              "1  google  004690c3-5a84-4bb7-a8af-e0c8f8fca64e         13   \n",
              "2  google  004690c3-5a84-4bb7-a8af-e0c8f8fca64e         14   \n",
              "3  google  004690c3-5a84-4bb7-a8af-e0c8f8fca64e         15   \n",
              "4  google  004690c3-5a84-4bb7-a8af-e0c8f8fca64e         16   \n",
              "\n",
              "                first                last duration  \n",
              "           event_time          event_time           \n",
              "0 2019-10-18 22:14:06 2019-10-18 22:17:41     3.58  \n",
              "1 2019-10-20 17:47:19 2019-10-20 17:48:42     1.38  \n",
              "2 2019-10-25 22:17:32 2019-10-25 22:45:50    28.30  \n",
              "3 2019-10-26 23:34:22 2019-10-27 00:12:12    37.83  \n",
              "4 2019-10-27 20:18:09 2019-10-27 20:18:27     0.30  "
            ],
            "text/html": [
              "\n",
              "  <div id=\"df-d6678915-fec2-44c8-9797-417ab762b8d8\">\n",
              "    <div class=\"colab-df-container\">\n",
              "      <div>\n",
              "<style scoped>\n",
              "    .dataframe tbody tr th:only-of-type {\n",
              "        vertical-align: middle;\n",
              "    }\n",
              "\n",
              "    .dataframe tbody tr th {\n",
              "        vertical-align: top;\n",
              "    }\n",
              "\n",
              "    .dataframe thead tr th {\n",
              "        text-align: left;\n",
              "    }\n",
              "</style>\n",
              "<table border=\"1\" class=\"dataframe\">\n",
              "  <thead>\n",
              "    <tr>\n",
              "      <th></th>\n",
              "      <th>source</th>\n",
              "      <th>user_id</th>\n",
              "      <th>session_id</th>\n",
              "      <th>first</th>\n",
              "      <th>last</th>\n",
              "      <th>duration</th>\n",
              "    </tr>\n",
              "    <tr>\n",
              "      <th></th>\n",
              "      <th></th>\n",
              "      <th></th>\n",
              "      <th></th>\n",
              "      <th>event_time</th>\n",
              "      <th>event_time</th>\n",
              "      <th></th>\n",
              "    </tr>\n",
              "  </thead>\n",
              "  <tbody>\n",
              "    <tr>\n",
              "      <th>0</th>\n",
              "      <td>google</td>\n",
              "      <td>004690c3-5a84-4bb7-a8af-e0c8f8fca64e</td>\n",
              "      <td>12</td>\n",
              "      <td>2019-10-18 22:14:06</td>\n",
              "      <td>2019-10-18 22:17:41</td>\n",
              "      <td>3.58</td>\n",
              "    </tr>\n",
              "    <tr>\n",
              "      <th>1</th>\n",
              "      <td>google</td>\n",
              "      <td>004690c3-5a84-4bb7-a8af-e0c8f8fca64e</td>\n",
              "      <td>13</td>\n",
              "      <td>2019-10-20 17:47:19</td>\n",
              "      <td>2019-10-20 17:48:42</td>\n",
              "      <td>1.38</td>\n",
              "    </tr>\n",
              "    <tr>\n",
              "      <th>2</th>\n",
              "      <td>google</td>\n",
              "      <td>004690c3-5a84-4bb7-a8af-e0c8f8fca64e</td>\n",
              "      <td>14</td>\n",
              "      <td>2019-10-25 22:17:32</td>\n",
              "      <td>2019-10-25 22:45:50</td>\n",
              "      <td>28.30</td>\n",
              "    </tr>\n",
              "    <tr>\n",
              "      <th>3</th>\n",
              "      <td>google</td>\n",
              "      <td>004690c3-5a84-4bb7-a8af-e0c8f8fca64e</td>\n",
              "      <td>15</td>\n",
              "      <td>2019-10-26 23:34:22</td>\n",
              "      <td>2019-10-27 00:12:12</td>\n",
              "      <td>37.83</td>\n",
              "    </tr>\n",
              "    <tr>\n",
              "      <th>4</th>\n",
              "      <td>google</td>\n",
              "      <td>004690c3-5a84-4bb7-a8af-e0c8f8fca64e</td>\n",
              "      <td>16</td>\n",
              "      <td>2019-10-27 20:18:09</td>\n",
              "      <td>2019-10-27 20:18:27</td>\n",
              "      <td>0.30</td>\n",
              "    </tr>\n",
              "  </tbody>\n",
              "</table>\n",
              "</div>\n",
              "      <button class=\"colab-df-convert\" onclick=\"convertToInteractive('df-d6678915-fec2-44c8-9797-417ab762b8d8')\"\n",
              "              title=\"Convert this dataframe to an interactive table.\"\n",
              "              style=\"display:none;\">\n",
              "        \n",
              "  <svg xmlns=\"http://www.w3.org/2000/svg\" height=\"24px\"viewBox=\"0 0 24 24\"\n",
              "       width=\"24px\">\n",
              "    <path d=\"M0 0h24v24H0V0z\" fill=\"none\"/>\n",
              "    <path d=\"M18.56 5.44l.94 2.06.94-2.06 2.06-.94-2.06-.94-.94-2.06-.94 2.06-2.06.94zm-11 1L8.5 8.5l.94-2.06 2.06-.94-2.06-.94L8.5 2.5l-.94 2.06-2.06.94zm10 10l.94 2.06.94-2.06 2.06-.94-2.06-.94-.94-2.06-.94 2.06-2.06.94z\"/><path d=\"M17.41 7.96l-1.37-1.37c-.4-.4-.92-.59-1.43-.59-.52 0-1.04.2-1.43.59L10.3 9.45l-7.72 7.72c-.78.78-.78 2.05 0 2.83L4 21.41c.39.39.9.59 1.41.59.51 0 1.02-.2 1.41-.59l7.78-7.78 2.81-2.81c.8-.78.8-2.07 0-2.86zM5.41 20L4 18.59l7.72-7.72 1.47 1.35L5.41 20z\"/>\n",
              "  </svg>\n",
              "      </button>\n",
              "      \n",
              "  <style>\n",
              "    .colab-df-container {\n",
              "      display:flex;\n",
              "      flex-wrap:wrap;\n",
              "      gap: 12px;\n",
              "    }\n",
              "\n",
              "    .colab-df-convert {\n",
              "      background-color: #E8F0FE;\n",
              "      border: none;\n",
              "      border-radius: 50%;\n",
              "      cursor: pointer;\n",
              "      display: none;\n",
              "      fill: #1967D2;\n",
              "      height: 32px;\n",
              "      padding: 0 0 0 0;\n",
              "      width: 32px;\n",
              "    }\n",
              "\n",
              "    .colab-df-convert:hover {\n",
              "      background-color: #E2EBFA;\n",
              "      box-shadow: 0px 1px 2px rgba(60, 64, 67, 0.3), 0px 1px 3px 1px rgba(60, 64, 67, 0.15);\n",
              "      fill: #174EA6;\n",
              "    }\n",
              "\n",
              "    [theme=dark] .colab-df-convert {\n",
              "      background-color: #3B4455;\n",
              "      fill: #D2E3FC;\n",
              "    }\n",
              "\n",
              "    [theme=dark] .colab-df-convert:hover {\n",
              "      background-color: #434B5C;\n",
              "      box-shadow: 0px 1px 3px 1px rgba(0, 0, 0, 0.15);\n",
              "      filter: drop-shadow(0px 1px 2px rgba(0, 0, 0, 0.3));\n",
              "      fill: #FFFFFF;\n",
              "    }\n",
              "  </style>\n",
              "\n",
              "      <script>\n",
              "        const buttonEl =\n",
              "          document.querySelector('#df-d6678915-fec2-44c8-9797-417ab762b8d8 button.colab-df-convert');\n",
              "        buttonEl.style.display =\n",
              "          google.colab.kernel.accessAllowed ? 'block' : 'none';\n",
              "\n",
              "        async function convertToInteractive(key) {\n",
              "          const element = document.querySelector('#df-d6678915-fec2-44c8-9797-417ab762b8d8');\n",
              "          const dataTable =\n",
              "            await google.colab.kernel.invokeFunction('convertToInteractive',\n",
              "                                                     [key], {});\n",
              "          if (!dataTable) return;\n",
              "\n",
              "          const docLinkHtml = 'Like what you see? Visit the ' +\n",
              "            '<a target=\"_blank\" href=https://colab.research.google.com/notebooks/data_table.ipynb>data table notebook</a>'\n",
              "            + ' to learn more about interactive tables.';\n",
              "          element.innerHTML = '';\n",
              "          dataTable['output_type'] = 'display_data';\n",
              "          await google.colab.output.renderOutput(dataTable, element);\n",
              "          const docLink = document.createElement('div');\n",
              "          docLink.innerHTML = docLinkHtml;\n",
              "          element.appendChild(docLink);\n",
              "        }\n",
              "      </script>\n",
              "    </div>\n",
              "  </div>\n",
              "  "
            ]
          },
          "metadata": {},
          "execution_count": 59
        }
      ],
      "source": [
        "session_times_seg = (data\n",
        "                 .pivot_table(index=['source','user_id', 'session_id'],\n",
        "                              values='event_time', \n",
        "                              aggfunc=['first', 'last'])\n",
        "                 .reset_index())\n",
        "session_times_seg['duration'] = round((session_times_seg['last'] - session_times_seg['first']).astype('timedelta64[s]')\n",
        "                                      / 60, 2)\n",
        "\n",
        "session_times_seg.head()"
      ]
    },
    {
      "cell_type": "code",
      "execution_count": null,
      "metadata": {
        "colab": {
          "base_uri": "https://localhost:8080/",
          "height": 189
        },
        "id": "ew_YM9u-FvUl",
        "outputId": "cf10fac1-f3c7-4153-c8a7-6b2fa57d83f1"
      },
      "outputs": [
        {
          "output_type": "execute_result",
          "data": {
            "text/plain": [
              "       median       mean  min     max\n",
              "                                     \n",
              "source                               \n",
              "yandex   6.70  14.062843  0.0  259.48\n",
              "google   5.85  13.107910  0.0  217.50\n",
              "other    3.95  10.885545  0.0  321.97"
            ],
            "text/html": [
              "\n",
              "  <div id=\"df-304c3b68-a4a0-4337-a9b7-838a6a14c408\">\n",
              "    <div class=\"colab-df-container\">\n",
              "      <div>\n",
              "<style scoped>\n",
              "    .dataframe tbody tr th:only-of-type {\n",
              "        vertical-align: middle;\n",
              "    }\n",
              "\n",
              "    .dataframe tbody tr th {\n",
              "        vertical-align: top;\n",
              "    }\n",
              "\n",
              "    .dataframe thead tr th {\n",
              "        text-align: left;\n",
              "    }\n",
              "\n",
              "    .dataframe thead tr:last-of-type th {\n",
              "        text-align: right;\n",
              "    }\n",
              "</style>\n",
              "<table border=\"1\" class=\"dataframe\">\n",
              "  <thead>\n",
              "    <tr>\n",
              "      <th></th>\n",
              "      <th>median</th>\n",
              "      <th>mean</th>\n",
              "      <th>min</th>\n",
              "      <th>max</th>\n",
              "    </tr>\n",
              "    <tr>\n",
              "      <th></th>\n",
              "      <th></th>\n",
              "      <th></th>\n",
              "      <th></th>\n",
              "      <th></th>\n",
              "    </tr>\n",
              "    <tr>\n",
              "      <th>source</th>\n",
              "      <th></th>\n",
              "      <th></th>\n",
              "      <th></th>\n",
              "      <th></th>\n",
              "    </tr>\n",
              "  </thead>\n",
              "  <tbody>\n",
              "    <tr>\n",
              "      <th>yandex</th>\n",
              "      <td>6.70</td>\n",
              "      <td>14.062843</td>\n",
              "      <td>0.0</td>\n",
              "      <td>259.48</td>\n",
              "    </tr>\n",
              "    <tr>\n",
              "      <th>google</th>\n",
              "      <td>5.85</td>\n",
              "      <td>13.107910</td>\n",
              "      <td>0.0</td>\n",
              "      <td>217.50</td>\n",
              "    </tr>\n",
              "    <tr>\n",
              "      <th>other</th>\n",
              "      <td>3.95</td>\n",
              "      <td>10.885545</td>\n",
              "      <td>0.0</td>\n",
              "      <td>321.97</td>\n",
              "    </tr>\n",
              "  </tbody>\n",
              "</table>\n",
              "</div>\n",
              "      <button class=\"colab-df-convert\" onclick=\"convertToInteractive('df-304c3b68-a4a0-4337-a9b7-838a6a14c408')\"\n",
              "              title=\"Convert this dataframe to an interactive table.\"\n",
              "              style=\"display:none;\">\n",
              "        \n",
              "  <svg xmlns=\"http://www.w3.org/2000/svg\" height=\"24px\"viewBox=\"0 0 24 24\"\n",
              "       width=\"24px\">\n",
              "    <path d=\"M0 0h24v24H0V0z\" fill=\"none\"/>\n",
              "    <path d=\"M18.56 5.44l.94 2.06.94-2.06 2.06-.94-2.06-.94-.94-2.06-.94 2.06-2.06.94zm-11 1L8.5 8.5l.94-2.06 2.06-.94-2.06-.94L8.5 2.5l-.94 2.06-2.06.94zm10 10l.94 2.06.94-2.06 2.06-.94-2.06-.94-.94-2.06-.94 2.06-2.06.94z\"/><path d=\"M17.41 7.96l-1.37-1.37c-.4-.4-.92-.59-1.43-.59-.52 0-1.04.2-1.43.59L10.3 9.45l-7.72 7.72c-.78.78-.78 2.05 0 2.83L4 21.41c.39.39.9.59 1.41.59.51 0 1.02-.2 1.41-.59l7.78-7.78 2.81-2.81c.8-.78.8-2.07 0-2.86zM5.41 20L4 18.59l7.72-7.72 1.47 1.35L5.41 20z\"/>\n",
              "  </svg>\n",
              "      </button>\n",
              "      \n",
              "  <style>\n",
              "    .colab-df-container {\n",
              "      display:flex;\n",
              "      flex-wrap:wrap;\n",
              "      gap: 12px;\n",
              "    }\n",
              "\n",
              "    .colab-df-convert {\n",
              "      background-color: #E8F0FE;\n",
              "      border: none;\n",
              "      border-radius: 50%;\n",
              "      cursor: pointer;\n",
              "      display: none;\n",
              "      fill: #1967D2;\n",
              "      height: 32px;\n",
              "      padding: 0 0 0 0;\n",
              "      width: 32px;\n",
              "    }\n",
              "\n",
              "    .colab-df-convert:hover {\n",
              "      background-color: #E2EBFA;\n",
              "      box-shadow: 0px 1px 2px rgba(60, 64, 67, 0.3), 0px 1px 3px 1px rgba(60, 64, 67, 0.15);\n",
              "      fill: #174EA6;\n",
              "    }\n",
              "\n",
              "    [theme=dark] .colab-df-convert {\n",
              "      background-color: #3B4455;\n",
              "      fill: #D2E3FC;\n",
              "    }\n",
              "\n",
              "    [theme=dark] .colab-df-convert:hover {\n",
              "      background-color: #434B5C;\n",
              "      box-shadow: 0px 1px 3px 1px rgba(0, 0, 0, 0.15);\n",
              "      filter: drop-shadow(0px 1px 2px rgba(0, 0, 0, 0.3));\n",
              "      fill: #FFFFFF;\n",
              "    }\n",
              "  </style>\n",
              "\n",
              "      <script>\n",
              "        const buttonEl =\n",
              "          document.querySelector('#df-304c3b68-a4a0-4337-a9b7-838a6a14c408 button.colab-df-convert');\n",
              "        buttonEl.style.display =\n",
              "          google.colab.kernel.accessAllowed ? 'block' : 'none';\n",
              "\n",
              "        async function convertToInteractive(key) {\n",
              "          const element = document.querySelector('#df-304c3b68-a4a0-4337-a9b7-838a6a14c408');\n",
              "          const dataTable =\n",
              "            await google.colab.kernel.invokeFunction('convertToInteractive',\n",
              "                                                     [key], {});\n",
              "          if (!dataTable) return;\n",
              "\n",
              "          const docLinkHtml = 'Like what you see? Visit the ' +\n",
              "            '<a target=\"_blank\" href=https://colab.research.google.com/notebooks/data_table.ipynb>data table notebook</a>'\n",
              "            + ' to learn more about interactive tables.';\n",
              "          element.innerHTML = '';\n",
              "          dataTable['output_type'] = 'display_data';\n",
              "          await google.colab.output.renderOutput(dataTable, element);\n",
              "          const docLink = document.createElement('div');\n",
              "          docLink.innerHTML = docLinkHtml;\n",
              "          element.appendChild(docLink);\n",
              "        }\n",
              "      </script>\n",
              "    </div>\n",
              "  </div>\n",
              "  "
            ]
          },
          "metadata": {},
          "execution_count": 60
        }
      ],
      "source": [
        "(session_times_seg\n",
        " .pivot_table(index='source', values='duration', aggfunc=['median', 'mean', 'min', 'max'])\n",
        " .sort_values(by='median', ascending=False))"
      ]
    },
    {
      "cell_type": "code",
      "execution_count": null,
      "metadata": {
        "colab": {
          "base_uri": "https://localhost:8080/",
          "height": 406
        },
        "id": "f7OzCpwWFvUl",
        "outputId": "d55af0b6-620d-47ed-cca4-bd22942f8d3b"
      },
      "outputs": [
        {
          "output_type": "display_data",
          "data": {
            "text/plain": [
              "<Figure size 720x432 with 1 Axes>"
            ],
            "image/png": "[encoded data removed]"
          },
          "metadata": {
            "needs_background": "light"
          }
        }
      ],
      "source": [
        "plt.figure(figsize=(10,6))\n",
        "sns.boxplot(x='source', y='duration', data=session_times_seg)\n",
        "plt.title('Распределение длительности сессий по источникам', fontsize=15)\n",
        "plt.ylim(-2, 50)\n",
        "plt.show()"
      ]
    },
    {
      "cell_type": "code",
      "execution_count": null,
      "metadata": {
        "colab": {
          "base_uri": "https://localhost:8080/",
          "height": 542
        },
        "id": "Ajb9A6zVFvUl",
        "outputId": "baa9a91d-68f1-4097-bc97-daf32e0501ec"
      },
      "outputs": [
        {
          "output_type": "display_data",
          "data": {
            "text/html": [
              "<html>\n",
              "<head><meta charset=\"utf-8\" /></head>\n",
              "<body>\n",
              "    <div>            <script src=\"https://cdnjs.cloudflare.com/ajax/libs/mathjax/2.7.5/MathJax.js?config=TeX-AMS-MML_SVG\"></script><script type=\"text/javascript\">if (window.MathJax) {MathJax.Hub.Config({SVG: {font: \"STIX-Web\"}});}</script>                <script type=\"text/javascript\">window.PlotlyConfig = {MathJaxConfig: 'local'};</script>\n",
              "        <script src=\"https://cdn.plot.ly/plotly-2.8.3.min.js\"></script>                <div id=\"7ad40033-ab89-4b9d-b072-972016dc4fad\" class=\"plotly-graph-div\" style=\"height:525px; width:100%;\"></div>            <script type=\"text/javascript\">                                    window.PLOTLYENV=window.PLOTLYENV || {};                                    if (document.getElementById(\"7ad40033-ab89-4b9d-b072-972016dc4fad\")) {                    Plotly.newPlot(                        \"7ad40033-ab89-4b9d-b072-972016dc4fad\",                        [{\"alignmentgroup\":\"True\",\"hovertemplate\":\"source=%{x}<br>median=%{y}<extra></extra>\",\"legendgroup\":\"\",\"marker\":{\"color\":\"#636efa\",\"pattern\":{\"shape\":\"\"}},\"name\":\"\",\"offsetgroup\":\"\",\"orientation\":\"v\",\"showlegend\":false,\"textposition\":\"auto\",\"x\":[\"yandex\",\"google\",\"other\"],\"xaxis\":\"x\",\"y\":[6.7,5.85,3.95],\"yaxis\":\"y\",\"type\":\"bar\"}],                        {\"template\":{\"data\":{\"bar\":[{\"error_x\":{\"color\":\"#2a3f5f\"},\"error_y\":{\"color\":\"#2a3f5f\"},\"marker\":{\"line\":{\"color\":\"#E5ECF6\",\"width\":0.5},\"pattern\":{\"fillmode\":\"overlay\",\"size\":10,\"solidity\":0.2}},\"type\":\"bar\"}],\"barpolar\":[{\"marker\":{\"line\":{\"color\":\"#E5ECF6\",\"width\":0.5},\"pattern\":{\"fillmode\":\"overlay\",\"size\":10,\"solidity\":0.2}},\"type\":\"barpolar\"}],\"carpet\":[{\"aaxis\":{\"endlinecolor\":\"#2a3f5f\",\"gridcolor\":\"white\",\"linecolor\":\"white\",\"minorgridcolor\":\"white\",\"startlinecolor\":\"#2a3f5f\"},\"baxis\":{\"endlinecolor\":\"#2a3f5f\",\"gridcolor\":\"white\",\"linecolor\":\"white\",\"minorgridcolor\":\"white\",\"startlinecolor\":\"#2a3f5f\"},\"type\":\"carpet\"}],\"choropleth\":[{\"colorbar\":{\"outlinewidth\":0,\"ticks\":\"\"},\"type\":\"choropleth\"}],\"contour\":[{\"colorbar\":{\"outlinewidth\":0,\"ticks\":\"\"},\"colorscale\":[[0.0,\"#0d0887\"],[0.1111111111111111,\"#46039f\"],[0.2222222222222222,\"#7201a8\"],[0.3333333333333333,\"#9c179e\"],[0.4444444444444444,\"#bd3786\"],[0.5555555555555556,\"#d8576b\"],[0.6666666666666666,\"#ed7953\"],[0.7777777777777778,\"#fb9f3a\"],[0.8888888888888888,\"#fdca26\"],[1.0,\"#f0f921\"]],\"type\":\"contour\"}],\"contourcarpet\":[{\"colorbar\":{\"outlinewidth\":0,\"ticks\":\"\"},\"type\":\"contourcarpet\"}],\"heatmap\":[{\"colorbar\":{\"outlinewidth\":0,\"ticks\":\"\"},\"colorscale\":[[0.0,\"#0d0887\"],[0.1111111111111111,\"#46039f\"],[0.2222222222222222,\"#7201a8\"],[0.3333333333333333,\"#9c179e\"],[0.4444444444444444,\"#bd3786\"],[0.5555555555555556,\"#d8576b\"],[0.6666666666666666,\"#ed7953\"],[0.7777777777777778,\"#fb9f3a\"],[0.8888888888888888,\"#fdca26\"],[1.0,\"#f0f921\"]],\"type\":\"heatmap\"}],\"heatmapgl\":[{\"colorbar\":{\"outlinewidth\":0,\"ticks\":\"\"},\"colorscale\":[[0.0,\"#0d0887\"],[0.1111111111111111,\"#46039f\"],[0.2222222222222222,\"#7201a8\"],[0.3333333333333333,\"#9c179e\"],[0.4444444444444444,\"#bd3786\"],[0.5555555555555556,\"#d8576b\"],[0.6666666666666666,\"#ed7953\"],[0.7777777777777778,\"#fb9f3a\"],[0.8888888888888888,\"#fdca26\"],[1.0,\"#f0f921\"]],\"type\":\"heatmapgl\"}],\"histogram\":[{\"marker\":{\"pattern\":{\"fillmode\":\"overlay\",\"size\":10,\"solidity\":0.2}},\"type\":\"histogram\"}],\"histogram2d\":[{\"colorbar\":{\"outlinewidth\":0,\"ticks\":\"\"},\"colorscale\":[[0.0,\"#0d0887\"],[0.1111111111111111,\"#46039f\"],[0.2222222222222222,\"#7201a8\"],[0.3333333333333333,\"#9c179e\"],[0.4444444444444444,\"#bd3786\"],[0.5555555555555556,\"#d8576b\"],[0.6666666666666666,\"#ed7953\"],[0.7777777777777778,\"#fb9f3a\"],[0.8888888888888888,\"#fdca26\"],[1.0,\"#f0f921\"]],\"type\":\"histogram2d\"}],\"histogram2dcontour\":[{\"colorbar\":{\"outlinewidth\":0,\"ticks\":\"\"},\"colorscale\":[[0.0,\"#0d0887\"],[0.1111111111111111,\"#46039f\"],[0.2222222222222222,\"#7201a8\"],[0.3333333333333333,\"#9c179e\"],[0.4444444444444444,\"#bd3786\"],[0.5555555555555556,\"#d8576b\"],[0.6666666666666666,\"#ed7953\"],[0.7777777777777778,\"#fb9f3a\"],[0.8888888888888888,\"#fdca26\"],[1.0,\"#f0f921\"]],\"type\":\"histogram2dcontour\"}],\"mesh3d\":[{\"colorbar\":{\"outlinewidth\":0,\"ticks\":\"\"},\"type\":\"mesh3d\"}],\"parcoords\":[{\"line\":{\"colorbar\":{\"outlinewidth\":0,\"ticks\":\"\"}},\"type\":\"parcoords\"}],\"pie\":[{\"automargin\":true,\"type\":\"pie\"}],\"scatter\":[{\"marker\":{\"colorbar\":{\"outlinewidth\":0,\"ticks\":\"\"}},\"type\":\"scatter\"}],\"scatter3d\":[{\"line\":{\"colorbar\":{\"outlinewidth\":0,\"ticks\":\"\"}},\"marker\":{\"colorbar\":{\"outlinewidth\":0,\"ticks\":\"\"}},\"type\":\"scatter3d\"}],\"scattercarpet\":[{\"marker\":{\"colorbar\":{\"outlinewidth\":0,\"ticks\":\"\"}},\"type\":\"scattercarpet\"}],\"scattergeo\":[{\"marker\":{\"colorbar\":{\"outlinewidth\":0,\"ticks\":\"\"}},\"type\":\"scattergeo\"}],\"scattergl\":[{\"marker\":{\"colorbar\":{\"outlinewidth\":0,\"ticks\":\"\"}},\"type\":\"scattergl\"}],\"scattermapbox\":[{\"marker\":{\"colorbar\":{\"outlinewidth\":0,\"ticks\":\"\"}},\"type\":\"scattermapbox\"}],\"scatterpolar\":[{\"marker\":{\"colorbar\":{\"outlinewidth\":0,\"ticks\":\"\"}},\"type\":\"scatterpolar\"}],\"scatterpolargl\":[{\"marker\":{\"colorbar\":{\"outlinewidth\":0,\"ticks\":\"\"}},\"type\":\"scatterpolargl\"}],\"scatterternary\":[{\"marker\":{\"colorbar\":{\"outlinewidth\":0,\"ticks\":\"\"}},\"type\":\"scatterternary\"}],\"surface\":[{\"colorbar\":{\"outlinewidth\":0,\"ticks\":\"\"},\"colorscale\":[[0.0,\"#0d0887\"],[0.1111111111111111,\"#46039f\"],[0.2222222222222222,\"#7201a8\"],[0.3333333333333333,\"#9c179e\"],[0.4444444444444444,\"#bd3786\"],[0.5555555555555556,\"#d8576b\"],[0.6666666666666666,\"#ed7953\"],[0.7777777777777778,\"#fb9f3a\"],[0.8888888888888888,\"#fdca26\"],[1.0,\"#f0f921\"]],\"type\":\"surface\"}],\"table\":[{\"cells\":{\"fill\":{\"color\":\"#EBF0F8\"},\"line\":{\"color\":\"white\"}},\"header\":{\"fill\":{\"color\":\"#C8D4E3\"},\"line\":{\"color\":\"white\"}},\"type\":\"table\"}]},\"layout\":{\"annotationdefaults\":{\"arrowcolor\":\"#2a3f5f\",\"arrowhead\":0,\"arrowwidth\":1},\"autotypenumbers\":\"strict\",\"coloraxis\":{\"colorbar\":{\"outlinewidth\":0,\"ticks\":\"\"}},\"colorscale\":{\"diverging\":[[0,\"#8e0152\"],[0.1,\"#c51b7d\"],[0.2,\"#de77ae\"],[0.3,\"#f1b6da\"],[0.4,\"#fde0ef\"],[0.5,\"#f7f7f7\"],[0.6,\"#e6f5d0\"],[0.7,\"#b8e186\"],[0.8,\"#7fbc41\"],[0.9,\"#4d9221\"],[1,\"#276419\"]],\"sequential\":[[0.0,\"#0d0887\"],[0.1111111111111111,\"#46039f\"],[0.2222222222222222,\"#7201a8\"],[0.3333333333333333,\"#9c179e\"],[0.4444444444444444,\"#bd3786\"],[0.5555555555555556,\"#d8576b\"],[0.6666666666666666,\"#ed7953\"],[0.7777777777777778,\"#fb9f3a\"],[0.8888888888888888,\"#fdca26\"],[1.0,\"#f0f921\"]],\"sequentialminus\":[[0.0,\"#0d0887\"],[0.1111111111111111,\"#46039f\"],[0.2222222222222222,\"#7201a8\"],[0.3333333333333333,\"#9c179e\"],[0.4444444444444444,\"#bd3786\"],[0.5555555555555556,\"#d8576b\"],[0.6666666666666666,\"#ed7953\"],[0.7777777777777778,\"#fb9f3a\"],[0.8888888888888888,\"#fdca26\"],[1.0,\"#f0f921\"]]},\"colorway\":[\"#636efa\",\"#EF553B\",\"#00cc96\",\"#ab63fa\",\"#FFA15A\",\"#19d3f3\",\"#FF6692\",\"#B6E880\",\"#FF97FF\",\"#FECB52\"],\"font\":{\"color\":\"#2a3f5f\"},\"geo\":{\"bgcolor\":\"white\",\"lakecolor\":\"white\",\"landcolor\":\"#E5ECF6\",\"showlakes\":true,\"showland\":true,\"subunitcolor\":\"white\"},\"hoverlabel\":{\"align\":\"left\"},\"hovermode\":\"closest\",\"mapbox\":{\"style\":\"light\"},\"paper_bgcolor\":\"white\",\"plot_bgcolor\":\"#E5ECF6\",\"polar\":{\"angularaxis\":{\"gridcolor\":\"white\",\"linecolor\":\"white\",\"ticks\":\"\"},\"bgcolor\":\"#E5ECF6\",\"radialaxis\":{\"gridcolor\":\"white\",\"linecolor\":\"white\",\"ticks\":\"\"}},\"scene\":{\"xaxis\":{\"backgroundcolor\":\"#E5ECF6\",\"gridcolor\":\"white\",\"gridwidth\":2,\"linecolor\":\"white\",\"showbackground\":true,\"ticks\":\"\",\"zerolinecolor\":\"white\"},\"yaxis\":{\"backgroundcolor\":\"#E5ECF6\",\"gridcolor\":\"white\",\"gridwidth\":2,\"linecolor\":\"white\",\"showbackground\":true,\"ticks\":\"\",\"zerolinecolor\":\"white\"},\"zaxis\":{\"backgroundcolor\":\"#E5ECF6\",\"gridcolor\":\"white\",\"gridwidth\":2,\"linecolor\":\"white\",\"showbackground\":true,\"ticks\":\"\",\"zerolinecolor\":\"white\"}},\"shapedefaults\":{\"line\":{\"color\":\"#2a3f5f\"}},\"ternary\":{\"aaxis\":{\"gridcolor\":\"white\",\"linecolor\":\"white\",\"ticks\":\"\"},\"baxis\":{\"gridcolor\":\"white\",\"linecolor\":\"white\",\"ticks\":\"\"},\"bgcolor\":\"#E5ECF6\",\"caxis\":{\"gridcolor\":\"white\",\"linecolor\":\"white\",\"ticks\":\"\"}},\"title\":{\"x\":0.05},\"xaxis\":{\"automargin\":true,\"gridcolor\":\"white\",\"linecolor\":\"white\",\"ticks\":\"\",\"title\":{\"standoff\":15},\"zerolinecolor\":\"white\",\"zerolinewidth\":2},\"yaxis\":{\"automargin\":true,\"gridcolor\":\"white\",\"linecolor\":\"white\",\"ticks\":\"\",\"title\":{\"standoff\":15},\"zerolinecolor\":\"white\",\"zerolinewidth\":2}}},\"xaxis\":{\"anchor\":\"y\",\"domain\":[0.0,1.0],\"title\":{\"text\":\"\\u0418\\u0441\\u0442\\u043e\\u0447\\u043d\\u0438\\u043a\"}},\"yaxis\":{\"anchor\":\"x\",\"domain\":[0.0,1.0],\"title\":{\"text\":\"\\u041c\\u0438\\u043d\\u0443\\u0442\\u044b\"}},\"legend\":{\"tracegroupgap\":0},\"margin\":{\"t\":60},\"barmode\":\"relative\",\"title\":{\"font\":{\"size\":20},\"text\":\"\\u041c\\u0435\\u0434\\u0438\\u0430\\u043d\\u043d\\u0430\\u044f \\u0434\\u043b\\u0438\\u0442\\u0435\\u043b\\u044c\\u043d\\u043e\\u0441\\u0442\\u044c \\u0441\\u0435\\u0441\\u0441\\u0438\\u0439 \\u043f\\u043e \\u0438\\u0441\\u0442\\u043e\\u0447\\u043d\\u0438\\u043a\\u0430\\u043c \\u043f\\u0440\\u0438\\u0432\\u043b\\u0435\\u0447\\u0435\\u043d\\u0438\\u044f\",\"x\":0.45}},                        {\"responsive\": true}                    ).then(function(){\n",
              "                            \n",
              "var gd = document.getElementById('7ad40033-ab89-4b9d-b072-972016dc4fad');\n",
              "var x = new MutationObserver(function (mutations, observer) {{\n",
              "        var display = window.getComputedStyle(gd).display;\n",
              "        if (!display || display === 'none') {{\n",
              "            console.log([gd, 'removed!']);\n",
              "            Plotly.purge(gd);\n",
              "            observer.disconnect();\n",
              "        }}\n",
              "}});\n",
              "\n",
              "// Listen for the removal of the full notebook cells\n",
              "var notebookContainer = gd.closest('#notebook-container');\n",
              "if (notebookContainer) {{\n",
              "    x.observe(notebookContainer, {childList: true});\n",
              "}}\n",
              "\n",
              "// Listen for the clearing of the current output cell\n",
              "var outputEl = gd.closest('.output');\n",
              "if (outputEl) {{\n",
              "    x.observe(outputEl, {childList: true});\n",
              "}}\n",
              "\n",
              "                        })                };                            </script>        </div>\n",
              "</body>\n",
              "</html>"
            ]
          },
          "metadata": {}
        }
      ],
      "source": [
        "df = (session_times_seg\n",
        " .pivot_table(index='source', values='duration', aggfunc=['median', 'mean', 'min', 'max'])\n",
        " .sort_values(by='median', ascending=False).reset_index())\n",
        "fig = px.bar(df, x='source', y='median')\n",
        "fig.update_layout(title=dict(text='Медианная длительность сессий по источникам привлечения',font=dict(size=20), x=0.45),\n",
        "                  xaxis_title='Источник',\n",
        "                  yaxis_title='Минуты')\n",
        "fig.show()"
      ]
    },
    {
      "cell_type": "markdown",
      "metadata": {
        "id": "zrqba3vLFvUl"
      },
      "source": [
        "Самые большие медианные сессии у пользователей из источника Yandex. Самые короткие медианные сессии у \"Других\",  также большое количество нулевых сессий именно у источника \"Другие\"."
      ]
    },
    {
      "cell_type": "markdown",
      "metadata": {
        "id": "ecVpJzQXFvUm"
      },
      "source": [
        "## Гипотезы"
      ]
    },
    {
      "cell_type": "markdown",
      "metadata": {
        "id": "WGncHNXLFvUm"
      },
      "source": [
        "### Гипотеза 1. Пользователи, пришедшие из источников Google и Yandex, показывают разную конверсию в просмотр контактов.\n",
        "\n",
        "\n",
        "\n",
        "Н0: Между конверсией пользователей из источников Google и Yandex нет значимых различий.\n",
        "\n",
        "Н1: Различия есть.\n",
        "\n",
        "Зададим **уровень значимости 0,05**.\n",
        "\n",
        "Для оценки различий воспользуемся тестом Манна-Уитни.\n"
      ]
    },
    {
      "cell_type": "code",
      "execution_count": null,
      "metadata": {
        "colab": {
          "base_uri": "https://localhost:8080/"
        },
        "id": "LArs3tU4FvUm",
        "outputId": "70ab256c-76dd-4326-c570-e0d68d3f206f"
      },
      "outputs": [
        {
          "output_type": "stream",
          "name": "stdout",
          "text": [
            "p_value: 0.994\n"
          ]
        }
      ],
      "source": [
        "# Подготовим данные для применения статистического теста. Создадим выборки с количеством сессий для пользователей, \n",
        "# просмотревших контакты.\n",
        "google_shows = (data.query('source == \"google\" & event_name == \"contacts_show\"')\n",
        "                    .groupby('user_id', as_index=False)\n",
        "                    .agg({'session_id':'nunique'})\n",
        "                    .rename(columns={'session_id':'sessions'}))\n",
        "yandex_shows = (data.query('source == \"yandex\" & event_name == \"contacts_show\"')\n",
        "                    .groupby('user_id', as_index=False)\n",
        "                    .agg({'session_id':'nunique'})\n",
        "                    .rename(columns={'session_id':'sessions'}))\n",
        "\n",
        "# Создадим выборки с количестовм заказов для всех пользователей, пользователям, которые ничего не заказали поставим 0.\n",
        "google_sample = pd.concat([google_shows['sessions'],\n",
        "                           pd.Series(0, index=np.arange(len(mobile_sources.query('source == \"google\"')) - len(google_shows)),\n",
        "                              name = 'sessions')], axis=0)\n",
        "yandex_sample = pd.concat([yandex_shows['sessions'],\n",
        "                           pd.Series(0, index=np.arange(len(mobile_sources.query('source == \"yandex\"')) - len(yandex_shows)),\n",
        "                              name = 'sessions')], axis=0)\n",
        "\n",
        "# Применим U-критерий Манна-Уитни\n",
        "print('p_value: {0:.3f}'.format(st.mannwhitneyu(google_sample, yandex_sample)[1]))"
      ]
    },
    {
      "cell_type": "markdown",
      "metadata": {
        "id": "g8uBOuHOFvUm"
      },
      "source": [
        "p-value больше заданного уровня значимости, принимаем нулевую гипотезу. У нас есть основания считать, что между группами нет статистически значимого различия в конверсии."
      ]
    },
    {
      "cell_type": "code",
      "execution_count": null,
      "metadata": {
        "colab": {
          "base_uri": "https://localhost:8080/"
        },
        "id": "4_w-suyHFvUn",
        "outputId": "15cc4044-0737-46eb-a983-586f37056f87"
      },
      "outputs": [
        {
          "output_type": "stream",
          "name": "stdout",
          "text": [
            "-0.150\n"
          ]
        }
      ],
      "source": [
        "# Посмотрим как отличаются между собой средние количества заказов.\n",
        "print('{0:.3f}'.format(yandex_sample.mean() / google_sample.mean() - 1))"
      ]
    },
    {
      "cell_type": "markdown",
      "metadata": {
        "id": "XpOcaEgGFvUn"
      },
      "source": [
        "Количество просмотров контактов среди пользователей из источника Google меньше, чем среди пользователей из источника Yandex на 15%."
      ]
    },
    {
      "cell_type": "code",
      "execution_count": null,
      "metadata": {
        "colab": {
          "base_uri": "https://localhost:8080/",
          "height": 49
        },
        "id": "_RUf-yW1FvUn",
        "outputId": "f08a3951-f09e-41bf-9aa6-120ec09d2fe3"
      },
      "outputs": [
        {
          "output_type": "execute_result",
          "data": {
            "text/plain": [
              "Empty DataFrame\n",
              "Columns: [event_time, event_name, user_id, source, session_id, session_start, event_dt, weekday]\n",
              "Index: []"
            ],
            "text/html": [
              "\n",
              "  <div id=\"df-ce689131-9a40-41a3-8492-bd026a6fd69b\">\n",
              "    <div class=\"colab-df-container\">\n",
              "      <div>\n",
              "<style scoped>\n",
              "    .dataframe tbody tr th:only-of-type {\n",
              "        vertical-align: middle;\n",
              "    }\n",
              "\n",
              "    .dataframe tbody tr th {\n",
              "        vertical-align: top;\n",
              "    }\n",
              "\n",
              "    .dataframe thead th {\n",
              "        text-align: right;\n",
              "    }\n",
              "</style>\n",
              "<table border=\"1\" class=\"dataframe\">\n",
              "  <thead>\n",
              "    <tr style=\"text-align: right;\">\n",
              "      <th></th>\n",
              "      <th>event_time</th>\n",
              "      <th>event_name</th>\n",
              "      <th>user_id</th>\n",
              "      <th>source</th>\n",
              "      <th>session_id</th>\n",
              "      <th>session_start</th>\n",
              "      <th>event_dt</th>\n",
              "      <th>weekday</th>\n",
              "    </tr>\n",
              "  </thead>\n",
              "  <tbody>\n",
              "  </tbody>\n",
              "</table>\n",
              "</div>\n",
              "      <button class=\"colab-df-convert\" onclick=\"convertToInteractive('df-ce689131-9a40-41a3-8492-bd026a6fd69b')\"\n",
              "              title=\"Convert this dataframe to an interactive table.\"\n",
              "              style=\"display:none;\">\n",
              "        \n",
              "  <svg xmlns=\"http://www.w3.org/2000/svg\" height=\"24px\"viewBox=\"0 0 24 24\"\n",
              "       width=\"24px\">\n",
              "    <path d=\"M0 0h24v24H0V0z\" fill=\"none\"/>\n",
              "    <path d=\"M18.56 5.44l.94 2.06.94-2.06 2.06-.94-2.06-.94-.94-2.06-.94 2.06-2.06.94zm-11 1L8.5 8.5l.94-2.06 2.06-.94-2.06-.94L8.5 2.5l-.94 2.06-2.06.94zm10 10l.94 2.06.94-2.06 2.06-.94-2.06-.94-.94-2.06-.94 2.06-2.06.94z\"/><path d=\"M17.41 7.96l-1.37-1.37c-.4-.4-.92-.59-1.43-.59-.52 0-1.04.2-1.43.59L10.3 9.45l-7.72 7.72c-.78.78-.78 2.05 0 2.83L4 21.41c.39.39.9.59 1.41.59.51 0 1.02-.2 1.41-.59l7.78-7.78 2.81-2.81c.8-.78.8-2.07 0-2.86zM5.41 20L4 18.59l7.72-7.72 1.47 1.35L5.41 20z\"/>\n",
              "  </svg>\n",
              "      </button>\n",
              "      \n",
              "  <style>\n",
              "    .colab-df-container {\n",
              "      display:flex;\n",
              "      flex-wrap:wrap;\n",
              "      gap: 12px;\n",
              "    }\n",
              "\n",
              "    .colab-df-convert {\n",
              "      background-color: #E8F0FE;\n",
              "      border: none;\n",
              "      border-radius: 50%;\n",
              "      cursor: pointer;\n",
              "      display: none;\n",
              "      fill: #1967D2;\n",
              "      height: 32px;\n",
              "      padding: 0 0 0 0;\n",
              "      width: 32px;\n",
              "    }\n",
              "\n",
              "    .colab-df-convert:hover {\n",
              "      background-color: #E2EBFA;\n",
              "      box-shadow: 0px 1px 2px rgba(60, 64, 67, 0.3), 0px 1px 3px 1px rgba(60, 64, 67, 0.15);\n",
              "      fill: #174EA6;\n",
              "    }\n",
              "\n",
              "    [theme=dark] .colab-df-convert {\n",
              "      background-color: #3B4455;\n",
              "      fill: #D2E3FC;\n",
              "    }\n",
              "\n",
              "    [theme=dark] .colab-df-convert:hover {\n",
              "      background-color: #434B5C;\n",
              "      box-shadow: 0px 1px 3px 1px rgba(0, 0, 0, 0.15);\n",
              "      filter: drop-shadow(0px 1px 2px rgba(0, 0, 0, 0.3));\n",
              "      fill: #FFFFFF;\n",
              "    }\n",
              "  </style>\n",
              "\n",
              "      <script>\n",
              "        const buttonEl =\n",
              "          document.querySelector('#df-ce689131-9a40-41a3-8492-bd026a6fd69b button.colab-df-convert');\n",
              "        buttonEl.style.display =\n",
              "          google.colab.kernel.accessAllowed ? 'block' : 'none';\n",
              "\n",
              "        async function convertToInteractive(key) {\n",
              "          const element = document.querySelector('#df-ce689131-9a40-41a3-8492-bd026a6fd69b');\n",
              "          const dataTable =\n",
              "            await google.colab.kernel.invokeFunction('convertToInteractive',\n",
              "                                                     [key], {});\n",
              "          if (!dataTable) return;\n",
              "\n",
              "          const docLinkHtml = 'Like what you see? Visit the ' +\n",
              "            '<a target=\"_blank\" href=https://colab.research.google.com/notebooks/data_table.ipynb>data table notebook</a>'\n",
              "            + ' to learn more about interactive tables.';\n",
              "          element.innerHTML = '';\n",
              "          dataTable['output_type'] = 'display_data';\n",
              "          await google.colab.output.renderOutput(dataTable, element);\n",
              "          const docLink = document.createElement('div');\n",
              "          docLink.innerHTML = docLinkHtml;\n",
              "          element.appendChild(docLink);\n",
              "        }\n",
              "      </script>\n",
              "    </div>\n",
              "  </div>\n",
              "  "
            ]
          },
          "metadata": {},
          "execution_count": 65
        }
      ],
      "source": [
        "# Проверим, пересекаются ли пользователи из источников Google и Yandex.\n",
        "google_users = data.query('source == \"google\"')['user_id'].unique()\n",
        "data.query('source == \"yandex\" & user_id in @google_users')"
      ]
    },
    {
      "cell_type": "code",
      "execution_count": null,
      "metadata": {
        "colab": {
          "base_uri": "https://localhost:8080/"
        },
        "id": "I2myU2q1FvUn",
        "outputId": "28f54159-873e-40bd-ad60-477eea5b1a49"
      },
      "outputs": [
        {
          "output_type": "stream",
          "name": "stdout",
          "text": [
            "Общая конверсия по источнику Google 0.244\n",
            "Общая конверсия по источнику Yandex 0.247\n",
            "Общая конверсия по источнику \"Другие\" 0.185\n"
          ]
        }
      ],
      "source": [
        "print('Общая конверсия по источнику Google', round(len(profiles.query('is_contacts_show == True & source == \"google\"')) \n",
        "                               / len(profiles.query('source == \"google\"')), 3))\n",
        "print('Общая конверсия по источнику Yandex', round(len(profiles.query('is_contacts_show == True & source == \"yandex\"')) \n",
        "                               / len(profiles.query('source == \"yandex\"')), 3))\n",
        "print('Общая конверсия по источнику \"Другие\"', round(len(profiles.query('is_contacts_show == True & source == \"other\"')) \n",
        "                               / len(profiles.query('source == \"other\"')), 3))"
      ]
    },
    {
      "cell_type": "code",
      "execution_count": null,
      "metadata": {
        "colab": {
          "base_uri": "https://localhost:8080/",
          "height": 53
        },
        "id": "totKwL_PFvUn",
        "outputId": "4f6f3dc9-0915-4971-fb6e-c0c888418694"
      },
      "outputs": [
        {
          "output_type": "stream",
          "name": "stdout",
          "text": [
            "p-значение:  0.8244316027993777\n"
          ]
        },
        {
          "output_type": "display_data",
          "data": {
            "text/plain": [
              "'Не получилось отвергнуть нулевую гипотезу, статистически значимых различий в выборках нет'"
            ],
            "application/vnd.google.colaboratory.intrinsic+json": {
              "type": "string"
            }
          },
          "metadata": {}
        }
      ],
      "source": [
        "# Пользователи не пересекаются, приступим к проверке гипотезы спомощью z-теста.\n",
        "\n",
        "successes1 = len(profiles.query('is_contacts_show == True & source == \"google\"'))\n",
        "trials1 = len(profiles.query('source == \"google\"'))\n",
        "              \n",
        "successes2 = len(profiles.query('is_contacts_show == True & source == \"yandex\"'))\n",
        "trials2 = len(profiles.query('source == \"yandex\"'))\n",
        "\n",
        "alpha = 0.05\n",
        "\n",
        "p1 = successes1 / trials1\n",
        "p2 = successes2 / trials2\n",
        "\n",
        "p_combined = (successes1 + successes2) / (trials1 + trials2)\n",
        "difference = p1 - p2\n",
        "\n",
        "z_value = difference / mth.sqrt(p_combined * (1 - p_combined) * (1/trials1 + 1/trials2)) \n",
        "distr = st.norm(0, 1)  \n",
        "p_value = (1 - distr.cdf(abs(z_value))) * 2 \n",
        "print('p-значение: ', p_value)\n",
        "\n",
        "if (p_value < alpha): \n",
        "    display('Отвергаем нулевую гипотезу, между выборками есть статистически значимые различия')\n",
        "else:\n",
        "    display('Не получилось отвергнуть нулевую гипотезу, статистически значимых различий в выборках нет')"
      ]
    },
    {
      "cell_type": "markdown",
      "metadata": {
        "id": "YS0YYqWWFvUp"
      },
      "source": [
        "### Гипотеза 2. Количество сессий по выходным и будням различается.\n",
        "\n",
        "Возьмем две выборки с количеством сессий в будни и выходные. Для оценки различий воспользуемся t-тестом.\n",
        "\n",
        "Н0: Количество сессий по будням и выходным одинаково.\n",
        "\n",
        "Н1: Количество сессий разное.\n",
        "\n",
        "Зададим **уровень значимости 0,05**."
      ]
    },
    {
      "cell_type": "code",
      "execution_count": null,
      "metadata": {
        "colab": {
          "base_uri": "https://localhost:8080/"
        },
        "id": "-9dMYVEZFvUp",
        "outputId": "04a8872f-bfb7-4cd3-f5df-ca13a595b5ce"
      },
      "outputs": [
        {
          "output_type": "stream",
          "name": "stdout",
          "text": [
            "7.034229322558217e-25\n"
          ]
        }
      ],
      "source": [
        "workdays_sessions = (data.query('weekday != 5 | weekday != 6')\n",
        "                    .groupby('user_id', as_index=False)\n",
        "                    .agg({'session_id':'nunique'}))['session_id']\n",
        "weekends_sessions = (data.query('weekday == 5 | weekday == 6')\n",
        "                    .groupby('user_id', as_index=False)\n",
        "                    .agg({'session_id':'nunique'}))['session_id']\n",
        "\n",
        "alpha = 0.05\n",
        "\n",
        "results = st.ttest_ind(workdays_sessions, weekends_sessions, equal_var=False)\n",
        "print(results.pvalue)"
      ]
    },
    {
      "cell_type": "markdown",
      "metadata": {
        "id": "n9JC8fW6FvUp"
      },
      "source": [
        "p-value больше заданного уровня значимости, принимаем нулевую гипотезу. У нас есть основания считать, что между количеством сессий по выходным и будням нет статистически значимого различия."
      ]
    },
    {
      "cell_type": "markdown",
      "metadata": {
        "id": "TLv7TJKWFvUp"
      },
      "source": [
        "## Вывод\n",
        "\n",
        "Были проанализированы данные о 4293 пользователях, пришедших в приложение за четыре недели с 7 октября 2019 года по 3 ноября 2019. Пользователи переходили в приложение из трех источников - Google, Yandex и \"Другие\". За рассматриваемый период пользователи провели 10368 сессий в приложении. Медианное количество событий за сессию - 4, больше 17 событий пользователи, как правило, не совершают.\n",
        "\n",
        "Для анализа поведения пользователи были разделены по источнику, получены следующие результаты.\n",
        "\n",
        "Для просмотревших контакты лучше всего удерживаются пользователи из источника \"Другие\", источники Google и Yandex примерно на одном уровне, но после 3-го лайфтайма удержание источника Google выглядит лучше. Динамика показывает резкое падение удержания пользователей из источника \"Другие\" привлеченных с 14 по 24 октября и из источника Yandex с 20 октября. \n",
        "\n",
        "Для пользователей, непросмотревших контакты, удержание стабильно для всех источников. На графике динамики самое высокое удержание показывают пользователи, привлеченные из источника \"Другие\".\n",
        "\n",
        "Конверсия из источников Google и Yandex примерно на одном уровне и значительно выше конверсии источника \"Другие\".\n",
        "В динамике видно, что конверсия  из источника Google резко растет для пользователей, привлеченных после 18 октября.\n",
        "\n",
        "Больше всего событий всех видов в приложении совершили пользователи из источника Yandex. Пользователи из Google и \"Других\" совершили примерно одинаковое количество событий. Самое часто повторяющееся событие - показ рекомендованных объявлений, причем, похоже, что они не очень нравятся пользователем - переходов по этим объявлениям крайне мало. Следующие по частоте совершения после показа рекомендованных объявлений - просмотр фото в объявлении, поиск и открытие карточки объявления.\n",
        "\n",
        "Длительность сессий разная у пользователей из разных источников. \n",
        "Самые большие средние и медианные длительности у Yandex - 14,06 и 6,70 минут соответственно. У Google - 13,11 и 5,85 минут, у \"Других\" - 10,89 и 3,95 минут. Для Yandex и Google нетипичны сессии больше 45 минут, для \"Других\" - больше 35 минут.\n",
        "\n",
        "Также в датасете присутствует большое количество нулевых сессий, содержащие все типы действий, что похоже на технический сбой.\n",
        "\n",
        "Были проверены следующие гипотезы:\n",
        "* гипотеза о равенстве конверсий пользователей из источников Yandex и Google\n",
        "* гипотеза о равенстве количества совершаемых действий по будням и выходным.\n",
        "\n",
        "В результате проверки первой гипотезы с помощью z-теста не обнаружено статистически значимых различий между конверсиями двух групп.\n",
        "\n",
        "Вторая гипотеза проверена с помощью t-теста, который также не выявил статистически значимых различий между количеством событий в будни и выходные.\n",
        "\n",
        "\n",
        "**Рекомендации по результатам исследования:** \n",
        "* проанализировать рекламу по каналу \"Другие\" и разобраться, почему пользователи из этого источника показывают такую низкую конверсию\n",
        "* разобраться, в чем причина резкого падения удержания пользователей, привлеченных с 14 по 24 октября из источника \"Другие\" и с 20 октября из Yandex\n",
        "* выяснить причину резкого роста конверсии из источника Google c 18 октября и, возможно, применить это для увеличения конверсии пользователей из других источников\n",
        "* разобраться с нулевыми сессиями, возможно в приложении произошел технический сбой"
      ]
    },
    {
      "cell_type": "code",
      "execution_count": null,
      "metadata": {
        "id": "7u9Oc9h2FvUr"
      },
      "outputs": [],
      "source": []
    }
  ],
  "metadata": {
    "ExecuteTimeLog": [
      {
        "duration": 442,
        "start_time": "2023-02-21T06:47:13.481Z"
      },
      {
        "duration": 414,
        "start_time": "2023-02-21T06:47:20.274Z"
      },
      {
        "duration": 328,
        "start_time": "2023-02-21T06:49:09.556Z"
      },
      {
        "duration": 282,
        "start_time": "2023-02-21T06:49:53.756Z"
      },
      {
        "duration": 12,
        "start_time": "2023-02-21T06:50:18.426Z"
      },
      {
        "duration": 4,
        "start_time": "2023-02-21T06:50:50.043Z"
      },
      {
        "duration": 10,
        "start_time": "2023-02-21T06:51:31.058Z"
      },
      {
        "duration": 10,
        "start_time": "2023-02-21T06:51:41.682Z"
      },
      {
        "duration": 4,
        "start_time": "2023-02-21T06:51:50.960Z"
      },
      {
        "duration": 10,
        "start_time": "2023-02-21T06:51:51.823Z"
      },
      {
        "duration": 6,
        "start_time": "2023-02-21T06:52:30.025Z"
      },
      {
        "duration": 19,
        "start_time": "2023-02-21T06:52:44.849Z"
      },
      {
        "duration": 1255,
        "start_time": "2023-02-21T06:53:52.217Z"
      },
      {
        "duration": 8,
        "start_time": "2023-02-21T06:54:04.081Z"
      },
      {
        "duration": 22,
        "start_time": "2023-02-21T06:58:06.687Z"
      },
      {
        "duration": 11,
        "start_time": "2023-02-21T06:58:12.479Z"
      },
      {
        "duration": 20,
        "start_time": "2023-02-21T06:59:40.919Z"
      },
      {
        "duration": 23,
        "start_time": "2023-02-21T06:59:46.798Z"
      },
      {
        "duration": 10,
        "start_time": "2023-02-21T06:59:56.220Z"
      },
      {
        "duration": 26,
        "start_time": "2023-02-21T07:00:20.187Z"
      },
      {
        "duration": 25,
        "start_time": "2023-02-21T07:00:24.469Z"
      },
      {
        "duration": 3,
        "start_time": "2023-02-21T07:02:04.085Z"
      },
      {
        "duration": 8,
        "start_time": "2023-02-21T07:02:41.876Z"
      },
      {
        "duration": 10,
        "start_time": "2023-02-21T07:03:36.244Z"
      },
      {
        "duration": 24,
        "start_time": "2023-02-21T07:03:48.596Z"
      },
      {
        "duration": 11,
        "start_time": "2023-02-21T07:04:38.099Z"
      },
      {
        "duration": 9,
        "start_time": "2023-02-21T07:05:18.987Z"
      },
      {
        "duration": 5,
        "start_time": "2023-02-21T07:07:03.523Z"
      },
      {
        "duration": 4,
        "start_time": "2023-02-21T07:07:57.770Z"
      },
      {
        "duration": 6,
        "start_time": "2023-02-21T07:08:37.289Z"
      },
      {
        "duration": 8,
        "start_time": "2023-02-21T07:18:55.404Z"
      },
      {
        "duration": 17,
        "start_time": "2023-02-21T07:19:00.628Z"
      },
      {
        "duration": 25,
        "start_time": "2023-02-21T07:19:10.148Z"
      },
      {
        "duration": 13,
        "start_time": "2023-02-21T07:24:43.074Z"
      },
      {
        "duration": 12,
        "start_time": "2023-02-21T07:24:56.017Z"
      },
      {
        "duration": 25,
        "start_time": "2023-02-21T07:25:31.360Z"
      },
      {
        "duration": 7,
        "start_time": "2023-02-21T07:26:25.129Z"
      },
      {
        "duration": 5,
        "start_time": "2023-02-21T07:26:30.928Z"
      },
      {
        "duration": 5,
        "start_time": "2023-02-21T07:26:33.400Z"
      },
      {
        "duration": 13,
        "start_time": "2023-02-21T07:26:39.409Z"
      },
      {
        "duration": 59,
        "start_time": "2023-02-21T07:29:16.338Z"
      },
      {
        "duration": 7,
        "start_time": "2023-02-21T07:32:28.143Z"
      },
      {
        "duration": 11,
        "start_time": "2023-02-21T07:34:19.229Z"
      },
      {
        "duration": 68,
        "start_time": "2023-02-21T07:34:31.029Z"
      },
      {
        "duration": 12,
        "start_time": "2023-02-21T07:34:33.269Z"
      },
      {
        "duration": 4,
        "start_time": "2023-02-21T07:34:39.573Z"
      },
      {
        "duration": 6,
        "start_time": "2023-02-21T07:34:44.829Z"
      },
      {
        "duration": 752,
        "start_time": "2023-02-21T07:35:00.317Z"
      },
      {
        "duration": 792,
        "start_time": "2023-02-21T07:35:03.542Z"
      },
      {
        "duration": 700,
        "start_time": "2023-02-21T07:36:26.973Z"
      },
      {
        "duration": 750,
        "start_time": "2023-02-21T07:36:35.356Z"
      },
      {
        "duration": 781,
        "start_time": "2023-02-21T07:38:35.043Z"
      },
      {
        "duration": 774,
        "start_time": "2023-02-21T07:38:40.924Z"
      },
      {
        "duration": 1925,
        "start_time": "2023-02-21T07:39:37.275Z"
      },
      {
        "duration": 2632,
        "start_time": "2023-02-21T07:40:02.440Z"
      },
      {
        "duration": 784,
        "start_time": "2023-02-21T07:40:17.299Z"
      },
      {
        "duration": 938,
        "start_time": "2023-02-21T07:40:32.090Z"
      },
      {
        "duration": 22,
        "start_time": "2023-02-21T07:40:35.779Z"
      },
      {
        "duration": 656,
        "start_time": "2023-02-21T07:40:52.091Z"
      },
      {
        "duration": 235,
        "start_time": "2023-02-21T07:40:52.749Z"
      },
      {
        "duration": 10,
        "start_time": "2023-02-21T07:40:52.986Z"
      },
      {
        "duration": 16,
        "start_time": "2023-02-21T07:40:52.999Z"
      },
      {
        "duration": 12,
        "start_time": "2023-02-21T07:40:53.017Z"
      },
      {
        "duration": 11,
        "start_time": "2023-02-21T07:40:53.030Z"
      },
      {
        "duration": 15,
        "start_time": "2023-02-21T07:40:53.042Z"
      },
      {
        "duration": 24,
        "start_time": "2023-02-21T07:40:53.058Z"
      },
      {
        "duration": 13,
        "start_time": "2023-02-21T07:40:53.084Z"
      },
      {
        "duration": 38,
        "start_time": "2023-02-21T07:40:53.100Z"
      },
      {
        "duration": 24,
        "start_time": "2023-02-21T07:40:53.139Z"
      },
      {
        "duration": 12,
        "start_time": "2023-02-21T07:40:53.164Z"
      },
      {
        "duration": 24,
        "start_time": "2023-02-21T07:40:53.177Z"
      },
      {
        "duration": 37,
        "start_time": "2023-02-21T07:40:53.202Z"
      },
      {
        "duration": 5,
        "start_time": "2023-02-21T07:40:53.240Z"
      },
      {
        "duration": 5,
        "start_time": "2023-02-21T07:40:53.247Z"
      },
      {
        "duration": 62,
        "start_time": "2023-02-21T07:40:53.254Z"
      },
      {
        "duration": 893,
        "start_time": "2023-02-21T07:40:53.318Z"
      },
      {
        "duration": 15,
        "start_time": "2023-02-21T07:40:54.213Z"
      },
      {
        "duration": 80,
        "start_time": "2023-02-21T07:40:54.229Z"
      },
      {
        "duration": 0,
        "start_time": "2023-02-21T07:40:54.310Z"
      },
      {
        "duration": 17,
        "start_time": "2023-02-21T07:41:33.935Z"
      },
      {
        "duration": 19,
        "start_time": "2023-02-21T07:41:46.987Z"
      },
      {
        "duration": 27,
        "start_time": "2023-02-21T07:42:31.121Z"
      },
      {
        "duration": 28,
        "start_time": "2023-02-21T07:42:51.394Z"
      },
      {
        "duration": 26,
        "start_time": "2023-02-21T07:43:05.897Z"
      },
      {
        "duration": 20,
        "start_time": "2023-02-21T07:49:42.581Z"
      },
      {
        "duration": 19,
        "start_time": "2023-02-21T07:50:05.470Z"
      },
      {
        "duration": 12,
        "start_time": "2023-02-21T07:57:44.963Z"
      },
      {
        "duration": 11,
        "start_time": "2023-02-21T07:57:51.562Z"
      },
      {
        "duration": 11,
        "start_time": "2023-02-21T07:57:58.003Z"
      },
      {
        "duration": 12,
        "start_time": "2023-02-21T07:58:03.706Z"
      },
      {
        "duration": 12,
        "start_time": "2023-02-21T07:58:15.434Z"
      },
      {
        "duration": 79,
        "start_time": "2023-02-21T07:58:20.386Z"
      },
      {
        "duration": 14,
        "start_time": "2023-02-21T07:58:23.497Z"
      },
      {
        "duration": 781,
        "start_time": "2023-02-21T07:59:14.041Z"
      },
      {
        "duration": 20,
        "start_time": "2023-02-21T07:59:14.824Z"
      },
      {
        "duration": 25,
        "start_time": "2023-02-21T08:03:33.807Z"
      },
      {
        "duration": 30,
        "start_time": "2023-02-21T08:03:40.455Z"
      },
      {
        "duration": 43,
        "start_time": "2023-02-21T08:05:21.709Z"
      },
      {
        "duration": 10,
        "start_time": "2023-02-21T08:06:40.141Z"
      },
      {
        "duration": 13,
        "start_time": "2023-02-21T08:06:58.157Z"
      },
      {
        "duration": 11,
        "start_time": "2023-02-21T08:07:13.805Z"
      },
      {
        "duration": 340,
        "start_time": "2023-02-21T08:09:38.572Z"
      },
      {
        "duration": 246,
        "start_time": "2023-02-21T08:10:33.933Z"
      },
      {
        "duration": 250,
        "start_time": "2023-02-21T08:11:05.179Z"
      },
      {
        "duration": 809,
        "start_time": "2023-02-21T08:20:53.815Z"
      },
      {
        "duration": 811,
        "start_time": "2023-02-21T08:21:04.302Z"
      },
      {
        "duration": 963,
        "start_time": "2023-02-21T08:21:11.038Z"
      },
      {
        "duration": 782,
        "start_time": "2023-02-21T08:21:21.269Z"
      },
      {
        "duration": 683,
        "start_time": "2023-02-21T08:22:56.913Z"
      },
      {
        "duration": 333,
        "start_time": "2023-02-21T08:22:57.598Z"
      },
      {
        "duration": 10,
        "start_time": "2023-02-21T08:22:57.938Z"
      },
      {
        "duration": 36,
        "start_time": "2023-02-21T08:22:57.950Z"
      },
      {
        "duration": 30,
        "start_time": "2023-02-21T08:22:57.988Z"
      },
      {
        "duration": 23,
        "start_time": "2023-02-21T08:22:58.020Z"
      },
      {
        "duration": 23,
        "start_time": "2023-02-21T08:22:58.044Z"
      },
      {
        "duration": 36,
        "start_time": "2023-02-21T08:22:58.069Z"
      },
      {
        "duration": 25,
        "start_time": "2023-02-21T08:22:58.107Z"
      },
      {
        "duration": 53,
        "start_time": "2023-02-21T08:22:58.137Z"
      },
      {
        "duration": 27,
        "start_time": "2023-02-21T08:22:58.192Z"
      },
      {
        "duration": 19,
        "start_time": "2023-02-21T08:22:58.221Z"
      },
      {
        "duration": 59,
        "start_time": "2023-02-21T08:22:58.242Z"
      },
      {
        "duration": 20,
        "start_time": "2023-02-21T08:22:58.302Z"
      },
      {
        "duration": 29,
        "start_time": "2023-02-21T08:22:58.324Z"
      },
      {
        "duration": 42,
        "start_time": "2023-02-21T08:22:58.355Z"
      },
      {
        "duration": 79,
        "start_time": "2023-02-21T08:22:58.399Z"
      },
      {
        "duration": 807,
        "start_time": "2023-02-21T08:22:58.479Z"
      },
      {
        "duration": 86,
        "start_time": "2023-02-21T08:22:59.287Z"
      },
      {
        "duration": 0,
        "start_time": "2023-02-21T08:22:59.375Z"
      },
      {
        "duration": 0,
        "start_time": "2023-02-21T08:22:59.376Z"
      },
      {
        "duration": 0,
        "start_time": "2023-02-21T08:22:59.377Z"
      },
      {
        "duration": 0,
        "start_time": "2023-02-21T08:22:59.377Z"
      },
      {
        "duration": 0,
        "start_time": "2023-02-21T08:22:59.379Z"
      },
      {
        "duration": 798,
        "start_time": "2023-02-21T08:23:30.900Z"
      },
      {
        "duration": 898,
        "start_time": "2023-02-21T08:25:31.948Z"
      },
      {
        "duration": 693,
        "start_time": "2023-02-21T08:25:44.995Z"
      },
      {
        "duration": 262,
        "start_time": "2023-02-21T08:25:45.690Z"
      },
      {
        "duration": 11,
        "start_time": "2023-02-21T08:25:45.953Z"
      },
      {
        "duration": 16,
        "start_time": "2023-02-21T08:25:45.966Z"
      },
      {
        "duration": 8,
        "start_time": "2023-02-21T08:25:45.983Z"
      },
      {
        "duration": 12,
        "start_time": "2023-02-21T08:25:45.993Z"
      },
      {
        "duration": 15,
        "start_time": "2023-02-21T08:25:46.007Z"
      },
      {
        "duration": 27,
        "start_time": "2023-02-21T08:25:46.023Z"
      },
      {
        "duration": 13,
        "start_time": "2023-02-21T08:25:46.052Z"
      },
      {
        "duration": 27,
        "start_time": "2023-02-21T08:25:46.068Z"
      },
      {
        "duration": 44,
        "start_time": "2023-02-21T08:25:46.096Z"
      },
      {
        "duration": 11,
        "start_time": "2023-02-21T08:25:46.142Z"
      },
      {
        "duration": 34,
        "start_time": "2023-02-21T08:25:46.155Z"
      },
      {
        "duration": 9,
        "start_time": "2023-02-21T08:25:46.191Z"
      },
      {
        "duration": 6,
        "start_time": "2023-02-21T08:25:46.203Z"
      },
      {
        "duration": 27,
        "start_time": "2023-02-21T08:25:46.211Z"
      },
      {
        "duration": 67,
        "start_time": "2023-02-21T08:25:46.239Z"
      },
      {
        "duration": 815,
        "start_time": "2023-02-21T08:25:46.307Z"
      },
      {
        "duration": 2,
        "start_time": "2023-02-21T08:25:47.124Z"
      },
      {
        "duration": 52,
        "start_time": "2023-02-21T08:25:47.138Z"
      },
      {
        "duration": 11,
        "start_time": "2023-02-21T08:25:47.192Z"
      },
      {
        "duration": 356,
        "start_time": "2023-02-21T08:25:47.205Z"
      },
      {
        "duration": 103,
        "start_time": "2023-02-21T08:25:47.563Z"
      },
      {
        "duration": 65,
        "start_time": "2023-02-21T08:29:18.090Z"
      },
      {
        "duration": 57,
        "start_time": "2023-02-21T08:31:57.361Z"
      },
      {
        "duration": 38,
        "start_time": "2023-02-21T08:32:01.689Z"
      },
      {
        "duration": 12,
        "start_time": "2023-02-21T08:32:39.569Z"
      },
      {
        "duration": 33,
        "start_time": "2023-02-21T08:32:53.521Z"
      },
      {
        "duration": 36,
        "start_time": "2023-02-21T08:33:20.369Z"
      },
      {
        "duration": 40,
        "start_time": "2023-02-21T08:34:22.617Z"
      },
      {
        "duration": 687,
        "start_time": "2023-02-21T08:35:17.339Z"
      },
      {
        "duration": 372,
        "start_time": "2023-02-21T08:35:18.028Z"
      },
      {
        "duration": 12,
        "start_time": "2023-02-21T08:35:18.401Z"
      },
      {
        "duration": 39,
        "start_time": "2023-02-21T08:35:18.414Z"
      },
      {
        "duration": 39,
        "start_time": "2023-02-21T08:35:18.455Z"
      },
      {
        "duration": 35,
        "start_time": "2023-02-21T08:35:18.495Z"
      },
      {
        "duration": 20,
        "start_time": "2023-02-21T08:35:18.531Z"
      },
      {
        "duration": 41,
        "start_time": "2023-02-21T08:35:18.553Z"
      },
      {
        "duration": 20,
        "start_time": "2023-02-21T08:35:18.596Z"
      },
      {
        "duration": 47,
        "start_time": "2023-02-21T08:35:18.618Z"
      },
      {
        "duration": 25,
        "start_time": "2023-02-21T08:35:18.667Z"
      },
      {
        "duration": 32,
        "start_time": "2023-02-21T08:35:18.694Z"
      },
      {
        "duration": 58,
        "start_time": "2023-02-21T08:35:18.728Z"
      },
      {
        "duration": 12,
        "start_time": "2023-02-21T08:35:18.790Z"
      },
      {
        "duration": 22,
        "start_time": "2023-02-21T08:35:18.804Z"
      },
      {
        "duration": 27,
        "start_time": "2023-02-21T08:35:18.829Z"
      },
      {
        "duration": 121,
        "start_time": "2023-02-21T08:35:18.858Z"
      },
      {
        "duration": 856,
        "start_time": "2023-02-21T08:35:18.981Z"
      },
      {
        "duration": 54,
        "start_time": "2023-02-21T08:35:19.839Z"
      },
      {
        "duration": 53,
        "start_time": "2023-02-21T08:35:19.895Z"
      },
      {
        "duration": 10,
        "start_time": "2023-02-21T08:35:19.950Z"
      },
      {
        "duration": 397,
        "start_time": "2023-02-21T08:35:19.961Z"
      },
      {
        "duration": 34,
        "start_time": "2023-02-21T08:35:20.360Z"
      },
      {
        "duration": 676,
        "start_time": "2023-02-21T08:35:58.323Z"
      },
      {
        "duration": 330,
        "start_time": "2023-02-21T08:35:59.008Z"
      },
      {
        "duration": 11,
        "start_time": "2023-02-21T08:35:59.340Z"
      },
      {
        "duration": 9,
        "start_time": "2023-02-21T08:35:59.353Z"
      },
      {
        "duration": 8,
        "start_time": "2023-02-21T08:35:59.363Z"
      },
      {
        "duration": 10,
        "start_time": "2023-02-21T08:35:59.372Z"
      },
      {
        "duration": 12,
        "start_time": "2023-02-21T08:35:59.384Z"
      },
      {
        "duration": 49,
        "start_time": "2023-02-21T08:35:59.398Z"
      },
      {
        "duration": 12,
        "start_time": "2023-02-21T08:35:59.449Z"
      },
      {
        "duration": 37,
        "start_time": "2023-02-21T08:35:59.464Z"
      },
      {
        "duration": 39,
        "start_time": "2023-02-21T08:35:59.503Z"
      },
      {
        "duration": 12,
        "start_time": "2023-02-21T08:35:59.544Z"
      },
      {
        "duration": 30,
        "start_time": "2023-02-21T08:35:59.558Z"
      },
      {
        "duration": 10,
        "start_time": "2023-02-21T08:35:59.590Z"
      },
      {
        "duration": 35,
        "start_time": "2023-02-21T08:35:59.602Z"
      },
      {
        "duration": 60,
        "start_time": "2023-02-21T08:35:59.639Z"
      },
      {
        "duration": 807,
        "start_time": "2023-02-21T08:35:59.700Z"
      },
      {
        "duration": 61,
        "start_time": "2023-02-21T08:36:00.509Z"
      },
      {
        "duration": 65,
        "start_time": "2023-02-21T08:36:00.572Z"
      },
      {
        "duration": 14,
        "start_time": "2023-02-21T08:36:00.640Z"
      },
      {
        "duration": 362,
        "start_time": "2023-02-21T08:36:00.656Z"
      },
      {
        "duration": 40,
        "start_time": "2023-02-21T08:36:01.020Z"
      },
      {
        "duration": 1346,
        "start_time": "2023-02-21T08:36:01.062Z"
      },
      {
        "duration": 37,
        "start_time": "2023-02-21T08:37:43.288Z"
      },
      {
        "duration": 12,
        "start_time": "2023-02-21T08:37:47.376Z"
      },
      {
        "duration": 36,
        "start_time": "2023-02-21T08:37:54.863Z"
      },
      {
        "duration": 249,
        "start_time": "2023-02-21T08:38:17.456Z"
      },
      {
        "duration": 38,
        "start_time": "2023-02-21T08:39:17.224Z"
      },
      {
        "duration": 715,
        "start_time": "2023-02-21T08:39:23.904Z"
      },
      {
        "duration": 402,
        "start_time": "2023-02-21T08:39:24.622Z"
      },
      {
        "duration": 15,
        "start_time": "2023-02-21T08:39:25.026Z"
      },
      {
        "duration": 20,
        "start_time": "2023-02-21T08:39:25.044Z"
      },
      {
        "duration": 15,
        "start_time": "2023-02-21T08:39:25.066Z"
      },
      {
        "duration": 17,
        "start_time": "2023-02-21T08:39:25.083Z"
      },
      {
        "duration": 11,
        "start_time": "2023-02-21T08:39:25.101Z"
      },
      {
        "duration": 26,
        "start_time": "2023-02-21T08:39:25.114Z"
      },
      {
        "duration": 8,
        "start_time": "2023-02-21T08:39:25.142Z"
      },
      {
        "duration": 24,
        "start_time": "2023-02-21T08:39:25.154Z"
      },
      {
        "duration": 24,
        "start_time": "2023-02-21T08:39:25.180Z"
      },
      {
        "duration": 34,
        "start_time": "2023-02-21T08:39:25.205Z"
      },
      {
        "duration": 40,
        "start_time": "2023-02-21T08:39:25.241Z"
      },
      {
        "duration": 10,
        "start_time": "2023-02-21T08:39:25.283Z"
      },
      {
        "duration": 9,
        "start_time": "2023-02-21T08:39:25.295Z"
      },
      {
        "duration": 74,
        "start_time": "2023-02-21T08:39:25.306Z"
      },
      {
        "duration": 876,
        "start_time": "2023-02-21T08:39:25.382Z"
      },
      {
        "duration": 44,
        "start_time": "2023-02-21T08:39:26.260Z"
      },
      {
        "duration": 50,
        "start_time": "2023-02-21T08:39:26.306Z"
      },
      {
        "duration": 30,
        "start_time": "2023-02-21T08:39:26.357Z"
      },
      {
        "duration": 1771,
        "start_time": "2023-02-21T08:39:26.389Z"
      },
      {
        "duration": 8,
        "start_time": "2023-02-21T08:39:42.128Z"
      },
      {
        "duration": 26,
        "start_time": "2023-02-21T08:39:46.483Z"
      },
      {
        "duration": 36,
        "start_time": "2023-02-21T08:40:32.304Z"
      },
      {
        "duration": 712,
        "start_time": "2023-02-21T08:40:37.881Z"
      },
      {
        "duration": 262,
        "start_time": "2023-02-21T08:40:38.596Z"
      },
      {
        "duration": 12,
        "start_time": "2023-02-21T08:40:38.859Z"
      },
      {
        "duration": 16,
        "start_time": "2023-02-21T08:40:38.873Z"
      },
      {
        "duration": 10,
        "start_time": "2023-02-21T08:40:38.891Z"
      },
      {
        "duration": 18,
        "start_time": "2023-02-21T08:40:38.903Z"
      },
      {
        "duration": 11,
        "start_time": "2023-02-21T08:40:38.922Z"
      },
      {
        "duration": 26,
        "start_time": "2023-02-21T08:40:38.935Z"
      },
      {
        "duration": 14,
        "start_time": "2023-02-21T08:40:38.963Z"
      },
      {
        "duration": 41,
        "start_time": "2023-02-21T08:40:38.981Z"
      },
      {
        "duration": 33,
        "start_time": "2023-02-21T08:40:39.024Z"
      },
      {
        "duration": 20,
        "start_time": "2023-02-21T08:40:39.058Z"
      },
      {
        "duration": 38,
        "start_time": "2023-02-21T08:40:39.080Z"
      },
      {
        "duration": 11,
        "start_time": "2023-02-21T08:40:39.119Z"
      },
      {
        "duration": 7,
        "start_time": "2023-02-21T08:40:39.138Z"
      },
      {
        "duration": 70,
        "start_time": "2023-02-21T08:40:39.146Z"
      },
      {
        "duration": 930,
        "start_time": "2023-02-21T08:40:39.218Z"
      },
      {
        "duration": 46,
        "start_time": "2023-02-21T08:40:40.150Z"
      },
      {
        "duration": 54,
        "start_time": "2023-02-21T08:40:40.198Z"
      },
      {
        "duration": 35,
        "start_time": "2023-02-21T08:40:40.254Z"
      },
      {
        "duration": 7,
        "start_time": "2023-02-21T08:40:40.290Z"
      },
      {
        "duration": 36,
        "start_time": "2023-02-21T08:41:30.071Z"
      },
      {
        "duration": 619,
        "start_time": "2023-02-21T08:44:08.589Z"
      },
      {
        "duration": 310,
        "start_time": "2023-02-21T08:44:09.210Z"
      },
      {
        "duration": 20,
        "start_time": "2023-02-21T08:44:09.521Z"
      },
      {
        "duration": 5,
        "start_time": "2023-02-21T08:44:09.543Z"
      },
      {
        "duration": 21,
        "start_time": "2023-02-21T08:44:09.550Z"
      },
      {
        "duration": 13,
        "start_time": "2023-02-21T08:44:09.573Z"
      },
      {
        "duration": 26,
        "start_time": "2023-02-21T08:44:09.588Z"
      },
      {
        "duration": 28,
        "start_time": "2023-02-21T08:44:09.616Z"
      },
      {
        "duration": 20,
        "start_time": "2023-02-21T08:44:09.646Z"
      },
      {
        "duration": 46,
        "start_time": "2023-02-21T08:44:09.668Z"
      },
      {
        "duration": 29,
        "start_time": "2023-02-21T08:44:09.716Z"
      },
      {
        "duration": 20,
        "start_time": "2023-02-21T08:44:09.747Z"
      },
      {
        "duration": 29,
        "start_time": "2023-02-21T08:44:09.769Z"
      },
      {
        "duration": 13,
        "start_time": "2023-02-21T08:44:09.800Z"
      },
      {
        "duration": 32,
        "start_time": "2023-02-21T08:44:09.816Z"
      },
      {
        "duration": 63,
        "start_time": "2023-02-21T08:44:09.850Z"
      },
      {
        "duration": 884,
        "start_time": "2023-02-21T08:44:09.914Z"
      },
      {
        "duration": 52,
        "start_time": "2023-02-21T08:44:10.800Z"
      },
      {
        "duration": 36,
        "start_time": "2023-02-21T08:44:10.853Z"
      },
      {
        "duration": 101,
        "start_time": "2023-02-21T08:44:10.891Z"
      },
      {
        "duration": 0,
        "start_time": "2023-02-21T08:44:10.994Z"
      },
      {
        "duration": 95,
        "start_time": "2023-02-21T08:45:16.860Z"
      },
      {
        "duration": 16,
        "start_time": "2023-02-21T08:45:23.308Z"
      },
      {
        "duration": 14,
        "start_time": "2023-02-21T08:45:34.317Z"
      },
      {
        "duration": 12,
        "start_time": "2023-02-21T08:46:17.796Z"
      },
      {
        "duration": 38,
        "start_time": "2023-02-21T08:46:21.067Z"
      },
      {
        "duration": 12,
        "start_time": "2023-02-21T08:46:22.331Z"
      },
      {
        "duration": 39,
        "start_time": "2023-02-21T08:46:35.740Z"
      },
      {
        "duration": 7,
        "start_time": "2023-02-21T08:46:39.123Z"
      },
      {
        "duration": 49,
        "start_time": "2023-02-21T08:46:43.772Z"
      },
      {
        "duration": 82,
        "start_time": "2023-02-21T08:46:50.099Z"
      },
      {
        "duration": 52,
        "start_time": "2023-02-21T08:47:37.034Z"
      },
      {
        "duration": 793,
        "start_time": "2023-02-21T08:47:44.902Z"
      },
      {
        "duration": 253,
        "start_time": "2023-02-21T08:47:45.697Z"
      },
      {
        "duration": 10,
        "start_time": "2023-02-21T08:47:45.952Z"
      },
      {
        "duration": 9,
        "start_time": "2023-02-21T08:47:45.964Z"
      },
      {
        "duration": 10,
        "start_time": "2023-02-21T08:47:45.975Z"
      },
      {
        "duration": 25,
        "start_time": "2023-02-21T08:47:45.987Z"
      },
      {
        "duration": 16,
        "start_time": "2023-02-21T08:47:46.014Z"
      },
      {
        "duration": 30,
        "start_time": "2023-02-21T08:47:46.032Z"
      },
      {
        "duration": 13,
        "start_time": "2023-02-21T08:47:46.064Z"
      },
      {
        "duration": 30,
        "start_time": "2023-02-21T08:47:46.080Z"
      },
      {
        "duration": 28,
        "start_time": "2023-02-21T08:47:46.112Z"
      },
      {
        "duration": 25,
        "start_time": "2023-02-21T08:47:46.142Z"
      },
      {
        "duration": 31,
        "start_time": "2023-02-21T08:47:46.169Z"
      },
      {
        "duration": 18,
        "start_time": "2023-02-21T08:47:46.202Z"
      },
      {
        "duration": 10,
        "start_time": "2023-02-21T08:47:46.221Z"
      },
      {
        "duration": 75,
        "start_time": "2023-02-21T08:47:46.233Z"
      },
      {
        "duration": 829,
        "start_time": "2023-02-21T08:47:46.310Z"
      },
      {
        "duration": 44,
        "start_time": "2023-02-21T08:47:47.140Z"
      },
      {
        "duration": 57,
        "start_time": "2023-02-21T08:47:47.185Z"
      },
      {
        "duration": 32,
        "start_time": "2023-02-21T08:47:47.244Z"
      },
      {
        "duration": 6,
        "start_time": "2023-02-21T08:47:47.278Z"
      },
      {
        "duration": 90,
        "start_time": "2023-02-21T08:47:47.286Z"
      },
      {
        "duration": 134,
        "start_time": "2023-02-21T08:50:48.866Z"
      },
      {
        "duration": 53,
        "start_time": "2023-02-21T08:50:54.218Z"
      },
      {
        "duration": 105,
        "start_time": "2023-02-21T08:51:02.081Z"
      },
      {
        "duration": 711,
        "start_time": "2023-02-21T10:44:02.686Z"
      },
      {
        "duration": 324,
        "start_time": "2023-02-21T10:44:03.399Z"
      },
      {
        "duration": 28,
        "start_time": "2023-02-21T10:44:03.725Z"
      },
      {
        "duration": 34,
        "start_time": "2023-02-21T10:44:03.757Z"
      },
      {
        "duration": 24,
        "start_time": "2023-02-21T10:44:03.793Z"
      },
      {
        "duration": 61,
        "start_time": "2023-02-21T10:44:03.819Z"
      },
      {
        "duration": 43,
        "start_time": "2023-02-21T10:44:03.882Z"
      },
      {
        "duration": 62,
        "start_time": "2023-02-21T10:44:03.927Z"
      },
      {
        "duration": 31,
        "start_time": "2023-02-21T10:44:03.992Z"
      },
      {
        "duration": 69,
        "start_time": "2023-02-21T10:44:04.025Z"
      },
      {
        "duration": 34,
        "start_time": "2023-02-21T10:44:04.096Z"
      },
      {
        "duration": 53,
        "start_time": "2023-02-21T10:44:04.132Z"
      },
      {
        "duration": 37,
        "start_time": "2023-02-21T10:44:04.187Z"
      },
      {
        "duration": 56,
        "start_time": "2023-02-21T10:44:04.226Z"
      },
      {
        "duration": 44,
        "start_time": "2023-02-21T10:44:04.284Z"
      },
      {
        "duration": 98,
        "start_time": "2023-02-21T10:44:04.330Z"
      },
      {
        "duration": 917,
        "start_time": "2023-02-21T10:44:04.430Z"
      },
      {
        "duration": 50,
        "start_time": "2023-02-21T10:44:05.355Z"
      },
      {
        "duration": 56,
        "start_time": "2023-02-21T10:44:05.407Z"
      },
      {
        "duration": 19,
        "start_time": "2023-02-21T10:44:05.465Z"
      },
      {
        "duration": 32,
        "start_time": "2023-02-21T10:44:05.486Z"
      },
      {
        "duration": 99,
        "start_time": "2023-02-21T10:44:05.520Z"
      },
      {
        "duration": 0,
        "start_time": "2023-02-21T10:44:05.621Z"
      },
      {
        "duration": 7,
        "start_time": "2023-02-21T10:45:10.971Z"
      },
      {
        "duration": 73,
        "start_time": "2023-02-21T10:47:37.930Z"
      },
      {
        "duration": 4,
        "start_time": "2023-02-21T10:48:16.961Z"
      },
      {
        "duration": 34,
        "start_time": "2023-02-21T10:48:22.082Z"
      },
      {
        "duration": 7,
        "start_time": "2023-02-21T10:48:41.169Z"
      },
      {
        "duration": 35,
        "start_time": "2023-02-21T10:48:41.874Z"
      },
      {
        "duration": 6,
        "start_time": "2023-02-21T10:49:04.723Z"
      },
      {
        "duration": 33,
        "start_time": "2023-02-21T10:49:05.202Z"
      },
      {
        "duration": 33,
        "start_time": "2023-02-21T10:50:07.834Z"
      },
      {
        "duration": 6,
        "start_time": "2023-02-21T10:51:29.273Z"
      },
      {
        "duration": 31,
        "start_time": "2023-02-21T10:51:29.937Z"
      },
      {
        "duration": 76,
        "start_time": "2023-02-21T10:54:03.735Z"
      },
      {
        "duration": 636,
        "start_time": "2023-02-21T10:55:28.574Z"
      },
      {
        "duration": 385,
        "start_time": "2023-02-21T10:55:29.212Z"
      },
      {
        "duration": 12,
        "start_time": "2023-02-21T10:55:29.628Z"
      },
      {
        "duration": 5,
        "start_time": "2023-02-21T10:55:31.333Z"
      },
      {
        "duration": 4,
        "start_time": "2023-02-21T10:55:32.174Z"
      },
      {
        "duration": 5,
        "start_time": "2023-02-21T10:55:33.694Z"
      },
      {
        "duration": 7,
        "start_time": "2023-02-21T10:55:34.421Z"
      },
      {
        "duration": 21,
        "start_time": "2023-02-21T10:55:35.230Z"
      },
      {
        "duration": 80,
        "start_time": "2023-02-21T10:55:36.230Z"
      },
      {
        "duration": 112,
        "start_time": "2023-02-21T10:56:08.920Z"
      },
      {
        "duration": 103,
        "start_time": "2023-02-21T10:56:14.333Z"
      },
      {
        "duration": 78,
        "start_time": "2023-02-21T10:56:20.157Z"
      },
      {
        "duration": 6,
        "start_time": "2023-02-21T10:57:26.415Z"
      },
      {
        "duration": 86,
        "start_time": "2023-02-21T10:57:31.865Z"
      },
      {
        "duration": 9,
        "start_time": "2023-02-21T10:57:46.445Z"
      },
      {
        "duration": 688,
        "start_time": "2023-02-21T10:57:52.731Z"
      },
      {
        "duration": 267,
        "start_time": "2023-02-21T10:57:53.421Z"
      },
      {
        "duration": 10,
        "start_time": "2023-02-21T10:57:53.690Z"
      },
      {
        "duration": 39,
        "start_time": "2023-02-21T10:57:53.702Z"
      },
      {
        "duration": 19,
        "start_time": "2023-02-21T10:57:53.743Z"
      },
      {
        "duration": 19,
        "start_time": "2023-02-21T10:57:53.764Z"
      },
      {
        "duration": 17,
        "start_time": "2023-02-21T10:57:53.785Z"
      },
      {
        "duration": 46,
        "start_time": "2023-02-21T10:57:53.804Z"
      },
      {
        "duration": 10,
        "start_time": "2023-02-21T10:57:53.851Z"
      },
      {
        "duration": 1468,
        "start_time": "2023-02-21T10:57:53.864Z"
      },
      {
        "duration": 0,
        "start_time": "2023-02-21T10:57:55.334Z"
      },
      {
        "duration": 0,
        "start_time": "2023-02-21T10:57:55.335Z"
      },
      {
        "duration": 0,
        "start_time": "2023-02-21T10:57:55.336Z"
      },
      {
        "duration": 0,
        "start_time": "2023-02-21T10:57:55.337Z"
      },
      {
        "duration": 0,
        "start_time": "2023-02-21T10:57:55.339Z"
      },
      {
        "duration": 0,
        "start_time": "2023-02-21T10:57:55.340Z"
      },
      {
        "duration": 0,
        "start_time": "2023-02-21T10:57:55.341Z"
      },
      {
        "duration": 0,
        "start_time": "2023-02-21T10:57:55.343Z"
      },
      {
        "duration": 0,
        "start_time": "2023-02-21T10:57:55.344Z"
      },
      {
        "duration": 0,
        "start_time": "2023-02-21T10:57:55.345Z"
      },
      {
        "duration": 0,
        "start_time": "2023-02-21T10:57:55.346Z"
      },
      {
        "duration": 0,
        "start_time": "2023-02-21T10:57:55.347Z"
      },
      {
        "duration": 0,
        "start_time": "2023-02-21T10:57:55.348Z"
      },
      {
        "duration": 0,
        "start_time": "2023-02-21T10:57:55.349Z"
      },
      {
        "duration": 0,
        "start_time": "2023-02-21T10:57:55.350Z"
      },
      {
        "duration": 655,
        "start_time": "2023-02-21T10:58:04.076Z"
      },
      {
        "duration": 285,
        "start_time": "2023-02-21T10:58:04.733Z"
      },
      {
        "duration": 11,
        "start_time": "2023-02-21T10:58:05.332Z"
      },
      {
        "duration": 5,
        "start_time": "2023-02-21T10:58:06.172Z"
      },
      {
        "duration": 4,
        "start_time": "2023-02-21T10:58:06.987Z"
      },
      {
        "duration": 5,
        "start_time": "2023-02-21T10:58:08.700Z"
      },
      {
        "duration": 6,
        "start_time": "2023-02-21T10:58:10.220Z"
      },
      {
        "duration": 19,
        "start_time": "2023-02-21T10:58:11.132Z"
      },
      {
        "duration": 4,
        "start_time": "2023-02-21T10:58:11.956Z"
      },
      {
        "duration": 20,
        "start_time": "2023-02-21T10:58:21.139Z"
      },
      {
        "duration": 1360,
        "start_time": "2023-02-21T10:58:25.803Z"
      },
      {
        "duration": 9,
        "start_time": "2023-02-21T10:58:29.821Z"
      },
      {
        "duration": 24,
        "start_time": "2023-02-21T10:58:41.100Z"
      },
      {
        "duration": 25,
        "start_time": "2023-02-21T10:58:48.771Z"
      },
      {
        "duration": 12,
        "start_time": "2023-02-21T10:58:59.435Z"
      },
      {
        "duration": 8,
        "start_time": "2023-02-21T10:59:05.844Z"
      },
      {
        "duration": 25,
        "start_time": "2023-02-21T10:59:07.468Z"
      },
      {
        "duration": 783,
        "start_time": "2023-02-21T11:00:01.820Z"
      },
      {
        "duration": 316,
        "start_time": "2023-02-21T11:00:02.605Z"
      },
      {
        "duration": 29,
        "start_time": "2023-02-21T11:00:02.922Z"
      },
      {
        "duration": 30,
        "start_time": "2023-02-21T11:00:02.953Z"
      },
      {
        "duration": 26,
        "start_time": "2023-02-21T11:00:02.984Z"
      },
      {
        "duration": 38,
        "start_time": "2023-02-21T11:00:03.011Z"
      },
      {
        "duration": 33,
        "start_time": "2023-02-21T11:00:03.050Z"
      },
      {
        "duration": 49,
        "start_time": "2023-02-21T11:00:03.084Z"
      },
      {
        "duration": 33,
        "start_time": "2023-02-21T11:00:03.135Z"
      },
      {
        "duration": 42,
        "start_time": "2023-02-21T11:00:03.171Z"
      },
      {
        "duration": 51,
        "start_time": "2023-02-21T11:00:03.215Z"
      },
      {
        "duration": 32,
        "start_time": "2023-02-21T11:00:03.267Z"
      },
      {
        "duration": 20,
        "start_time": "2023-02-21T11:00:03.300Z"
      },
      {
        "duration": 54,
        "start_time": "2023-02-21T11:00:03.321Z"
      },
      {
        "duration": 2000,
        "start_time": "2023-02-21T11:00:03.377Z"
      },
      {
        "duration": 0,
        "start_time": "2023-02-21T11:00:05.379Z"
      },
      {
        "duration": 0,
        "start_time": "2023-02-21T11:00:05.380Z"
      },
      {
        "duration": 0,
        "start_time": "2023-02-21T11:00:05.382Z"
      },
      {
        "duration": 0,
        "start_time": "2023-02-21T11:00:05.383Z"
      },
      {
        "duration": 0,
        "start_time": "2023-02-21T11:00:05.385Z"
      },
      {
        "duration": 0,
        "start_time": "2023-02-21T11:00:05.386Z"
      },
      {
        "duration": 0,
        "start_time": "2023-02-21T11:00:05.387Z"
      },
      {
        "duration": 0,
        "start_time": "2023-02-21T11:00:05.389Z"
      },
      {
        "duration": 0,
        "start_time": "2023-02-21T11:00:05.390Z"
      },
      {
        "duration": 0,
        "start_time": "2023-02-21T11:00:05.392Z"
      },
      {
        "duration": 790,
        "start_time": "2023-02-21T11:00:21.834Z"
      },
      {
        "duration": 292,
        "start_time": "2023-02-21T11:00:22.634Z"
      },
      {
        "duration": 17,
        "start_time": "2023-02-21T11:00:23.490Z"
      },
      {
        "duration": 5,
        "start_time": "2023-02-21T11:00:24.226Z"
      },
      {
        "duration": 4,
        "start_time": "2023-02-21T11:00:24.962Z"
      },
      {
        "duration": 5,
        "start_time": "2023-02-21T11:00:26.162Z"
      },
      {
        "duration": 7,
        "start_time": "2023-02-21T11:00:29.658Z"
      },
      {
        "duration": 23,
        "start_time": "2023-02-21T11:00:30.810Z"
      },
      {
        "duration": 106,
        "start_time": "2023-02-21T11:01:10.930Z"
      },
      {
        "duration": 6,
        "start_time": "2023-02-21T11:01:14.662Z"
      },
      {
        "duration": 8,
        "start_time": "2023-02-21T11:01:34.461Z"
      },
      {
        "duration": 10,
        "start_time": "2023-02-21T11:01:47.243Z"
      },
      {
        "duration": 5,
        "start_time": "2023-02-21T11:01:59.826Z"
      },
      {
        "duration": 8,
        "start_time": "2023-02-21T11:02:01.289Z"
      },
      {
        "duration": 25,
        "start_time": "2023-02-21T11:02:06.657Z"
      },
      {
        "duration": 24,
        "start_time": "2023-02-21T11:02:08.001Z"
      },
      {
        "duration": 7,
        "start_time": "2023-02-21T11:02:09.970Z"
      },
      {
        "duration": 24,
        "start_time": "2023-02-21T11:02:13.081Z"
      },
      {
        "duration": 674,
        "start_time": "2023-02-21T11:02:56.785Z"
      },
      {
        "duration": 264,
        "start_time": "2023-02-21T11:02:57.467Z"
      },
      {
        "duration": 28,
        "start_time": "2023-02-21T11:02:58.225Z"
      },
      {
        "duration": 4,
        "start_time": "2023-02-21T11:02:58.993Z"
      },
      {
        "duration": 8,
        "start_time": "2023-02-21T11:02:59.653Z"
      },
      {
        "duration": 5,
        "start_time": "2023-02-21T11:03:01.232Z"
      },
      {
        "duration": 7,
        "start_time": "2023-02-21T11:03:02.065Z"
      },
      {
        "duration": 18,
        "start_time": "2023-02-21T11:03:02.905Z"
      },
      {
        "duration": 3,
        "start_time": "2023-02-21T11:03:03.762Z"
      },
      {
        "duration": 1761,
        "start_time": "2023-02-21T11:03:05.033Z"
      },
      {
        "duration": 0,
        "start_time": "2023-02-21T11:03:06.796Z"
      },
      {
        "duration": 1557,
        "start_time": "2023-02-21T11:03:06.873Z"
      },
      {
        "duration": 8,
        "start_time": "2023-02-21T11:03:14.209Z"
      },
      {
        "duration": 31,
        "start_time": "2023-02-21T11:03:27.721Z"
      },
      {
        "duration": 9,
        "start_time": "2023-02-21T11:03:29.177Z"
      },
      {
        "duration": 25,
        "start_time": "2023-02-21T11:03:30.104Z"
      },
      {
        "duration": 6,
        "start_time": "2023-02-21T11:03:47.674Z"
      },
      {
        "duration": 8,
        "start_time": "2023-02-21T11:03:52.176Z"
      },
      {
        "duration": 25,
        "start_time": "2023-02-21T11:04:01.376Z"
      },
      {
        "duration": 15,
        "start_time": "2023-02-21T11:04:06.601Z"
      },
      {
        "duration": 9,
        "start_time": "2023-02-21T11:04:07.384Z"
      },
      {
        "duration": 33,
        "start_time": "2023-02-21T11:04:08.365Z"
      },
      {
        "duration": 23,
        "start_time": "2023-02-21T11:04:49.584Z"
      },
      {
        "duration": 26,
        "start_time": "2023-02-21T11:04:53.353Z"
      },
      {
        "duration": 1457,
        "start_time": "2023-02-21T11:04:56.263Z"
      },
      {
        "duration": 10,
        "start_time": "2023-02-21T11:05:01.224Z"
      },
      {
        "duration": 2432,
        "start_time": "2023-02-21T11:05:02.608Z"
      },
      {
        "duration": 6,
        "start_time": "2023-02-21T11:05:10.603Z"
      },
      {
        "duration": 9,
        "start_time": "2023-02-21T11:06:30.967Z"
      },
      {
        "duration": 16,
        "start_time": "2023-02-21T11:06:33.400Z"
      },
      {
        "duration": 13,
        "start_time": "2023-02-21T11:06:43.832Z"
      },
      {
        "duration": 76,
        "start_time": "2023-02-21T11:06:52.811Z"
      },
      {
        "duration": 13,
        "start_time": "2023-02-21T11:06:57.865Z"
      },
      {
        "duration": 950,
        "start_time": "2023-02-21T11:07:08.962Z"
      },
      {
        "duration": 69,
        "start_time": "2023-02-21T11:07:29.928Z"
      },
      {
        "duration": 32,
        "start_time": "2023-02-21T11:08:39.264Z"
      },
      {
        "duration": 7,
        "start_time": "2023-02-21T11:09:00.774Z"
      },
      {
        "duration": 39,
        "start_time": "2023-02-21T11:09:02.569Z"
      },
      {
        "duration": 7,
        "start_time": "2023-02-21T11:11:19.005Z"
      },
      {
        "duration": 94,
        "start_time": "2023-02-21T11:11:20.022Z"
      },
      {
        "duration": 73,
        "start_time": "2023-02-21T11:11:40.501Z"
      },
      {
        "duration": 79,
        "start_time": "2023-02-21T11:11:58.941Z"
      },
      {
        "duration": 9,
        "start_time": "2023-02-21T11:16:49.626Z"
      },
      {
        "duration": 80,
        "start_time": "2023-02-21T11:17:39.073Z"
      },
      {
        "duration": 6,
        "start_time": "2023-02-21T11:17:45.659Z"
      },
      {
        "duration": 10,
        "start_time": "2023-02-21T11:17:46.531Z"
      },
      {
        "duration": 6,
        "start_time": "2023-02-21T11:18:03.394Z"
      },
      {
        "duration": 91,
        "start_time": "2023-02-21T11:18:04.089Z"
      },
      {
        "duration": 38,
        "start_time": "2023-02-21T11:30:08.451Z"
      },
      {
        "duration": 80,
        "start_time": "2023-02-21T11:31:31.732Z"
      },
      {
        "duration": 6,
        "start_time": "2023-02-21T11:31:35.072Z"
      },
      {
        "duration": 100,
        "start_time": "2023-02-21T11:31:35.891Z"
      },
      {
        "duration": 8,
        "start_time": "2023-02-21T11:39:29.239Z"
      },
      {
        "duration": 89,
        "start_time": "2023-02-21T11:39:31.799Z"
      },
      {
        "duration": 8,
        "start_time": "2023-02-21T11:39:57.768Z"
      },
      {
        "duration": 154,
        "start_time": "2023-02-21T11:39:58.439Z"
      },
      {
        "duration": 8,
        "start_time": "2023-02-21T11:42:40.397Z"
      },
      {
        "duration": 163,
        "start_time": "2023-02-21T11:42:41.046Z"
      },
      {
        "duration": 8,
        "start_time": "2023-02-21T11:46:17.120Z"
      },
      {
        "duration": 98,
        "start_time": "2023-02-21T11:46:59.819Z"
      },
      {
        "duration": 8,
        "start_time": "2023-02-21T11:47:14.227Z"
      },
      {
        "duration": 107,
        "start_time": "2023-02-21T11:47:16.003Z"
      },
      {
        "duration": 7,
        "start_time": "2023-02-21T11:47:27.724Z"
      },
      {
        "duration": 151,
        "start_time": "2023-02-21T11:47:28.263Z"
      },
      {
        "duration": 10,
        "start_time": "2023-02-21T11:51:23.977Z"
      },
      {
        "duration": 152,
        "start_time": "2023-02-21T11:51:38.759Z"
      },
      {
        "duration": 138,
        "start_time": "2023-02-21T11:53:37.471Z"
      },
      {
        "duration": 144,
        "start_time": "2023-02-21T11:53:58.928Z"
      },
      {
        "duration": 10,
        "start_time": "2023-02-21T11:54:28.624Z"
      },
      {
        "duration": 146,
        "start_time": "2023-02-21T11:54:29.392Z"
      },
      {
        "duration": 10,
        "start_time": "2023-02-21T11:54:43.000Z"
      },
      {
        "duration": 636,
        "start_time": "2023-02-21T11:54:43.583Z"
      },
      {
        "duration": 12,
        "start_time": "2023-02-21T11:55:30.934Z"
      },
      {
        "duration": 68,
        "start_time": "2023-02-21T11:55:31.567Z"
      },
      {
        "duration": 1516,
        "start_time": "2023-02-21T11:55:32.265Z"
      },
      {
        "duration": 9,
        "start_time": "2023-02-21T11:56:50.375Z"
      },
      {
        "duration": 1024,
        "start_time": "2023-02-21T11:56:51.072Z"
      },
      {
        "duration": 9,
        "start_time": "2023-02-21T11:57:34.518Z"
      },
      {
        "duration": 1221,
        "start_time": "2023-02-21T11:57:35.067Z"
      },
      {
        "duration": 1398,
        "start_time": "2023-02-21T11:59:28.620Z"
      },
      {
        "duration": 8,
        "start_time": "2023-02-21T12:20:01.377Z"
      },
      {
        "duration": 15,
        "start_time": "2023-02-21T12:20:10.633Z"
      },
      {
        "duration": 88,
        "start_time": "2023-02-21T12:20:47.545Z"
      },
      {
        "duration": 20,
        "start_time": "2023-02-21T12:20:55.473Z"
      },
      {
        "duration": 17,
        "start_time": "2023-02-21T12:21:17.473Z"
      },
      {
        "duration": 23,
        "start_time": "2023-02-21T12:21:25.225Z"
      },
      {
        "duration": 20,
        "start_time": "2023-02-21T12:22:54.440Z"
      },
      {
        "duration": 21,
        "start_time": "2023-02-21T12:23:27.832Z"
      },
      {
        "duration": 708,
        "start_time": "2023-02-21T12:25:18.519Z"
      },
      {
        "duration": 429,
        "start_time": "2023-02-21T12:25:19.229Z"
      },
      {
        "duration": 11,
        "start_time": "2023-02-21T12:25:19.660Z"
      },
      {
        "duration": 16,
        "start_time": "2023-02-21T12:25:19.674Z"
      },
      {
        "duration": 7,
        "start_time": "2023-02-21T12:25:19.692Z"
      },
      {
        "duration": 8,
        "start_time": "2023-02-21T12:25:19.700Z"
      },
      {
        "duration": 8,
        "start_time": "2023-02-21T12:25:19.710Z"
      },
      {
        "duration": 32,
        "start_time": "2023-02-21T12:25:19.720Z"
      },
      {
        "duration": 16,
        "start_time": "2023-02-21T12:25:19.754Z"
      },
      {
        "duration": 24,
        "start_time": "2023-02-21T12:25:19.772Z"
      },
      {
        "duration": 37,
        "start_time": "2023-02-21T12:25:19.797Z"
      },
      {
        "duration": 26,
        "start_time": "2023-02-21T12:25:19.836Z"
      },
      {
        "duration": 17,
        "start_time": "2023-02-21T12:25:19.864Z"
      },
      {
        "duration": 45,
        "start_time": "2023-02-21T12:25:19.883Z"
      },
      {
        "duration": 25,
        "start_time": "2023-02-21T12:25:19.930Z"
      },
      {
        "duration": 11,
        "start_time": "2023-02-21T12:25:19.957Z"
      },
      {
        "duration": 41,
        "start_time": "2023-02-21T12:25:19.969Z"
      },
      {
        "duration": 101,
        "start_time": "2023-02-21T12:25:20.011Z"
      },
      {
        "duration": 792,
        "start_time": "2023-02-21T12:25:20.113Z"
      },
      {
        "duration": 57,
        "start_time": "2023-02-21T12:25:20.907Z"
      },
      {
        "duration": 42,
        "start_time": "2023-02-21T12:25:20.966Z"
      },
      {
        "duration": 10,
        "start_time": "2023-02-21T12:25:21.009Z"
      },
      {
        "duration": 30,
        "start_time": "2023-02-21T12:25:21.038Z"
      },
      {
        "duration": 36,
        "start_time": "2023-02-21T12:25:21.070Z"
      },
      {
        "duration": 1213,
        "start_time": "2023-02-21T12:25:21.108Z"
      },
      {
        "duration": 120,
        "start_time": "2023-02-21T12:25:22.323Z"
      },
      {
        "duration": 0,
        "start_time": "2023-02-21T12:25:22.446Z"
      },
      {
        "duration": 19,
        "start_time": "2023-02-21T12:25:31.775Z"
      },
      {
        "duration": 18,
        "start_time": "2023-02-21T12:26:28.239Z"
      },
      {
        "duration": 10,
        "start_time": "2023-02-21T12:29:52.629Z"
      },
      {
        "duration": 8,
        "start_time": "2023-02-21T12:31:33.494Z"
      },
      {
        "duration": 66,
        "start_time": "2023-02-21T12:32:07.154Z"
      },
      {
        "duration": 6,
        "start_time": "2023-02-21T12:33:22.924Z"
      },
      {
        "duration": 615,
        "start_time": "2023-02-21T12:33:39.204Z"
      },
      {
        "duration": 67,
        "start_time": "2023-02-21T12:37:34.513Z"
      },
      {
        "duration": 24,
        "start_time": "2023-02-21T12:37:44.665Z"
      },
      {
        "duration": 40,
        "start_time": "2023-02-21T12:37:47.881Z"
      },
      {
        "duration": 37,
        "start_time": "2023-02-21T12:38:43.545Z"
      },
      {
        "duration": 38,
        "start_time": "2023-02-21T12:39:15.937Z"
      },
      {
        "duration": 660,
        "start_time": "2023-02-21T13:02:18.188Z"
      },
      {
        "duration": 40,
        "start_time": "2023-02-21T13:03:17.980Z"
      },
      {
        "duration": 44,
        "start_time": "2023-02-21T13:03:23.708Z"
      },
      {
        "duration": 87,
        "start_time": "2023-02-21T13:05:08.291Z"
      },
      {
        "duration": 515,
        "start_time": "2023-02-21T13:05:36.212Z"
      },
      {
        "duration": 283,
        "start_time": "2023-02-21T13:07:29.794Z"
      },
      {
        "duration": 42,
        "start_time": "2023-02-21T13:07:39.347Z"
      },
      {
        "duration": 300,
        "start_time": "2023-02-21T13:08:24.666Z"
      },
      {
        "duration": 308,
        "start_time": "2023-02-21T13:08:31.338Z"
      },
      {
        "duration": 308,
        "start_time": "2023-02-21T13:10:33.554Z"
      },
      {
        "duration": 404,
        "start_time": "2023-02-21T13:11:05.753Z"
      },
      {
        "duration": 396,
        "start_time": "2023-02-21T13:17:51.253Z"
      },
      {
        "duration": 730,
        "start_time": "2023-02-21T13:18:06.349Z"
      },
      {
        "duration": 77,
        "start_time": "2023-02-21T13:19:48.412Z"
      },
      {
        "duration": 54,
        "start_time": "2023-02-21T13:21:12.363Z"
      },
      {
        "duration": 1519,
        "start_time": "2023-02-21T13:21:31.971Z"
      },
      {
        "duration": 678,
        "start_time": "2023-02-21T13:22:03.979Z"
      },
      {
        "duration": 342,
        "start_time": "2023-02-21T13:22:28.051Z"
      },
      {
        "duration": 336,
        "start_time": "2023-02-21T13:22:43.595Z"
      },
      {
        "duration": 342,
        "start_time": "2023-02-21T13:23:05.550Z"
      },
      {
        "duration": 365,
        "start_time": "2023-02-21T13:23:55.434Z"
      },
      {
        "duration": 374,
        "start_time": "2023-02-21T13:24:12.690Z"
      },
      {
        "duration": 454,
        "start_time": "2023-02-21T13:24:17.098Z"
      },
      {
        "duration": 292,
        "start_time": "2023-02-21T13:24:21.817Z"
      },
      {
        "duration": 48,
        "start_time": "2023-02-21T13:27:03.168Z"
      },
      {
        "duration": 54,
        "start_time": "2023-02-21T13:27:30.496Z"
      },
      {
        "duration": 42,
        "start_time": "2023-02-21T13:29:58.991Z"
      },
      {
        "duration": 62,
        "start_time": "2023-02-21T13:34:06.221Z"
      },
      {
        "duration": 70,
        "start_time": "2023-02-21T13:37:28.235Z"
      },
      {
        "duration": 69,
        "start_time": "2023-02-21T13:37:35.059Z"
      },
      {
        "duration": 65,
        "start_time": "2023-02-21T13:38:11.019Z"
      },
      {
        "duration": 59,
        "start_time": "2023-02-21T13:39:27.841Z"
      },
      {
        "duration": 17,
        "start_time": "2023-02-21T13:41:37.737Z"
      },
      {
        "duration": 30,
        "start_time": "2023-02-21T13:42:57.968Z"
      },
      {
        "duration": 25,
        "start_time": "2023-02-21T13:48:01.854Z"
      },
      {
        "duration": 181,
        "start_time": "2023-02-21T13:48:15.660Z"
      },
      {
        "duration": 208,
        "start_time": "2023-02-21T13:48:20.605Z"
      },
      {
        "duration": 20,
        "start_time": "2023-02-21T13:50:00.691Z"
      },
      {
        "duration": 22,
        "start_time": "2023-02-21T13:51:13.131Z"
      },
      {
        "duration": 57,
        "start_time": "2023-02-21T13:51:23.363Z"
      },
      {
        "duration": 19,
        "start_time": "2023-02-21T13:53:51.058Z"
      },
      {
        "duration": 17,
        "start_time": "2023-02-21T13:55:54.392Z"
      },
      {
        "duration": 29,
        "start_time": "2023-02-21T13:56:04.288Z"
      },
      {
        "duration": 68,
        "start_time": "2023-02-21T13:57:32.864Z"
      },
      {
        "duration": 63,
        "start_time": "2023-02-21T13:57:50.848Z"
      },
      {
        "duration": 53,
        "start_time": "2023-02-21T13:59:37.303Z"
      },
      {
        "duration": 75,
        "start_time": "2023-02-21T13:59:42.927Z"
      },
      {
        "duration": 64,
        "start_time": "2023-02-21T14:00:02.918Z"
      },
      {
        "duration": 86,
        "start_time": "2023-02-21T14:01:20.101Z"
      },
      {
        "duration": 69,
        "start_time": "2023-02-21T14:01:36.093Z"
      },
      {
        "duration": 4,
        "start_time": "2023-02-21T14:01:54.150Z"
      },
      {
        "duration": 62,
        "start_time": "2023-02-21T14:01:59.757Z"
      },
      {
        "duration": 75,
        "start_time": "2023-02-21T14:02:14.877Z"
      },
      {
        "duration": 65,
        "start_time": "2023-02-21T14:02:20.412Z"
      },
      {
        "duration": 68,
        "start_time": "2023-02-21T14:03:45.877Z"
      },
      {
        "duration": 77,
        "start_time": "2023-02-21T14:03:52.252Z"
      },
      {
        "duration": 70,
        "start_time": "2023-02-21T14:03:56.028Z"
      },
      {
        "duration": 65,
        "start_time": "2023-02-21T14:04:01.660Z"
      },
      {
        "duration": 71,
        "start_time": "2023-02-21T14:04:18.229Z"
      },
      {
        "duration": 95,
        "start_time": "2023-02-21T14:04:52.420Z"
      },
      {
        "duration": 72,
        "start_time": "2023-02-21T14:05:25.855Z"
      },
      {
        "duration": 79,
        "start_time": "2023-02-21T14:05:58.711Z"
      },
      {
        "duration": 1307,
        "start_time": "2023-02-21T14:08:10.226Z"
      },
      {
        "duration": 120,
        "start_time": "2023-02-21T14:08:42.483Z"
      },
      {
        "duration": 87,
        "start_time": "2023-02-21T14:09:09.658Z"
      },
      {
        "duration": 101,
        "start_time": "2023-02-21T14:09:26.122Z"
      },
      {
        "duration": 19,
        "start_time": "2023-02-21T14:11:20.296Z"
      },
      {
        "duration": 56,
        "start_time": "2023-02-21T14:13:20.616Z"
      },
      {
        "duration": 74,
        "start_time": "2023-02-21T14:13:21.390Z"
      },
      {
        "duration": 64,
        "start_time": "2023-02-21T14:14:23.517Z"
      },
      {
        "duration": 61,
        "start_time": "2023-02-21T14:14:50.862Z"
      },
      {
        "duration": 68,
        "start_time": "2023-02-21T14:14:51.638Z"
      },
      {
        "duration": 65,
        "start_time": "2023-02-21T14:15:11.957Z"
      },
      {
        "duration": 62,
        "start_time": "2023-02-21T14:16:48.541Z"
      },
      {
        "duration": 18,
        "start_time": "2023-02-21T14:16:54.076Z"
      },
      {
        "duration": 17,
        "start_time": "2023-02-21T14:16:56.827Z"
      },
      {
        "duration": 66,
        "start_time": "2023-02-21T14:17:21.237Z"
      },
      {
        "duration": 25,
        "start_time": "2023-02-21T14:17:26.036Z"
      },
      {
        "duration": 17,
        "start_time": "2023-02-21T14:18:04.678Z"
      },
      {
        "duration": 1333,
        "start_time": "2023-02-21T14:18:10.702Z"
      },
      {
        "duration": 327,
        "start_time": "2023-02-21T14:18:12.038Z"
      },
      {
        "duration": 12,
        "start_time": "2023-02-21T14:18:12.366Z"
      },
      {
        "duration": 16,
        "start_time": "2023-02-21T14:18:12.380Z"
      },
      {
        "duration": 34,
        "start_time": "2023-02-21T14:18:12.398Z"
      },
      {
        "duration": 29,
        "start_time": "2023-02-21T14:18:12.435Z"
      },
      {
        "duration": 14,
        "start_time": "2023-02-21T14:18:12.465Z"
      },
      {
        "duration": 28,
        "start_time": "2023-02-21T14:18:12.481Z"
      },
      {
        "duration": 8,
        "start_time": "2023-02-21T14:18:12.511Z"
      },
      {
        "duration": 43,
        "start_time": "2023-02-21T14:18:12.521Z"
      },
      {
        "duration": 52,
        "start_time": "2023-02-21T14:18:12.567Z"
      },
      {
        "duration": 37,
        "start_time": "2023-02-21T14:18:12.622Z"
      },
      {
        "duration": 31,
        "start_time": "2023-02-21T14:18:12.661Z"
      },
      {
        "duration": 44,
        "start_time": "2023-02-21T14:18:12.694Z"
      },
      {
        "duration": 34,
        "start_time": "2023-02-21T14:18:12.741Z"
      },
      {
        "duration": 15,
        "start_time": "2023-02-21T14:18:12.777Z"
      },
      {
        "duration": 15,
        "start_time": "2023-02-21T14:18:12.794Z"
      },
      {
        "duration": 90,
        "start_time": "2023-02-21T14:18:12.811Z"
      },
      {
        "duration": 947,
        "start_time": "2023-02-21T14:18:12.903Z"
      },
      {
        "duration": 50,
        "start_time": "2023-02-21T14:18:13.852Z"
      },
      {
        "duration": 75,
        "start_time": "2023-02-21T14:18:13.904Z"
      },
      {
        "duration": 7,
        "start_time": "2023-02-21T14:18:13.981Z"
      },
      {
        "duration": 12,
        "start_time": "2023-02-21T14:18:13.990Z"
      },
      {
        "duration": 15,
        "start_time": "2023-02-21T14:18:14.004Z"
      },
      {
        "duration": 1241,
        "start_time": "2023-02-21T14:18:14.021Z"
      },
      {
        "duration": 18,
        "start_time": "2023-02-21T14:18:15.263Z"
      },
      {
        "duration": 12,
        "start_time": "2023-02-21T14:18:15.283Z"
      },
      {
        "duration": 38,
        "start_time": "2023-02-21T14:18:15.298Z"
      },
      {
        "duration": 714,
        "start_time": "2023-02-21T14:18:15.339Z"
      },
      {
        "duration": 39,
        "start_time": "2023-02-21T14:18:16.055Z"
      },
      {
        "duration": 354,
        "start_time": "2023-02-21T14:18:16.096Z"
      },
      {
        "duration": 60,
        "start_time": "2023-02-21T14:18:16.452Z"
      },
      {
        "duration": 160,
        "start_time": "2023-02-21T14:18:16.514Z"
      },
      {
        "duration": 0,
        "start_time": "2023-02-21T14:18:16.676Z"
      },
      {
        "duration": 0,
        "start_time": "2023-02-21T14:18:16.678Z"
      },
      {
        "duration": 0,
        "start_time": "2023-02-21T14:18:16.680Z"
      },
      {
        "duration": 0,
        "start_time": "2023-02-21T14:18:16.682Z"
      },
      {
        "duration": 14,
        "start_time": "2023-02-21T14:18:38.090Z"
      },
      {
        "duration": 466,
        "start_time": "2023-02-21T14:18:39.553Z"
      },
      {
        "duration": 67,
        "start_time": "2023-02-21T14:19:02.789Z"
      },
      {
        "duration": 63,
        "start_time": "2023-02-21T14:19:25.554Z"
      },
      {
        "duration": 55,
        "start_time": "2023-02-21T14:19:26.358Z"
      },
      {
        "duration": 70,
        "start_time": "2023-02-21T14:21:03.385Z"
      },
      {
        "duration": 68,
        "start_time": "2023-02-21T14:21:04.105Z"
      },
      {
        "duration": 14,
        "start_time": "2023-02-21T14:21:04.801Z"
      },
      {
        "duration": 67,
        "start_time": "2023-02-21T14:21:05.529Z"
      },
      {
        "duration": 22,
        "start_time": "2023-02-21T14:21:08.071Z"
      },
      {
        "duration": 107,
        "start_time": "2023-02-21T14:21:09.624Z"
      },
      {
        "duration": 8,
        "start_time": "2023-02-21T14:22:05.215Z"
      },
      {
        "duration": 7,
        "start_time": "2023-02-21T14:22:26.904Z"
      },
      {
        "duration": 7,
        "start_time": "2023-02-21T14:22:43.680Z"
      },
      {
        "duration": 9,
        "start_time": "2023-02-21T14:22:50.008Z"
      },
      {
        "duration": 90,
        "start_time": "2023-02-21T14:23:16.549Z"
      },
      {
        "duration": 35,
        "start_time": "2023-02-21T14:23:37.913Z"
      },
      {
        "duration": 37,
        "start_time": "2023-02-21T14:23:45.716Z"
      },
      {
        "duration": 14,
        "start_time": "2023-02-21T14:24:08.523Z"
      },
      {
        "duration": 6,
        "start_time": "2023-02-21T14:24:49.510Z"
      },
      {
        "duration": 42,
        "start_time": "2023-02-21T14:25:19.126Z"
      },
      {
        "duration": 107,
        "start_time": "2023-02-21T14:26:00.494Z"
      },
      {
        "duration": 80,
        "start_time": "2023-02-21T14:26:32.486Z"
      },
      {
        "duration": 86,
        "start_time": "2023-02-21T14:26:37.373Z"
      },
      {
        "duration": 147,
        "start_time": "2023-02-21T14:26:43.468Z"
      },
      {
        "duration": 19,
        "start_time": "2023-02-21T14:26:50.636Z"
      },
      {
        "duration": 7,
        "start_time": "2023-02-21T14:26:51.092Z"
      },
      {
        "duration": 8,
        "start_time": "2023-02-21T14:26:51.508Z"
      },
      {
        "duration": 8,
        "start_time": "2023-02-21T14:26:53.096Z"
      },
      {
        "duration": 33,
        "start_time": "2023-02-21T14:26:53.582Z"
      },
      {
        "duration": 97,
        "start_time": "2023-02-21T14:27:27.597Z"
      },
      {
        "duration": 7,
        "start_time": "2023-02-21T14:27:28.412Z"
      },
      {
        "duration": 9,
        "start_time": "2023-02-21T14:27:29.057Z"
      },
      {
        "duration": 6,
        "start_time": "2023-02-21T14:27:29.668Z"
      },
      {
        "duration": 5,
        "start_time": "2023-02-21T14:27:30.172Z"
      },
      {
        "duration": 36,
        "start_time": "2023-02-21T14:27:30.909Z"
      },
      {
        "duration": 95,
        "start_time": "2023-02-21T14:27:39.236Z"
      },
      {
        "duration": 7,
        "start_time": "2023-02-21T14:27:39.884Z"
      },
      {
        "duration": 7,
        "start_time": "2023-02-21T14:27:40.404Z"
      },
      {
        "duration": 6,
        "start_time": "2023-02-21T14:27:40.884Z"
      },
      {
        "duration": 5,
        "start_time": "2023-02-21T14:27:41.596Z"
      },
      {
        "duration": 98,
        "start_time": "2023-02-21T14:28:56.588Z"
      },
      {
        "duration": 8,
        "start_time": "2023-02-21T14:28:58.067Z"
      },
      {
        "duration": 6,
        "start_time": "2023-02-21T14:29:03.987Z"
      },
      {
        "duration": 7,
        "start_time": "2023-02-21T14:29:05.116Z"
      },
      {
        "duration": 91,
        "start_time": "2023-02-21T14:29:23.788Z"
      },
      {
        "duration": 107,
        "start_time": "2023-02-21T14:29:45.260Z"
      },
      {
        "duration": 7,
        "start_time": "2023-02-21T14:30:11.259Z"
      },
      {
        "duration": 9,
        "start_time": "2023-02-21T14:30:12.658Z"
      },
      {
        "duration": 7,
        "start_time": "2023-02-21T14:30:15.963Z"
      },
      {
        "duration": 6,
        "start_time": "2023-02-21T14:30:18.451Z"
      },
      {
        "duration": 52,
        "start_time": "2023-02-22T06:17:40.348Z"
      },
      {
        "duration": 1539,
        "start_time": "2023-02-22T06:17:48.012Z"
      },
      {
        "duration": 418,
        "start_time": "2023-02-22T06:17:49.554Z"
      },
      {
        "duration": 11,
        "start_time": "2023-02-22T06:17:49.974Z"
      },
      {
        "duration": 21,
        "start_time": "2023-02-22T06:17:49.987Z"
      },
      {
        "duration": 19,
        "start_time": "2023-02-22T06:17:50.010Z"
      },
      {
        "duration": 14,
        "start_time": "2023-02-22T06:17:50.030Z"
      },
      {
        "duration": 15,
        "start_time": "2023-02-22T06:17:50.046Z"
      },
      {
        "duration": 21,
        "start_time": "2023-02-22T06:17:50.063Z"
      },
      {
        "duration": 7,
        "start_time": "2023-02-22T06:17:50.085Z"
      },
      {
        "duration": 17,
        "start_time": "2023-02-22T06:17:50.095Z"
      },
      {
        "duration": 30,
        "start_time": "2023-02-22T06:17:50.114Z"
      },
      {
        "duration": 25,
        "start_time": "2023-02-22T06:17:50.145Z"
      },
      {
        "duration": 8,
        "start_time": "2023-02-22T06:17:50.172Z"
      },
      {
        "duration": 27,
        "start_time": "2023-02-22T06:17:50.182Z"
      },
      {
        "duration": 48,
        "start_time": "2023-02-22T06:17:50.210Z"
      },
      {
        "duration": 12,
        "start_time": "2023-02-22T06:17:50.260Z"
      },
      {
        "duration": 5,
        "start_time": "2023-02-22T06:17:50.274Z"
      },
      {
        "duration": 88,
        "start_time": "2023-02-22T06:17:50.281Z"
      },
      {
        "duration": 806,
        "start_time": "2023-02-22T06:17:50.372Z"
      },
      {
        "duration": 43,
        "start_time": "2023-02-22T06:17:51.180Z"
      },
      {
        "duration": 43,
        "start_time": "2023-02-22T06:17:51.237Z"
      },
      {
        "duration": 7,
        "start_time": "2023-02-22T06:17:51.282Z"
      },
      {
        "duration": 22,
        "start_time": "2023-02-22T06:17:51.291Z"
      },
      {
        "duration": 10,
        "start_time": "2023-02-22T06:17:51.315Z"
      },
      {
        "duration": 1321,
        "start_time": "2023-02-22T06:17:51.327Z"
      },
      {
        "duration": 19,
        "start_time": "2023-02-22T06:17:52.649Z"
      },
      {
        "duration": 9,
        "start_time": "2023-02-22T06:17:52.669Z"
      },
      {
        "duration": 13,
        "start_time": "2023-02-22T06:17:52.681Z"
      },
      {
        "duration": 615,
        "start_time": "2023-02-22T06:17:52.696Z"
      },
      {
        "duration": 43,
        "start_time": "2023-02-22T06:17:53.313Z"
      },
      {
        "duration": 319,
        "start_time": "2023-02-22T06:17:53.358Z"
      },
      {
        "duration": 63,
        "start_time": "2023-02-22T06:17:53.679Z"
      },
      {
        "duration": 449,
        "start_time": "2023-02-22T06:17:53.744Z"
      },
      {
        "duration": 13,
        "start_time": "2023-02-22T06:17:54.195Z"
      },
      {
        "duration": 143,
        "start_time": "2023-02-22T06:17:54.210Z"
      },
      {
        "duration": 23,
        "start_time": "2023-02-22T06:17:54.355Z"
      },
      {
        "duration": 120,
        "start_time": "2023-02-22T06:17:54.380Z"
      },
      {
        "duration": 7,
        "start_time": "2023-02-22T06:17:54.502Z"
      },
      {
        "duration": 15,
        "start_time": "2023-02-22T06:17:54.511Z"
      },
      {
        "duration": 15,
        "start_time": "2023-02-22T06:17:54.528Z"
      },
      {
        "duration": 14,
        "start_time": "2023-02-22T06:17:54.544Z"
      },
      {
        "duration": 182,
        "start_time": "2023-02-22T06:17:54.559Z"
      },
      {
        "duration": 0,
        "start_time": "2023-02-22T06:17:54.743Z"
      },
      {
        "duration": 6,
        "start_time": "2023-02-22T06:18:56.290Z"
      },
      {
        "duration": 5,
        "start_time": "2023-02-22T06:19:08.899Z"
      },
      {
        "duration": 4,
        "start_time": "2023-02-22T06:19:19.650Z"
      },
      {
        "duration": 77,
        "start_time": "2023-02-22T06:21:38.321Z"
      },
      {
        "duration": 91,
        "start_time": "2023-02-22T06:21:54.465Z"
      },
      {
        "duration": 54,
        "start_time": "2023-02-22T06:22:40.045Z"
      },
      {
        "duration": 106,
        "start_time": "2023-02-22T06:23:03.816Z"
      },
      {
        "duration": 76,
        "start_time": "2023-02-22T06:28:30.124Z"
      },
      {
        "duration": 90,
        "start_time": "2023-02-22T06:28:36.854Z"
      },
      {
        "duration": 82,
        "start_time": "2023-02-22T06:28:46.333Z"
      },
      {
        "duration": 103,
        "start_time": "2023-02-22T06:28:57.580Z"
      },
      {
        "duration": 460,
        "start_time": "2023-02-22T06:51:19.818Z"
      },
      {
        "duration": 17,
        "start_time": "2023-02-22T06:51:40.518Z"
      },
      {
        "duration": 28,
        "start_time": "2023-02-22T06:51:48.435Z"
      },
      {
        "duration": 29,
        "start_time": "2023-02-22T06:52:16.963Z"
      },
      {
        "duration": 35,
        "start_time": "2023-02-22T06:52:26.587Z"
      },
      {
        "duration": 82,
        "start_time": "2023-02-22T06:59:39.041Z"
      },
      {
        "duration": 30,
        "start_time": "2023-02-22T06:59:50.072Z"
      },
      {
        "duration": 28,
        "start_time": "2023-02-22T07:00:57.243Z"
      },
      {
        "duration": 29,
        "start_time": "2023-02-22T07:01:06.167Z"
      },
      {
        "duration": 6,
        "start_time": "2023-02-22T07:18:50.901Z"
      },
      {
        "duration": 32,
        "start_time": "2023-02-22T07:19:55.661Z"
      },
      {
        "duration": 3,
        "start_time": "2023-02-22T07:20:11.324Z"
      },
      {
        "duration": 28,
        "start_time": "2023-02-22T07:20:17.301Z"
      },
      {
        "duration": 29,
        "start_time": "2023-02-22T07:21:16.453Z"
      },
      {
        "duration": 35,
        "start_time": "2023-02-22T07:22:10.652Z"
      },
      {
        "duration": 3,
        "start_time": "2023-02-22T07:22:44.037Z"
      },
      {
        "duration": 35,
        "start_time": "2023-02-22T07:22:54.828Z"
      },
      {
        "duration": 11,
        "start_time": "2023-02-22T07:23:18.923Z"
      },
      {
        "duration": 4,
        "start_time": "2023-02-22T07:23:37.332Z"
      },
      {
        "duration": 4,
        "start_time": "2023-02-22T07:26:08.920Z"
      },
      {
        "duration": 17,
        "start_time": "2023-02-22T07:35:34.301Z"
      },
      {
        "duration": 24,
        "start_time": "2023-02-22T07:39:24.643Z"
      },
      {
        "duration": 26,
        "start_time": "2023-02-22T07:39:29.586Z"
      },
      {
        "duration": 27,
        "start_time": "2023-02-22T07:39:47.530Z"
      },
      {
        "duration": 34,
        "start_time": "2023-02-22T07:40:24.235Z"
      },
      {
        "duration": 34,
        "start_time": "2023-02-22T07:41:25.738Z"
      },
      {
        "duration": 35,
        "start_time": "2023-02-22T07:41:56.753Z"
      },
      {
        "duration": 1127,
        "start_time": "2023-02-22T07:48:59.086Z"
      },
      {
        "duration": 16,
        "start_time": "2023-02-22T07:56:38.669Z"
      },
      {
        "duration": 13,
        "start_time": "2023-02-22T07:57:19.567Z"
      },
      {
        "duration": 554,
        "start_time": "2023-02-22T08:01:30.285Z"
      },
      {
        "duration": 15,
        "start_time": "2023-02-22T08:02:05.694Z"
      },
      {
        "duration": 57,
        "start_time": "2023-02-22T08:24:19.974Z"
      },
      {
        "duration": 60,
        "start_time": "2023-02-22T08:24:48.800Z"
      },
      {
        "duration": 1419,
        "start_time": "2023-02-22T08:26:04.829Z"
      },
      {
        "duration": 320,
        "start_time": "2023-02-22T08:26:06.250Z"
      },
      {
        "duration": 16,
        "start_time": "2023-02-22T08:26:06.572Z"
      },
      {
        "duration": 18,
        "start_time": "2023-02-22T08:26:06.591Z"
      },
      {
        "duration": 9,
        "start_time": "2023-02-22T08:26:06.611Z"
      },
      {
        "duration": 19,
        "start_time": "2023-02-22T08:26:06.622Z"
      },
      {
        "duration": 9,
        "start_time": "2023-02-22T08:26:06.643Z"
      },
      {
        "duration": 30,
        "start_time": "2023-02-22T08:26:06.654Z"
      },
      {
        "duration": 9,
        "start_time": "2023-02-22T08:26:06.686Z"
      },
      {
        "duration": 19,
        "start_time": "2023-02-22T08:26:06.698Z"
      },
      {
        "duration": 39,
        "start_time": "2023-02-22T08:26:06.719Z"
      },
      {
        "duration": 44,
        "start_time": "2023-02-22T08:26:06.760Z"
      },
      {
        "duration": 21,
        "start_time": "2023-02-22T08:26:06.805Z"
      },
      {
        "duration": 53,
        "start_time": "2023-02-22T08:26:06.828Z"
      },
      {
        "duration": 28,
        "start_time": "2023-02-22T08:26:06.882Z"
      },
      {
        "duration": 16,
        "start_time": "2023-02-22T08:26:06.912Z"
      },
      {
        "duration": 13,
        "start_time": "2023-02-22T08:26:06.931Z"
      },
      {
        "duration": 79,
        "start_time": "2023-02-22T08:26:06.946Z"
      },
      {
        "duration": 977,
        "start_time": "2023-02-22T08:26:07.027Z"
      },
      {
        "duration": 68,
        "start_time": "2023-02-22T08:26:08.006Z"
      },
      {
        "duration": 64,
        "start_time": "2023-02-22T08:26:08.076Z"
      },
      {
        "duration": 12,
        "start_time": "2023-02-22T08:26:08.142Z"
      },
      {
        "duration": 52,
        "start_time": "2023-02-22T08:26:08.156Z"
      },
      {
        "duration": 28,
        "start_time": "2023-02-22T08:26:08.210Z"
      },
      {
        "duration": 1335,
        "start_time": "2023-02-22T08:26:08.240Z"
      },
      {
        "duration": 16,
        "start_time": "2023-02-22T08:26:09.577Z"
      },
      {
        "duration": 51,
        "start_time": "2023-02-22T08:26:09.595Z"
      },
      {
        "duration": 40,
        "start_time": "2023-02-22T08:26:09.650Z"
      },
      {
        "duration": 29,
        "start_time": "2023-02-22T08:26:09.693Z"
      },
      {
        "duration": 45,
        "start_time": "2023-02-22T08:26:09.724Z"
      },
      {
        "duration": 674,
        "start_time": "2023-02-22T08:26:09.771Z"
      },
      {
        "duration": 40,
        "start_time": "2023-02-22T08:26:10.447Z"
      },
      {
        "duration": 385,
        "start_time": "2023-02-22T08:26:10.489Z"
      },
      {
        "duration": 99,
        "start_time": "2023-02-22T08:26:10.877Z"
      },
      {
        "duration": 485,
        "start_time": "2023-02-22T08:26:10.978Z"
      },
      {
        "duration": 14,
        "start_time": "2023-02-22T08:26:11.465Z"
      },
      {
        "duration": 162,
        "start_time": "2023-02-22T08:26:11.481Z"
      },
      {
        "duration": 139,
        "start_time": "2023-02-22T08:26:11.645Z"
      },
      {
        "duration": 8,
        "start_time": "2023-02-22T08:26:11.786Z"
      },
      {
        "duration": 26,
        "start_time": "2023-02-22T08:26:11.795Z"
      },
      {
        "duration": 18,
        "start_time": "2023-02-22T08:26:11.824Z"
      },
      {
        "duration": 19,
        "start_time": "2023-02-22T08:26:11.844Z"
      },
      {
        "duration": 40,
        "start_time": "2023-02-22T08:26:11.865Z"
      },
      {
        "duration": 4,
        "start_time": "2023-02-22T08:26:11.907Z"
      },
      {
        "duration": 59,
        "start_time": "2023-02-22T08:26:11.913Z"
      },
      {
        "duration": 1192,
        "start_time": "2023-02-22T08:28:26.214Z"
      },
      {
        "duration": 1184,
        "start_time": "2023-02-22T08:28:51.928Z"
      },
      {
        "duration": 11,
        "start_time": "2023-02-22T08:29:21.592Z"
      },
      {
        "duration": 7,
        "start_time": "2023-02-22T08:29:59.815Z"
      },
      {
        "duration": 9,
        "start_time": "2023-02-22T08:30:23.923Z"
      },
      {
        "duration": 1302,
        "start_time": "2023-02-22T08:30:44.352Z"
      },
      {
        "duration": 1343,
        "start_time": "2023-02-22T08:30:53.349Z"
      },
      {
        "duration": 1531,
        "start_time": "2023-02-22T08:40:56.083Z"
      },
      {
        "duration": 1514,
        "start_time": "2023-02-22T08:51:42.931Z"
      },
      {
        "duration": 1435,
        "start_time": "2023-02-22T08:52:01.045Z"
      },
      {
        "duration": 1349,
        "start_time": "2023-02-22T08:52:34.853Z"
      },
      {
        "duration": 19,
        "start_time": "2023-02-22T08:53:39.348Z"
      },
      {
        "duration": 13,
        "start_time": "2023-02-22T08:53:44.468Z"
      },
      {
        "duration": 22,
        "start_time": "2023-02-22T08:53:58.931Z"
      },
      {
        "duration": 1230,
        "start_time": "2023-02-22T08:54:22.631Z"
      },
      {
        "duration": 1428,
        "start_time": "2023-02-22T08:54:31.834Z"
      },
      {
        "duration": 624,
        "start_time": "2023-02-22T08:57:16.363Z"
      },
      {
        "duration": 1237,
        "start_time": "2023-02-22T08:59:05.091Z"
      },
      {
        "duration": 1508,
        "start_time": "2023-02-22T08:59:11.577Z"
      },
      {
        "duration": 1264,
        "start_time": "2023-02-22T08:59:56.081Z"
      },
      {
        "duration": 1320,
        "start_time": "2023-02-22T09:00:03.640Z"
      },
      {
        "duration": 226,
        "start_time": "2023-02-22T09:01:27.335Z"
      },
      {
        "duration": 835,
        "start_time": "2023-02-22T09:01:33.952Z"
      },
      {
        "duration": 1034,
        "start_time": "2023-02-22T09:01:43.591Z"
      },
      {
        "duration": 1410,
        "start_time": "2023-02-22T09:01:52.287Z"
      },
      {
        "duration": 674,
        "start_time": "2023-02-22T09:03:04.030Z"
      },
      {
        "duration": 57,
        "start_time": "2023-02-22T09:08:02.692Z"
      },
      {
        "duration": 59,
        "start_time": "2023-02-22T09:21:44.284Z"
      },
      {
        "duration": 84,
        "start_time": "2023-02-22T09:22:57.877Z"
      },
      {
        "duration": 89,
        "start_time": "2023-02-22T09:23:06.732Z"
      },
      {
        "duration": 53,
        "start_time": "2023-02-22T09:23:37.004Z"
      },
      {
        "duration": 21,
        "start_time": "2023-02-22T09:24:23.277Z"
      },
      {
        "duration": 114,
        "start_time": "2023-02-22T09:24:32.733Z"
      },
      {
        "duration": 23,
        "start_time": "2023-02-22T09:25:42.336Z"
      },
      {
        "duration": 19,
        "start_time": "2023-02-22T09:26:25.646Z"
      },
      {
        "duration": 1343,
        "start_time": "2023-02-22T09:26:38.129Z"
      },
      {
        "duration": 334,
        "start_time": "2023-02-22T09:26:39.474Z"
      },
      {
        "duration": 11,
        "start_time": "2023-02-22T09:26:39.809Z"
      },
      {
        "duration": 17,
        "start_time": "2023-02-22T09:26:39.821Z"
      },
      {
        "duration": 4,
        "start_time": "2023-02-22T09:26:39.840Z"
      },
      {
        "duration": 8,
        "start_time": "2023-02-22T09:26:39.845Z"
      },
      {
        "duration": 7,
        "start_time": "2023-02-22T09:26:39.855Z"
      },
      {
        "duration": 21,
        "start_time": "2023-02-22T09:26:39.863Z"
      },
      {
        "duration": 6,
        "start_time": "2023-02-22T09:26:39.886Z"
      },
      {
        "duration": 11,
        "start_time": "2023-02-22T09:26:39.893Z"
      },
      {
        "duration": 52,
        "start_time": "2023-02-22T09:26:39.906Z"
      },
      {
        "duration": 26,
        "start_time": "2023-02-22T09:26:39.960Z"
      },
      {
        "duration": 10,
        "start_time": "2023-02-22T09:26:39.988Z"
      },
      {
        "duration": 49,
        "start_time": "2023-02-22T09:26:40.001Z"
      },
      {
        "duration": 22,
        "start_time": "2023-02-22T09:26:40.051Z"
      },
      {
        "duration": 10,
        "start_time": "2023-02-22T09:26:40.075Z"
      },
      {
        "duration": 5,
        "start_time": "2023-02-22T09:26:40.087Z"
      },
      {
        "duration": 86,
        "start_time": "2023-02-22T09:26:40.094Z"
      },
      {
        "duration": 749,
        "start_time": "2023-02-22T09:26:40.182Z"
      },
      {
        "duration": 43,
        "start_time": "2023-02-22T09:26:40.937Z"
      },
      {
        "duration": 143,
        "start_time": "2023-02-22T09:26:40.982Z"
      },
      {
        "duration": 32,
        "start_time": "2023-02-22T09:26:41.127Z"
      },
      {
        "duration": 37,
        "start_time": "2023-02-22T09:26:41.161Z"
      },
      {
        "duration": 7,
        "start_time": "2023-02-22T09:26:41.200Z"
      },
      {
        "duration": 10,
        "start_time": "2023-02-22T09:26:41.208Z"
      },
      {
        "duration": 24,
        "start_time": "2023-02-22T09:26:41.220Z"
      },
      {
        "duration": 1145,
        "start_time": "2023-02-22T09:26:41.245Z"
      },
      {
        "duration": 1396,
        "start_time": "2023-02-22T09:26:42.392Z"
      },
      {
        "duration": 17,
        "start_time": "2023-02-22T09:26:43.790Z"
      },
      {
        "duration": 8,
        "start_time": "2023-02-22T09:26:43.809Z"
      },
      {
        "duration": 21,
        "start_time": "2023-02-22T09:26:43.819Z"
      },
      {
        "duration": 702,
        "start_time": "2023-02-22T09:26:43.842Z"
      },
      {
        "duration": 674,
        "start_time": "2023-02-22T09:26:44.546Z"
      },
      {
        "duration": 49,
        "start_time": "2023-02-22T09:26:45.221Z"
      },
      {
        "duration": 347,
        "start_time": "2023-02-22T09:26:45.272Z"
      },
      {
        "duration": 60,
        "start_time": "2023-02-22T09:26:45.620Z"
      },
      {
        "duration": 376,
        "start_time": "2023-02-22T09:26:45.682Z"
      },
      {
        "duration": 14,
        "start_time": "2023-02-22T09:26:46.060Z"
      },
      {
        "duration": 265,
        "start_time": "2023-02-22T09:26:46.076Z"
      },
      {
        "duration": 104,
        "start_time": "2023-02-22T09:26:46.343Z"
      },
      {
        "duration": 7,
        "start_time": "2023-02-22T09:26:46.452Z"
      },
      {
        "duration": 14,
        "start_time": "2023-02-22T09:26:46.461Z"
      },
      {
        "duration": 18,
        "start_time": "2023-02-22T09:26:46.477Z"
      },
      {
        "duration": 17,
        "start_time": "2023-02-22T09:26:46.497Z"
      },
      {
        "duration": 45,
        "start_time": "2023-02-22T09:26:46.516Z"
      },
      {
        "duration": 4,
        "start_time": "2023-02-22T09:26:46.563Z"
      },
      {
        "duration": 40,
        "start_time": "2023-02-22T09:26:46.569Z"
      },
      {
        "duration": 15,
        "start_time": "2023-02-22T09:36:11.144Z"
      },
      {
        "duration": 9,
        "start_time": "2023-02-22T09:37:13.884Z"
      },
      {
        "duration": 14,
        "start_time": "2023-02-22T09:37:41.564Z"
      },
      {
        "duration": 17,
        "start_time": "2023-02-22T09:37:45.775Z"
      },
      {
        "duration": 166,
        "start_time": "2023-02-22T09:41:19.529Z"
      },
      {
        "duration": 21,
        "start_time": "2023-02-22T09:42:19.321Z"
      },
      {
        "duration": 98,
        "start_time": "2023-02-22T09:42:25.937Z"
      },
      {
        "duration": 25,
        "start_time": "2023-02-22T09:42:30.441Z"
      },
      {
        "duration": 32,
        "start_time": "2023-02-22T09:43:02.185Z"
      },
      {
        "duration": 1341,
        "start_time": "2023-02-22T09:43:34.523Z"
      },
      {
        "duration": 877,
        "start_time": "2023-02-22T09:43:35.866Z"
      },
      {
        "duration": 11,
        "start_time": "2023-02-22T09:43:36.745Z"
      },
      {
        "duration": 9,
        "start_time": "2023-02-22T09:43:36.757Z"
      },
      {
        "duration": 9,
        "start_time": "2023-02-22T09:43:36.768Z"
      },
      {
        "duration": 12,
        "start_time": "2023-02-22T09:43:36.779Z"
      },
      {
        "duration": 22,
        "start_time": "2023-02-22T09:43:36.793Z"
      },
      {
        "duration": 34,
        "start_time": "2023-02-22T09:43:36.817Z"
      },
      {
        "duration": 12,
        "start_time": "2023-02-22T09:43:36.853Z"
      },
      {
        "duration": 10,
        "start_time": "2023-02-22T09:43:36.868Z"
      },
      {
        "duration": 24,
        "start_time": "2023-02-22T09:43:36.880Z"
      },
      {
        "duration": 35,
        "start_time": "2023-02-22T09:43:36.906Z"
      },
      {
        "duration": 8,
        "start_time": "2023-02-22T09:43:36.943Z"
      },
      {
        "duration": 29,
        "start_time": "2023-02-22T09:43:36.953Z"
      },
      {
        "duration": 21,
        "start_time": "2023-02-22T09:43:36.984Z"
      },
      {
        "duration": 35,
        "start_time": "2023-02-22T09:43:37.008Z"
      },
      {
        "duration": 7,
        "start_time": "2023-02-22T09:43:37.044Z"
      },
      {
        "duration": 88,
        "start_time": "2023-02-22T09:43:37.052Z"
      },
      {
        "duration": 799,
        "start_time": "2023-02-22T09:43:37.142Z"
      },
      {
        "duration": 45,
        "start_time": "2023-02-22T09:43:37.942Z"
      },
      {
        "duration": 51,
        "start_time": "2023-02-22T09:43:37.989Z"
      },
      {
        "duration": 48,
        "start_time": "2023-02-22T09:43:38.042Z"
      },
      {
        "duration": 7,
        "start_time": "2023-02-22T09:43:38.092Z"
      },
      {
        "duration": 35,
        "start_time": "2023-02-22T09:43:38.101Z"
      },
      {
        "duration": 20,
        "start_time": "2023-02-22T09:43:38.139Z"
      },
      {
        "duration": 1214,
        "start_time": "2023-02-22T09:43:38.161Z"
      },
      {
        "duration": 1222,
        "start_time": "2023-02-22T09:43:39.377Z"
      },
      {
        "duration": 5,
        "start_time": "2023-02-22T09:43:40.602Z"
      },
      {
        "duration": 31,
        "start_time": "2023-02-22T09:43:40.609Z"
      },
      {
        "duration": 27,
        "start_time": "2023-02-22T09:43:40.642Z"
      },
      {
        "duration": 8,
        "start_time": "2023-02-22T09:43:40.671Z"
      },
      {
        "duration": 13,
        "start_time": "2023-02-22T09:43:40.681Z"
      },
      {
        "duration": 620,
        "start_time": "2023-02-22T09:43:40.696Z"
      },
      {
        "duration": 740,
        "start_time": "2023-02-22T09:43:41.318Z"
      },
      {
        "duration": 37,
        "start_time": "2023-02-22T09:43:42.060Z"
      },
      {
        "duration": 339,
        "start_time": "2023-02-22T09:43:42.098Z"
      },
      {
        "duration": 66,
        "start_time": "2023-02-22T09:43:42.439Z"
      },
      {
        "duration": 422,
        "start_time": "2023-02-22T09:43:42.507Z"
      },
      {
        "duration": 22,
        "start_time": "2023-02-22T09:43:42.931Z"
      },
      {
        "duration": 184,
        "start_time": "2023-02-22T09:43:42.956Z"
      },
      {
        "duration": 111,
        "start_time": "2023-02-22T09:43:43.142Z"
      },
      {
        "duration": 8,
        "start_time": "2023-02-22T09:43:43.255Z"
      },
      {
        "duration": 11,
        "start_time": "2023-02-22T09:43:43.264Z"
      },
      {
        "duration": 18,
        "start_time": "2023-02-22T09:43:43.277Z"
      },
      {
        "duration": 32,
        "start_time": "2023-02-22T09:43:43.296Z"
      },
      {
        "duration": 43,
        "start_time": "2023-02-22T09:43:43.330Z"
      },
      {
        "duration": 4,
        "start_time": "2023-02-22T09:43:43.375Z"
      },
      {
        "duration": 58,
        "start_time": "2023-02-22T09:43:43.381Z"
      },
      {
        "duration": 91,
        "start_time": "2023-02-22T09:48:19.047Z"
      },
      {
        "duration": 86,
        "start_time": "2023-02-22T09:48:38.175Z"
      },
      {
        "duration": 82,
        "start_time": "2023-02-22T09:50:17.943Z"
      },
      {
        "duration": 17,
        "start_time": "2023-02-22T09:53:32.580Z"
      },
      {
        "duration": 235,
        "start_time": "2023-02-22T09:53:41.484Z"
      },
      {
        "duration": 88,
        "start_time": "2023-02-22T09:53:45.404Z"
      },
      {
        "duration": 83,
        "start_time": "2023-02-22T09:53:50.828Z"
      },
      {
        "duration": 4,
        "start_time": "2023-02-22T09:54:03.365Z"
      },
      {
        "duration": 91,
        "start_time": "2023-02-22T09:54:21.421Z"
      },
      {
        "duration": 15,
        "start_time": "2023-02-22T09:54:27.826Z"
      },
      {
        "duration": 86,
        "start_time": "2023-02-22T09:54:43.299Z"
      },
      {
        "duration": 12,
        "start_time": "2023-02-22T09:54:48.933Z"
      },
      {
        "duration": 15,
        "start_time": "2023-02-22T09:55:29.842Z"
      },
      {
        "duration": 251,
        "start_time": "2023-02-22T09:55:38.667Z"
      },
      {
        "duration": 110,
        "start_time": "2023-02-22T09:56:15.683Z"
      },
      {
        "duration": 33,
        "start_time": "2023-02-22T09:56:42.920Z"
      },
      {
        "duration": 31,
        "start_time": "2023-02-22T09:56:54.780Z"
      },
      {
        "duration": 13,
        "start_time": "2023-02-22T09:57:54.530Z"
      },
      {
        "duration": 86,
        "start_time": "2023-02-22T09:58:15.443Z"
      },
      {
        "duration": 13,
        "start_time": "2023-02-22T09:58:18.225Z"
      },
      {
        "duration": 13,
        "start_time": "2023-02-22T09:58:18.937Z"
      },
      {
        "duration": 124,
        "start_time": "2023-02-22T09:58:19.832Z"
      },
      {
        "duration": 32,
        "start_time": "2023-02-22T09:58:20.762Z"
      },
      {
        "duration": 29,
        "start_time": "2023-02-22T09:58:25.298Z"
      },
      {
        "duration": 34,
        "start_time": "2023-02-22T10:00:21.410Z"
      },
      {
        "duration": 92,
        "start_time": "2023-02-22T10:00:35.521Z"
      },
      {
        "duration": 90,
        "start_time": "2023-02-22T10:00:39.232Z"
      },
      {
        "duration": 96,
        "start_time": "2023-02-22T10:00:45.377Z"
      },
      {
        "duration": 96,
        "start_time": "2023-02-22T10:00:51.264Z"
      },
      {
        "duration": 86,
        "start_time": "2023-02-22T10:00:59.696Z"
      },
      {
        "duration": 89,
        "start_time": "2023-02-22T10:01:04.168Z"
      },
      {
        "duration": 86,
        "start_time": "2023-02-22T10:01:10.136Z"
      },
      {
        "duration": 90,
        "start_time": "2023-02-22T10:01:16.568Z"
      },
      {
        "duration": 93,
        "start_time": "2023-02-22T10:01:20.961Z"
      },
      {
        "duration": 103,
        "start_time": "2023-02-22T10:01:25.338Z"
      },
      {
        "duration": 87,
        "start_time": "2023-02-22T10:01:29.992Z"
      },
      {
        "duration": 84,
        "start_time": "2023-02-22T10:02:06.096Z"
      },
      {
        "duration": 117,
        "start_time": "2023-02-22T10:02:38.711Z"
      },
      {
        "duration": 115,
        "start_time": "2023-02-22T10:02:44.870Z"
      },
      {
        "duration": 130,
        "start_time": "2023-02-22T10:02:51.423Z"
      },
      {
        "duration": 127,
        "start_time": "2023-02-22T10:03:06.823Z"
      },
      {
        "duration": 120,
        "start_time": "2023-02-22T10:04:28.407Z"
      },
      {
        "duration": 113,
        "start_time": "2023-02-22T10:05:37.195Z"
      },
      {
        "duration": 124,
        "start_time": "2023-02-22T10:05:41.366Z"
      },
      {
        "duration": 21,
        "start_time": "2023-02-22T10:08:27.148Z"
      },
      {
        "duration": 149,
        "start_time": "2023-02-22T10:08:34.732Z"
      },
      {
        "duration": 132,
        "start_time": "2023-02-22T10:08:53.948Z"
      },
      {
        "duration": 170,
        "start_time": "2023-02-22T10:09:34.148Z"
      },
      {
        "duration": 176,
        "start_time": "2023-02-22T10:10:01.955Z"
      },
      {
        "duration": 252,
        "start_time": "2023-02-22T10:10:10.299Z"
      },
      {
        "duration": 128,
        "start_time": "2023-02-22T10:10:22.979Z"
      },
      {
        "duration": 154,
        "start_time": "2023-02-22T10:10:33.754Z"
      },
      {
        "duration": 153,
        "start_time": "2023-02-22T10:11:04.378Z"
      },
      {
        "duration": 166,
        "start_time": "2023-02-22T10:11:10.946Z"
      },
      {
        "duration": 30,
        "start_time": "2023-02-22T11:13:20.562Z"
      },
      {
        "duration": 39,
        "start_time": "2023-02-22T11:13:35.836Z"
      },
      {
        "duration": 42,
        "start_time": "2023-02-22T11:13:46.452Z"
      },
      {
        "duration": 45,
        "start_time": "2023-02-22T11:14:19.770Z"
      },
      {
        "duration": 27,
        "start_time": "2023-02-22T11:14:27.498Z"
      },
      {
        "duration": 25,
        "start_time": "2023-02-22T11:14:47.986Z"
      },
      {
        "duration": 27,
        "start_time": "2023-02-22T11:14:52.364Z"
      },
      {
        "duration": 44,
        "start_time": "2023-02-22T13:43:16.511Z"
      },
      {
        "duration": 1346,
        "start_time": "2023-02-22T13:43:23.330Z"
      },
      {
        "duration": 259,
        "start_time": "2023-02-22T13:43:24.678Z"
      },
      {
        "duration": 10,
        "start_time": "2023-02-22T13:43:24.938Z"
      },
      {
        "duration": 10,
        "start_time": "2023-02-22T13:43:24.949Z"
      },
      {
        "duration": 5,
        "start_time": "2023-02-22T13:43:24.960Z"
      },
      {
        "duration": 8,
        "start_time": "2023-02-22T13:43:24.967Z"
      },
      {
        "duration": 6,
        "start_time": "2023-02-22T13:43:24.977Z"
      },
      {
        "duration": 16,
        "start_time": "2023-02-22T13:43:24.984Z"
      },
      {
        "duration": 14,
        "start_time": "2023-02-22T13:43:25.002Z"
      },
      {
        "duration": 30,
        "start_time": "2023-02-22T13:43:25.019Z"
      },
      {
        "duration": 33,
        "start_time": "2023-02-22T13:43:25.051Z"
      },
      {
        "duration": 22,
        "start_time": "2023-02-22T13:43:25.086Z"
      },
      {
        "duration": 7,
        "start_time": "2023-02-22T13:43:25.110Z"
      },
      {
        "duration": 59,
        "start_time": "2023-02-22T13:43:25.119Z"
      },
      {
        "duration": 39,
        "start_time": "2023-02-22T13:43:25.179Z"
      },
      {
        "duration": 11,
        "start_time": "2023-02-22T13:43:25.220Z"
      },
      {
        "duration": 5,
        "start_time": "2023-02-22T13:43:25.232Z"
      },
      {
        "duration": 68,
        "start_time": "2023-02-22T13:43:25.238Z"
      },
      {
        "duration": 801,
        "start_time": "2023-02-22T13:43:25.308Z"
      },
      {
        "duration": 41,
        "start_time": "2023-02-22T13:43:26.110Z"
      },
      {
        "duration": 25,
        "start_time": "2023-02-22T13:43:26.153Z"
      },
      {
        "duration": 34,
        "start_time": "2023-02-22T13:43:26.180Z"
      },
      {
        "duration": 6,
        "start_time": "2023-02-22T13:43:26.216Z"
      },
      {
        "duration": 24,
        "start_time": "2023-02-22T13:43:26.224Z"
      },
      {
        "duration": 7,
        "start_time": "2023-02-22T13:43:26.250Z"
      },
      {
        "duration": 1076,
        "start_time": "2023-02-22T13:43:26.259Z"
      },
      {
        "duration": 15,
        "start_time": "2023-02-22T13:43:27.337Z"
      },
      {
        "duration": 7,
        "start_time": "2023-02-22T13:43:27.355Z"
      },
      {
        "duration": 13,
        "start_time": "2023-02-22T13:43:27.364Z"
      },
      {
        "duration": 565,
        "start_time": "2023-02-22T13:43:27.379Z"
      },
      {
        "duration": 36,
        "start_time": "2023-02-22T13:43:27.946Z"
      },
      {
        "duration": 352,
        "start_time": "2023-02-22T13:43:27.983Z"
      },
      {
        "duration": 54,
        "start_time": "2023-02-22T13:43:28.337Z"
      },
      {
        "duration": 394,
        "start_time": "2023-02-22T13:43:28.393Z"
      },
      {
        "duration": 11,
        "start_time": "2023-02-22T13:43:28.789Z"
      },
      {
        "duration": 84,
        "start_time": "2023-02-22T13:43:28.802Z"
      },
      {
        "duration": 132,
        "start_time": "2023-02-22T13:43:28.888Z"
      },
      {
        "duration": 13,
        "start_time": "2023-02-22T13:43:29.021Z"
      },
      {
        "duration": 37,
        "start_time": "2023-02-22T13:43:29.047Z"
      },
      {
        "duration": 112,
        "start_time": "2023-02-22T13:43:29.085Z"
      },
      {
        "duration": 144,
        "start_time": "2023-02-22T13:43:29.199Z"
      },
      {
        "duration": 24,
        "start_time": "2023-02-22T13:43:29.347Z"
      },
      {
        "duration": 1103,
        "start_time": "2023-02-22T13:43:29.373Z"
      },
      {
        "duration": 627,
        "start_time": "2023-02-22T13:43:30.478Z"
      },
      {
        "duration": 141,
        "start_time": "2023-02-22T13:43:31.107Z"
      },
      {
        "duration": 165,
        "start_time": "2023-02-22T13:43:31.249Z"
      },
      {
        "duration": 77,
        "start_time": "2023-02-22T13:43:31.416Z"
      },
      {
        "duration": 43,
        "start_time": "2023-02-22T13:45:33.288Z"
      },
      {
        "duration": 29,
        "start_time": "2023-02-22T13:46:04.246Z"
      },
      {
        "duration": 215,
        "start_time": "2023-02-22T13:46:05.125Z"
      },
      {
        "duration": 43,
        "start_time": "2023-02-22T13:46:05.745Z"
      },
      {
        "duration": 175,
        "start_time": "2023-02-22T13:46:24.174Z"
      },
      {
        "duration": 59,
        "start_time": "2023-02-22T13:47:30.563Z"
      },
      {
        "duration": 41,
        "start_time": "2023-02-22T13:48:02.595Z"
      },
      {
        "duration": 43,
        "start_time": "2023-02-22T13:48:18.118Z"
      },
      {
        "duration": 9,
        "start_time": "2023-02-22T13:48:42.060Z"
      },
      {
        "duration": 57,
        "start_time": "2023-02-22T13:48:42.872Z"
      },
      {
        "duration": 58,
        "start_time": "2023-02-22T13:49:00.305Z"
      },
      {
        "duration": 90,
        "start_time": "2023-02-22T13:49:41.883Z"
      },
      {
        "duration": 69,
        "start_time": "2023-02-22T13:50:00.943Z"
      },
      {
        "duration": 78,
        "start_time": "2023-02-22T13:51:07.166Z"
      },
      {
        "duration": 81,
        "start_time": "2023-02-22T13:51:33.409Z"
      },
      {
        "duration": 12,
        "start_time": "2023-02-22T13:52:00.301Z"
      },
      {
        "duration": 16,
        "start_time": "2023-02-22T13:52:31.205Z"
      },
      {
        "duration": 119,
        "start_time": "2023-02-22T13:52:40.754Z"
      },
      {
        "duration": 56,
        "start_time": "2023-02-22T19:09:27.089Z"
      },
      {
        "duration": 1471,
        "start_time": "2023-02-22T19:09:35.984Z"
      },
      {
        "duration": 245,
        "start_time": "2023-02-22T19:09:37.457Z"
      },
      {
        "duration": 11,
        "start_time": "2023-02-22T19:09:37.703Z"
      },
      {
        "duration": 6,
        "start_time": "2023-02-22T19:09:37.716Z"
      },
      {
        "duration": 7,
        "start_time": "2023-02-22T19:09:37.724Z"
      },
      {
        "duration": 8,
        "start_time": "2023-02-22T19:09:37.733Z"
      },
      {
        "duration": 8,
        "start_time": "2023-02-22T19:09:37.743Z"
      },
      {
        "duration": 18,
        "start_time": "2023-02-22T19:09:37.753Z"
      },
      {
        "duration": 35,
        "start_time": "2023-02-22T19:09:37.774Z"
      },
      {
        "duration": 12,
        "start_time": "2023-02-22T19:09:37.813Z"
      },
      {
        "duration": 22,
        "start_time": "2023-02-22T19:09:37.827Z"
      },
      {
        "duration": 23,
        "start_time": "2023-02-22T19:09:37.850Z"
      },
      {
        "duration": 30,
        "start_time": "2023-02-22T19:09:37.875Z"
      },
      {
        "duration": 25,
        "start_time": "2023-02-22T19:09:37.907Z"
      },
      {
        "duration": 22,
        "start_time": "2023-02-22T19:09:37.934Z"
      },
      {
        "duration": 10,
        "start_time": "2023-02-22T19:09:37.958Z"
      },
      {
        "duration": 6,
        "start_time": "2023-02-22T19:09:37.970Z"
      },
      {
        "duration": 82,
        "start_time": "2023-02-22T19:09:37.977Z"
      },
      {
        "duration": 758,
        "start_time": "2023-02-22T19:09:38.061Z"
      },
      {
        "duration": 40,
        "start_time": "2023-02-22T19:09:38.820Z"
      },
      {
        "duration": 51,
        "start_time": "2023-02-22T19:09:38.861Z"
      },
      {
        "duration": 35,
        "start_time": "2023-02-22T19:09:38.914Z"
      },
      {
        "duration": 6,
        "start_time": "2023-02-22T19:09:38.950Z"
      },
      {
        "duration": 9,
        "start_time": "2023-02-22T19:09:38.957Z"
      },
      {
        "duration": 8,
        "start_time": "2023-02-22T19:09:38.968Z"
      },
      {
        "duration": 1195,
        "start_time": "2023-02-22T19:09:38.977Z"
      },
      {
        "duration": 18,
        "start_time": "2023-02-22T19:09:40.173Z"
      },
      {
        "duration": 8,
        "start_time": "2023-02-22T19:09:40.195Z"
      },
      {
        "duration": 17,
        "start_time": "2023-02-22T19:09:40.205Z"
      },
      {
        "duration": 587,
        "start_time": "2023-02-22T19:09:40.224Z"
      },
      {
        "duration": 33,
        "start_time": "2023-02-22T19:09:40.813Z"
      },
      {
        "duration": 208,
        "start_time": "2023-02-22T19:09:40.848Z"
      },
      {
        "duration": 454,
        "start_time": "2023-02-22T19:09:41.058Z"
      },
      {
        "duration": 95,
        "start_time": "2023-02-22T19:09:41.514Z"
      },
      {
        "duration": 100,
        "start_time": "2023-02-22T19:09:41.610Z"
      },
      {
        "duration": 7,
        "start_time": "2023-02-22T19:09:41.712Z"
      },
      {
        "duration": 47,
        "start_time": "2023-02-22T19:09:41.720Z"
      },
      {
        "duration": 87,
        "start_time": "2023-02-22T19:09:41.769Z"
      },
      {
        "duration": 15,
        "start_time": "2023-02-22T19:09:41.858Z"
      },
      {
        "duration": 145,
        "start_time": "2023-02-22T19:09:41.874Z"
      },
      {
        "duration": 28,
        "start_time": "2023-02-22T19:09:42.021Z"
      },
      {
        "duration": 1174,
        "start_time": "2023-02-22T19:09:42.051Z"
      },
      {
        "duration": 637,
        "start_time": "2023-02-22T19:09:43.227Z"
      },
      {
        "duration": 172,
        "start_time": "2023-02-22T19:09:43.866Z"
      },
      {
        "duration": 0,
        "start_time": "2023-02-22T19:09:44.040Z"
      },
      {
        "duration": 0,
        "start_time": "2023-02-22T19:09:44.042Z"
      },
      {
        "duration": 0,
        "start_time": "2023-02-22T19:09:44.043Z"
      },
      {
        "duration": 144,
        "start_time": "2023-02-22T19:10:42.369Z"
      },
      {
        "duration": 45,
        "start_time": "2023-02-22T19:11:09.184Z"
      },
      {
        "duration": 44,
        "start_time": "2023-02-22T19:11:14.593Z"
      },
      {
        "duration": 42,
        "start_time": "2023-02-22T19:12:22.384Z"
      },
      {
        "duration": 6,
        "start_time": "2023-02-22T19:13:40.533Z"
      },
      {
        "duration": 68,
        "start_time": "2023-02-22T19:13:41.502Z"
      },
      {
        "duration": 51,
        "start_time": "2023-02-22T19:13:54.253Z"
      },
      {
        "duration": 48,
        "start_time": "2023-02-22T19:13:59.792Z"
      },
      {
        "duration": 54,
        "start_time": "2023-02-22T19:14:07.539Z"
      },
      {
        "duration": 80,
        "start_time": "2023-02-22T19:14:36.886Z"
      },
      {
        "duration": 69,
        "start_time": "2023-02-22T19:14:53.078Z"
      },
      {
        "duration": 12,
        "start_time": "2023-02-22T19:22:46.813Z"
      },
      {
        "duration": 22,
        "start_time": "2023-02-22T19:22:57.447Z"
      },
      {
        "duration": 19,
        "start_time": "2023-02-22T19:26:29.318Z"
      },
      {
        "duration": 16,
        "start_time": "2023-02-22T19:28:50.658Z"
      },
      {
        "duration": 21,
        "start_time": "2023-02-22T19:29:37.268Z"
      },
      {
        "duration": 12,
        "start_time": "2023-02-22T19:29:44.219Z"
      },
      {
        "duration": 72,
        "start_time": "2023-02-22T19:29:50.087Z"
      },
      {
        "duration": 18,
        "start_time": "2023-02-22T19:31:35.532Z"
      },
      {
        "duration": 85,
        "start_time": "2023-02-22T19:32:16.897Z"
      },
      {
        "duration": 58,
        "start_time": "2023-02-22T19:32:25.933Z"
      },
      {
        "duration": 64,
        "start_time": "2023-02-22T19:32:57.544Z"
      },
      {
        "duration": 12,
        "start_time": "2023-02-22T19:35:21.286Z"
      },
      {
        "duration": 54,
        "start_time": "2023-02-22T19:36:01.339Z"
      },
      {
        "duration": 97,
        "start_time": "2023-02-22T19:38:08.988Z"
      },
      {
        "duration": 110,
        "start_time": "2023-02-22T19:38:21.549Z"
      },
      {
        "duration": 22,
        "start_time": "2023-02-22T19:38:23.027Z"
      },
      {
        "duration": 20,
        "start_time": "2023-02-22T19:38:29.875Z"
      },
      {
        "duration": 31,
        "start_time": "2023-02-22T19:38:59.290Z"
      },
      {
        "duration": 27,
        "start_time": "2023-02-22T19:40:34.632Z"
      },
      {
        "duration": 82,
        "start_time": "2023-02-22T19:41:02.727Z"
      },
      {
        "duration": 85,
        "start_time": "2023-02-22T19:41:25.474Z"
      },
      {
        "duration": 125,
        "start_time": "2023-02-22T19:41:32.535Z"
      },
      {
        "duration": 180,
        "start_time": "2023-02-22T19:41:33.464Z"
      },
      {
        "duration": 157,
        "start_time": "2023-02-22T19:41:50.164Z"
      },
      {
        "duration": 13,
        "start_time": "2023-02-22T19:43:10.423Z"
      },
      {
        "duration": 50,
        "start_time": "2023-02-22T19:43:54.039Z"
      },
      {
        "duration": 74,
        "start_time": "2023-02-22T19:44:30.719Z"
      },
      {
        "duration": 43,
        "start_time": "2023-02-22T19:44:31.877Z"
      },
      {
        "duration": 50,
        "start_time": "2023-02-22T19:46:32.202Z"
      },
      {
        "duration": 60,
        "start_time": "2023-02-22T19:47:32.859Z"
      },
      {
        "duration": 34,
        "start_time": "2023-02-22T19:49:50.892Z"
      },
      {
        "duration": 4,
        "start_time": "2023-02-22T19:49:52.230Z"
      },
      {
        "duration": 42,
        "start_time": "2023-02-22T19:49:53.673Z"
      },
      {
        "duration": 6,
        "start_time": "2023-02-22T19:53:12.485Z"
      },
      {
        "duration": 1957,
        "start_time": "2023-02-22T21:52:36.445Z"
      },
      {
        "duration": 480,
        "start_time": "2023-02-22T21:52:38.404Z"
      },
      {
        "duration": 11,
        "start_time": "2023-02-22T21:52:38.886Z"
      },
      {
        "duration": 13,
        "start_time": "2023-02-22T21:52:38.899Z"
      },
      {
        "duration": 5,
        "start_time": "2023-02-22T21:52:38.913Z"
      },
      {
        "duration": 8,
        "start_time": "2023-02-22T21:52:38.920Z"
      },
      {
        "duration": 6,
        "start_time": "2023-02-22T21:52:38.930Z"
      },
      {
        "duration": 34,
        "start_time": "2023-02-22T21:52:38.937Z"
      },
      {
        "duration": 14,
        "start_time": "2023-02-22T21:52:38.973Z"
      },
      {
        "duration": 11,
        "start_time": "2023-02-22T21:52:38.989Z"
      },
      {
        "duration": 22,
        "start_time": "2023-02-22T21:52:39.001Z"
      },
      {
        "duration": 43,
        "start_time": "2023-02-22T21:52:39.025Z"
      },
      {
        "duration": 17,
        "start_time": "2023-02-22T21:52:39.070Z"
      },
      {
        "duration": 51,
        "start_time": "2023-02-22T21:52:39.090Z"
      },
      {
        "duration": 22,
        "start_time": "2023-02-22T21:52:39.143Z"
      },
      {
        "duration": 12,
        "start_time": "2023-02-22T21:52:39.167Z"
      },
      {
        "duration": 13,
        "start_time": "2023-02-22T21:52:39.181Z"
      },
      {
        "duration": 76,
        "start_time": "2023-02-22T21:52:39.196Z"
      },
      {
        "duration": 815,
        "start_time": "2023-02-22T21:52:39.274Z"
      },
      {
        "duration": 6,
        "start_time": "2023-02-22T21:52:40.090Z"
      },
      {
        "duration": 61,
        "start_time": "2023-02-22T21:52:40.097Z"
      },
      {
        "duration": 35,
        "start_time": "2023-02-22T21:52:40.160Z"
      },
      {
        "duration": 38,
        "start_time": "2023-02-22T21:52:40.196Z"
      },
      {
        "duration": 9,
        "start_time": "2023-02-22T21:52:40.253Z"
      },
      {
        "duration": 19,
        "start_time": "2023-02-22T21:52:40.264Z"
      },
      {
        "duration": 11,
        "start_time": "2023-02-22T21:52:40.285Z"
      },
      {
        "duration": 1173,
        "start_time": "2023-02-22T21:52:40.298Z"
      },
      {
        "duration": 20,
        "start_time": "2023-02-22T21:52:41.475Z"
      },
      {
        "duration": 8,
        "start_time": "2023-02-22T21:52:41.496Z"
      },
      {
        "duration": 25,
        "start_time": "2023-02-22T21:52:41.507Z"
      },
      {
        "duration": 647,
        "start_time": "2023-02-22T21:52:41.534Z"
      },
      {
        "duration": 34,
        "start_time": "2023-02-22T21:52:42.183Z"
      },
      {
        "duration": 753,
        "start_time": "2023-02-22T21:52:42.219Z"
      },
      {
        "duration": 99,
        "start_time": "2023-02-22T21:52:42.973Z"
      },
      {
        "duration": 95,
        "start_time": "2023-02-22T21:52:43.074Z"
      },
      {
        "duration": 7,
        "start_time": "2023-02-22T21:52:43.171Z"
      },
      {
        "duration": 45,
        "start_time": "2023-02-22T21:52:43.180Z"
      },
      {
        "duration": 91,
        "start_time": "2023-02-22T21:52:43.227Z"
      },
      {
        "duration": 35,
        "start_time": "2023-02-22T21:52:43.320Z"
      },
      {
        "duration": 155,
        "start_time": "2023-02-22T21:52:43.357Z"
      },
      {
        "duration": 23,
        "start_time": "2023-02-22T21:52:43.514Z"
      },
      {
        "duration": 1288,
        "start_time": "2023-02-22T21:52:43.539Z"
      },
      {
        "duration": 714,
        "start_time": "2023-02-22T21:52:44.829Z"
      },
      {
        "duration": 21,
        "start_time": "2023-02-22T21:52:45.552Z"
      },
      {
        "duration": 81,
        "start_time": "2023-02-22T21:52:45.575Z"
      },
      {
        "duration": 21,
        "start_time": "2023-02-22T21:52:45.659Z"
      },
      {
        "duration": 86,
        "start_time": "2023-02-22T21:52:45.681Z"
      },
      {
        "duration": 17,
        "start_time": "2023-02-22T21:52:45.769Z"
      },
      {
        "duration": 192,
        "start_time": "2023-02-22T21:52:45.788Z"
      },
      {
        "duration": 102,
        "start_time": "2023-02-22T21:52:45.982Z"
      },
      {
        "duration": 68,
        "start_time": "2023-02-22T21:52:46.086Z"
      },
      {
        "duration": 178,
        "start_time": "2023-02-22T21:52:46.156Z"
      },
      {
        "duration": 46,
        "start_time": "2023-02-22T21:52:46.335Z"
      },
      {
        "duration": 4,
        "start_time": "2023-02-22T21:52:46.383Z"
      },
      {
        "duration": 43,
        "start_time": "2023-02-22T21:52:46.389Z"
      },
      {
        "duration": 7,
        "start_time": "2023-02-22T21:59:20.937Z"
      },
      {
        "duration": 48,
        "start_time": "2023-02-23T09:35:28.229Z"
      },
      {
        "duration": 6,
        "start_time": "2023-02-23T09:36:33.216Z"
      },
      {
        "duration": 1405,
        "start_time": "2023-02-23T09:36:38.924Z"
      },
      {
        "duration": 423,
        "start_time": "2023-02-23T09:36:40.332Z"
      },
      {
        "duration": 10,
        "start_time": "2023-02-23T09:36:40.757Z"
      },
      {
        "duration": 8,
        "start_time": "2023-02-23T09:36:40.769Z"
      },
      {
        "duration": 6,
        "start_time": "2023-02-23T09:36:40.779Z"
      },
      {
        "duration": 17,
        "start_time": "2023-02-23T09:36:40.787Z"
      },
      {
        "duration": 6,
        "start_time": "2023-02-23T09:36:40.806Z"
      },
      {
        "duration": 17,
        "start_time": "2023-02-23T09:36:40.813Z"
      },
      {
        "duration": 5,
        "start_time": "2023-02-23T09:36:40.831Z"
      },
      {
        "duration": 10,
        "start_time": "2023-02-23T09:36:40.839Z"
      },
      {
        "duration": 53,
        "start_time": "2023-02-23T09:36:40.851Z"
      },
      {
        "duration": 23,
        "start_time": "2023-02-23T09:36:40.905Z"
      },
      {
        "duration": 8,
        "start_time": "2023-02-23T09:36:40.929Z"
      },
      {
        "duration": 23,
        "start_time": "2023-02-23T09:36:40.939Z"
      },
      {
        "duration": 45,
        "start_time": "2023-02-23T09:36:40.963Z"
      },
      {
        "duration": 10,
        "start_time": "2023-02-23T09:36:41.010Z"
      },
      {
        "duration": 5,
        "start_time": "2023-02-23T09:36:41.021Z"
      },
      {
        "duration": 79,
        "start_time": "2023-02-23T09:36:41.028Z"
      },
      {
        "duration": 785,
        "start_time": "2023-02-23T09:36:41.109Z"
      },
      {
        "duration": 5,
        "start_time": "2023-02-23T09:36:41.895Z"
      },
      {
        "duration": 40,
        "start_time": "2023-02-23T09:36:41.901Z"
      },
      {
        "duration": 27,
        "start_time": "2023-02-23T09:36:41.943Z"
      },
      {
        "duration": 53,
        "start_time": "2023-02-23T09:36:41.971Z"
      },
      {
        "duration": 7,
        "start_time": "2023-02-23T09:36:42.025Z"
      },
      {
        "duration": 8,
        "start_time": "2023-02-23T09:36:42.033Z"
      },
      {
        "duration": 8,
        "start_time": "2023-02-23T09:36:42.042Z"
      },
      {
        "duration": 1125,
        "start_time": "2023-02-23T09:36:42.051Z"
      },
      {
        "duration": 102,
        "start_time": "2023-02-23T09:36:43.179Z"
      },
      {
        "duration": 0,
        "start_time": "2023-02-23T09:36:43.282Z"
      },
      {
        "duration": 0,
        "start_time": "2023-02-23T09:36:43.283Z"
      },
      {
        "duration": 0,
        "start_time": "2023-02-23T09:36:43.284Z"
      },
      {
        "duration": 0,
        "start_time": "2023-02-23T09:36:43.286Z"
      },
      {
        "duration": 0,
        "start_time": "2023-02-23T09:36:43.287Z"
      },
      {
        "duration": 0,
        "start_time": "2023-02-23T09:36:43.288Z"
      },
      {
        "duration": 0,
        "start_time": "2023-02-23T09:36:43.289Z"
      },
      {
        "duration": 1,
        "start_time": "2023-02-23T09:36:43.289Z"
      },
      {
        "duration": 0,
        "start_time": "2023-02-23T09:36:43.291Z"
      },
      {
        "duration": 0,
        "start_time": "2023-02-23T09:36:43.303Z"
      },
      {
        "duration": 0,
        "start_time": "2023-02-23T09:36:43.304Z"
      },
      {
        "duration": 0,
        "start_time": "2023-02-23T09:36:43.305Z"
      },
      {
        "duration": 0,
        "start_time": "2023-02-23T09:36:43.307Z"
      },
      {
        "duration": 0,
        "start_time": "2023-02-23T09:36:43.308Z"
      },
      {
        "duration": 0,
        "start_time": "2023-02-23T09:36:43.309Z"
      },
      {
        "duration": 0,
        "start_time": "2023-02-23T09:36:43.311Z"
      },
      {
        "duration": 0,
        "start_time": "2023-02-23T09:36:43.312Z"
      },
      {
        "duration": 0,
        "start_time": "2023-02-23T09:36:43.313Z"
      },
      {
        "duration": 0,
        "start_time": "2023-02-23T09:36:43.314Z"
      },
      {
        "duration": 0,
        "start_time": "2023-02-23T09:36:43.315Z"
      },
      {
        "duration": 0,
        "start_time": "2023-02-23T09:36:43.316Z"
      },
      {
        "duration": 0,
        "start_time": "2023-02-23T09:36:43.317Z"
      },
      {
        "duration": 0,
        "start_time": "2023-02-23T09:36:43.318Z"
      },
      {
        "duration": 0,
        "start_time": "2023-02-23T09:36:43.320Z"
      },
      {
        "duration": 0,
        "start_time": "2023-02-23T09:36:43.320Z"
      },
      {
        "duration": 0,
        "start_time": "2023-02-23T09:36:43.322Z"
      },
      {
        "duration": 0,
        "start_time": "2023-02-23T09:36:43.323Z"
      },
      {
        "duration": 0,
        "start_time": "2023-02-23T09:36:43.324Z"
      },
      {
        "duration": 276,
        "start_time": "2023-02-23T09:39:27.732Z"
      },
      {
        "duration": 10,
        "start_time": "2023-02-23T09:39:40.899Z"
      },
      {
        "duration": 86,
        "start_time": "2023-02-23T09:39:54.947Z"
      },
      {
        "duration": 301,
        "start_time": "2023-02-23T09:40:02.562Z"
      },
      {
        "duration": 294,
        "start_time": "2023-02-23T09:40:16.748Z"
      },
      {
        "duration": 325,
        "start_time": "2023-02-23T09:41:25.664Z"
      },
      {
        "duration": 331,
        "start_time": "2023-02-23T09:45:06.806Z"
      },
      {
        "duration": 428,
        "start_time": "2023-02-23T09:45:17.896Z"
      },
      {
        "duration": 12,
        "start_time": "2023-02-23T09:48:18.096Z"
      },
      {
        "duration": 6,
        "start_time": "2023-02-23T09:48:21.492Z"
      },
      {
        "duration": 20,
        "start_time": "2023-02-23T09:48:26.823Z"
      },
      {
        "duration": 8,
        "start_time": "2023-02-23T09:48:27.543Z"
      },
      {
        "duration": 5,
        "start_time": "2023-02-23T09:48:28.220Z"
      },
      {
        "duration": 555,
        "start_time": "2023-02-23T09:48:29.113Z"
      },
      {
        "duration": 1138,
        "start_time": "2023-02-23T09:49:27.684Z"
      },
      {
        "duration": 84,
        "start_time": "2023-02-23T09:50:17.004Z"
      },
      {
        "duration": 6,
        "start_time": "2023-02-23T09:50:25.053Z"
      },
      {
        "duration": 7,
        "start_time": "2023-02-23T09:50:58.982Z"
      },
      {
        "duration": 6,
        "start_time": "2023-02-23T09:51:25.529Z"
      },
      {
        "duration": 31,
        "start_time": "2023-02-23T09:53:53.008Z"
      },
      {
        "duration": 360,
        "start_time": "2023-02-23T09:53:54.723Z"
      },
      {
        "duration": 48,
        "start_time": "2023-02-23T09:54:09.066Z"
      },
      {
        "duration": 49,
        "start_time": "2023-02-23T09:54:12.588Z"
      },
      {
        "duration": 7,
        "start_time": "2023-02-23T09:54:16.554Z"
      },
      {
        "duration": 50,
        "start_time": "2023-02-23T09:54:17.118Z"
      },
      {
        "duration": 71,
        "start_time": "2023-02-23T09:54:34.824Z"
      },
      {
        "duration": 15,
        "start_time": "2023-02-23T09:54:35.478Z"
      },
      {
        "duration": 131,
        "start_time": "2023-02-23T09:54:36.185Z"
      },
      {
        "duration": 67,
        "start_time": "2023-02-23T09:55:00.146Z"
      },
      {
        "duration": 57,
        "start_time": "2023-02-23T09:58:02.899Z"
      },
      {
        "duration": 172,
        "start_time": "2023-02-23T10:00:05.447Z"
      },
      {
        "duration": 27,
        "start_time": "2023-02-23T10:00:12.776Z"
      },
      {
        "duration": 27,
        "start_time": "2023-02-23T10:00:29.626Z"
      },
      {
        "duration": 59,
        "start_time": "2023-02-23T10:00:53.414Z"
      },
      {
        "duration": 29,
        "start_time": "2023-02-23T10:00:54.047Z"
      },
      {
        "duration": 10,
        "start_time": "2023-02-23T10:01:21.204Z"
      },
      {
        "duration": 5,
        "start_time": "2023-02-23T10:01:26.546Z"
      },
      {
        "duration": 7,
        "start_time": "2023-02-23T10:01:32.610Z"
      },
      {
        "duration": 30,
        "start_time": "2023-02-23T10:01:59.384Z"
      },
      {
        "duration": 30,
        "start_time": "2023-02-23T10:02:08.184Z"
      },
      {
        "duration": 40,
        "start_time": "2023-02-23T10:02:36.779Z"
      },
      {
        "duration": 44,
        "start_time": "2023-02-23T10:03:00.239Z"
      },
      {
        "duration": 19,
        "start_time": "2023-02-23T10:04:32.099Z"
      },
      {
        "duration": 17,
        "start_time": "2023-02-23T10:05:48.871Z"
      },
      {
        "duration": 30,
        "start_time": "2023-02-23T10:06:47.591Z"
      },
      {
        "duration": 30,
        "start_time": "2023-02-23T10:07:54.532Z"
      },
      {
        "duration": 27,
        "start_time": "2023-02-23T10:08:32.272Z"
      },
      {
        "duration": 24,
        "start_time": "2023-02-23T10:08:48.816Z"
      },
      {
        "duration": 29,
        "start_time": "2023-02-23T10:09:09.213Z"
      },
      {
        "duration": 23,
        "start_time": "2023-02-23T10:09:45.609Z"
      },
      {
        "duration": 5,
        "start_time": "2023-02-23T10:10:15.842Z"
      },
      {
        "duration": 21,
        "start_time": "2023-02-23T10:11:16.943Z"
      },
      {
        "duration": 10,
        "start_time": "2023-02-23T10:15:25.762Z"
      },
      {
        "duration": 4,
        "start_time": "2023-02-23T10:15:35.626Z"
      },
      {
        "duration": 4,
        "start_time": "2023-02-23T10:15:52.373Z"
      },
      {
        "duration": 4,
        "start_time": "2023-02-23T10:16:25.907Z"
      },
      {
        "duration": 52,
        "start_time": "2023-02-23T10:19:20.491Z"
      },
      {
        "duration": 3,
        "start_time": "2023-02-23T10:20:46.760Z"
      },
      {
        "duration": 5,
        "start_time": "2023-02-23T10:21:12.618Z"
      },
      {
        "duration": 5,
        "start_time": "2023-02-23T10:21:19.619Z"
      },
      {
        "duration": 6,
        "start_time": "2023-02-23T10:22:59.497Z"
      },
      {
        "duration": 6,
        "start_time": "2023-02-23T10:23:25.955Z"
      },
      {
        "duration": 68,
        "start_time": "2023-02-23T10:23:44.753Z"
      },
      {
        "duration": 79,
        "start_time": "2023-02-23T10:24:00.598Z"
      },
      {
        "duration": 6,
        "start_time": "2023-02-23T10:24:09.459Z"
      },
      {
        "duration": 6,
        "start_time": "2023-02-23T10:24:13.870Z"
      },
      {
        "duration": 116,
        "start_time": "2023-02-23T10:25:48.173Z"
      },
      {
        "duration": 114,
        "start_time": "2023-02-23T10:26:17.609Z"
      },
      {
        "duration": 135,
        "start_time": "2023-02-23T10:27:55.646Z"
      },
      {
        "duration": 139,
        "start_time": "2023-02-23T10:28:17.177Z"
      },
      {
        "duration": 136,
        "start_time": "2023-02-23T10:28:25.660Z"
      },
      {
        "duration": 154,
        "start_time": "2023-02-23T10:28:44.738Z"
      },
      {
        "duration": 120,
        "start_time": "2023-02-23T10:28:51.817Z"
      },
      {
        "duration": 9,
        "start_time": "2023-02-23T10:39:53.518Z"
      },
      {
        "duration": 9,
        "start_time": "2023-02-23T10:40:23.067Z"
      },
      {
        "duration": 21,
        "start_time": "2023-02-23T11:07:32.670Z"
      },
      {
        "duration": 1139,
        "start_time": "2023-02-23T11:07:48.169Z"
      },
      {
        "duration": 580,
        "start_time": "2023-02-23T11:07:55.083Z"
      },
      {
        "duration": 10,
        "start_time": "2023-02-23T11:10:40.348Z"
      },
      {
        "duration": 8,
        "start_time": "2023-02-23T11:10:55.884Z"
      },
      {
        "duration": 19,
        "start_time": "2023-02-23T11:11:38.290Z"
      },
      {
        "duration": 25,
        "start_time": "2023-02-23T11:12:14.171Z"
      },
      {
        "duration": 193,
        "start_time": "2023-02-23T11:12:15.490Z"
      },
      {
        "duration": 29,
        "start_time": "2023-02-23T11:12:16.714Z"
      },
      {
        "duration": 68,
        "start_time": "2023-02-23T11:12:17.965Z"
      },
      {
        "duration": 14,
        "start_time": "2023-02-23T11:12:18.968Z"
      },
      {
        "duration": 55,
        "start_time": "2023-02-23T11:12:20.103Z"
      },
      {
        "duration": 77,
        "start_time": "2023-02-23T11:12:28.505Z"
      },
      {
        "duration": 77,
        "start_time": "2023-02-23T11:12:42.293Z"
      },
      {
        "duration": 47,
        "start_time": "2023-02-23T11:12:43.569Z"
      },
      {
        "duration": 162,
        "start_time": "2023-02-23T11:12:45.304Z"
      },
      {
        "duration": 29,
        "start_time": "2023-02-23T11:13:01.549Z"
      },
      {
        "duration": 3,
        "start_time": "2023-02-23T11:13:03.283Z"
      },
      {
        "duration": 10,
        "start_time": "2023-02-23T11:16:54.908Z"
      },
      {
        "duration": 22,
        "start_time": "2023-02-23T11:17:44.710Z"
      },
      {
        "duration": 20,
        "start_time": "2023-02-23T11:18:28.568Z"
      },
      {
        "duration": 99,
        "start_time": "2023-02-23T11:20:48.041Z"
      },
      {
        "duration": 29,
        "start_time": "2023-02-23T11:21:09.592Z"
      },
      {
        "duration": 3,
        "start_time": "2023-02-23T11:21:29.986Z"
      },
      {
        "duration": 32,
        "start_time": "2023-02-23T11:21:38.033Z"
      },
      {
        "duration": 18,
        "start_time": "2023-02-23T11:21:59.255Z"
      },
      {
        "duration": 1181,
        "start_time": "2023-02-23T13:18:08.068Z"
      },
      {
        "duration": 286,
        "start_time": "2023-02-23T13:18:09.251Z"
      },
      {
        "duration": 10,
        "start_time": "2023-02-23T13:18:09.538Z"
      },
      {
        "duration": 8,
        "start_time": "2023-02-23T13:18:09.550Z"
      },
      {
        "duration": 6,
        "start_time": "2023-02-23T13:18:09.559Z"
      },
      {
        "duration": 24,
        "start_time": "2023-02-23T13:18:09.566Z"
      },
      {
        "duration": 8,
        "start_time": "2023-02-23T13:18:09.591Z"
      },
      {
        "duration": 21,
        "start_time": "2023-02-23T13:18:09.600Z"
      },
      {
        "duration": 7,
        "start_time": "2023-02-23T13:18:09.622Z"
      },
      {
        "duration": 8,
        "start_time": "2023-02-23T13:18:09.631Z"
      },
      {
        "duration": 18,
        "start_time": "2023-02-23T13:18:09.640Z"
      },
      {
        "duration": 21,
        "start_time": "2023-02-23T13:18:09.660Z"
      },
      {
        "duration": 7,
        "start_time": "2023-02-23T13:18:09.699Z"
      },
      {
        "duration": 24,
        "start_time": "2023-02-23T13:18:09.707Z"
      },
      {
        "duration": 19,
        "start_time": "2023-02-23T13:18:09.733Z"
      },
      {
        "duration": 9,
        "start_time": "2023-02-23T13:18:09.754Z"
      },
      {
        "duration": 10,
        "start_time": "2023-02-23T13:18:09.764Z"
      },
      {
        "duration": 75,
        "start_time": "2023-02-23T13:18:09.776Z"
      },
      {
        "duration": 747,
        "start_time": "2023-02-23T13:18:09.852Z"
      },
      {
        "duration": 4,
        "start_time": "2023-02-23T13:18:10.600Z"
      },
      {
        "duration": 39,
        "start_time": "2023-02-23T13:18:10.606Z"
      },
      {
        "duration": 27,
        "start_time": "2023-02-23T13:18:10.647Z"
      },
      {
        "duration": 28,
        "start_time": "2023-02-23T13:18:10.675Z"
      },
      {
        "duration": 129,
        "start_time": "2023-02-23T13:18:10.705Z"
      },
      {
        "duration": 34,
        "start_time": "2023-02-23T13:18:10.836Z"
      },
      {
        "duration": 6,
        "start_time": "2023-02-23T13:18:10.872Z"
      },
      {
        "duration": 3,
        "start_time": "2023-02-23T13:18:10.899Z"
      },
      {
        "duration": 11,
        "start_time": "2023-02-23T13:18:10.905Z"
      },
      {
        "duration": 1020,
        "start_time": "2023-02-23T13:18:10.917Z"
      },
      {
        "duration": 299,
        "start_time": "2023-02-23T13:18:11.939Z"
      },
      {
        "duration": 15,
        "start_time": "2023-02-23T13:18:12.239Z"
      },
      {
        "duration": 7,
        "start_time": "2023-02-23T13:18:12.256Z"
      },
      {
        "duration": 27,
        "start_time": "2023-02-23T13:18:12.265Z"
      },
      {
        "duration": 583,
        "start_time": "2023-02-23T13:18:12.293Z"
      },
      {
        "duration": 6,
        "start_time": "2023-02-23T13:18:12.878Z"
      },
      {
        "duration": 37,
        "start_time": "2023-02-23T13:18:12.886Z"
      },
      {
        "duration": 652,
        "start_time": "2023-02-23T13:18:12.924Z"
      },
      {
        "duration": 36,
        "start_time": "2023-02-23T13:18:13.578Z"
      },
      {
        "duration": 95,
        "start_time": "2023-02-23T13:18:13.616Z"
      },
      {
        "duration": 7,
        "start_time": "2023-02-23T13:18:13.713Z"
      },
      {
        "duration": 44,
        "start_time": "2023-02-23T13:18:13.721Z"
      },
      {
        "duration": 87,
        "start_time": "2023-02-23T13:18:13.767Z"
      },
      {
        "duration": 14,
        "start_time": "2023-02-23T13:18:13.855Z"
      },
      {
        "duration": 171,
        "start_time": "2023-02-23T13:18:13.871Z"
      },
      {
        "duration": 31,
        "start_time": "2023-02-23T13:18:14.044Z"
      },
      {
        "duration": 22,
        "start_time": "2023-02-23T13:18:14.077Z"
      },
      {
        "duration": 17,
        "start_time": "2023-02-23T13:18:14.101Z"
      },
      {
        "duration": 18,
        "start_time": "2023-02-23T13:18:14.120Z"
      },
      {
        "duration": 36,
        "start_time": "2023-02-23T13:18:14.140Z"
      },
      {
        "duration": 1095,
        "start_time": "2023-02-23T13:18:14.177Z"
      },
      {
        "duration": 679,
        "start_time": "2023-02-23T13:18:15.274Z"
      },
      {
        "duration": 17,
        "start_time": "2023-02-23T13:18:15.955Z"
      },
      {
        "duration": 29,
        "start_time": "2023-02-23T13:18:15.973Z"
      },
      {
        "duration": 51,
        "start_time": "2023-02-23T13:18:16.004Z"
      },
      {
        "duration": 16,
        "start_time": "2023-02-23T13:18:16.056Z"
      },
      {
        "duration": 70,
        "start_time": "2023-02-23T13:18:16.073Z"
      },
      {
        "duration": 11,
        "start_time": "2023-02-23T13:18:16.145Z"
      },
      {
        "duration": 73,
        "start_time": "2023-02-23T13:18:16.158Z"
      },
      {
        "duration": 92,
        "start_time": "2023-02-23T13:18:16.234Z"
      },
      {
        "duration": 57,
        "start_time": "2023-02-23T13:18:16.328Z"
      },
      {
        "duration": 157,
        "start_time": "2023-02-23T13:18:16.399Z"
      },
      {
        "duration": 30,
        "start_time": "2023-02-23T13:18:16.557Z"
      },
      {
        "duration": 4,
        "start_time": "2023-02-23T13:18:16.599Z"
      },
      {
        "duration": 26,
        "start_time": "2023-02-23T13:18:16.605Z"
      },
      {
        "duration": 20,
        "start_time": "2023-02-23T13:18:16.632Z"
      },
      {
        "duration": 19,
        "start_time": "2023-02-23T13:18:16.654Z"
      },
      {
        "duration": 41,
        "start_time": "2023-02-23T13:18:16.699Z"
      },
      {
        "duration": 62,
        "start_time": "2023-02-27T08:14:27.006Z"
      },
      {
        "duration": 1577,
        "start_time": "2023-02-27T08:14:33.268Z"
      },
      {
        "duration": 480,
        "start_time": "2023-02-27T08:14:34.847Z"
      },
      {
        "duration": 21,
        "start_time": "2023-02-27T08:14:35.328Z"
      },
      {
        "duration": 10,
        "start_time": "2023-02-27T08:14:35.351Z"
      },
      {
        "duration": 48,
        "start_time": "2023-02-27T08:14:35.362Z"
      },
      {
        "duration": 9,
        "start_time": "2023-02-27T08:14:35.412Z"
      },
      {
        "duration": 8,
        "start_time": "2023-02-27T08:14:35.422Z"
      },
      {
        "duration": 25,
        "start_time": "2023-02-27T08:14:35.432Z"
      },
      {
        "duration": 33,
        "start_time": "2023-02-27T08:14:35.458Z"
      },
      {
        "duration": 9,
        "start_time": "2023-02-27T08:14:35.494Z"
      },
      {
        "duration": 24,
        "start_time": "2023-02-27T08:14:35.505Z"
      },
      {
        "duration": 28,
        "start_time": "2023-02-27T08:14:35.531Z"
      },
      {
        "duration": 25,
        "start_time": "2023-02-27T08:14:35.571Z"
      },
      {
        "duration": 25,
        "start_time": "2023-02-27T08:14:35.598Z"
      },
      {
        "duration": 21,
        "start_time": "2023-02-27T08:14:35.625Z"
      },
      {
        "duration": 27,
        "start_time": "2023-02-27T08:14:35.648Z"
      },
      {
        "duration": 16,
        "start_time": "2023-02-27T08:14:35.678Z"
      },
      {
        "duration": 66,
        "start_time": "2023-02-27T08:14:35.696Z"
      },
      {
        "duration": 902,
        "start_time": "2023-02-27T08:14:35.770Z"
      },
      {
        "duration": 8,
        "start_time": "2023-02-27T08:14:36.673Z"
      },
      {
        "duration": 49,
        "start_time": "2023-02-27T08:14:36.684Z"
      },
      {
        "duration": 47,
        "start_time": "2023-02-27T08:14:36.735Z"
      },
      {
        "duration": 6,
        "start_time": "2023-02-27T08:14:36.784Z"
      },
      {
        "duration": 175,
        "start_time": "2023-02-27T08:14:36.792Z"
      },
      {
        "duration": 50,
        "start_time": "2023-02-27T08:14:36.969Z"
      },
      {
        "duration": 10,
        "start_time": "2023-02-27T08:14:37.022Z"
      },
      {
        "duration": 10,
        "start_time": "2023-02-27T08:14:37.035Z"
      },
      {
        "duration": 49,
        "start_time": "2023-02-27T08:14:37.054Z"
      },
      {
        "duration": 1384,
        "start_time": "2023-02-27T08:14:37.105Z"
      },
      {
        "duration": 334,
        "start_time": "2023-02-27T08:14:38.491Z"
      },
      {
        "duration": 34,
        "start_time": "2023-02-27T08:14:38.827Z"
      },
      {
        "duration": 12,
        "start_time": "2023-02-27T08:14:38.864Z"
      },
      {
        "duration": 12,
        "start_time": "2023-02-27T08:14:38.877Z"
      },
      {
        "duration": 637,
        "start_time": "2023-02-27T08:14:38.891Z"
      },
      {
        "duration": 7,
        "start_time": "2023-02-27T08:14:39.529Z"
      },
      {
        "duration": 48,
        "start_time": "2023-02-27T08:14:39.551Z"
      },
      {
        "duration": 491,
        "start_time": "2023-02-27T08:14:39.601Z"
      },
      {
        "duration": 108,
        "start_time": "2023-02-27T08:14:40.094Z"
      },
      {
        "duration": 67,
        "start_time": "2023-02-27T08:14:40.249Z"
      },
      {
        "duration": 7,
        "start_time": "2023-02-27T08:14:40.318Z"
      },
      {
        "duration": 78,
        "start_time": "2023-02-27T08:14:40.326Z"
      },
      {
        "duration": 108,
        "start_time": "2023-02-27T08:14:40.405Z"
      },
      {
        "duration": 15,
        "start_time": "2023-02-27T08:14:40.515Z"
      },
      {
        "duration": 166,
        "start_time": "2023-02-27T08:14:40.532Z"
      },
      {
        "duration": 25,
        "start_time": "2023-02-27T08:14:40.700Z"
      },
      {
        "duration": 29,
        "start_time": "2023-02-27T08:14:40.727Z"
      },
      {
        "duration": 16,
        "start_time": "2023-02-27T08:14:40.759Z"
      },
      {
        "duration": 22,
        "start_time": "2023-02-27T08:14:40.777Z"
      },
      {
        "duration": 30,
        "start_time": "2023-02-27T08:14:40.801Z"
      },
      {
        "duration": 1367,
        "start_time": "2023-02-27T08:14:40.833Z"
      },
      {
        "duration": 775,
        "start_time": "2023-02-27T08:14:42.202Z"
      },
      {
        "duration": 20,
        "start_time": "2023-02-27T08:14:42.978Z"
      },
      {
        "duration": 19,
        "start_time": "2023-02-27T08:14:42.999Z"
      },
      {
        "duration": 101,
        "start_time": "2023-02-27T08:14:43.019Z"
      },
      {
        "duration": 36,
        "start_time": "2023-02-27T08:14:43.122Z"
      },
      {
        "duration": 59,
        "start_time": "2023-02-27T08:14:43.162Z"
      },
      {
        "duration": 15,
        "start_time": "2023-02-27T08:14:43.223Z"
      },
      {
        "duration": 71,
        "start_time": "2023-02-27T08:14:43.240Z"
      },
      {
        "duration": 111,
        "start_time": "2023-02-27T08:14:43.313Z"
      },
      {
        "duration": 84,
        "start_time": "2023-02-27T08:14:43.426Z"
      },
      {
        "duration": 173,
        "start_time": "2023-02-27T08:14:43.513Z"
      },
      {
        "duration": 202,
        "start_time": "2023-02-27T08:14:43.687Z"
      },
      {
        "duration": 0,
        "start_time": "2023-02-27T08:14:43.891Z"
      },
      {
        "duration": 0,
        "start_time": "2023-02-27T08:14:43.893Z"
      },
      {
        "duration": 0,
        "start_time": "2023-02-27T08:14:43.894Z"
      },
      {
        "duration": 0,
        "start_time": "2023-02-27T08:14:43.896Z"
      },
      {
        "duration": 1,
        "start_time": "2023-02-27T08:14:43.897Z"
      },
      {
        "duration": 0,
        "start_time": "2023-02-27T08:14:43.899Z"
      },
      {
        "duration": 273,
        "start_time": "2023-02-27T08:15:01.594Z"
      },
      {
        "duration": 11,
        "start_time": "2023-02-27T08:15:27.526Z"
      },
      {
        "duration": 23,
        "start_time": "2023-02-27T08:15:38.722Z"
      },
      {
        "duration": 11,
        "start_time": "2023-02-27T08:17:38.401Z"
      },
      {
        "duration": 35,
        "start_time": "2023-02-27T08:17:53.592Z"
      },
      {
        "duration": 56,
        "start_time": "2023-02-27T08:19:42.460Z"
      },
      {
        "duration": 55,
        "start_time": "2023-02-27T08:19:52.688Z"
      },
      {
        "duration": 98,
        "start_time": "2023-02-27T08:20:06.514Z"
      },
      {
        "duration": 109,
        "start_time": "2023-02-27T08:20:59.985Z"
      },
      {
        "duration": 32,
        "start_time": "2023-02-27T08:30:31.123Z"
      },
      {
        "duration": 21,
        "start_time": "2023-02-27T08:30:50.728Z"
      },
      {
        "duration": 41,
        "start_time": "2023-02-27T08:31:06.173Z"
      },
      {
        "duration": 39,
        "start_time": "2023-02-27T08:33:10.469Z"
      },
      {
        "duration": 32,
        "start_time": "2023-02-27T08:33:14.432Z"
      },
      {
        "duration": 4,
        "start_time": "2023-02-27T08:33:17.263Z"
      },
      {
        "duration": 22,
        "start_time": "2023-02-27T08:33:19.489Z"
      },
      {
        "duration": 16,
        "start_time": "2023-02-27T08:33:19.969Z"
      },
      {
        "duration": 36,
        "start_time": "2023-02-27T08:33:27.689Z"
      },
      {
        "duration": 14,
        "start_time": "2023-02-27T09:04:42.866Z"
      },
      {
        "duration": 12,
        "start_time": "2023-02-27T09:04:53.926Z"
      }
    ],
    "kernelspec": {
      "display_name": "Python 3 (ipykernel)",
      "language": "python",
      "name": "python3"
    },
    "language_info": {
      "codemirror_mode": {
        "name": "ipython",
        "version": 3
      },
      "file_extension": ".py",
      "mimetype": "text/x-python",
      "name": "python",
      "nbconvert_exporter": "python",
      "pygments_lexer": "ipython3",
      "version": "3.9.5"
    },
    "toc": {
      "base_numbering": 1,
      "nav_menu": {},
      "number_sections": true,
      "sideBar": true,
      "skip_h1_title": true,
      "title_cell": "Table of Contents",
      "title_sidebar": "Contents",
      "toc_cell": false,
      "toc_position": {},
      "toc_section_display": true,
      "toc_window_display": true
    },
    "colab": {
      "provenance": []
    }
  },
  "nbformat": 4,
  "nbformat_minor": 0
}